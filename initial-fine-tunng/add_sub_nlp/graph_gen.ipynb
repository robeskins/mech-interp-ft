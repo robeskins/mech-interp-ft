{
 "cells": [
  {
   "cell_type": "markdown",
   "id": "954192d2",
   "metadata": {},
   "source": [
    "### Graph Gen"
   ]
  },
  {
   "cell_type": "code",
   "execution_count": 8,
   "id": "e4970e21",
   "metadata": {},
   "outputs": [],
   "source": [
    "import os\n",
    "os.environ[\"CUDA_VISIBLE_DEVICES\"] = \"0\"  \n",
    "from utils.eap_utils import run_eap_kl, run_metrics, load_adapter_into_hooked_transformer\n",
    "import gc\n",
    "import torch\n",
    "from eap.graph import Graph"
   ]
  },
  {
   "cell_type": "code",
   "execution_count": 9,
   "id": "2186ef6e",
   "metadata": {},
   "outputs": [],
   "source": [
    "model_name = 'EleutherAI/pythia-1.4b-deduped'\n",
    "scratch_cache_dir = \"/mnt/faster0/rje41/.cache/huggingface\"   \n",
    "transformer_lens_name = \"pythia-1.4B-deduped\" \n",
    "n = 6"
   ]
  },
  {
   "cell_type": "code",
   "execution_count": null,
   "id": "27df2094",
   "metadata": {},
   "outputs": [
    {
     "name": "stdout",
     "output_type": "stream",
     "text": [
      "Loaded pretrained model pythia-1.4B-deduped into HookedTransformer\n"
     ]
    },
    {
     "name": "stderr",
     "output_type": "stream",
     "text": [
      "100%|██████████| 84/84 [06:11<00:00,  4.43s/it]\n"
     ]
    },
    {
     "data": {
      "text/plain": [
       "914250"
      ]
     },
     "execution_count": 2,
     "metadata": {},
     "output_type": "execute_result"
    }
   ],
   "source": [
    "checkpoint_folder = 'checkpoints/prompt_id_0/checkpoint-500'\n",
    "valid_file_csv = 'datasets_csv/prompts_id_0/test.csv'\n",
    "\n",
    "graph_0, _ = run_eap_kl(checkpoint_folder, model_name, transformer_lens_name, scratch_cache_dir, valid_file_csv, n)\n",
    "graph_0.to_json('graph_prompt_0')\n",
    "\n",
    "del graph_0\n",
    "del _\n",
    "torch.cuda.empty_cache()\n",
    "gc.collect()"
   ]
  },
  {
   "cell_type": "code",
   "execution_count": 3,
   "id": "4621b6af",
   "metadata": {},
   "outputs": [
    {
     "name": "stdout",
     "output_type": "stream",
     "text": [
      "Loaded pretrained model pythia-1.4B-deduped into HookedTransformer\n"
     ]
    },
    {
     "name": "stderr",
     "output_type": "stream",
     "text": [
      "100%|██████████| 84/84 [06:08<00:00,  4.38s/it]\n"
     ]
    },
    {
     "data": {
      "text/plain": [
       "914250"
      ]
     },
     "execution_count": 3,
     "metadata": {},
     "output_type": "execute_result"
    }
   ],
   "source": [
    "checkpoint_folder = 'checkpoints/prompt_id_1/checkpoint-500'\n",
    "valid_file_csv = 'datasets_csv/prompts_id_1/test.csv'\n",
    "\n",
    "graph_0, _ = run_eap_kl(checkpoint_folder, model_name, transformer_lens_name, scratch_cache_dir, valid_file_csv, n)\n",
    "graph_0.to_json('graph_prompt_1.json')\n",
    "\n",
    "del graph_0\n",
    "del _\n",
    "torch.cuda.empty_cache()\n",
    "gc.collect()"
   ]
  },
  {
   "cell_type": "markdown",
   "id": "13838bb8",
   "metadata": {},
   "source": [
    "### Ablate Non-circuit edges"
   ]
  },
  {
   "cell_type": "code",
   "execution_count": 4,
   "id": "7d531d01",
   "metadata": {},
   "outputs": [
    {
     "name": "stdout",
     "output_type": "stream",
     "text": [
      "Loaded pretrained model pythia-1.4B-deduped into HookedTransformer\n"
     ]
    },
    {
     "name": "stderr",
     "output_type": "stream",
     "text": [
      "100%|██████████| 84/84 [00:40<00:00,  2.05it/s]\n",
      "100%|██████████| 84/84 [01:13<00:00,  1.14it/s]\n"
     ]
    },
    {
     "name": "stdout",
     "output_type": "stream",
     "text": [
      "Baseline performance: 0.00044656594400294125\n",
      "Circuit performance: 0.00042468056199140847\n",
      "Faithfulness: 2.1885382011532784e-05\n",
      "Percentage of model performance achieved by the circuit: 95.10%\n"
     ]
    },
    {
     "name": "stderr",
     "output_type": "stream",
     "text": [
      "100%|██████████| 84/84 [00:41<00:00,  2.03it/s]\n",
      "100%|██████████| 84/84 [00:54<00:00,  1.55it/s]\n"
     ]
    },
    {
     "name": "stdout",
     "output_type": "stream",
     "text": [
      "Baseline accuracy: 0.9559999704360962\n",
      "Circuit accuracy: 0.8980000019073486\n"
     ]
    },
    {
     "data": {
      "text/plain": [
       "914246"
      ]
     },
     "execution_count": 4,
     "metadata": {},
     "output_type": "execute_result"
    }
   ],
   "source": [
    "checkpoint_folder = 'checkpoints/prompt_id_0/checkpoint-500'\n",
    "valid_file_csv = 'datasets_csv/prompts_id_0/test.csv'\n",
    "graph_0 = Graph.from_json('graph_prompt_0.json')\n",
    "model_0 = load_adapter_into_hooked_transformer(adapter_path = checkpoint_folder,\n",
    "                                    hf_model_name = model_name,\n",
    "                                    translens_model_name = transformer_lens_name, \n",
    "                                    adapter = True, \n",
    "                                    scratch_cache_dir = scratch_cache_dir)\n",
    "data, graph_0 = run_metrics(g = graph_0,\n",
    "                      percentage_prune = 0.05,\n",
    "                      model = model_0,\n",
    "                      valid_file_csv = valid_file_csv,\n",
    "                      loader_n = n)\n",
    "\n",
    "del graph_0\n",
    "del model_0\n",
    "torch.cuda.empty_cache()\n",
    "gc.collect()"
   ]
  },
  {
   "cell_type": "code",
   "execution_count": 5,
   "id": "e329a73d",
   "metadata": {},
   "outputs": [
    {
     "name": "stdout",
     "output_type": "stream",
     "text": [
      "Loaded pretrained model pythia-1.4B-deduped into HookedTransformer\n"
     ]
    },
    {
     "name": "stderr",
     "output_type": "stream",
     "text": [
      "100%|██████████| 84/84 [00:36<00:00,  2.27it/s]\n",
      "100%|██████████| 84/84 [01:06<00:00,  1.26it/s]\n"
     ]
    },
    {
     "name": "stdout",
     "output_type": "stream",
     "text": [
      "Baseline performance: 0.0004544600669760257\n",
      "Circuit performance: 0.0004235731321386993\n",
      "Faithfulness: 3.088693483732641e-05\n",
      "Percentage of model performance achieved by the circuit: 93.20%\n"
     ]
    },
    {
     "name": "stderr",
     "output_type": "stream",
     "text": [
      "100%|██████████| 84/84 [00:37<00:00,  2.23it/s]\n",
      "100%|██████████| 84/84 [00:46<00:00,  1.82it/s]\n"
     ]
    },
    {
     "name": "stdout",
     "output_type": "stream",
     "text": [
      "Baseline accuracy: 0.9459999799728394\n",
      "Circuit accuracy: 0.8460000157356262\n"
     ]
    },
    {
     "data": {
      "text/plain": [
       "914218"
      ]
     },
     "execution_count": 5,
     "metadata": {},
     "output_type": "execute_result"
    }
   ],
   "source": [
    "checkpoint_folder = 'checkpoints/prompt_id_1/checkpoint-500'\n",
    "valid_file_csv = 'datasets_csv/prompts_id_1/test.csv'\n",
    "graph_1 = Graph.from_json('graph_prompt_1.json')\n",
    "model_1 = load_adapter_into_hooked_transformer(adapter_path = checkpoint_folder,\n",
    "                                    hf_model_name = model_name,\n",
    "                                    translens_model_name = transformer_lens_name, \n",
    "                                    adapter = True, \n",
    "                                    scratch_cache_dir = scratch_cache_dir)\n",
    "\n",
    "data, graph_1 = run_metrics(g = graph_1,\n",
    "            percentage_prune = 0.05,\n",
    "            model = model_1,\n",
    "            valid_file_csv = valid_file_csv,\n",
    "            loader_n = n)\n",
    "\n",
    "del graph_1\n",
    "del model_1\n",
    "torch.cuda.empty_cache()\n",
    "gc.collect()"
   ]
  },
  {
   "cell_type": "markdown",
   "id": "550441f1",
   "metadata": {},
   "source": [
    "### Ablate Circuit Edges"
   ]
  },
  {
   "cell_type": "markdown",
   "id": "aec65316",
   "metadata": {},
   "source": [
    "### Prompt 0"
   ]
  },
  {
   "cell_type": "code",
   "execution_count": 3,
   "id": "f1417c85",
   "metadata": {},
   "outputs": [],
   "source": [
    "graph_0 = Graph.from_json('graph_prompt_0.json')\n",
    "total_edges = len(graph_0.edges)\n",
    "percent_edges = int(total_edges * 0.05)\n",
    "graph_0.apply_topn(percent_edges , absolute=True, prune=True)\n",
    "\n",
    "for edge in graph_0.edges.values():\n",
    "    edge.in_graph = not edge.in_graph\n",
    "graph_0.prune()"
   ]
  },
  {
   "cell_type": "code",
   "execution_count": null,
   "id": "3769b64a",
   "metadata": {},
   "outputs": [
    {
     "name": "stdout",
     "output_type": "stream",
     "text": [
      "Loaded pretrained model pythia-1.4B-deduped into HookedTransformer\n"
     ]
    },
    {
     "name": "stderr",
     "output_type": "stream",
     "text": [
      "100%|██████████| 84/84 [00:34<00:00,  2.40it/s]\n",
      "100%|██████████| 84/84 [01:03<00:00,  1.33it/s]\n"
     ]
    },
    {
     "name": "stdout",
     "output_type": "stream",
     "text": [
      "Baseline performance: 0.00044656594400294125\n",
      "Circuit performance: 2.048040487201419e-10\n",
      "Faithfulness: 0.00044656573919889253\n",
      "Percentage of model performance achieved by the circuit: 0.00%\n"
     ]
    },
    {
     "name": "stderr",
     "output_type": "stream",
     "text": [
      "100%|██████████| 84/84 [00:35<00:00,  2.37it/s]\n",
      "100%|██████████| 84/84 [00:46<00:00,  1.81it/s]"
     ]
    },
    {
     "name": "stdout",
     "output_type": "stream",
     "text": [
      "Baseline accuracy: 0.9559999704360962\n",
      "Circuit accuracy: 0.01600000075995922\n"
     ]
    },
    {
     "name": "stderr",
     "output_type": "stream",
     "text": [
      "\n"
     ]
    }
   ],
   "source": [
    "checkpoint_folder = 'checkpoints/prompt_id_0/checkpoint-500'\n",
    "valid_file_csv = 'datasets_csv/prompts_id_0/test.csv'\n",
    "model_0 = load_adapter_into_hooked_transformer(adapter_path = checkpoint_folder,\n",
    "                                    hf_model_name = model_name,\n",
    "                                    translens_model_name = transformer_lens_name, \n",
    "                                    adapter = True, \n",
    "                                    scratch_cache_dir = scratch_cache_dir)\n",
    "data, graph_0 = run_metrics(g = graph_0,\n",
    "                      percentage_prune = None,\n",
    "                      model = model_0,\n",
    "                      valid_file_csv = valid_file_csv,\n",
    "                      loader_n = n)\n",
    "\n",
    "del graph_0\n",
    "del model_0\n",
    "torch.cuda.empty_cache()\n",
    "gc.collect()"
   ]
  },
  {
   "cell_type": "markdown",
   "id": "dba9e1ec",
   "metadata": {},
   "source": [
    "### Prompt 1"
   ]
  },
  {
   "cell_type": "code",
   "execution_count": 3,
   "id": "78e61dd4",
   "metadata": {},
   "outputs": [],
   "source": [
    "graph_1 = Graph.from_json('graph_prompt_1.json')\n",
    "total_edges = len(graph_1.edges)\n",
    "percent_edges = int(total_edges * 0.05)\n",
    "graph_1.apply_topn(percent_edges , absolute=True, prune=True)\n",
    "\n",
    "for edge in graph_1.edges.values():\n",
    "    edge.in_graph = not edge.in_graph\n",
    "graph_1.prune()"
   ]
  },
  {
   "cell_type": "code",
   "execution_count": 6,
   "id": "6fa0c353",
   "metadata": {},
   "outputs": [
    {
     "name": "stdout",
     "output_type": "stream",
     "text": [
      "Loaded pretrained model pythia-1.4B-deduped into HookedTransformer\n"
     ]
    },
    {
     "name": "stderr",
     "output_type": "stream",
     "text": [
      "100%|██████████| 84/84 [00:31<00:00,  2.63it/s]\n",
      "100%|██████████| 84/84 [00:57<00:00,  1.46it/s]\n"
     ]
    },
    {
     "name": "stdout",
     "output_type": "stream",
     "text": [
      "Baseline performance: 0.0004544600669760257\n",
      "Circuit performance: 7.251293315801988e-11\n",
      "Faithfulness: 0.00045445999446309254\n",
      "Percentage of model performance achieved by the circuit: 0.00%\n"
     ]
    },
    {
     "name": "stderr",
     "output_type": "stream",
     "text": [
      "100%|██████████| 84/84 [00:32<00:00,  2.61it/s]\n",
      "100%|██████████| 84/84 [00:42<00:00,  1.98it/s]"
     ]
    },
    {
     "name": "stdout",
     "output_type": "stream",
     "text": [
      "Baseline accuracy: 0.9459999799728394\n",
      "Circuit accuracy: 0.00800000037997961\n"
     ]
    },
    {
     "name": "stderr",
     "output_type": "stream",
     "text": [
      "\n"
     ]
    }
   ],
   "source": [
    "checkpoint_folder = 'checkpoints/prompt_id_1/checkpoint-500'\n",
    "valid_file_csv = 'datasets_csv/prompts_id_1/test.csv'\n",
    "model_1 = load_adapter_into_hooked_transformer(adapter_path = checkpoint_folder,\n",
    "                                    hf_model_name = model_name,\n",
    "                                    translens_model_name = transformer_lens_name, \n",
    "                                    adapter = True, \n",
    "                                    scratch_cache_dir = scratch_cache_dir)\n",
    "data, graph_1 = run_metrics(g = graph_1,\n",
    "                      percentage_prune = None,\n",
    "                      model = model_1,\n",
    "                      valid_file_csv = valid_file_csv,\n",
    "                      loader_n = n)\n",
    "del graph_1\n",
    "del model_1\n",
    "torch.cuda.empty_cache()\n",
    "gc.collect()"
   ]
  },
  {
   "cell_type": "markdown",
   "id": "4b454b12",
   "metadata": {},
   "source": [
    "### Find overlap circuits"
   ]
  },
  {
   "cell_type": "code",
   "execution_count": null,
   "id": "7781ead9",
   "metadata": {},
   "outputs": [],
   "source": [
    "graph_0 = Graph.from_json('graph_prompt_0.json')\n",
    "total_edges = len(graph_0.edges)\n",
    "percent_edges = int(total_edges * 0.05)\n",
    "graph_0.apply_topn(percent_edges , absolute=True, prune=True)\n",
    "\n",
    "graph_1 = Graph.from_json('graph_prompt_1.json')\n",
    "total_edges = len(graph_1.edges)\n",
    "percent_edges = int(total_edges * 0.05)\n",
    "graph_1.apply_topn(percent_edges , absolute=True, prune=True)"
   ]
  },
  {
   "cell_type": "code",
   "execution_count": 13,
   "id": "c58ddcd4",
   "metadata": {},
   "outputs": [
    {
     "name": "stdout",
     "output_type": "stream",
     "text": [
      "Number of overlapping in-graph edges: 6532\n"
     ]
    }
   ],
   "source": [
    "edges_0 = {name for name, edge in graph_0.edges.items() if edge.in_graph}\n",
    "edges_1 = {name for name, edge in graph_1.edges.items() if edge.in_graph}\n",
    "\n",
    "overlapping_edges = edges_0 & edges_1\n",
    "print(f\"Number of overlapping in-graph edges: {len(overlapping_edges)}\")"
   ]
  },
  {
   "cell_type": "code",
   "execution_count": 17,
   "id": "894266ba",
   "metadata": {},
   "outputs": [],
   "source": [
    "# Edges in top-5 but not in overlapping\n",
    "for name, edge in graph_0.edges.items():\n",
    "    if edge.in_graph:\n",
    "        if name in overlapping_edges:\n",
    "            edge.in_graph = False\n",
    "        else:\n",
    "            edge.in_graph = True \n",
    "    else:\n",
    "        edge.in_graph = False  \n",
    "graph_0.prune()"
   ]
  },
  {
   "cell_type": "code",
   "execution_count": 18,
   "id": "798205dc",
   "metadata": {},
   "outputs": [
    {
     "name": "stdout",
     "output_type": "stream",
     "text": [
      "Loaded pretrained model pythia-1.4B-deduped into HookedTransformer\n"
     ]
    },
    {
     "name": "stderr",
     "output_type": "stream",
     "text": [
      "100%|██████████| 84/84 [01:16<00:00,  1.10it/s]\n",
      "100%|██████████| 84/84 [02:14<00:00,  1.60s/it]\n"
     ]
    },
    {
     "name": "stdout",
     "output_type": "stream",
     "text": [
      "Baseline performance: 0.00044656594400294125\n",
      "Circuit performance: 1.6808611794094652e-11\n",
      "Faithfulness: 0.00044656592719432946\n",
      "Percentage of model performance achieved by the circuit: 0.00%\n"
     ]
    },
    {
     "name": "stderr",
     "output_type": "stream",
     "text": [
      "100%|██████████| 84/84 [01:16<00:00,  1.09it/s]\n",
      "100%|██████████| 84/84 [01:37<00:00,  1.16s/it]\n"
     ]
    },
    {
     "name": "stdout",
     "output_type": "stream",
     "text": [
      "Baseline accuracy: 0.9559999704360962\n",
      "Circuit accuracy: 0.01600000075995922\n"
     ]
    },
    {
     "data": {
      "text/plain": [
       "1828436"
      ]
     },
     "execution_count": 18,
     "metadata": {},
     "output_type": "execute_result"
    }
   ],
   "source": [
    "#top5 edges- no overlap\n",
    "checkpoint_folder = 'checkpoints/prompt_id_0/checkpoint-500'\n",
    "valid_file_csv = 'datasets_csv/prompts_id_0/test.csv'\n",
    "model_0 = load_adapter_into_hooked_transformer(adapter_path = checkpoint_folder,\n",
    "                                    hf_model_name = model_name,\n",
    "                                    translens_model_name = transformer_lens_name, \n",
    "                                    adapter = True, \n",
    "                                    scratch_cache_dir = scratch_cache_dir)\n",
    "data, graph_0 = run_metrics(g = graph_0,\n",
    "                            percentage_prune = None,\n",
    "                            model = model_0,\n",
    "                            valid_file_csv = valid_file_csv,\n",
    "                            loader_n = n)\n",
    "\n",
    "del graph_0\n",
    "del model_0\n",
    "torch.cuda.empty_cache()\n",
    "gc.collect()"
   ]
  },
  {
   "cell_type": "code",
   "execution_count": 3,
   "id": "d12c5d92",
   "metadata": {},
   "outputs": [
    {
     "name": "stdout",
     "output_type": "stream",
     "text": [
      "Number of overlapping in-graph edges: 6532\n"
     ]
    }
   ],
   "source": [
    "graph_0 = Graph.from_json('graph_prompt_0.json')\n",
    "total_edges = len(graph_0.edges)\n",
    "percent_edges = int(total_edges * 0.05)\n",
    "graph_0.apply_topn(percent_edges , absolute=True, prune=True)\n",
    "\n",
    "graph_1 = Graph.from_json('graph_prompt_1.json')\n",
    "total_edges = len(graph_1.edges)\n",
    "percent_edges = int(total_edges * 0.05)\n",
    "graph_1.apply_topn(percent_edges , absolute=True, prune=True)\n",
    "\n",
    "edges_0 = {name for name, edge in graph_0.edges.items() if edge.in_graph}\n",
    "edges_1 = {name for name, edge in graph_1.edges.items() if edge.in_graph}\n",
    "\n",
    "overlapping_edges = edges_0 & edges_1\n",
    "print(f\"Number of overlapping in-graph edges: {len(overlapping_edges)}\")"
   ]
  },
  {
   "cell_type": "code",
   "execution_count": 4,
   "id": "e9b34b22",
   "metadata": {},
   "outputs": [],
   "source": [
    "#Edges in top-5 and Overlapping \n",
    "for name, edge in graph_0.edges.items():\n",
    "    if edge.in_graph:\n",
    "        if name in overlapping_edges:\n",
    "            edge.in_graph = True\n",
    "        else:\n",
    "            edge.in_graph = False \n",
    "    else:\n",
    "        edge.in_graph = False  \n",
    "graph_0.prune()"
   ]
  },
  {
   "cell_type": "code",
   "execution_count": 5,
   "id": "8e751551",
   "metadata": {},
   "outputs": [
    {
     "name": "stdout",
     "output_type": "stream",
     "text": [
      "Loaded pretrained model pythia-1.4B-deduped into HookedTransformer\n"
     ]
    },
    {
     "name": "stderr",
     "output_type": "stream",
     "text": [
      "100%|██████████| 84/84 [01:13<00:00,  1.14it/s]\n",
      "100%|██████████| 84/84 [02:14<00:00,  1.60s/it]\n"
     ]
    },
    {
     "name": "stdout",
     "output_type": "stream",
     "text": [
      "Baseline performance: 0.00044656594400294125\n",
      "Circuit performance: 0.00040748732862994075\n",
      "Faithfulness: 3.90786153730005e-05\n",
      "Percentage of model performance achieved by the circuit: 91.25%\n"
     ]
    },
    {
     "name": "stderr",
     "output_type": "stream",
     "text": [
      "100%|██████████| 84/84 [01:16<00:00,  1.10it/s]\n",
      "100%|██████████| 84/84 [01:37<00:00,  1.16s/it]\n"
     ]
    },
    {
     "name": "stdout",
     "output_type": "stream",
     "text": [
      "Baseline accuracy: 0.9559999704360962\n",
      "Circuit accuracy: 0.8199999928474426\n"
     ]
    },
    {
     "data": {
      "text/plain": [
       "20"
      ]
     },
     "execution_count": 5,
     "metadata": {},
     "output_type": "execute_result"
    }
   ],
   "source": [
    "#Edges in top-5 and Overlapping \n",
    "checkpoint_folder = 'checkpoints/prompt_id_0/checkpoint-500'\n",
    "valid_file_csv = 'datasets_csv/prompts_id_0/test.csv'\n",
    "model_0 = load_adapter_into_hooked_transformer(adapter_path = checkpoint_folder,\n",
    "                                    hf_model_name = model_name,\n",
    "                                    translens_model_name = transformer_lens_name, \n",
    "                                    adapter = True, \n",
    "                                    scratch_cache_dir = scratch_cache_dir)\n",
    "data, graph_0 = run_metrics(g = graph_0,\n",
    "                            percentage_prune = None,\n",
    "                            model = model_0,\n",
    "                            valid_file_csv = valid_file_csv,\n",
    "                            loader_n = n)\n",
    "\n",
    "del graph_0\n",
    "del model_0\n",
    "torch.cuda.empty_cache()\n",
    "gc.collect()"
   ]
  },
  {
   "cell_type": "code",
   "execution_count": 6,
   "id": "b6aabb25",
   "metadata": {},
   "outputs": [],
   "source": [
    "graph_0 = Graph.from_json('graph_prompt_0.json')\n",
    "graph_0.apply_topn(len(overlapping_edges) , absolute=True, prune=True)"
   ]
  },
  {
   "cell_type": "code",
   "execution_count": 7,
   "id": "1ef46001",
   "metadata": {},
   "outputs": [
    {
     "name": "stdout",
     "output_type": "stream",
     "text": [
      "Loaded pretrained model pythia-1.4B-deduped into HookedTransformer\n"
     ]
    },
    {
     "name": "stderr",
     "output_type": "stream",
     "text": [
      "100%|██████████| 84/84 [01:15<00:00,  1.12it/s]\n",
      "100%|██████████| 84/84 [02:16<00:00,  1.63s/it]\n"
     ]
    },
    {
     "name": "stdout",
     "output_type": "stream",
     "text": [
      "Baseline performance: 0.00044656594400294125\n",
      "Circuit performance: 0.0004129871667828411\n",
      "Faithfulness: 3.3578777220100164e-05\n",
      "Percentage of model performance achieved by the circuit: 92.48%\n"
     ]
    },
    {
     "name": "stderr",
     "output_type": "stream",
     "text": [
      "100%|██████████| 84/84 [01:14<00:00,  1.13it/s]\n",
      "100%|██████████| 84/84 [01:39<00:00,  1.19s/it]\n"
     ]
    },
    {
     "name": "stdout",
     "output_type": "stream",
     "text": [
      "Baseline accuracy: 0.9559999704360962\n",
      "Circuit accuracy: 0.8140000104904175\n"
     ]
    },
    {
     "data": {
      "text/plain": [
       "914218"
      ]
     },
     "execution_count": 7,
     "metadata": {},
     "output_type": "execute_result"
    }
   ],
   "source": [
    "checkpoint_folder = 'checkpoints/prompt_id_0/checkpoint-500'\n",
    "valid_file_csv = 'datasets_csv/prompts_id_0/test.csv'\n",
    "model_0 = load_adapter_into_hooked_transformer(adapter_path = checkpoint_folder,\n",
    "                                    hf_model_name = model_name,\n",
    "                                    translens_model_name = transformer_lens_name, \n",
    "                                    adapter = True, \n",
    "                                    scratch_cache_dir = scratch_cache_dir)\n",
    "data, graph_0 = run_metrics(g = graph_0,\n",
    "                            percentage_prune = None,\n",
    "                            model = model_0,\n",
    "                            valid_file_csv = valid_file_csv,\n",
    "                            loader_n = n)\n",
    "\n",
    "del graph_0\n",
    "del model_0\n",
    "torch.cuda.empty_cache()\n",
    "gc.collect()"
   ]
  },
  {
   "cell_type": "code",
   "execution_count": 10,
   "id": "14f9ff64",
   "metadata": {},
   "outputs": [],
   "source": [
    "graph_1 = Graph.from_json('graph_prompt_0.json')\n",
    "graph_1.apply_topn(len(overlapping_edges) , absolute=True, prune=True)"
   ]
  },
  {
   "cell_type": "code",
   "execution_count": 17,
   "id": "73237948",
   "metadata": {},
   "outputs": [
    {
     "name": "stdout",
     "output_type": "stream",
     "text": [
      "Loaded pretrained model pythia-1.4B-deduped into HookedTransformer\n"
     ]
    }
   ],
   "source": [
    "checkpoint_folder = 'checkpoints/prompt_id_1/checkpoint-500'\n",
    "valid_file_csv = 'datasets_csv/prompts_id_1/test.csv'\n",
    "model_1 = load_adapter_into_hooked_transformer(adapter_path = checkpoint_folder,\n",
    "                                    hf_model_name = model_name,\n",
    "                                    translens_model_name = transformer_lens_name, \n",
    "                                    adapter = True, \n",
    "                                    scratch_cache_dir = scratch_cache_dir)"
   ]
  },
  {
   "cell_type": "code",
   "execution_count": 18,
   "id": "57c584a2",
   "metadata": {},
   "outputs": [
    {
     "name": "stderr",
     "output_type": "stream",
     "text": [
      "100%|██████████| 84/84 [01:08<00:00,  1.23it/s]\n",
      "100%|██████████| 84/84 [02:03<00:00,  1.47s/it]\n"
     ]
    },
    {
     "name": "stdout",
     "output_type": "stream",
     "text": [
      "Baseline performance: 0.0004544600669760257\n",
      "Circuit performance: 0.00039523487794212997\n",
      "Faithfulness: 5.922518903389573e-05\n",
      "Percentage of model performance achieved by the circuit: 86.97%\n"
     ]
    },
    {
     "name": "stderr",
     "output_type": "stream",
     "text": [
      "100%|██████████| 84/84 [01:10<00:00,  1.19it/s]\n",
      "100%|██████████| 84/84 [01:29<00:00,  1.07s/it]\n"
     ]
    },
    {
     "name": "stdout",
     "output_type": "stream",
     "text": [
      "Baseline accuracy: 0.9459999799728394\n",
      "Circuit accuracy: 0.6600000262260437\n"
     ]
    },
    {
     "data": {
      "text/plain": [
       "917982"
      ]
     },
     "execution_count": 18,
     "metadata": {},
     "output_type": "execute_result"
    }
   ],
   "source": [
    "data, graph_1 = run_metrics(g = graph_1,\n",
    "                            percentage_prune = None,\n",
    "                            model = model_1,\n",
    "                            valid_file_csv = valid_file_csv,\n",
    "                            loader_n = n)\n",
    "\n",
    "del graph_1\n",
    "torch.cuda.empty_cache()\n",
    "gc.collect()"
   ]
  },
  {
   "cell_type": "code",
   "execution_count": 19,
   "id": "c5011544",
   "metadata": {},
   "outputs": [
    {
     "name": "stdout",
     "output_type": "stream",
     "text": [
      "Number of overlapping in-graph edges: 6532\n"
     ]
    }
   ],
   "source": [
    "graph_0 = Graph.from_json('graph_prompt_0.json')\n",
    "total_edges = len(graph_0.edges)\n",
    "percent_edges = int(total_edges * 0.05)\n",
    "graph_0.apply_topn(percent_edges , absolute=True, prune=True)\n",
    "\n",
    "graph_1 = Graph.from_json('graph_prompt_1.json')\n",
    "total_edges = len(graph_1.edges)\n",
    "percent_edges = int(total_edges * 0.05)\n",
    "graph_1.apply_topn(percent_edges , absolute=True, prune=True)\n",
    "\n",
    "edges_0 = {name for name, edge in graph_0.edges.items() if edge.in_graph}\n",
    "edges_1 = {name for name, edge in graph_1.edges.items() if edge.in_graph}\n",
    "\n",
    "overlapping_edges = edges_0 & edges_1\n",
    "print(f\"Number of overlapping in-graph edges: {len(overlapping_edges)}\")"
   ]
  },
  {
   "cell_type": "code",
   "execution_count": 20,
   "id": "893c1a4c",
   "metadata": {},
   "outputs": [],
   "source": [
    "#Edges in top-5 and Overlapping \n",
    "for name, edge in graph_1.edges.items():\n",
    "    if edge.in_graph:\n",
    "        if name in overlapping_edges:\n",
    "            edge.in_graph = True\n",
    "        else:\n",
    "            edge.in_graph = False \n",
    "    else:\n",
    "        edge.in_graph = False  \n",
    "graph_1.prune()"
   ]
  },
  {
   "cell_type": "code",
   "execution_count": 21,
   "id": "40716ac3",
   "metadata": {},
   "outputs": [
    {
     "name": "stderr",
     "output_type": "stream",
     "text": [
      "100%|██████████| 84/84 [01:09<00:00,  1.21it/s]\n",
      "100%|██████████| 84/84 [02:04<00:00,  1.48s/it]\n"
     ]
    },
    {
     "name": "stdout",
     "output_type": "stream",
     "text": [
      "Baseline performance: 0.0004544600669760257\n",
      "Circuit performance: 0.0004001743218395859\n",
      "Faithfulness: 5.42857451364398e-05\n",
      "Percentage of model performance achieved by the circuit: 88.05%\n"
     ]
    },
    {
     "name": "stderr",
     "output_type": "stream",
     "text": [
      "100%|██████████| 84/84 [01:08<00:00,  1.23it/s]\n",
      "100%|██████████| 84/84 [01:32<00:00,  1.10s/it]\n"
     ]
    },
    {
     "name": "stdout",
     "output_type": "stream",
     "text": [
      "Baseline accuracy: 0.9459999799728394\n",
      "Circuit accuracy: 0.699999988079071\n"
     ]
    },
    {
     "data": {
      "text/plain": [
       "914218"
      ]
     },
     "execution_count": 21,
     "metadata": {},
     "output_type": "execute_result"
    }
   ],
   "source": [
    "data, graph_1 = run_metrics(g = graph_1,\n",
    "                            percentage_prune = None,\n",
    "                            model = model_1,\n",
    "                            valid_file_csv = valid_file_csv,\n",
    "                            loader_n = n)\n",
    "\n",
    "del graph_1\n",
    "del model_1\n",
    "torch.cuda.empty_cache()\n",
    "gc.collect()"
   ]
  },
  {
   "cell_type": "code",
   "execution_count": 22,
   "id": "4f320822",
   "metadata": {},
   "outputs": [],
   "source": [
    "graph_1 = Graph.from_json('graph_prompt_1.json')\n",
    "total_edges = len(graph_1.edges)\n",
    "percent_edges = int(total_edges * 0.05)\n",
    "graph_1.apply_topn(percent_edges , absolute=True, prune=True)\n"
   ]
  },
  {
   "cell_type": "code",
   "execution_count": 24,
   "id": "41baa8e4",
   "metadata": {},
   "outputs": [
    {
     "name": "stdout",
     "output_type": "stream",
     "text": [
      "Loaded pretrained model pythia-1.4B-deduped into HookedTransformer\n"
     ]
    },
    {
     "name": "stderr",
     "output_type": "stream",
     "text": [
      "100%|██████████| 84/84 [01:10<00:00,  1.20it/s]\n",
      "100%|██████████| 84/84 [02:03<00:00,  1.47s/it]\n"
     ]
    },
    {
     "name": "stdout",
     "output_type": "stream",
     "text": [
      "Baseline performance: 0.0004544600669760257\n",
      "Circuit performance: 0.0004235731321386993\n",
      "Faithfulness: 3.088693483732641e-05\n",
      "Percentage of model performance achieved by the circuit: 93.20%\n"
     ]
    },
    {
     "name": "stderr",
     "output_type": "stream",
     "text": [
      "100%|██████████| 84/84 [01:10<00:00,  1.19it/s]\n",
      "100%|██████████| 84/84 [01:29<00:00,  1.06s/it]\n"
     ]
    },
    {
     "name": "stdout",
     "output_type": "stream",
     "text": [
      "Baseline accuracy: 0.9459999799728394\n",
      "Circuit accuracy: 0.8460000157356262\n"
     ]
    },
    {
     "data": {
      "text/plain": [
       "1828901"
      ]
     },
     "execution_count": 24,
     "metadata": {},
     "output_type": "execute_result"
    }
   ],
   "source": [
    "model_1 = load_adapter_into_hooked_transformer(adapter_path = checkpoint_folder,\n",
    "                                    hf_model_name = model_name,\n",
    "                                    translens_model_name = transformer_lens_name, \n",
    "                                    adapter = True, \n",
    "                                    scratch_cache_dir = scratch_cache_dir)\n",
    "data, graph_1 = run_metrics(g = graph_1,\n",
    "                            percentage_prune = None,\n",
    "                            model = model_1,\n",
    "                            valid_file_csv = valid_file_csv,\n",
    "                            loader_n = n)\n",
    "\n",
    "del graph_1\n",
    "del model_1\n",
    "torch.cuda.empty_cache()\n",
    "gc.collect()"
   ]
  },
  {
   "cell_type": "code",
   "execution_count": 32,
   "id": "0df15c80",
   "metadata": {},
   "outputs": [],
   "source": [
    "graph_1 = Graph.from_json('graph_prompt_1.json')\n",
    "total_edges = len(graph_1.edges)\n",
    "percent_edges = int(total_edges * 0.05)\n",
    "graph_1.apply_topn(percent_edges , absolute=True, prune=True)"
   ]
  },
  {
   "cell_type": "code",
   "execution_count": 38,
   "id": "2f388c67",
   "metadata": {},
   "outputs": [],
   "source": [
    "sample_size = len(overlapping_edges)"
   ]
  },
  {
   "cell_type": "code",
   "execution_count": 39,
   "id": "49289d55",
   "metadata": {},
   "outputs": [],
   "source": [
    "import random \n",
    "sample_size = len(overlapping_edges)\n",
    "in_graph_edge_names = [name for name, edge in graph_1.edges.items() if edge.in_graph]\n",
    "random_sample = set(random.sample(in_graph_edge_names, sample_size))"
   ]
  },
  {
   "cell_type": "code",
   "execution_count": 40,
   "id": "56ed19d4",
   "metadata": {},
   "outputs": [],
   "source": [
    "for name, edge in graph_1.edges.items():\n",
    "    edge.in_graph = name in random_sample\n",
    "\n",
    "graph_1.prune()"
   ]
  },
  {
   "cell_type": "code",
   "execution_count": 41,
   "id": "adb32c72",
   "metadata": {},
   "outputs": [
    {
     "name": "stdout",
     "output_type": "stream",
     "text": [
      "Loaded pretrained model pythia-1.4B-deduped into HookedTransformer\n"
     ]
    },
    {
     "name": "stderr",
     "output_type": "stream",
     "text": [
      "100%|██████████| 84/84 [01:09<00:00,  1.20it/s]\n",
      "100%|██████████| 84/84 [02:05<00:00,  1.49s/it]\n"
     ]
    },
    {
     "name": "stdout",
     "output_type": "stream",
     "text": [
      "Baseline performance: 0.0004544600669760257\n",
      "Circuit performance: 1.900689198919281e-06\n",
      "Faithfulness: 0.0004525593777771064\n",
      "Percentage of model performance achieved by the circuit: 0.42%\n"
     ]
    },
    {
     "name": "stderr",
     "output_type": "stream",
     "text": [
      "100%|██████████| 84/84 [01:09<00:00,  1.20it/s]\n",
      "100%|██████████| 84/84 [01:31<00:00,  1.10s/it]\n"
     ]
    },
    {
     "name": "stdout",
     "output_type": "stream",
     "text": [
      "Baseline accuracy: 0.9459999799728394\n",
      "Circuit accuracy: 0.00800000037997961\n"
     ]
    },
    {
     "data": {
      "text/plain": [
       "1829127"
      ]
     },
     "execution_count": 41,
     "metadata": {},
     "output_type": "execute_result"
    }
   ],
   "source": [
    "model_1 = load_adapter_into_hooked_transformer(adapter_path = checkpoint_folder,\n",
    "                                    hf_model_name = model_name,\n",
    "                                    translens_model_name = transformer_lens_name, \n",
    "                                    adapter = True, \n",
    "                                    scratch_cache_dir = scratch_cache_dir)\n",
    "data, graph_1 = run_metrics(g = graph_1,\n",
    "                            percentage_prune = None,\n",
    "                            model = model_1,\n",
    "                            valid_file_csv = valid_file_csv,\n",
    "                            loader_n = n)\n",
    "\n",
    "del graph_1\n",
    "del model_1\n",
    "torch.cuda.empty_cache()\n",
    "gc.collect()"
   ]
  },
  {
   "cell_type": "code",
   "execution_count": 43,
   "id": "9b4badd0",
   "metadata": {},
   "outputs": [
    {
     "name": "stdout",
     "output_type": "stream",
     "text": [
      "Number of overlapping in-graph edges: 6532\n"
     ]
    }
   ],
   "source": [
    "graph_0 = Graph.from_json('graph_prompt_0.json')\n",
    "total_edges = len(graph_0.edges)\n",
    "percent_edges = int(total_edges * 0.05)\n",
    "graph_0.apply_topn(percent_edges , absolute=True, prune=True)\n",
    "\n",
    "graph_1 = Graph.from_json('graph_prompt_1.json')\n",
    "total_edges = len(graph_1.edges)\n",
    "percent_edges = int(total_edges * 0.05)\n",
    "graph_1.apply_topn(percent_edges , absolute=True, prune=True)\n",
    "\n",
    "edges_0 = {name for name, edge in graph_0.edges.items() if edge.in_graph}\n",
    "edges_1 = {name for name, edge in graph_1.edges.items() if edge.in_graph}\n",
    "\n",
    "overlapping_edges = edges_0 & edges_1\n",
    "print(f\"Number of overlapping in-graph edges: {len(overlapping_edges)}\")"
   ]
  },
  {
   "cell_type": "code",
   "execution_count": 53,
   "id": "693e3d0f",
   "metadata": {},
   "outputs": [],
   "source": [
    "graph_1_sub = Graph.from_json('graph_prompt_1.json')\n",
    "graph_1_sub.apply_topn(len(overlapping_edges) , absolute=True, prune=True)\n"
   ]
  },
  {
   "cell_type": "code",
   "execution_count": null,
   "id": "48033b34",
   "metadata": {},
   "outputs": [
    {
     "data": {
      "image/png": "[encoded data removed]",
      "text/plain": [
       "<Figure size 1000x600 with 1 Axes>"
      ]
     },
     "metadata": {},
     "output_type": "display_data"
    }
   ],
   "source": [
    "import matplotlib.pyplot as plt\n",
    "import seaborn as sns\n",
    "\n",
    "\n",
    "# Separate scores\n",
    "overlap_scores = [edge.score for name, edge in graph_1_sub.edges.items() if name in overlapping_edges]\n",
    "\n",
    "# Sort the scores\n",
    "overlap_scores_sorted = sorted(overlap_scores)\n",
    "\n",
    "# Plot the sorted scores\n",
    "plt.figure(figsize=(10,6))\n",
    "plt.plot(overlap_scores_sorted, label='Overlapping Edges')\n",
    "plt.title('Sorted Scores of Overlapping Edges')\n",
    "plt.xlabel('Edge index (sorted)')\n",
    "plt.ylabel('Edge score')\n",
    "plt.legend()\n",
    "plt.show()"
   ]
  },
  {
   "cell_type": "code",
   "execution_count": 54,
   "id": "97601282",
   "metadata": {},
   "outputs": [
    {
     "data": {
      "image/png": "[encoded data removed]",
      "text/plain": [
       "<Figure size 1000x600 with 1 Axes>"
      ]
     },
     "metadata": {},
     "output_type": "display_data"
    }
   ],
   "source": [
    "import matplotlib.pyplot as plt\n",
    "import seaborn as sns\n",
    "\n",
    "\n",
    "# Separate scores\n",
    "overlap_scores = [edge.score for name, edge in graph_1_sub.edges.items() if name in overlapping_edges]\n",
    "\n",
    "# Sort the scores\n",
    "overlap_scores_sorted = sorted(overlap_scores)\n",
    "\n",
    "# Plot the sorted scores\n",
    "plt.figure(figsize=(10,6))\n",
    "plt.plot(overlap_scores_sorted, label='Overlapping Edges')\n",
    "plt.title('Sorted Scores of Overlapping Edges')\n",
    "plt.xlabel('Edge index (sorted)')\n",
    "plt.ylabel('Edge score')\n",
    "plt.legend()\n",
    "plt.show()"
   ]
  }
 ],
 "metadata": {
  "kernelspec": {
   "display_name": ".venv",
   "language": "python",
   "name": "python3"
  },
  "language_info": {
   "codemirror_mode": {
    "name": "ipython",
    "version": 3
   },
   "file_extension": ".py",
   "mimetype": "text/x-python",
   "name": "python",
   "nbconvert_exporter": "python",
   "pygments_lexer": "ipython3",
   "version": "3.12.3"
  }
 },
 "nbformat": 4,
 "nbformat_minor": 5
}
