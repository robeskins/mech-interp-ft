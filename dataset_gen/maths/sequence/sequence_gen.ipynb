{
 "cells": [
  {
   "cell_type": "code",
   "execution_count": 3,
   "id": "52750251",
   "metadata": {},
   "outputs": [],
   "source": [
    "import random\n",
    "from transformers import AutoTokenizer\n",
    "import csv\n"
   ]
  },
  {
   "cell_type": "code",
   "execution_count": 4,
   "id": "efb21afd",
   "metadata": {},
   "outputs": [],
   "source": [
    "tokenizer = AutoTokenizer.from_pretrained(\"EleutherAI/pythia-1.4b-deduped\")\n",
    "\n",
    "def is_single_token(text):\n",
    "    tokens = tokenizer.tokenize(str(text))\n",
    "    return len(tokens) == 1\n"
   ]
  },
  {
   "cell_type": "code",
   "execution_count": 5,
   "id": "97c943da",
   "metadata": {},
   "outputs": [],
   "source": [
    "def generate_arithmetic_or_geometric_sequence():\n",
    "    sequence_type = random.choice([\"arithmetic\", \"geometric\"])\n",
    "\n",
    "    if sequence_type == \"arithmetic\":\n",
    "        start = random.randint(1, 500)\n",
    "        step = random.randint(1, 100)\n",
    "        sequence = [start + i * step for i in range(5)]\n",
    "    else:\n",
    "        start = random.randint(1, 10)\n",
    "        step = random.randint(2, 10)\n",
    "        sequence = [start * (step ** i) for i in range(5)]\n",
    "\n",
    "    if not all(is_single_token(num) for num in sequence):\n",
    "        return None, None\n",
    "\n",
    "    label = sequence[-1]\n",
    "\n",
    "    sequence = sequence[:-1]\n",
    "\n",
    "    return sequence, label\n",
    "\n",
    "def corrupt_sequence(sequence):\n",
    "    corrupted_sequence = sequence[:]\n",
    "    index_to_corrupt = random.choice([-1, -2])\n",
    "    corrupted_value = corrupted_sequence[index_to_corrupt]\n",
    "\n",
    "    while True:\n",
    "        new_value = corrupted_value + random.randint(1, 100)\n",
    "        if is_single_token(new_value) and new_value != corrupted_value and new_value not in corrupted_sequence:\n",
    "            corrupted_sequence[index_to_corrupt] = new_value\n",
    "            break\n",
    "\n",
    "    return corrupted_sequence\n",
    "\n",
    "def are_token_lengths_equal(clean, corrupted):\n",
    "    clean_tokens = tokenizer.tokenize(clean)\n",
    "    corrupted_tokens = tokenizer.tokenize(corrupted)\n",
    "    return len(clean_tokens) == len(corrupted_tokens)\n",
    "\n",
    "def generate_data(num_samples):\n",
    "    data = []\n",
    "    seen_sequences = set()\n",
    "\n",
    "    while len(data) < num_samples:\n",
    "        sequence, label = generate_arithmetic_or_geometric_sequence()\n",
    "\n",
    "        if sequence is None or label is None:\n",
    "            continue\n",
    "        sequence_tuple = tuple(sequence)\n",
    "        if sequence_tuple in seen_sequences:\n",
    "            continue \n",
    "\n",
    "        seen_sequences.add(sequence_tuple)\n",
    "\n",
    "        clean_input = f\"Solve the following and respond with only the final answer:' {', '.join(map(str, sequence))},\"\n",
    "        corrupted_sequence = corrupt_sequence(sequence)\n",
    "        corrupt_input = f\"Solve the following and respond with only the final answer: {', '.join(map(str, corrupted_sequence))},\"\n",
    "\n",
    "        if not are_token_lengths_equal(clean_input, corrupt_input):\n",
    "            continue\n",
    "\n",
    "        data.append({\"clean\": clean_input, \"corrupted\": corrupt_input, \"label\": label})\n",
    "\n",
    "    return data"
   ]
  },
  {
   "cell_type": "code",
   "execution_count": null,
   "id": "12a274e0",
   "metadata": {},
   "outputs": [],
   "source": [
    "data = generate_data(4000)"
   ]
  },
  {
   "cell_type": "code",
   "execution_count": null,
   "id": "bda585c8",
   "metadata": {},
   "outputs": [
    {
     "name": "stdout",
     "output_type": "stream",
     "text": [
      "Saved 5400 rows to train.csv and 600 rows to test.csv\n"
     ]
    }
   ],
   "source": [
    "random.shuffle(data)\n",
    "\n",
    "split_idx = int(len(data) * 0.9)\n",
    "train_data = data[:split_idx]\n",
    "test_data = data[split_idx:]\n",
    "\n",
    "def save_to_csv(data, filename):\n",
    "    keys = data[0].keys()\n",
    "    with open(filename, 'w', newline='') as f:\n",
    "        dict_writer = csv.DictWriter(f, fieldnames=keys)\n",
    "        dict_writer.writeheader()\n",
    "        dict_writer.writerows(data)\n",
    "\n",
    "save_to_csv(train_data, 'datasets_csv/train.csv')\n",
    "save_to_csv(test_data, 'datasets_csv/test.csv')\n",
    "\n",
    "print(f\"Saved {len(train_data)} rows to train.csv and {len(test_data)} rows to test.csv\")"
   ]
  }
 ],
 "metadata": {
  "kernelspec": {
   "display_name": ".venv",
   "language": "python",
   "name": "python3"
  },
  "language_info": {
   "codemirror_mode": {
    "name": "ipython",
    "version": 3
   },
   "file_extension": ".py",
   "mimetype": "text/x-python",
   "name": "python",
   "nbconvert_exporter": "python",
   "pygments_lexer": "ipython3",
   "version": "3.12.3"
  }
 },
 "nbformat": 4,
 "nbformat_minor": 5
}
