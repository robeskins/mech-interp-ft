{
 "cells": [
  {
   "cell_type": "code",
   "execution_count": 4,
   "id": "c1151882",
   "metadata": {},
   "outputs": [],
   "source": [
    "import random\n",
    "import csv"
   ]
  },
  {
   "cell_type": "code",
   "execution_count": 11,
   "id": "a29edd3e",
   "metadata": {},
   "outputs": [],
   "source": [
    "def generate_example():\n",
    "    prefix = \"Solve the following and respond with only the final answer:\"\n",
    "    a = random.randint(1, 200)\n",
    "    b = random.randint(2, 50)\n",
    "\n",
    "    correct_answer = a % b\n",
    "    while True:\n",
    "        c = random.randint(2, 50)\n",
    "        corrupted_answer = c % b\n",
    "        if corrupted_answer != correct_answer:\n",
    "            break\n",
    "\n",
    "\n",
    "    prompt = f\"{prefix} {a} mod {b}=\"\n",
    "    corrupted_prompt = f\"{prefix} {a} mod {c}=\"\n",
    "\n",
    "    return prompt, corrupted_prompt, correct_answer\n",
    "\n",
    "\n",
    "def generate_unique_dataset(num_samples=1000):\n",
    "    seen = set()\n",
    "    results = []\n",
    "\n",
    "    while len(results) < num_samples:\n",
    "        prompt, corrupted_prompt, correct_answer = generate_example()\n",
    "        if prompt not in seen:\n",
    "            seen.add(prompt)\n",
    "            results.append((prompt, corrupted_prompt, correct_answer))\n",
    "\n",
    "    return results"
   ]
  },
  {
   "cell_type": "code",
   "execution_count": 12,
   "id": "01fd7a4f",
   "metadata": {},
   "outputs": [
    {
     "name": "stdout",
     "output_type": "stream",
     "text": [
      "✅ Saved 5400 rows to datasets_csv/train.csv\n",
      "✅ Saved 600 rows to datasets_csv/validation.csv\n"
     ]
    }
   ],
   "source": [
    "def save_to_csv(data, filename):\n",
    "    with open(filename, mode='w', newline='') as f:\n",
    "        writer = csv.writer(f)\n",
    "        writer.writerow([\"clean\", \"corrupted\", \"answer\"])\n",
    "        for row in data:\n",
    "            writer.writerow(row)\n",
    "    print(f\"✅ Saved {len(data)} rows to {filename}\")\n",
    "\n",
    "dataset = generate_unique_dataset(6000)\n",
    "\n",
    "random.shuffle(dataset)\n",
    "split_idx = int(0.9 * len(dataset))\n",
    "train_data = dataset[:split_idx]\n",
    "val_data = dataset[split_idx:]\n",
    "\n",
    "# Save both to CSV\n",
    "save_to_csv(train_data, \"datasets_csv/train.csv\")\n",
    "save_to_csv(val_data, \"datasets_csv/validation.csv\")"
   ]
  }
 ],
 "metadata": {
  "kernelspec": {
   "display_name": ".venv",
   "language": "python",
   "name": "python3"
  },
  "language_info": {
   "codemirror_mode": {
    "name": "ipython",
    "version": 3
   },
   "file_extension": ".py",
   "mimetype": "text/x-python",
   "name": "python",
   "nbconvert_exporter": "python",
   "pygments_lexer": "ipython3",
   "version": "3.12.3"
  }
 },
 "nbformat": 4,
 "nbformat_minor": 5
}
