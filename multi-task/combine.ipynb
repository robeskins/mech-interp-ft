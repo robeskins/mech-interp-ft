{
 "cells": [
  {
   "cell_type": "code",
   "execution_count": 10,
   "id": "a3c80190",
   "metadata": {},
   "outputs": [
    {
     "name": "stdout",
     "output_type": "stream",
     "text": [
      "task\n",
      "sub    600\n",
      "add    600\n",
      "Name: count, dtype: int64\n",
      "1200\n"
     ]
    }
   ],
   "source": [
    "import pandas as pd\n",
    "from sklearn.utils import shuffle\n",
    "\n",
    "df_add = pd.read_csv('tasks/add_sub/datasets_csv/validation.csv')\n",
    "df_sub = pd.read_csv('tasks/sequence/datasets_csv/validation.csv')\n",
    "\n",
    "df_add['task'] = 'add'\n",
    "df_sub['task'] = 'sub'\n",
    "df_combined = pd.concat([df_add, df_sub])\n",
    "df_combined = shuffle(df_combined, random_state=42).reset_index(drop=True)\n",
    "half_size = len(df_combined)\n",
    "\n",
    "df_add_half = df_combined[df_combined['task'] == 'add'].sample(n=half_size//2, random_state=42)\n",
    "df_sub_half = df_combined[df_combined['task'] == 'sub'].sample(n=half_size//2, random_state=42)\n",
    "\n",
    "df_final = pd.concat([df_add_half, df_sub_half])\n",
    "df_final = shuffle(df_final, random_state=42).reset_index(drop=True)\n",
    "\n",
    "print(df_final['task'].value_counts())\n",
    "print(len(df_final))\n"
   ]
  },
  {
   "cell_type": "code",
   "execution_count": 11,
   "id": "adaa9305",
   "metadata": {},
   "outputs": [],
   "source": [
    "import os\n",
    "output_dir = 'tasks/MultiTask/add_seq/datasets_csv'\n",
    "os.makedirs(output_dir, exist_ok=True)\n",
    "\n",
    "df_final.to_csv(os.path.join(output_dir, 'validation.csv'), index=False)"
   ]
  }
 ],
 "metadata": {
  "kernelspec": {
   "display_name": ".venv",
   "language": "python",
   "name": "python3"
  },
  "language_info": {
   "codemirror_mode": {
    "name": "ipython",
    "version": 3
   },
   "file_extension": ".py",
   "mimetype": "text/x-python",
   "name": "python",
   "nbconvert_exporter": "python",
   "pygments_lexer": "ipython3",
   "version": "3.12.3"
  }
 },
 "nbformat": 4,
 "nbformat_minor": 5
}
