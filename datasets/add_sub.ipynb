{
 "cells": [
  {
   "cell_type": "code",
   "execution_count": 3,
   "id": "50b2ea31",
   "metadata": {},
   "outputs": [
    {
     "name": "stdout",
     "output_type": "stream",
     "text": [
      "Dataset saved as number_dataset.csv\n"
     ]
    }
   ],
   "source": [
    "import pandas as pd\n",
    "import random\n",
    "import operator\n",
    "\n",
    "subtask_ranges = {\n",
    "    'subtask_100': (1, 100),\n",
    "    'subtask_200': (101, 200),\n",
    "    'subtask_300': (201, 300),\n",
    "    'subtask_400': (301, 400),\n",
    "    'subtask_500': (401, 500),\n",
    "}\n",
    "\n",
    "instances_per_subtask = 100\n",
    "\n",
    "data = []\n",
    "\n",
    "for name, (start, end) in subtask_ranges.items():\n",
    "    for _ in range(instances_per_subtask):\n",
    "        value_1 = random.randint(start, end)\n",
    "        value_2 = random.randint(start, end)\n",
    "        value_3 = random.randint(start, end)        \n",
    "\n",
    "        num = random.randint(1, 2)\n",
    "        op_symbol = {1: '+', 2: '-'}[num]    \n",
    "        other_op = '+' if op_symbol == '-' else '-'   \n",
    "\n",
    "        ops = {\n",
    "            '+': operator.add,\n",
    "            '-': operator.sub,\n",
    "        }       \n",
    "\n",
    "        total = ops[op_symbol](value_1, value_2)\n",
    "        clean_string = f'{value_1} {op_symbol} {value_2} ='\n",
    "        corrupted_string = f'{value_1} {op_symbol} {value_3} ='\n",
    "\n",
    "        data.append({\n",
    "            'clean': clean_string,\n",
    "            'corrupted': corrupted_string,\n",
    "            'label': total\n",
    "        })\n",
    "\n",
    "df = pd.DataFrame(data)\n",
    "\n",
    "# Save to CSV\n",
    "df.to_csv(\"add_sub_test.csv\", index=False)\n",
    "\n",
    "print(\"Dataset saved as number_dataset.csv\")\n"
   ]
  }
 ],
 "metadata": {
  "kernelspec": {
   "display_name": ".venv",
   "language": "python",
   "name": "python3"
  },
  "language_info": {
   "codemirror_mode": {
    "name": "ipython",
    "version": 3
   },
   "file_extension": ".py",
   "mimetype": "text/x-python",
   "name": "python",
   "nbconvert_exporter": "python",
   "pygments_lexer": "ipython3",
   "version": "3.12.3"
  }
 },
 "nbformat": 4,
 "nbformat_minor": 5
}
