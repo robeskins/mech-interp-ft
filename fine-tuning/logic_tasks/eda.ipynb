{
 "cells": [
  {
   "cell_type": "code",
   "execution_count": 1,
   "id": "9b95b2d9",
   "metadata": {},
   "outputs": [
    {
     "name": "stdout",
     "output_type": "stream",
     "text": [
      "1000\n"
     ]
    }
   ],
   "source": [
    "import json\n",
    "\n",
    "# Open the file\n",
    "with open('task.json', 'r') as f:\n",
    "    data = json.load(f)\n",
    "\n",
    "# Use the data\n",
    "print(len(data['examples']))"
   ]
  },
  {
   "cell_type": "code",
   "execution_count": null,
   "id": "618b5831",
   "metadata": {},
   "outputs": [],
   "source": [
    "import csv\n",
    "import random\n",
    "\n",
    "categories = {\n",
    "    \"musical instruments\": [\"clarinet\", \"violin\", \"flute\", \"trumpet\", \"accordion\", \"piano\", \"guitar\", \"drum\"],\n",
    "    \"objects\": [\"car\", \"toaster\", \"stove\", \"lamp\", \"microwave\", \"bed\", \"chair\", \"couch\", \"fridge\", \"table\"],\n",
    "    \"vegetables\": [\"potato\", \"broccoli\", \"cabbage\", \"celery\", \"lettuce\", \"yam\", \"onion\", \"carrot\", \"garlic\"],\n",
    "    \"fruits\": [\"frog\", \"plum\", \"nectarine\", \"banana\", \"orange\", \"raspberry\", \"grape\", \"apple\", \"pear\"],\n",
    "    \"animals\": [\"dog\", \"cow\", \"bear\", \"fish\", \"snail\", \"mouse\", \"duck\", \"pig\", \"donkey\", \"snake\"]\n",
    "}\n",
    "\n",
    "# Map numbers to words (for 1-20)\n",
    "num_to_word = {\n",
    "    1: \"one\", 2: \"two\", 3: \"three\", 4:\"four\", 5:\"five\", 6:\"six\", 7:\"seven\", 8:\"eight\", 9:\"nine\", 10:\"ten\",\n",
    "    11:\"eleven\", 12:\"twelve\", 13:\"thirteen\", 14:\"fourteen\", 15:\"fifteen\", 16:\"sixteen\", 17:\"seventeen\",\n",
    "    18:\"eighteen\", 19:\"nineteen\", 20:\"twenty\"\n",
    "}\n",
    "\n",
    "def generate_question(category, max_unique=7, max_quantity=5):\n",
    "    objs = categories[category]\n",
    "    # Randomly select number of unique objects\n",
    "    num_unique = random.randint(1, min(max_unique, len(objs)))\n",
    "    selected_objs = random.sample(objs, num_unique)\n",
    "\n",
    "    # For each selected obj, randomly decide quantity 1 to max_quantity\n",
    "    quantities = [random.randint(1, max_quantity) for _ in range(num_unique)]\n",
    "\n",
    "    parts = []\n",
    "    total_count = 0\n",
    "    for q, obj in zip(quantities, selected_objs):\n",
    "        total_count += q\n",
    "        if q == 1:\n",
    "            parts.append(f\"a {obj}\")\n",
    "        else:\n",
    "            parts.append(f\"{q} {obj}s\")\n",
    "\n",
    "    # Build the question sentence with commas and 'and'\n",
    "    if len(parts) == 1:\n",
    "        question_part = parts[0]\n",
    "    else:\n",
    "        question_part = \", \".join(parts[:-1]) + \", and \" + parts[-1]\n",
    "\n",
    "    input_text = f\"I have {question_part}. How many {category} do I have?\"\n",
    "    target = [num_to_word.get(total_count, str(total_count)), str(total_count)]\n",
    "    return input_text, target\n",
    "\n",
    "# Generate many examples\n",
    "num_examples = 20\n",
    "rows = [[\"input\", \"target_word\", \"target_number\"]]\n",
    "\n",
    "for _ in range(num_examples):\n",
    "    cat = random.choice(list(categories.keys()))\n",
    "    inp, tgt = generate_question(cat)\n",
    "    rows.append([inp, tgt[0], tgt[1]])\n",
    "\n",
    "# Write to CSV\n",
    "with open(\"counting_examples.csv\", \"w\", newline='') as f:\n",
    "    writer = csv.writer(f)\n",
    "    writer.writerows(rows)\n",
    "\n",
    "print(\"CSV generated as counting_examples.csv\")\n"
   ]
  }
 ],
 "metadata": {
  "kernelspec": {
   "display_name": ".venv",
   "language": "python",
   "name": "python3"
  },
  "language_info": {
   "codemirror_mode": {
    "name": "ipython",
    "version": 3
   },
   "file_extension": ".py",
   "mimetype": "text/x-python",
   "name": "python",
   "nbconvert_exporter": "python",
   "pygments_lexer": "ipython3",
   "version": "3.12.3"
  }
 },
 "nbformat": 4,
 "nbformat_minor": 5
}
