{
 "cells": [
  {
   "cell_type": "code",
   "execution_count": 6,
   "id": "8b03fa17",
   "metadata": {},
   "outputs": [],
   "source": [
    "import os\n",
    "import csv"
   ]
  },
  {
   "cell_type": "code",
   "execution_count": 7,
   "id": "be56a3e8",
   "metadata": {},
   "outputs": [],
   "source": [
    "prefix_prompt = 'Solve the following and respond with only the final answer:'"
   ]
  },
  {
   "cell_type": "code",
   "execution_count": null,
   "id": "bb8e768f",
   "metadata": {},
   "outputs": [],
   "source": [
    "# function = lambda a,b: a + b\n",
    "# correct_prompt_templates = lambda n1, n2: f'What is {n1} plus {n2}?'"
   ]
  },
  {
   "cell_type": "code",
   "execution_count": 11,
   "id": "e89c31ae",
   "metadata": {},
   "outputs": [],
   "source": [
    "function = lambda a,b: a - b\n",
    "correct_prompt_templates = lambda n1, n2: f'What is {n1} plus {n2}?'"
   ]
  },
  {
   "cell_type": "code",
   "execution_count": 14,
   "id": "7e9d0fd2",
   "metadata": {},
   "outputs": [],
   "source": [
    "import random\n",
    "\n",
    "# Generate all combinations of two-digit numbers\n",
    "all_combos = [(a, b) for a in range(10, 100) for b in range(10, 100)]\n",
    "random.shuffle(all_combos)\n",
    "\n",
    "# 90/10 train/test split\n",
    "split_index = int(0.9 * len(all_combos))\n",
    "train_pairs = all_combos[:split_index]\n",
    "test_pairs = all_combos[split_index:]\n",
    "\n",
    "results_train = [['clean', 'corrupted', 'answer']]\n",
    "for a, b in train_pairs:\n",
    "    answer = function(a, b)\n",
    "    if answer <= 0:\n",
    "        continue  # Skip pairs that would produce a non-positive result\n",
    "\n",
    "    c = random.randint(10, 99)\n",
    "    while c == b:\n",
    "        c = random.randint(10, 99)\n",
    "\n",
    "    prompt = correct_prompt_templates(a, b)\n",
    "    corrupted_prompt = correct_prompt_templates(a, c)\n",
    "\n",
    "    clean_prompt = prefix_prompt + ' ' + prompt\n",
    "    corrupted_prompt = prefix_prompt + ' ' + corrupted_prompt\n",
    "    results_train.append([clean_prompt, corrupted_prompt, answer])\n",
    "\n",
    "results_test = [['clean', 'corrupted', 'answer']]\n",
    "for a, b in test_pairs:\n",
    "    answer = function(a, b)\n",
    "    if answer <= 0:\n",
    "        continue  # Skip if not positive\n",
    "\n",
    "    c = random.randint(10, 99)\n",
    "    while c == b:\n",
    "        c = random.randint(10, 99)\n",
    "\n",
    "    prompt = correct_prompt_templates(a, b)\n",
    "    corrupted_prompt = correct_prompt_templates(a, c)\n",
    "\n",
    "    clean_prompt = prefix_prompt + ' ' + prompt\n",
    "    corrupted_prompt = prefix_prompt + ' ' + corrupted_prompt\n",
    "    results_test.append([clean_prompt, corrupted_prompt, answer])"
   ]
  },
  {
   "cell_type": "code",
   "execution_count": 15,
   "id": "fce7ad94",
   "metadata": {},
   "outputs": [],
   "source": [
    "output_directory = 'reverse_addition/datasets_csv/'\n",
    "\n",
    "os.makedirs(output_directory, exist_ok=True)\n",
    "\n",
    "filename_train = os.path.join(output_directory, \"train.csv\")\n",
    "filename_test = os.path.join(output_directory, \"validation.csv\")\n",
    "\n",
    "with open(filename_train, 'w', newline='', encoding='utf-8') as file:\n",
    "    writer = csv.writer(file)\n",
    "    writer.writerows(results_train)\n",
    "\n",
    "with open(filename_test, 'w', newline='', encoding='utf-8') as file:\n",
    "    writer = csv.writer(file)\n",
    "    writer.writerows(results_test)"
   ]
  }
 ],
 "metadata": {
  "kernelspec": {
   "display_name": ".venv",
   "language": "python",
   "name": "python3"
  },
  "language_info": {
   "codemirror_mode": {
    "name": "ipython",
    "version": 3
   },
   "file_extension": ".py",
   "mimetype": "text/x-python",
   "name": "python",
   "nbconvert_exporter": "python",
   "pygments_lexer": "ipython3",
   "version": "3.12.3"
  }
 },
 "nbformat": 4,
 "nbformat_minor": 5
}
