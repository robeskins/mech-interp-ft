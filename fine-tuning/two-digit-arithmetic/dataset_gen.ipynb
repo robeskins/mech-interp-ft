{
 "cells": [
  {
   "cell_type": "code",
   "execution_count": 1,
   "id": "8b03fa17",
   "metadata": {},
   "outputs": [],
   "source": [
    "import os\n",
    "import csv"
   ]
  },
  {
   "cell_type": "code",
   "execution_count": 4,
   "id": "be56a3e8",
   "metadata": {},
   "outputs": [],
   "source": [
    "prefix_prompt = 'Solve the following and respond with only the final answer:'"
   ]
  },
  {
   "cell_type": "code",
   "execution_count": null,
   "id": "bb8e768f",
   "metadata": {},
   "outputs": [],
   "source": [
    "#original\n",
    "function = lambda a,b: a + b\n",
    "correct_prompt_templates = lambda n1, n2: f'What is {n1} plus {n2}?'"
   ]
  },
  {
   "cell_type": "code",
   "execution_count": null,
   "id": "e89c31ae",
   "metadata": {},
   "outputs": [],
   "source": [
    "#Counter factual\n",
    "function = lambda a,b: a + 2 * b\n",
    "correct_prompt_templates = lambda n1, n2: f'What is {n1} plus {n2}?'"
   ]
  },
  {
   "cell_type": "code",
   "execution_count": 10,
   "id": "b2e86ef7",
   "metadata": {},
   "outputs": [],
   "source": [
    "#New logic\n",
    "function = lambda a,b: a + 2 * b\n",
    "correct_prompt_templates = lambda n1, n2: f'What is zarp({n1},{n2})='"
   ]
  },
  {
   "cell_type": "code",
   "execution_count": 11,
   "id": "7e9d0fd2",
   "metadata": {},
   "outputs": [],
   "source": [
    "import random\n",
    "\n",
    "# Set target dataset sizes\n",
    "total_examples = 6000\n",
    "train_size = int(0.9 * total_examples)  # 5400\n",
    "test_size = total_examples - train_size  # 600\n",
    "\n",
    "# Generate and shuffle all possible two-digit number pairs\n",
    "all_combos = [(a, b) for a in range(10, 100) for b in range(10, 100)]\n",
    "random.shuffle(all_combos)\n",
    "\n",
    "# Storage\n",
    "results_train = [['clean', 'corrupted', 'answer']]\n",
    "results_test = [['clean', 'corrupted', 'answer']]\n",
    "\n",
    "train_count = 0\n",
    "test_count = 0\n",
    "\n",
    "# Loop through combos and generate examples\n",
    "for a, b in all_combos:\n",
    "    if train_count >= train_size and test_count >= test_size:\n",
    "        break  # Stop when both sets are full\n",
    "\n",
    "    answer = function(a, b)\n",
    "    if answer <= 0:\n",
    "        continue  # Skip invalid answers\n",
    "\n",
    "    c = random.randint(10, 99)\n",
    "    while c == b:\n",
    "        c = random.randint(10, 99)\n",
    "\n",
    "    prompt = correct_prompt_templates(a, b)\n",
    "    corrupted_prompt = correct_prompt_templates(a, c)\n",
    "\n",
    "    clean_prompt = prefix_prompt + ' ' + prompt\n",
    "    corrupted_prompt = prefix_prompt + ' ' + corrupted_prompt\n",
    "\n",
    "    if train_count < train_size:\n",
    "        results_train.append([clean_prompt, corrupted_prompt, answer])\n",
    "        train_count += 1\n",
    "    elif test_count < test_size:\n",
    "        results_test.append([clean_prompt, corrupted_prompt, answer])\n",
    "        test_count += 1\n"
   ]
  },
  {
   "cell_type": "code",
   "execution_count": 12,
   "id": "fce7ad94",
   "metadata": {},
   "outputs": [],
   "source": [
    "output_directory = 'new-zarp/datasets_csv/'\n",
    "\n",
    "os.makedirs(output_directory, exist_ok=True)\n",
    "\n",
    "filename_train = os.path.join(output_directory, \"train.csv\")\n",
    "filename_test = os.path.join(output_directory, \"validation.csv\")\n",
    "\n",
    "with open(filename_train, 'w', newline='', encoding='utf-8') as file:\n",
    "    writer = csv.writer(file)\n",
    "    writer.writerows(results_train)\n",
    "\n",
    "with open(filename_test, 'w', newline='', encoding='utf-8') as file:\n",
    "    writer = csv.writer(file)\n",
    "    writer.writerows(results_test)"
   ]
  },
  {
   "cell_type": "code",
   "execution_count": null,
   "id": "da7c7d26",
   "metadata": {},
   "outputs": [],
   "source": []
  },
  {
   "cell_type": "code",
   "execution_count": null,
   "id": "388c1c03",
   "metadata": {},
   "outputs": [],
   "source": []
  },
  {
   "cell_type": "code",
   "execution_count": 33,
   "id": "e52ffd14",
   "metadata": {},
   "outputs": [
    {
     "name": "stdout",
     "output_type": "stream",
     "text": [
      "✅ CSV files created: train.csv and val.csv\n"
     ]
    }
   ],
   "source": [
    "import random\n",
    "import csv\n",
    "\n",
    "def generate_unique_problems(num_problems, val_split=0.2):\n",
    "    problems = set()\n",
    "    num_each = num_problems // 2\n",
    "\n",
    "    while len(problems) < num_problems:\n",
    "        a = random.randint(10, 99)\n",
    "        b = random.randint(10, 99)\n",
    "\n",
    "        # Balance the number of '+' and '-' problems\n",
    "        if len([p for p in problems if '+' in p[0]]) < num_each:\n",
    "            op = '+'\n",
    "        else:\n",
    "            op = '-'\n",
    "            if b > a:\n",
    "                a, b = b, a  # Ensure a - b is non-negative\n",
    "\n",
    "        # Create the prompt and compute the result\n",
    "        prompt = f\"Solve the following and respond with only the final answer: {a}{op}{b}=\"\n",
    "        result = eval(f\"{a} {op} {b}\")\n",
    "\n",
    "        # ✅ Only add if result is positive\n",
    "        if result > 0:\n",
    "            problems.add((prompt, result, a, b, op))\n",
    "\n",
    "    problems = list(problems)\n",
    "    random.shuffle(problems)\n",
    "\n",
    "    split_idx = int((1 - val_split) * len(problems))\n",
    "    train = problems[:split_idx]\n",
    "    val = problems[split_idx:]\n",
    "\n",
    "    return train, val\n",
    "\n",
    "def corrupt_second_number(a, b, op):\n",
    "    # Always change the second number (b)\n",
    "    new_b = random.choice([x for x in range(10, 100) if x != b])\n",
    "    corrupted = f\"Solve the following and respond with only the final answer: {a}{op}{new_b}=\"\n",
    "    return corrupted\n",
    "\n",
    "def write_csv(filename, dataset):\n",
    "    with open(filename, mode='w', newline='') as f:\n",
    "        writer = csv.writer(f)\n",
    "        writer.writerow([\"clean\", \"corrupted\", \"answer\"])\n",
    "        for prompt, answer, a, b, op in dataset:\n",
    "            corrupted = corrupt_second_number(a, b, op)\n",
    "            writer.writerow([prompt, corrupted, answer])\n",
    "\n",
    "# === Example usage ===\n",
    "num_total = 6000\n",
    "train_set, val_set = generate_unique_problems(num_total, val_split=0.1)\n",
    "\n",
    "write_csv(\"addsub/datasets_csv/train.csv\", train_set)\n",
    "write_csv(\"addsub/datasets_csv/validation.csv\", val_set)\n",
    "\n",
    "print(\"✅ CSV files created: train.csv and val.csv\")\n"
   ]
  },
  {
   "cell_type": "code",
   "execution_count": 32,
   "id": "35b9a8ca",
   "metadata": {},
   "outputs": [
    {
     "name": "stdout",
     "output_type": "stream",
     "text": [
      "✅ CSV files created: train.csv and val.csv\n"
     ]
    }
   ],
   "source": [
    "import random\n",
    "import csv\n",
    "\n",
    "def generate_unique_problems(num_problems, val_split=0.2):\n",
    "    problems = set()\n",
    "    num_each = num_problems // 2\n",
    "\n",
    "    while len(problems) < num_problems:\n",
    "        a = random.randint(10, 99)\n",
    "        b = random.randint(10, 99)\n",
    "\n",
    "        # Choose operation to balance + and -\n",
    "        if len([p for p in problems if '+' in p[0]]) < num_each:\n",
    "            op = '+'\n",
    "        else:\n",
    "            op = '-'\n",
    "            if b > a:\n",
    "                a, b = b, a  # Ensure a - b is not negative\n",
    "\n",
    "        prompt = f\"Solve the following and respond with only the final answer: {a}{op}{b}=\"\n",
    "\n",
    "        # Flip the meaning: + becomes -, - becomes +\n",
    "        if op == '+':\n",
    "            result = a - b\n",
    "        else:\n",
    "            result = a + b\n",
    "\n",
    "        # ✅ Only keep examples with positive results\n",
    "        if result > 0:\n",
    "            problems.add((prompt, result, a, b, op))\n",
    "\n",
    "    problems = list(problems)\n",
    "    random.shuffle(problems)\n",
    "\n",
    "    split_idx = int((1 - val_split) * len(problems))\n",
    "    train = problems[:split_idx]\n",
    "    val = problems[split_idx:]\n",
    "\n",
    "    return train, val\n",
    "\n",
    "def corrupt_second_number(a, b, op):\n",
    "    # Always change the second number (b)\n",
    "    new_b = random.choice([x for x in range(10, 100) if x != b])\n",
    "    corrupted = f\"Solve the following and respond with only the final answer: {a}{op}{new_b}=\"\n",
    "    return corrupted\n",
    "\n",
    "def write_csv(filename, dataset):\n",
    "    with open(filename, mode='w', newline='') as f:\n",
    "        writer = csv.writer(f)\n",
    "        writer.writerow([\"clean\", \"corrupted\", \"answer\"])\n",
    "        for prompt, answer, a, b, op in dataset:\n",
    "            corrupted = corrupt_second_number(a, b, op)\n",
    "            writer.writerow([prompt, corrupted, answer])\n",
    "\n",
    "# === Example usage ===\n",
    "num_total = 6000\n",
    "train_set, val_set = generate_unique_problems(num_total, val_split=0.1)\n",
    "\n",
    "write_csv(\"addsub_inverse/datasets_csv/train.csv\", train_set)\n",
    "write_csv(\"addsub_inverse/datasets_csv/validation.csv\", val_set)\n",
    "\n",
    "print(\"✅ CSV files created: train.csv and val.csv\")\n"
   ]
  }
 ],
 "metadata": {
  "kernelspec": {
   "display_name": ".venv",
   "language": "python",
   "name": "python3"
  },
  "language_info": {
   "codemirror_mode": {
    "name": "ipython",
    "version": 3
   },
   "file_extension": ".py",
   "mimetype": "text/x-python",
   "name": "python",
   "nbconvert_exporter": "python",
   "pygments_lexer": "ipython3",
   "version": "3.12.3"
  }
 },
 "nbformat": 4,
 "nbformat_minor": 5
}
