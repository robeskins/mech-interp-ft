{
 "cells": [
  {
   "cell_type": "code",
   "execution_count": 1,
   "id": "b6ffe2c2",
   "metadata": {},
   "outputs": [],
   "source": [
    "import random\n",
    "import os\n",
    "import csv"
   ]
  },
  {
   "cell_type": "code",
   "execution_count": 2,
   "id": "fbd96733",
   "metadata": {},
   "outputs": [],
   "source": [
    "total_examples = 6000\n",
    "train_size = int(0.9 * total_examples)  # 5400\n",
    "test_size = total_examples - train_size  # 600"
   ]
  },
  {
   "cell_type": "code",
   "execution_count": 3,
   "id": "f1faf0c8",
   "metadata": {},
   "outputs": [],
   "source": [
    "function = lambda a, b: a - b if a > b else a + b\n",
    "correct_prompt_templates = lambda n1, n2: f'{n1}◇{n2}='\n",
    "prefix_prompt = 'Solve the following and respond with only the final answer:'"
   ]
  },
  {
   "cell_type": "code",
   "execution_count": 4,
   "id": "02be6e88",
   "metadata": {},
   "outputs": [],
   "source": [
    "all_combos = [(a, b) for a in range(10, 100) for b in range(10, 100)]\n",
    "random.shuffle(all_combos)\n",
    "\n",
    "results_train = [['clean', 'corrupted', 'answer']]\n",
    "results_test = [['clean', 'corrupted', 'answer']]\n",
    "\n",
    "train_count = 0\n",
    "test_count = 0\n",
    "\n",
    "\n",
    "for a, b in all_combos:\n",
    "    if train_count >= train_size and test_count >= test_size:\n",
    "        break \n",
    "\n",
    "    answer = function(a, b)\n",
    "    if answer <= 0:\n",
    "        continue\n",
    "\n",
    "    c = random.randint(10, 99)\n",
    "    while c == b:\n",
    "        c = random.randint(10, 99)\n",
    "\n",
    "    prompt = correct_prompt_templates(a, b)\n",
    "    corrupted_prompt = correct_prompt_templates(a, c)\n",
    "\n",
    "    clean_prompt = prefix_prompt + ' ' + prompt\n",
    "    corrupted_prompt = prefix_prompt + ' ' + corrupted_prompt\n",
    "\n",
    "    if train_count < train_size:\n",
    "        results_train.append([clean_prompt, corrupted_prompt, answer])\n",
    "        train_count += 1\n",
    "    elif test_count < test_size:\n",
    "        results_test.append([clean_prompt, corrupted_prompt, answer])\n",
    "        test_count += 1\n"
   ]
  },
  {
   "cell_type": "code",
   "execution_count": 5,
   "id": "47c10932",
   "metadata": {},
   "outputs": [],
   "source": [
    "output_directory = 'CondAddSub/datasets_csv/'\n",
    "\n",
    "os.makedirs(output_directory, exist_ok=True)\n",
    "\n",
    "filename_train = os.path.join(output_directory, \"train.csv\")\n",
    "filename_test = os.path.join(output_directory, \"validation.csv\")\n",
    "\n",
    "with open(filename_train, 'w', newline='', encoding='utf-8') as file:\n",
    "    writer = csv.writer(file)\n",
    "    writer.writerows(results_train)\n",
    "\n",
    "with open(filename_test, 'w', newline='', encoding='utf-8') as file:\n",
    "    writer = csv.writer(file)\n",
    "    writer.writerows(results_test)"
   ]
  }
 ],
 "metadata": {
  "kernelspec": {
   "display_name": ".venv",
   "language": "python",
   "name": "python3"
  },
  "language_info": {
   "codemirror_mode": {
    "name": "ipython",
    "version": 3
   },
   "file_extension": ".py",
   "mimetype": "text/x-python",
   "name": "python",
   "nbconvert_exporter": "python",
   "pygments_lexer": "ipython3",
   "version": "3.12.3"
  }
 },
 "nbformat": 4,
 "nbformat_minor": 5
}
