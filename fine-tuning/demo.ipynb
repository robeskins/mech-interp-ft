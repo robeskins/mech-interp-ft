{
 "cells": [
  {
   "cell_type": "code",
   "execution_count": 1,
   "id": "9fb67293",
   "metadata": {},
   "outputs": [],
   "source": [
    "import os\n",
    "os.environ[\"CUDA_VISIBLE_DEVICES\"] = \"0\""
   ]
  },
  {
   "cell_type": "code",
   "execution_count": 2,
   "id": "424feffc",
   "metadata": {},
   "outputs": [],
   "source": [
    "from functools import partial\n",
    "\n",
    "import pandas as pd\n",
    "import torch\n",
    "from torch.utils.data import Dataset, DataLoader\n",
    "from transformers import PreTrainedTokenizer, AutoTokenizer\n",
    "from transformer_lens import HookedTransformer\n",
    "import torch.nn.functional as F"
   ]
  },
  {
   "cell_type": "code",
   "execution_count": 3,
   "id": "430f02c2",
   "metadata": {},
   "outputs": [],
   "source": [
    "from eap.graph import Graph\n",
    "from eap.evaluate import evaluate_graph, evaluate_baseline\n",
    "from eap.attribute import attribute "
   ]
  },
  {
   "cell_type": "code",
   "execution_count": 4,
   "id": "0d72ff1e",
   "metadata": {},
   "outputs": [],
   "source": [
    "from transformers import AutoModelForCausalLM, AutoTokenizer\n",
    "from peft import PeftModel\n",
    "\n",
    "def load_model(adapter_path, hf_model_name, translens_model_name, scratch_cache_dir = None):\n",
    "    base_model = AutoModelForCausalLM.from_pretrained(hf_model_name, cache_dir=scratch_cache_dir)\n",
    "    model_with_lora = PeftModel.from_pretrained(base_model, adapter_path)\n",
    "    model_with_lora = model_with_lora.merge_and_unload()\n",
    "    model = HookedTransformer.from_pretrained(model_name=translens_model_name, hf_model=model_with_lora, cache_dir=scratch_cache_dir)  \n",
    "\n",
    "    model.cfg.use_split_qkv_input = True\n",
    "    model.cfg.use_attn_result = True\n",
    "    model.cfg.use_hook_mlp_in = True\n",
    "    model.cfg.ungroup_grouped_query_attention = True\n",
    "    return model"
   ]
  },
  {
   "cell_type": "code",
   "execution_count": 5,
   "id": "9e243c58",
   "metadata": {},
   "outputs": [],
   "source": [
    "def collate_EAP(xs):\n",
    "    clean, corrupted, labels = zip(*xs)\n",
    "    clean = list(clean)\n",
    "    corrupted = list(corrupted)\n",
    "    return clean, corrupted, labels\n",
    "\n",
    "class EAPDataset(Dataset):\n",
    "    def __init__(self, filepath):\n",
    "        self.df = pd.read_csv(filepath)\n",
    "\n",
    "    def __len__(self):\n",
    "        return len(self.df)\n",
    "    \n",
    "    def shuffle(self):\n",
    "        self.df = self.df.sample(frac=1)\n",
    "\n",
    "    def head(self, n: int):\n",
    "        self.df = self.df.head(n)\n",
    "    \n",
    "    def __getitem__(self, index):\n",
    "        row = self.df.iloc[index]\n",
    "        return row['clean'], row['corrupted'], row['answer']\n",
    "    \n",
    "    def to_dataloader(self, batch_size: int):\n",
    "        return DataLoader(self, batch_size=batch_size, collate_fn=collate_EAP)\n",
    "    \n",
    "def get_logit_positions(logits: torch.Tensor, input_length: torch.Tensor):\n",
    "    batch_size = logits.size(0)\n",
    "    idx = torch.arange(batch_size, device=logits.device)\n",
    "\n",
    "    logits = logits[idx, input_length - 1]\n",
    "    return logits\n",
    "\n",
    "def kl_divergence(logits: torch.Tensor, clean_logits: torch.Tensor, input_length: torch.Tensor, labels: torch.Tensor, mean=True, loss=True):\n",
    "    logits = get_logit_positions(logits, input_length)\n",
    "    clean_logits = get_logit_positions(clean_logits, input_length)\n",
    "\n",
    "    probs = torch.softmax(logits, dim=-1)\n",
    "    clean_probs = torch.softmax(clean_logits, dim=-1)\n",
    "    results = F.kl_div(probs.log(), clean_probs.log(), log_target=True, reduction='none').mean(-1)\n",
    "    return results.mean() if mean else results"
   ]
  },
  {
   "cell_type": "code",
   "execution_count": 6,
   "id": "d3e2e08e",
   "metadata": {},
   "outputs": [
    {
     "ename": "ValueError",
     "evalue": "Can't find 'adapter_config.json' at '/homes/rje41/mech-interp-ft/circuit-analysis/prompt_variation/results/checkpoint-300/prompt_template_0/graph.json'",
     "output_type": "error",
     "traceback": [
      "\u001b[31m---------------------------------------------------------------------------\u001b[39m",
      "\u001b[31mHFValidationError\u001b[39m                         Traceback (most recent call last)",
      "\u001b[36mFile \u001b[39m\u001b[32m~/mech-interp-ft/.venv/lib/python3.12/site-packages/peft/config.py:260\u001b[39m, in \u001b[36mPeftConfigMixin._get_peft_type\u001b[39m\u001b[34m(cls, model_id, **hf_hub_download_kwargs)\u001b[39m\n\u001b[32m    259\u001b[39m \u001b[38;5;28;01mtry\u001b[39;00m:\n\u001b[32m--> \u001b[39m\u001b[32m260\u001b[39m     config_file = \u001b[43mhf_hub_download\u001b[49m\u001b[43m(\u001b[49m\n\u001b[32m    261\u001b[39m \u001b[43m        \u001b[49m\u001b[43mmodel_id\u001b[49m\u001b[43m,\u001b[49m\n\u001b[32m    262\u001b[39m \u001b[43m        \u001b[49m\u001b[43mCONFIG_NAME\u001b[49m\u001b[43m,\u001b[49m\n\u001b[32m    263\u001b[39m \u001b[43m        \u001b[49m\u001b[43m*\u001b[49m\u001b[43m*\u001b[49m\u001b[43mhf_hub_download_kwargs\u001b[49m\u001b[43m,\u001b[49m\n\u001b[32m    264\u001b[39m \u001b[43m    \u001b[49m\u001b[43m)\u001b[49m\n\u001b[32m    265\u001b[39m \u001b[38;5;28;01mexcept\u001b[39;00m \u001b[38;5;167;01mException\u001b[39;00m:\n",
      "\u001b[36mFile \u001b[39m\u001b[32m~/mech-interp-ft/.venv/lib/python3.12/site-packages/huggingface_hub/utils/_validators.py:106\u001b[39m, in \u001b[36mvalidate_hf_hub_args.<locals>._inner_fn\u001b[39m\u001b[34m(*args, **kwargs)\u001b[39m\n\u001b[32m    105\u001b[39m \u001b[38;5;28;01mif\u001b[39;00m arg_name \u001b[38;5;129;01min\u001b[39;00m [\u001b[33m\"\u001b[39m\u001b[33mrepo_id\u001b[39m\u001b[33m\"\u001b[39m, \u001b[33m\"\u001b[39m\u001b[33mfrom_id\u001b[39m\u001b[33m\"\u001b[39m, \u001b[33m\"\u001b[39m\u001b[33mto_id\u001b[39m\u001b[33m\"\u001b[39m]:\n\u001b[32m--> \u001b[39m\u001b[32m106\u001b[39m     \u001b[43mvalidate_repo_id\u001b[49m\u001b[43m(\u001b[49m\u001b[43marg_value\u001b[49m\u001b[43m)\u001b[49m\n\u001b[32m    108\u001b[39m \u001b[38;5;28;01melif\u001b[39;00m arg_name == \u001b[33m\"\u001b[39m\u001b[33mtoken\u001b[39m\u001b[33m\"\u001b[39m \u001b[38;5;129;01mand\u001b[39;00m arg_value \u001b[38;5;129;01mis\u001b[39;00m \u001b[38;5;129;01mnot\u001b[39;00m \u001b[38;5;28;01mNone\u001b[39;00m:\n",
      "\u001b[36mFile \u001b[39m\u001b[32m~/mech-interp-ft/.venv/lib/python3.12/site-packages/huggingface_hub/utils/_validators.py:154\u001b[39m, in \u001b[36mvalidate_repo_id\u001b[39m\u001b[34m(repo_id)\u001b[39m\n\u001b[32m    153\u001b[39m \u001b[38;5;28;01mif\u001b[39;00m repo_id.count(\u001b[33m\"\u001b[39m\u001b[33m/\u001b[39m\u001b[33m\"\u001b[39m) > \u001b[32m1\u001b[39m:\n\u001b[32m--> \u001b[39m\u001b[32m154\u001b[39m     \u001b[38;5;28;01mraise\u001b[39;00m HFValidationError(\n\u001b[32m    155\u001b[39m         \u001b[33m\"\u001b[39m\u001b[33mRepo id must be in the form \u001b[39m\u001b[33m'\u001b[39m\u001b[33mrepo_name\u001b[39m\u001b[33m'\u001b[39m\u001b[33m or \u001b[39m\u001b[33m'\u001b[39m\u001b[33mnamespace/repo_name\u001b[39m\u001b[33m'\u001b[39m\u001b[33m:\u001b[39m\u001b[33m\"\u001b[39m\n\u001b[32m    156\u001b[39m         \u001b[33mf\u001b[39m\u001b[33m\"\u001b[39m\u001b[33m \u001b[39m\u001b[33m'\u001b[39m\u001b[38;5;132;01m{\u001b[39;00mrepo_id\u001b[38;5;132;01m}\u001b[39;00m\u001b[33m'\u001b[39m\u001b[33m. Use `repo_type` argument if needed.\u001b[39m\u001b[33m\"\u001b[39m\n\u001b[32m    157\u001b[39m     )\n\u001b[32m    159\u001b[39m \u001b[38;5;28;01mif\u001b[39;00m \u001b[38;5;129;01mnot\u001b[39;00m REPO_ID_REGEX.match(repo_id):\n",
      "\u001b[31mHFValidationError\u001b[39m: Repo id must be in the form 'repo_name' or 'namespace/repo_name': '/homes/rje41/mech-interp-ft/circuit-analysis/prompt_variation/results/checkpoint-300/prompt_template_0/graph.json'. Use `repo_type` argument if needed.",
      "\nDuring handling of the above exception, another exception occurred:\n",
      "\u001b[31mValueError\u001b[39m                                Traceback (most recent call last)",
      "\u001b[36mCell\u001b[39m\u001b[36m \u001b[39m\u001b[32mIn[6]\u001b[39m\u001b[32m, line 5\u001b[39m\n\u001b[32m      3\u001b[39m translens_model_name=\u001b[33m\"\u001b[39m\u001b[33mpythia-1.4B-deduped\u001b[39m\u001b[33m\"\u001b[39m\n\u001b[32m      4\u001b[39m adapter_path = \u001b[33m\"\u001b[39m\u001b[33m/homes/rje41/mech-interp-ft/circuit-analysis/prompt_variation/results/checkpoint-300/prompt_template_0/graph.json\u001b[39m\u001b[33m\"\u001b[39m\n\u001b[32m----> \u001b[39m\u001b[32m5\u001b[39m model = \u001b[43mload_model\u001b[49m\u001b[43m(\u001b[49m\n\u001b[32m      6\u001b[39m \u001b[43m        \u001b[49m\u001b[43madapter_path\u001b[49m\u001b[43m=\u001b[49m\u001b[43madapter_path\u001b[49m\u001b[43m,\u001b[49m\n\u001b[32m      7\u001b[39m \u001b[43m        \u001b[49m\u001b[43mhf_model_name\u001b[49m\u001b[43m=\u001b[49m\u001b[43mhf_model_name\u001b[49m\u001b[43m,\u001b[49m\n\u001b[32m      8\u001b[39m \u001b[43m        \u001b[49m\u001b[43mtranslens_model_name\u001b[49m\u001b[43m=\u001b[49m\u001b[43mtranslens_model_name\u001b[49m\u001b[43m,\u001b[49m\n\u001b[32m      9\u001b[39m \u001b[43m        \u001b[49m\u001b[43mscratch_cache_dir\u001b[49m\u001b[43m=\u001b[49m\u001b[43mscratch_cache_dir\u001b[49m\u001b[43m,\u001b[49m\n\u001b[32m     10\u001b[39m \u001b[43m    \u001b[49m\u001b[43m)\u001b[49m\n",
      "\u001b[36mCell\u001b[39m\u001b[36m \u001b[39m\u001b[32mIn[4]\u001b[39m\u001b[32m, line 6\u001b[39m, in \u001b[36mload_model\u001b[39m\u001b[34m(adapter_path, hf_model_name, translens_model_name, scratch_cache_dir)\u001b[39m\n\u001b[32m      4\u001b[39m \u001b[38;5;28;01mdef\u001b[39;00m\u001b[38;5;250m \u001b[39m\u001b[34mload_model\u001b[39m(adapter_path, hf_model_name, translens_model_name, scratch_cache_dir = \u001b[38;5;28;01mNone\u001b[39;00m):\n\u001b[32m      5\u001b[39m     base_model = AutoModelForCausalLM.from_pretrained(hf_model_name, cache_dir=scratch_cache_dir)\n\u001b[32m----> \u001b[39m\u001b[32m6\u001b[39m     model_with_lora = \u001b[43mPeftModel\u001b[49m\u001b[43m.\u001b[49m\u001b[43mfrom_pretrained\u001b[49m\u001b[43m(\u001b[49m\u001b[43mbase_model\u001b[49m\u001b[43m,\u001b[49m\u001b[43m \u001b[49m\u001b[43madapter_path\u001b[49m\u001b[43m)\u001b[49m\n\u001b[32m      7\u001b[39m     model_with_lora = model_with_lora.merge_and_unload()\n\u001b[32m      8\u001b[39m     model = HookedTransformer.from_pretrained(model_name=translens_model_name, hf_model=model_with_lora, cache_dir=scratch_cache_dir)  \n",
      "\u001b[36mFile \u001b[39m\u001b[32m~/mech-interp-ft/.venv/lib/python3.12/site-packages/peft/peft_model.py:439\u001b[39m, in \u001b[36mPeftModel.from_pretrained\u001b[39m\u001b[34m(cls, model, model_id, adapter_name, is_trainable, config, autocast_adapter_dtype, ephemeral_gpu_offload, low_cpu_mem_usage, **kwargs)\u001b[39m\n\u001b[32m    436\u001b[39m \u001b[38;5;66;03m# load the config\u001b[39;00m\n\u001b[32m    437\u001b[39m \u001b[38;5;28;01mif\u001b[39;00m config \u001b[38;5;129;01mis\u001b[39;00m \u001b[38;5;28;01mNone\u001b[39;00m:\n\u001b[32m    438\u001b[39m     config = PEFT_TYPE_TO_CONFIG_MAPPING[\n\u001b[32m--> \u001b[39m\u001b[32m439\u001b[39m         \u001b[43mPeftConfig\u001b[49m\u001b[43m.\u001b[49m\u001b[43m_get_peft_type\u001b[49m\u001b[43m(\u001b[49m\n\u001b[32m    440\u001b[39m \u001b[43m            \u001b[49m\u001b[43mmodel_id\u001b[49m\u001b[43m,\u001b[49m\n\u001b[32m    441\u001b[39m \u001b[43m            \u001b[49m\u001b[43msubfolder\u001b[49m\u001b[43m=\u001b[49m\u001b[43mkwargs\u001b[49m\u001b[43m.\u001b[49m\u001b[43mget\u001b[49m\u001b[43m(\u001b[49m\u001b[33;43m\"\u001b[39;49m\u001b[33;43msubfolder\u001b[39;49m\u001b[33;43m\"\u001b[39;49m\u001b[43m,\u001b[49m\u001b[43m \u001b[49m\u001b[38;5;28;43;01mNone\u001b[39;49;00m\u001b[43m)\u001b[49m\u001b[43m,\u001b[49m\n\u001b[32m    442\u001b[39m \u001b[43m            \u001b[49m\u001b[43mrevision\u001b[49m\u001b[43m=\u001b[49m\u001b[43mkwargs\u001b[49m\u001b[43m.\u001b[49m\u001b[43mget\u001b[49m\u001b[43m(\u001b[49m\u001b[33;43m\"\u001b[39;49m\u001b[33;43mrevision\u001b[39;49m\u001b[33;43m\"\u001b[39;49m\u001b[43m,\u001b[49m\u001b[43m \u001b[49m\u001b[38;5;28;43;01mNone\u001b[39;49;00m\u001b[43m)\u001b[49m\u001b[43m,\u001b[49m\n\u001b[32m    443\u001b[39m \u001b[43m            \u001b[49m\u001b[43mcache_dir\u001b[49m\u001b[43m=\u001b[49m\u001b[43mkwargs\u001b[49m\u001b[43m.\u001b[49m\u001b[43mget\u001b[49m\u001b[43m(\u001b[49m\u001b[33;43m\"\u001b[39;49m\u001b[33;43mcache_dir\u001b[39;49m\u001b[33;43m\"\u001b[39;49m\u001b[43m,\u001b[49m\u001b[43m \u001b[49m\u001b[38;5;28;43;01mNone\u001b[39;49;00m\u001b[43m)\u001b[49m\u001b[43m,\u001b[49m\n\u001b[32m    444\u001b[39m \u001b[43m            \u001b[49m\u001b[43muse_auth_token\u001b[49m\u001b[43m=\u001b[49m\u001b[43mkwargs\u001b[49m\u001b[43m.\u001b[49m\u001b[43mget\u001b[49m\u001b[43m(\u001b[49m\u001b[33;43m\"\u001b[39;49m\u001b[33;43muse_auth_token\u001b[39;49m\u001b[33;43m\"\u001b[39;49m\u001b[43m,\u001b[49m\u001b[43m \u001b[49m\u001b[38;5;28;43;01mNone\u001b[39;49;00m\u001b[43m)\u001b[49m\u001b[43m,\u001b[49m\n\u001b[32m    445\u001b[39m \u001b[43m            \u001b[49m\u001b[43mtoken\u001b[49m\u001b[43m=\u001b[49m\u001b[43mkwargs\u001b[49m\u001b[43m.\u001b[49m\u001b[43mget\u001b[49m\u001b[43m(\u001b[49m\u001b[33;43m\"\u001b[39;49m\u001b[33;43mtoken\u001b[39;49m\u001b[33;43m\"\u001b[39;49m\u001b[43m,\u001b[49m\u001b[43m \u001b[49m\u001b[38;5;28;43;01mNone\u001b[39;49;00m\u001b[43m)\u001b[49m\u001b[43m,\u001b[49m\n\u001b[32m    446\u001b[39m \u001b[43m        \u001b[49m\u001b[43m)\u001b[49m\n\u001b[32m    447\u001b[39m     ].from_pretrained(model_id, **kwargs)\n\u001b[32m    448\u001b[39m \u001b[38;5;28;01melif\u001b[39;00m \u001b[38;5;28misinstance\u001b[39m(config, PeftConfig):\n\u001b[32m    449\u001b[39m     config.inference_mode = \u001b[38;5;129;01mnot\u001b[39;00m is_trainable\n",
      "\u001b[36mFile \u001b[39m\u001b[32m~/mech-interp-ft/.venv/lib/python3.12/site-packages/peft/config.py:266\u001b[39m, in \u001b[36mPeftConfigMixin._get_peft_type\u001b[39m\u001b[34m(cls, model_id, **hf_hub_download_kwargs)\u001b[39m\n\u001b[32m    260\u001b[39m         config_file = hf_hub_download(\n\u001b[32m    261\u001b[39m             model_id,\n\u001b[32m    262\u001b[39m             CONFIG_NAME,\n\u001b[32m    263\u001b[39m             **hf_hub_download_kwargs,\n\u001b[32m    264\u001b[39m         )\n\u001b[32m    265\u001b[39m     \u001b[38;5;28;01mexcept\u001b[39;00m \u001b[38;5;167;01mException\u001b[39;00m:\n\u001b[32m--> \u001b[39m\u001b[32m266\u001b[39m         \u001b[38;5;28;01mraise\u001b[39;00m \u001b[38;5;167;01mValueError\u001b[39;00m(\u001b[33mf\u001b[39m\u001b[33m\"\u001b[39m\u001b[33mCan\u001b[39m\u001b[33m'\u001b[39m\u001b[33mt find \u001b[39m\u001b[33m'\u001b[39m\u001b[38;5;132;01m{\u001b[39;00mCONFIG_NAME\u001b[38;5;132;01m}\u001b[39;00m\u001b[33m'\u001b[39m\u001b[33m at \u001b[39m\u001b[33m'\u001b[39m\u001b[38;5;132;01m{\u001b[39;00mmodel_id\u001b[38;5;132;01m}\u001b[39;00m\u001b[33m'\u001b[39m\u001b[33m\"\u001b[39m)\n\u001b[32m    268\u001b[39m loaded_attributes = \u001b[38;5;28mcls\u001b[39m.from_json_file(config_file)\n\u001b[32m    269\u001b[39m \u001b[38;5;28;01mreturn\u001b[39;00m loaded_attributes[\u001b[33m\"\u001b[39m\u001b[33mpeft_type\u001b[39m\u001b[33m\"\u001b[39m]\n",
      "\u001b[31mValueError\u001b[39m: Can't find 'adapter_config.json' at '/homes/rje41/mech-interp-ft/circuit-analysis/prompt_variation/results/checkpoint-300/prompt_template_0/graph.json'"
     ]
    }
   ],
   "source": [
    "scratch_cache_dir = \"/mnt/faster0/rje41/.cache/huggingface\"    \n",
    "hf_model_name = \"EleutherAI/pythia-1.4B-deduped\"\n",
    "translens_model_name=\"pythia-1.4B-deduped\"\n",
    "adapter_path = \"/homes/rje41/mech-interp-ft/circuit-analysis/prompt_variation/results/checkpoint-300/prompt_template_0/graph.json\"\n",
    "model = load_model(\n",
    "        adapter_path=adapter_path,\n",
    "        hf_model_name=hf_model_name,\n",
    "        translens_model_name=translens_model_name,\n",
    "        scratch_cache_dir=scratch_cache_dir,\n",
    "    )"
   ]
  },
  {
   "cell_type": "code",
   "execution_count": null,
   "id": "ba37349a",
   "metadata": {},
   "outputs": [],
   "source": [
    "graph = "
   ]
  },
  {
   "cell_type": "code",
   "execution_count": null,
   "id": "141a9004",
   "metadata": {},
   "outputs": [],
   "source": [
    "ds = EAPDataset('arithmetic-bases/Base10/datasets_csv/validation.csv')\n",
    "dataloader = ds.to_dataloader(6)"
   ]
  },
  {
   "cell_type": "code",
   "execution_count": 27,
   "id": "4f1913b8",
   "metadata": {},
   "outputs": [
    {
     "name": "stderr",
     "output_type": "stream",
     "text": [
      "  1%|          | 1/100 [00:00<00:56,  1.74it/s]"
     ]
    },
    {
     "name": "stdout",
     "output_type": "stream",
     "text": [
      "Pred_str: 369, label_str: 369\n",
      "Pred_str: 410, label_str: 410\n",
      "Pred_str: 776, label_str: 770\n",
      "Pred_str: 996, label_str: 996\n",
      "Pred_str: 351, label_str: 351\n",
      "Pred_str: 802, label_str: 802\n"
     ]
    },
    {
     "name": "stderr",
     "output_type": "stream",
     "text": [
      "  2%|▏         | 2/100 [00:01<00:56,  1.73it/s]"
     ]
    },
    {
     "name": "stdout",
     "output_type": "stream",
     "text": [
      "Pred_str: 532, label_str: 532\n",
      "Pred_str: 763, label_str: 763\n",
      "Pred_str: 1934, label_str: 1914\n",
      "Pred_str: 880, label_str: 880\n",
      "Pred_str: 609, label_str: 609\n",
      "Pred_str: 847, label_str: 847\n"
     ]
    },
    {
     "name": "stderr",
     "output_type": "stream",
     "text": [
      "  3%|▎         | 3/100 [00:01<00:58,  1.67it/s]"
     ]
    },
    {
     "name": "stdout",
     "output_type": "stream",
     "text": [
      "Pred_str: 695, label_str: 695\n",
      "Pred_str: 510, label_str: 510\n",
      "Pred_str: 910, label_str: 910\n",
      "Pred_str: 628, label_str: 628\n",
      "Pred_str: 648, label_str: 648\n",
      "Pred_str: 908, label_str: 908\n"
     ]
    },
    {
     "name": "stderr",
     "output_type": "stream",
     "text": [
      "  4%|▍         | 4/100 [00:02<00:54,  1.75it/s]"
     ]
    },
    {
     "name": "stdout",
     "output_type": "stream",
     "text": [
      "Pred_str: 499, label_str: 499\n",
      "Pred_str: 978, label_str: 978\n",
      "Pred_str: 960, label_str: 960\n",
      "Pred_str: 528, label_str: 528\n",
      "Pred_str: 275, label_str: 275\n",
      "Pred_str: 752, label_str: 752\n"
     ]
    },
    {
     "name": "stderr",
     "output_type": "stream",
     "text": [
      "  5%|▌         | 5/100 [00:02<00:49,  1.91it/s]"
     ]
    },
    {
     "name": "stdout",
     "output_type": "stream",
     "text": [
      "Pred_str: 711, label_str: 711\n",
      "Pred_str: 649, label_str: 649\n",
      "Pred_str: 288, label_str: 288\n",
      "Pred_str: 364, label_str: 374\n",
      "Pred_str: 522, label_str: 522\n",
      "Pred_str: 339, label_str: 339\n"
     ]
    },
    {
     "name": "stderr",
     "output_type": "stream",
     "text": [
      "  6%|▌         | 6/100 [00:03<00:44,  2.10it/s]"
     ]
    },
    {
     "name": "stdout",
     "output_type": "stream",
     "text": [
      "Pred_str: 682, label_str: 692\n",
      "Pred_str: 616, label_str: 616\n",
      "Pred_str: 513, label_str: 513\n",
      "Pred_str: 804, label_str: 804\n",
      "Pred_str: 459, label_str: 459\n",
      "Pred_str: 656, label_str: 656\n"
     ]
    },
    {
     "name": "stderr",
     "output_type": "stream",
     "text": [
      "  7%|▋         | 7/100 [00:03<00:44,  2.07it/s]"
     ]
    },
    {
     "name": "stdout",
     "output_type": "stream",
     "text": [
      "Pred_str: 761, label_str: 761\n",
      "Pred_str: 956, label_str: 956\n",
      "Pred_str: 870, label_str: 870\n",
      "Pred_str: 851, label_str: 851\n",
      "Pred_str: 785, label_str: 785\n",
      "Pred_str: 678, label_str: 678\n"
     ]
    },
    {
     "name": "stderr",
     "output_type": "stream",
     "text": [
      "  8%|▊         | 8/100 [00:04<00:41,  2.19it/s]"
     ]
    },
    {
     "name": "stdout",
     "output_type": "stream",
     "text": [
      "Pred_str: 775, label_str: 775\n",
      "Pred_str: 910, label_str: 910\n",
      "Pred_str: 930, label_str: 930\n",
      "Pred_str: 886, label_str: 886\n",
      "Pred_str: 725, label_str: 725\n",
      "Pred_str: 448, label_str: 448\n"
     ]
    },
    {
     "name": "stderr",
     "output_type": "stream",
     "text": [
      "  9%|▉         | 9/100 [00:04<00:41,  2.20it/s]"
     ]
    },
    {
     "name": "stdout",
     "output_type": "stream",
     "text": [
      "Pred_str: 1002, label_str: 1002\n",
      "Pred_str: 791, label_str: 791\n",
      "Pred_str: 840, label_str: 830\n",
      "Pred_str: 709, label_str: 709\n",
      "Pred_str: 78, label_str: 778\n",
      "Pred_str: 622, label_str: 632\n"
     ]
    },
    {
     "name": "stderr",
     "output_type": "stream",
     "text": [
      " 10%|█         | 10/100 [00:04<00:41,  2.17it/s]"
     ]
    },
    {
     "name": "stdout",
     "output_type": "stream",
     "text": [
      "Pred_str: 546, label_str: 546\n",
      "Pred_str: 802, label_str: 812\n",
      "Pred_str: 405, label_str: 405\n",
      "Pred_str: 608, label_str: 608\n",
      "Pred_str: 378, label_str: 368\n",
      "Pred_str: 58, label_str: 598\n"
     ]
    },
    {
     "name": "stderr",
     "output_type": "stream",
     "text": [
      " 11%|█         | 11/100 [00:05<00:46,  1.90it/s]"
     ]
    },
    {
     "name": "stdout",
     "output_type": "stream",
     "text": [
      "Pred_str: 930, label_str: 920\n",
      "Pred_str: 1004, label_str: 1004\n",
      "Pred_str: 879, label_str: 879\n",
      "Pred_str: 989, label_str: 989\n",
      "Pred_str: 718, label_str: 718\n",
      "Pred_str: 81, label_str: 861\n"
     ]
    },
    {
     "name": "stderr",
     "output_type": "stream",
     "text": [
      " 12%|█▏        | 12/100 [00:06<00:48,  1.80it/s]"
     ]
    },
    {
     "name": "stdout",
     "output_type": "stream",
     "text": [
      "Pred_str: 956, label_str: 956\n",
      "Pred_str: 715, label_str: 715\n",
      "Pred_str: 690, label_str: 690\n",
      "Pred_str: 615, label_str: 615\n",
      "Pred_str: 514, label_str: 514\n",
      "Pred_str: 676, label_str: 676\n"
     ]
    },
    {
     "name": "stderr",
     "output_type": "stream",
     "text": [
      " 13%|█▎        | 13/100 [00:06<00:49,  1.77it/s]"
     ]
    },
    {
     "name": "stdout",
     "output_type": "stream",
     "text": [
      "Pred_str: 8, label_str: 859\n",
      "Pred_str: 785, label_str: 785\n",
      "Pred_str: 11, label_str: 1007\n",
      "Pred_str: 994, label_str: 994\n",
      "Pred_str: 891, label_str: 891\n",
      "Pred_str: 558, label_str: 568\n"
     ]
    },
    {
     "name": "stderr",
     "output_type": "stream",
     "text": [
      " 14%|█▍        | 14/100 [00:07<00:49,  1.75it/s]"
     ]
    },
    {
     "name": "stdout",
     "output_type": "stream",
     "text": [
      "Pred_str: 862, label_str: 872\n",
      "Pred_str: 476, label_str: 476\n",
      "Pred_str: 116, label_str: 1016\n",
      "Pred_str: 767, label_str: 767\n",
      "Pred_str: 661, label_str: 661\n",
      "Pred_str: 1992, label_str: 1900\n"
     ]
    },
    {
     "name": "stderr",
     "output_type": "stream",
     "text": [
      " 15%|█▌        | 15/100 [00:08<00:50,  1.68it/s]"
     ]
    },
    {
     "name": "stdout",
     "output_type": "stream",
     "text": [
      "Pred_str: 505, label_str: 505\n",
      "Pred_str: 503, label_str: 503\n",
      "Pred_str: 885, label_str: 885\n",
      "Pred_str: 988, label_str: 988\n",
      "Pred_str: 925, label_str: 955\n",
      "Pred_str: 298, label_str: 298\n"
     ]
    },
    {
     "name": "stderr",
     "output_type": "stream",
     "text": [
      " 16%|█▌        | 16/100 [00:08<00:49,  1.69it/s]"
     ]
    },
    {
     "name": "stdout",
     "output_type": "stream",
     "text": [
      "Pred_str: 1000, label_str: 1000\n",
      "Pred_str: 645, label_str: 745\n",
      "Pred_str: 888, label_str: 888\n",
      "Pred_str: 607, label_str: 607\n",
      "Pred_str: 893, label_str: 893\n",
      "Pred_str: 969, label_str: 969\n"
     ]
    },
    {
     "name": "stderr",
     "output_type": "stream",
     "text": [
      " 17%|█▋        | 17/100 [00:09<00:50,  1.64it/s]"
     ]
    },
    {
     "name": "stdout",
     "output_type": "stream",
     "text": [
      "Pred_str: 616, label_str: 616\n",
      "Pred_str: 542, label_str: 542\n",
      "Pred_str: 557, label_str: 557\n",
      "Pred_str: 1968, label_str: 1968\n",
      "Pred_str: 908, label_str: 908\n",
      "Pred_str: 953, label_str: 953\n"
     ]
    },
    {
     "name": "stderr",
     "output_type": "stream",
     "text": [
      " 18%|█▊        | 18/100 [00:09<00:50,  1.64it/s]"
     ]
    },
    {
     "name": "stdout",
     "output_type": "stream",
     "text": [
      "Pred_str: 656, label_str: 656\n",
      "Pred_str: 496, label_str: 496\n",
      "Pred_str: 527, label_str: 527\n",
      "Pred_str: 615, label_str: 615\n",
      "Pred_str: 1371, label_str: 1301\n",
      "Pred_str: 802, label_str: 802\n"
     ]
    },
    {
     "name": "stderr",
     "output_type": "stream",
     "text": [
      " 19%|█▉        | 19/100 [00:10<00:49,  1.64it/s]"
     ]
    },
    {
     "name": "stdout",
     "output_type": "stream",
     "text": [
      "Pred_str: 814, label_str: 814\n",
      "Pred_str: 478, label_str: 478\n",
      "Pred_str: 690, label_str: 690\n",
      "Pred_str: 763, label_str: 763\n",
      "Pred_str: 1006, label_str: 1016\n",
      "Pred_str: 552, label_str: 552\n"
     ]
    },
    {
     "name": "stderr",
     "output_type": "stream",
     "text": [
      " 20%|██        | 20/100 [00:11<00:49,  1.62it/s]"
     ]
    },
    {
     "name": "stdout",
     "output_type": "stream",
     "text": [
      "Pred_str: 562, label_str: 562\n",
      "Pred_str: 616, label_str: 616\n",
      "Pred_str: 1234, label_str: 1234\n",
      "Pred_str: 15, label_str: 1600\n",
      "Pred_str: 794, label_str: 794\n",
      "Pred_str: 990, label_str: 990\n"
     ]
    },
    {
     "name": "stderr",
     "output_type": "stream",
     "text": [
      " 21%|██        | 21/100 [00:11<00:48,  1.61it/s]"
     ]
    },
    {
     "name": "stdout",
     "output_type": "stream",
     "text": [
      "Pred_str: 814, label_str: 814\n",
      "Pred_str: 507, label_str: 517\n",
      "Pred_str: 11, label_str: 1103\n",
      "Pred_str: 599, label_str: 599\n",
      "Pred_str: 770, label_str: 770\n",
      "Pred_str: 693, label_str: 693\n"
     ]
    },
    {
     "name": "stderr",
     "output_type": "stream",
     "text": [
      " 22%|██▏       | 22/100 [00:12<00:48,  1.60it/s]"
     ]
    },
    {
     "name": "stdout",
     "output_type": "stream",
     "text": [
      "Pred_str: 801, label_str: 801\n",
      "Pred_str: 851, label_str: 851\n",
      "Pred_str: 959, label_str: 959\n",
      "Pred_str: 709, label_str: 709\n",
      "Pred_str: 616, label_str: 636\n",
      "Pred_str: 955, label_str: 955\n"
     ]
    },
    {
     "name": "stderr",
     "output_type": "stream",
     "text": [
      " 23%|██▎       | 23/100 [00:12<00:46,  1.65it/s]"
     ]
    },
    {
     "name": "stdout",
     "output_type": "stream",
     "text": [
      "Pred_str: 804, label_str: 804\n",
      "Pred_str: 808, label_str: 808\n",
      "Pred_str: 851, label_str: 851\n",
      "Pred_str: 655, label_str: 655\n",
      "Pred_str: 757, label_str: 757\n",
      "Pred_str: 995, label_str: 995\n"
     ]
    },
    {
     "name": "stderr",
     "output_type": "stream",
     "text": [
      " 24%|██▍       | 24/100 [00:13<00:45,  1.65it/s]"
     ]
    },
    {
     "name": "stdout",
     "output_type": "stream",
     "text": [
      "Pred_str: 885, label_str: 885\n",
      "Pred_str: 680, label_str: 680\n",
      "Pred_str: 772, label_str: 772\n",
      "Pred_str: 580, label_str: 580\n",
      "Pred_str: 421, label_str: 431\n",
      "Pred_str: 207, label_str: 207\n"
     ]
    },
    {
     "name": "stderr",
     "output_type": "stream",
     "text": [
      " 25%|██▌       | 25/100 [00:14<00:45,  1.66it/s]"
     ]
    },
    {
     "name": "stdout",
     "output_type": "stream",
     "text": [
      "Pred_str: 862, label_str: 862\n",
      "Pred_str: 570, label_str: 570\n",
      "Pred_str: 104, label_str: 1004\n",
      "Pred_str: 955, label_str: 955\n",
      "Pred_str: 925, label_str: 925\n",
      "Pred_str: 857, label_str: 847\n"
     ]
    },
    {
     "name": "stderr",
     "output_type": "stream",
     "text": [
      " 26%|██▌       | 26/100 [00:14<00:41,  1.79it/s]"
     ]
    },
    {
     "name": "stdout",
     "output_type": "stream",
     "text": [
      "Pred_str: 990, label_str: 990\n",
      "Pred_str: 810, label_str: 810\n",
      "Pred_str: 891, label_str: 891\n",
      "Pred_str: 1007, label_str: 1007\n",
      "Pred_str: 951, label_str: 951\n",
      "Pred_str: 876, label_str: 876\n"
     ]
    },
    {
     "name": "stderr",
     "output_type": "stream",
     "text": [
      " 27%|██▋       | 27/100 [00:15<00:39,  1.86it/s]"
     ]
    },
    {
     "name": "stdout",
     "output_type": "stream",
     "text": [
      "Pred_str: 840, label_str: 840\n",
      "Pred_str: 920, label_str: 900\n",
      "Pred_str: 767, label_str: 767\n",
      "Pred_str: 1500, label_str: 1500\n",
      "Pred_str: 794, label_str: 794\n",
      "Pred_str: 574, label_str: 574\n"
     ]
    },
    {
     "name": "stderr",
     "output_type": "stream",
     "text": [
      " 28%|██▊       | 28/100 [00:15<00:35,  2.00it/s]"
     ]
    },
    {
     "name": "stdout",
     "output_type": "stream",
     "text": [
      "Pred_str: 626, label_str: 626\n",
      "Pred_str: 429, label_str: 429\n",
      "Pred_str: 690, label_str: 690\n",
      "Pred_str: 343, label_str: 343\n",
      "Pred_str: 756, label_str: 756\n",
      "Pred_str: 770, label_str: 760\n"
     ]
    },
    {
     "name": "stderr",
     "output_type": "stream",
     "text": [
      " 29%|██▉       | 29/100 [00:15<00:33,  2.10it/s]"
     ]
    },
    {
     "name": "stdout",
     "output_type": "stream",
     "text": [
      "Pred_str: 666, label_str: 666\n",
      "Pred_str: 792, label_str: 792\n",
      "Pred_str: 818, label_str: 818\n",
      "Pred_str: 990, label_str: 990\n",
      "Pred_str: 675, label_str: 675\n",
      "Pred_str: 487, label_str: 487\n"
     ]
    },
    {
     "name": "stderr",
     "output_type": "stream",
     "text": [
      " 30%|███       | 30/100 [00:16<00:32,  2.17it/s]"
     ]
    },
    {
     "name": "stdout",
     "output_type": "stream",
     "text": [
      "Pred_str: 393, label_str: 393\n",
      "Pred_str: 652, label_str: 652\n",
      "Pred_str: 307, label_str: 307\n",
      "Pred_str: 650, label_str: 650\n",
      "Pred_str: 990, label_str: 990\n",
      "Pred_str: 364, label_str: 364\n"
     ]
    },
    {
     "name": "stderr",
     "output_type": "stream",
     "text": [
      " 31%|███       | 31/100 [00:16<00:31,  2.20it/s]"
     ]
    },
    {
     "name": "stdout",
     "output_type": "stream",
     "text": [
      "Pred_str: 957, label_str: 957\n",
      "Pred_str: 671, label_str: 671\n",
      "Pred_str: 697, label_str: 707\n",
      "Pred_str: 455, label_str: 455\n",
      "Pred_str: 958, label_str: 958\n",
      "Pred_str: 1006, label_str: 1006\n"
     ]
    },
    {
     "name": "stderr",
     "output_type": "stream",
     "text": [
      " 32%|███▏      | 32/100 [00:17<00:33,  2.01it/s]"
     ]
    },
    {
     "name": "stdout",
     "output_type": "stream",
     "text": [
      "Pred_str: 487, label_str: 487\n",
      "Pred_str: 113, label_str: 1103\n",
      "Pred_str: 698, label_str: 698\n",
      "Pred_str: 783, label_str: 783\n",
      "Pred_str: 552, label_str: 552\n",
      "Pred_str: 751, label_str: 751\n"
     ]
    },
    {
     "name": "stderr",
     "output_type": "stream",
     "text": [
      " 33%|███▎      | 33/100 [00:18<00:35,  1.90it/s]"
     ]
    },
    {
     "name": "stdout",
     "output_type": "stream",
     "text": [
      "Pred_str: 615, label_str: 615\n",
      "Pred_str: 610, label_str: 610\n",
      "Pred_str: 405, label_str: 405\n",
      "Pred_str: 361, label_str: 361\n",
      "Pred_str: 855, label_str: 855\n",
      "Pred_str: 707, label_str: 727\n"
     ]
    },
    {
     "name": "stderr",
     "output_type": "stream",
     "text": [
      " 34%|███▍      | 34/100 [00:18<00:34,  1.92it/s]"
     ]
    },
    {
     "name": "stdout",
     "output_type": "stream",
     "text": [
      "Pred_str: 695, label_str: 695\n",
      "Pred_str: 767, label_str: 757\n",
      "Pred_str: 674, label_str: 674\n",
      "Pred_str: 762, label_str: 762\n",
      "Pred_str: 595, label_str: 595\n",
      "Pred_str: 882, label_str: 882\n"
     ]
    },
    {
     "name": "stderr",
     "output_type": "stream",
     "text": [
      " 35%|███▌      | 35/100 [00:19<00:35,  1.81it/s]"
     ]
    },
    {
     "name": "stdout",
     "output_type": "stream",
     "text": [
      "Pred_str: 722, label_str: 722\n",
      "Pred_str: 860, label_str: 860\n",
      "Pred_str: 591, label_str: 591\n",
      "Pred_str: 681, label_str: 681\n",
      "Pred_str: 791, label_str: 791\n",
      "Pred_str: 894, label_str: 894\n"
     ]
    },
    {
     "name": "stderr",
     "output_type": "stream",
     "text": [
      " 36%|███▌      | 36/100 [00:19<00:36,  1.75it/s]"
     ]
    },
    {
     "name": "stdout",
     "output_type": "stream",
     "text": [
      "Pred_str: 598, label_str: 598\n",
      "Pred_str: 818, label_str: 818\n",
      "Pred_str: 763, label_str: 763\n",
      "Pred_str: 806, label_str: 796\n",
      "Pred_str: 830, label_str: 830\n",
      "Pred_str: 342, label_str: 342\n"
     ]
    },
    {
     "name": "stderr",
     "output_type": "stream",
     "text": [
      " 37%|███▋      | 37/100 [00:20<00:35,  1.79it/s]"
     ]
    },
    {
     "name": "stdout",
     "output_type": "stream",
     "text": [
      "Pred_str: 813, label_str: 813\n",
      "Pred_str: 969, label_str: 969\n",
      "Pred_str: 875, label_str: 875\n",
      "Pred_str: 674, label_str: 674\n",
      "Pred_str: 841, label_str: 841\n",
      "Pred_str: 370, label_str: 380\n"
     ]
    },
    {
     "name": "stderr",
     "output_type": "stream",
     "text": [
      " 38%|███▊      | 38/100 [00:20<00:35,  1.74it/s]"
     ]
    },
    {
     "name": "stdout",
     "output_type": "stream",
     "text": [
      "Pred_str: 780, label_str: 780\n",
      "Pred_str: 1000, label_str: 1000\n",
      "Pred_str: 857, label_str: 857\n",
      "Pred_str: 957, label_str: 957\n",
      "Pred_str: 775, label_str: 775\n",
      "Pred_str: 862, label_str: 872\n"
     ]
    },
    {
     "name": "stderr",
     "output_type": "stream",
     "text": [
      " 39%|███▉      | 39/100 [00:21<00:35,  1.70it/s]"
     ]
    },
    {
     "name": "stdout",
     "output_type": "stream",
     "text": [
      "Pred_str: 246, label_str: 246\n",
      "Pred_str: 860, label_str: 850\n",
      "Pred_str: 427, label_str: 427\n",
      "Pred_str: 1950, label_str: 1940\n",
      "Pred_str: 779, label_str: 779\n",
      "Pred_str: 1963, label_str: 1979\n"
     ]
    },
    {
     "name": "stderr",
     "output_type": "stream",
     "text": [
      " 40%|████      | 40/100 [00:22<00:35,  1.69it/s]"
     ]
    },
    {
     "name": "stdout",
     "output_type": "stream",
     "text": [
      "Pred_str: 641, label_str: 641\n",
      "Pred_str: 707, label_str: 717\n",
      "Pred_str: 907, label_str: 907\n",
      "Pred_str: 924, label_str: 924\n",
      "Pred_str: 121, label_str: 1301\n",
      "Pred_str: 955, label_str: 955\n"
     ]
    },
    {
     "name": "stderr",
     "output_type": "stream",
     "text": [
      " 41%|████      | 41/100 [00:22<00:33,  1.74it/s]"
     ]
    },
    {
     "name": "stdout",
     "output_type": "stream",
     "text": [
      "Pred_str: 833, label_str: 833\n",
      "Pred_str: 567, label_str: 567\n",
      "Pred_str: 14, label_str: 1234\n",
      "Pred_str: 846, label_str: 846\n",
      "Pred_str: 525, label_str: 525\n",
      "Pred_str: 900, label_str: 900\n"
     ]
    },
    {
     "name": "stderr",
     "output_type": "stream",
     "text": [
      " 42%|████▏     | 42/100 [00:23<00:32,  1.80it/s]"
     ]
    },
    {
     "name": "stdout",
     "output_type": "stream",
     "text": [
      "Pred_str: 666, label_str: 666\n",
      "Pred_str: 529, label_str: 539\n",
      "Pred_str: 997, label_str: 997\n",
      "Pred_str: 100, label_str: 1000\n",
      "Pred_str: 611, label_str: 611\n",
      "Pred_str: 970, label_str: 970\n"
     ]
    },
    {
     "name": "stderr",
     "output_type": "stream",
     "text": [
      " 43%|████▎     | 43/100 [00:23<00:28,  1.98it/s]"
     ]
    },
    {
     "name": "stdout",
     "output_type": "stream",
     "text": [
      "Pred_str: 888, label_str: 888\n",
      "Pred_str: 306, label_str: 306\n",
      "Pred_str: 663, label_str: 673\n",
      "Pred_str: 435, label_str: 445\n",
      "Pred_str: 806, label_str: 806\n",
      "Pred_str: 612, label_str: 612\n"
     ]
    },
    {
     "name": "stderr",
     "output_type": "stream",
     "text": [
      " 44%|████▍     | 44/100 [00:24<00:27,  2.05it/s]"
     ]
    },
    {
     "name": "stdout",
     "output_type": "stream",
     "text": [
      "Pred_str: 689, label_str: 689\n",
      "Pred_str: 393, label_str: 393\n",
      "Pred_str: 772, label_str: 772\n",
      "Pred_str: 457, label_str: 457\n",
      "Pred_str: 348, label_str: 348\n",
      "Pred_str: 608, label_str: 608\n"
     ]
    },
    {
     "name": "stderr",
     "output_type": "stream",
     "text": [
      " 45%|████▌     | 45/100 [00:24<00:25,  2.16it/s]"
     ]
    },
    {
     "name": "stdout",
     "output_type": "stream",
     "text": [
      "Pred_str: 483, label_str: 483\n",
      "Pred_str: 519, label_str: 519\n",
      "Pred_str: 614, label_str: 614\n",
      "Pred_str: 576, label_str: 586\n",
      "Pred_str: 805, label_str: 805\n",
      "Pred_str: 478, label_str: 478\n"
     ]
    },
    {
     "name": "stderr",
     "output_type": "stream",
     "text": [
      " 46%|████▌     | 46/100 [00:24<00:24,  2.23it/s]"
     ]
    },
    {
     "name": "stdout",
     "output_type": "stream",
     "text": [
      "Pred_str: 1301, label_str: 1301\n",
      "Pred_str: 533, label_str: 533\n",
      "Pred_str: 1005, label_str: 1005\n",
      "Pred_str: 806, label_str: 816\n",
      "Pred_str: 952, label_str: 852\n",
      "Pred_str: 639, label_str: 639\n"
     ]
    },
    {
     "name": "stderr",
     "output_type": "stream",
     "text": [
      " 47%|████▋     | 47/100 [00:25<00:24,  2.20it/s]"
     ]
    },
    {
     "name": "stdout",
     "output_type": "stream",
     "text": [
      "Pred_str: 1371, label_str: 1371\n",
      "Pred_str: 424, label_str: 424\n",
      "Pred_str: 1024, label_str: 1004\n",
      "Pred_str: 763, label_str: 763\n",
      "Pred_str: 678, label_str: 678\n",
      "Pred_str: 565, label_str: 565\n"
     ]
    },
    {
     "name": "stderr",
     "output_type": "stream",
     "text": [
      " 48%|████▊     | 48/100 [00:25<00:23,  2.24it/s]"
     ]
    },
    {
     "name": "stdout",
     "output_type": "stream",
     "text": [
      "Pred_str: 559, label_str: 559\n",
      "Pred_str: 856, label_str: 856\n",
      "Pred_str: 516, label_str: 516\n",
      "Pred_str: 763, label_str: 753\n",
      "Pred_str: 782, label_str: 782\n",
      "Pred_str: 651, label_str: 641\n"
     ]
    },
    {
     "name": "stderr",
     "output_type": "stream",
     "text": [
      " 49%|████▉     | 49/100 [00:26<00:23,  2.13it/s]"
     ]
    },
    {
     "name": "stdout",
     "output_type": "stream",
     "text": [
      "Pred_str: 720, label_str: 710\n",
      "Pred_str: 665, label_str: 665\n",
      "Pred_str: 852, label_str: 872\n",
      "Pred_str: 602, label_str: 592\n",
      "Pred_str: 662, label_str: 662\n",
      "Pred_str: 906, label_str: 906\n"
     ]
    },
    {
     "name": "stderr",
     "output_type": "stream",
     "text": [
      " 50%|█████     | 50/100 [00:26<00:22,  2.26it/s]"
     ]
    },
    {
     "name": "stdout",
     "output_type": "stream",
     "text": [
      "Pred_str: 722, label_str: 732\n",
      "Pred_str: 950, label_str: 930\n",
      "Pred_str: 563, label_str: 563\n",
      "Pred_str: 554, label_str: 554\n",
      "Pred_str: 360, label_str: 360\n",
      "Pred_str: 777, label_str: 777\n"
     ]
    },
    {
     "name": "stderr",
     "output_type": "stream",
     "text": [
      " 51%|█████     | 51/100 [00:27<00:20,  2.35it/s]"
     ]
    },
    {
     "name": "stdout",
     "output_type": "stream",
     "text": [
      "Pred_str: 711, label_str: 711\n",
      "Pred_str: 510, label_str: 520\n",
      "Pred_str: 693, label_str: 693\n",
      "Pred_str: 847, label_str: 847\n",
      "Pred_str: 635, label_str: 635\n",
      "Pred_str: 657, label_str: 657\n"
     ]
    },
    {
     "name": "stderr",
     "output_type": "stream",
     "text": [
      " 52%|█████▏    | 52/100 [00:27<00:20,  2.37it/s]"
     ]
    },
    {
     "name": "stdout",
     "output_type": "stream",
     "text": [
      "Pred_str: 642, label_str: 642\n",
      "Pred_str: 854, label_str: 854\n",
      "Pred_str: 464, label_str: 464\n",
      "Pred_str: 363, label_str: 363\n",
      "Pred_str: 833, label_str: 843\n",
      "Pred_str: 485, label_str: 485\n"
     ]
    },
    {
     "name": "stderr",
     "output_type": "stream",
     "text": [
      " 53%|█████▎    | 53/100 [00:27<00:19,  2.44it/s]"
     ]
    },
    {
     "name": "stdout",
     "output_type": "stream",
     "text": [
      "Pred_str: 395, label_str: 395\n",
      "Pred_str: 760, label_str: 770\n",
      "Pred_str: 558, label_str: 558\n",
      "Pred_str: 705, label_str: 705\n",
      "Pred_str: 480, label_str: 480\n",
      "Pred_str: 488, label_str: 488\n"
     ]
    },
    {
     "name": "stderr",
     "output_type": "stream",
     "text": [
      " 54%|█████▍    | 54/100 [00:28<00:18,  2.44it/s]"
     ]
    },
    {
     "name": "stdout",
     "output_type": "stream",
     "text": [
      "Pred_str: 557, label_str: 547\n",
      "Pred_str: 266, label_str: 266\n",
      "Pred_str: 898, label_str: 898\n",
      "Pred_str: 625, label_str: 625\n",
      "Pred_str: 291, label_str: 291\n",
      "Pred_str: 957, label_str: 957\n"
     ]
    },
    {
     "name": "stderr",
     "output_type": "stream",
     "text": [
      " 55%|█████▌    | 55/100 [00:28<00:18,  2.41it/s]"
     ]
    },
    {
     "name": "stdout",
     "output_type": "stream",
     "text": [
      "Pred_str: 707, label_str: 717\n",
      "Pred_str: 622, label_str: 622\n",
      "Pred_str: 437, label_str: 437\n",
      "Pred_str: 9, label_str: 953\n",
      "Pred_str: 898, label_str: 898\n",
      "Pred_str: 513, label_str: 513\n"
     ]
    },
    {
     "name": "stderr",
     "output_type": "stream",
     "text": [
      " 56%|█████▌    | 56/100 [00:29<00:18,  2.37it/s]"
     ]
    },
    {
     "name": "stdout",
     "output_type": "stream",
     "text": [
      "Pred_str: 450, label_str: 450\n",
      "Pred_str: 996, label_str: 1006\n",
      "Pred_str: 705, label_str: 705\n",
      "Pred_str: 906, label_str: 896\n",
      "Pred_str: 813, label_str: 813\n",
      "Pred_str: 801, label_str: 801\n"
     ]
    },
    {
     "name": "stderr",
     "output_type": "stream",
     "text": [
      " 57%|█████▋    | 57/100 [00:29<00:18,  2.39it/s]"
     ]
    },
    {
     "name": "stdout",
     "output_type": "stream",
     "text": [
      "Pred_str: 607, label_str: 607\n",
      "Pred_str: 833, label_str: 853\n",
      "Pred_str: 694, label_str: 694\n",
      "Pred_str: 915, label_str: 915\n",
      "Pred_str: 606, label_str: 606\n",
      "Pred_str: 701, label_str: 701\n"
     ]
    },
    {
     "name": "stderr",
     "output_type": "stream",
     "text": [
      " 58%|█████▊    | 58/100 [00:29<00:17,  2.41it/s]"
     ]
    },
    {
     "name": "stdout",
     "output_type": "stream",
     "text": [
      "Pred_str: 332, label_str: 952\n",
      "Pred_str: 806, label_str: 806\n",
      "Pred_str: 611, label_str: 611\n",
      "Pred_str: 480, label_str: 480\n",
      "Pred_str: 1101, label_str: 1101\n",
      "Pred_str: 725, label_str: 725\n"
     ]
    },
    {
     "name": "stderr",
     "output_type": "stream",
     "text": [
      " 59%|█████▉    | 59/100 [00:30<00:16,  2.43it/s]"
     ]
    },
    {
     "name": "stdout",
     "output_type": "stream",
     "text": [
      "Pred_str: 677, label_str: 677\n",
      "Pred_str: 708, label_str: 708\n",
      "Pred_str: 617, label_str: 617\n",
      "Pred_str: 655, label_str: 665\n",
      "Pred_str: 639, label_str: 639\n",
      "Pred_str: 956, label_str: 956\n"
     ]
    },
    {
     "name": "stderr",
     "output_type": "stream",
     "text": [
      " 60%|██████    | 60/100 [00:30<00:16,  2.44it/s]"
     ]
    },
    {
     "name": "stdout",
     "output_type": "stream",
     "text": [
      "Pred_str: 336, label_str: 336\n",
      "Pred_str: 656, label_str: 656\n",
      "Pred_str: 484, label_str: 484\n",
      "Pred_str: 907, label_str: 907\n",
      "Pred_str: 901, label_str: 901\n",
      "Pred_str: 650, label_str: 650\n"
     ]
    },
    {
     "name": "stderr",
     "output_type": "stream",
     "text": [
      " 61%|██████    | 61/100 [00:31<00:15,  2.48it/s]"
     ]
    },
    {
     "name": "stdout",
     "output_type": "stream",
     "text": [
      "Pred_str: 628, label_str: 638\n",
      "Pred_str: 387, label_str: 387\n",
      "Pred_str: 762, label_str: 762\n",
      "Pred_str: 327, label_str: 337\n",
      "Pred_str: 774, label_str: 768\n",
      "Pred_str: 561, label_str: 561\n"
     ]
    },
    {
     "name": "stderr",
     "output_type": "stream",
     "text": [
      " 62%|██████▏   | 62/100 [00:31<00:15,  2.51it/s]"
     ]
    },
    {
     "name": "stdout",
     "output_type": "stream",
     "text": [
      "Pred_str: 408, label_str: 408\n",
      "Pred_str: 409, label_str: 409\n",
      "Pred_str: 594, label_str: 594\n",
      "Pred_str: 647, label_str: 647\n",
      "Pred_str: 751, label_str: 841\n",
      "Pred_str: 634, label_str: 634\n"
     ]
    },
    {
     "name": "stderr",
     "output_type": "stream",
     "text": [
      " 63%|██████▎   | 63/100 [00:31<00:15,  2.37it/s]"
     ]
    },
    {
     "name": "stdout",
     "output_type": "stream",
     "text": [
      "Pred_str: 343, label_str: 343\n",
      "Pred_str: 879, label_str: 879\n",
      "Pred_str: 684, label_str: 684\n",
      "Pred_str: 561, label_str: 571\n",
      "Pred_str: 568, label_str: 568\n",
      "Pred_str: 1111, label_str: 1021\n"
     ]
    },
    {
     "name": "stderr",
     "output_type": "stream",
     "text": [
      " 64%|██████▍   | 64/100 [00:32<00:16,  2.22it/s]"
     ]
    },
    {
     "name": "stdout",
     "output_type": "stream",
     "text": [
      "Pred_str: 610, label_str: 620\n",
      "Pred_str: 745, label_str: 745\n",
      "Pred_str: 768, label_str: 768\n",
      "Pred_str: 685, label_str: 685\n",
      "Pred_str: 688, label_str: 688\n",
      "Pred_str: 460, label_str: 460\n"
     ]
    },
    {
     "name": "stderr",
     "output_type": "stream",
     "text": [
      " 65%|██████▌   | 65/100 [00:32<00:15,  2.28it/s]"
     ]
    },
    {
     "name": "stdout",
     "output_type": "stream",
     "text": [
      "Pred_str: 177, label_str: 267\n",
      "Pred_str: 870, label_str: 860\n",
      "Pred_str: 994, label_str: 1004\n",
      "Pred_str: 862, label_str: 862\n",
      "Pred_str: 859, label_str: 859\n",
      "Pred_str: 878, label_str: 878\n"
     ]
    },
    {
     "name": "stderr",
     "output_type": "stream",
     "text": [
      " 66%|██████▌   | 66/100 [00:33<00:15,  2.19it/s]"
     ]
    },
    {
     "name": "stdout",
     "output_type": "stream",
     "text": [
      "Pred_str: 892, label_str: 892\n",
      "Pred_str: 852, label_str: 852\n",
      "Pred_str: 911, label_str: 911\n",
      "Pred_str: 706, label_str: 706\n",
      "Pred_str: 299, label_str: 299\n",
      "Pred_str: 750, label_str: 750\n"
     ]
    },
    {
     "name": "stderr",
     "output_type": "stream",
     "text": [
      " 67%|██████▋   | 67/100 [00:33<00:14,  2.26it/s]"
     ]
    },
    {
     "name": "stdout",
     "output_type": "stream",
     "text": [
      "Pred_str: 879, label_str: 879\n",
      "Pred_str: 537, label_str: 537\n",
      "Pred_str: 850, label_str: 850\n",
      "Pred_str: 503, label_str: 503\n",
      "Pred_str: 545, label_str: 545\n",
      "Pred_str: 884, label_str: 884\n"
     ]
    },
    {
     "name": "stderr",
     "output_type": "stream",
     "text": [
      " 68%|██████▊   | 68/100 [00:34<00:13,  2.32it/s]"
     ]
    },
    {
     "name": "stdout",
     "output_type": "stream",
     "text": [
      "Pred_str: 707, label_str: 707\n",
      "Pred_str: 830, label_str: 850\n",
      "Pred_str: 468, label_str: 478\n",
      "Pred_str: 554, label_str: 554\n",
      "Pred_str: 987, label_str: 997\n",
      "Pred_str: 454, label_str: 454\n"
     ]
    },
    {
     "name": "stderr",
     "output_type": "stream",
     "text": [
      " 69%|██████▉   | 69/100 [00:34<00:14,  2.07it/s]"
     ]
    },
    {
     "name": "stdout",
     "output_type": "stream",
     "text": [
      "Pred_str: 332, label_str: 342\n",
      "Pred_str: 767, label_str: 767\n",
      "Pred_str: 1949, label_str: 1939\n",
      "Pred_str: 862, label_str: 862\n",
      "Pred_str: 709, label_str: 709\n",
      "Pred_str: 501, label_str: 501\n"
     ]
    },
    {
     "name": "stderr",
     "output_type": "stream",
     "text": [
      " 70%|███████   | 70/100 [00:35<00:15,  1.88it/s]"
     ]
    },
    {
     "name": "stdout",
     "output_type": "stream",
     "text": [
      "Pred_str: 695, label_str: 715\n",
      "Pred_str: 640, label_str: 640\n",
      "Pred_str: 860, label_str: 860\n",
      "Pred_str: 900, label_str: 900\n",
      "Pred_str: 856, label_str: 856\n",
      "Pred_str: 886, label_str: 886\n"
     ]
    },
    {
     "name": "stderr",
     "output_type": "stream",
     "text": [
      " 71%|███████   | 71/100 [00:36<00:15,  1.85it/s]"
     ]
    },
    {
     "name": "stdout",
     "output_type": "stream",
     "text": [
      "Pred_str: 684, label_str: 684\n",
      "Pred_str: 351, label_str: 351\n",
      "Pred_str: 879, label_str: 879\n",
      "Pred_str: 780, label_str: 780\n",
      "Pred_str: 994, label_str: 1004\n",
      "Pred_str: 598, label_str: 598\n"
     ]
    },
    {
     "name": "stderr",
     "output_type": "stream",
     "text": [
      " 72%|███████▏  | 72/100 [00:36<00:16,  1.75it/s]"
     ]
    },
    {
     "name": "stdout",
     "output_type": "stream",
     "text": [
      "Pred_str: 997, label_str: 997\n",
      "Pred_str: 761, label_str: 761\n",
      "Pred_str: 624, label_str: 624\n",
      "Pred_str: 990, label_str: 990\n",
      "Pred_str: 673, label_str: 673\n",
      "Pred_str: 875, label_str: 875\n"
     ]
    },
    {
     "name": "stderr",
     "output_type": "stream",
     "text": [
      " 73%|███████▎  | 73/100 [00:37<00:16,  1.65it/s]"
     ]
    },
    {
     "name": "stdout",
     "output_type": "stream",
     "text": [
      "Pred_str: 364, label_str: 364\n",
      "Pred_str: 703, label_str: 703\n",
      "Pred_str: 442, label_str: 442\n",
      "Pred_str: 16, label_str: 1600\n",
      "Pred_str: 988, label_str: 978\n",
      "Pred_str: 897, label_str: 897\n"
     ]
    },
    {
     "name": "stderr",
     "output_type": "stream",
     "text": [
      " 74%|███████▍  | 74/100 [00:37<00:15,  1.63it/s]"
     ]
    },
    {
     "name": "stdout",
     "output_type": "stream",
     "text": [
      "Pred_str: 659, label_str: 649\n",
      "Pred_str: 454, label_str: 454\n",
      "Pred_str: 812, label_str: 802\n",
      "Pred_str: 606, label_str: 606\n",
      "Pred_str: 688, label_str: 698\n",
      "Pred_str: 264, label_str: 264\n"
     ]
    },
    {
     "name": "stderr",
     "output_type": "stream",
     "text": [
      " 75%|███████▌  | 75/100 [00:38<00:14,  1.70it/s]"
     ]
    },
    {
     "name": "stdout",
     "output_type": "stream",
     "text": [
      "Pred_str: 722, label_str: 732\n",
      "Pred_str: 529, label_str: 529\n",
      "Pred_str: 678, label_str: 678\n",
      "Pred_str: 632, label_str: 632\n",
      "Pred_str: 816, label_str: 816\n",
      "Pred_str: 534, label_str: 534\n"
     ]
    },
    {
     "name": "stderr",
     "output_type": "stream",
     "text": [
      " 76%|███████▌  | 76/100 [00:39<00:14,  1.66it/s]"
     ]
    },
    {
     "name": "stdout",
     "output_type": "stream",
     "text": [
      "Pred_str: 770, label_str: 770\n",
      "Pred_str: 501, label_str: 501\n",
      "Pred_str: 343, label_str: 343\n",
      "Pred_str: 66, label_str: 656\n",
      "Pred_str: 755, label_str: 755\n",
      "Pred_str: 597, label_str: 597\n"
     ]
    },
    {
     "name": "stderr",
     "output_type": "stream",
     "text": [
      " 77%|███████▋  | 77/100 [00:39<00:14,  1.60it/s]"
     ]
    },
    {
     "name": "stdout",
     "output_type": "stream",
     "text": [
      "Pred_str: 632, label_str: 632\n",
      "Pred_str: 628, label_str: 628\n",
      "Pred_str: 940, label_str: 970\n",
      "Pred_str: 873, label_str: 873\n",
      "Pred_str: 859, label_str: 859\n",
      "Pred_str: 346, label_str: 346\n"
     ]
    },
    {
     "name": "stderr",
     "output_type": "stream",
     "text": [
      " 78%|███████▊  | 78/100 [00:40<00:13,  1.65it/s]"
     ]
    },
    {
     "name": "stdout",
     "output_type": "stream",
     "text": [
      "Pred_str: 987, label_str: 987\n",
      "Pred_str: 660, label_str: 660\n",
      "Pred_str: 702, label_str: 702\n",
      "Pred_str: 560, label_str: 570\n",
      "Pred_str: 655, label_str: 655\n",
      "Pred_str: 885, label_str: 885\n"
     ]
    },
    {
     "name": "stderr",
     "output_type": "stream",
     "text": [
      " 79%|███████▉  | 79/100 [00:41<00:12,  1.63it/s]"
     ]
    },
    {
     "name": "stdout",
     "output_type": "stream",
     "text": [
      "Pred_str: 842, label_str: 838\n",
      "Pred_str: 790, label_str: 790\n",
      "Pred_str: 707, label_str: 707\n",
      "Pred_str: 820, label_str: 820\n",
      "Pred_str: 862, label_str: 862\n",
      "Pred_str: 9, label_str: 959\n"
     ]
    },
    {
     "name": "stderr",
     "output_type": "stream",
     "text": [
      " 80%|████████  | 80/100 [00:41<00:12,  1.59it/s]"
     ]
    },
    {
     "name": "stdout",
     "output_type": "stream",
     "text": [
      "Pred_str: 883, label_str: 883\n",
      "Pred_str: 771, label_str: 771\n",
      "Pred_str: 775, label_str: 775\n",
      "Pred_str: 813, label_str: 813\n",
      "Pred_str: 846, label_str: 846\n",
      "Pred_str: 590, label_str: 590\n"
     ]
    },
    {
     "name": "stderr",
     "output_type": "stream",
     "text": [
      " 81%|████████  | 81/100 [00:42<00:11,  1.59it/s]"
     ]
    },
    {
     "name": "stdout",
     "output_type": "stream",
     "text": [
      "Pred_str: 563, label_str: 563\n",
      "Pred_str: 522, label_str: 522\n",
      "Pred_str: 978, label_str: 978\n",
      "Pred_str: 707, label_str: 707\n",
      "Pred_str: 616, label_str: 626\n",
      "Pred_str: 840, label_str: 840\n"
     ]
    },
    {
     "name": "stderr",
     "output_type": "stream",
     "text": [
      " 82%|████████▏ | 82/100 [00:42<00:11,  1.62it/s]"
     ]
    },
    {
     "name": "stdout",
     "output_type": "stream",
     "text": [
      "Pred_str: 224, label_str: 224\n",
      "Pred_str: 998, label_str: 1008\n",
      "Pred_str: 871, label_str: 871\n",
      "Pred_str: 558, label_str: 558\n",
      "Pred_str: 700, label_str: 700\n",
      "Pred_str: 988, label_str: 988\n"
     ]
    },
    {
     "name": "stderr",
     "output_type": "stream",
     "text": [
      " 83%|████████▎ | 83/100 [00:43<00:10,  1.61it/s]"
     ]
    },
    {
     "name": "stdout",
     "output_type": "stream",
     "text": [
      "Pred_str: 710, label_str: 730\n",
      "Pred_str: 647, label_str: 647\n",
      "Pred_str: 863, label_str: 863\n",
      "Pred_str: 900, label_str: 900\n",
      "Pred_str: 647, label_str: 647\n",
      "Pred_str: 999, label_str: 989\n"
     ]
    },
    {
     "name": "stderr",
     "output_type": "stream",
     "text": [
      " 84%|████████▍ | 84/100 [00:44<00:09,  1.62it/s]"
     ]
    },
    {
     "name": "stdout",
     "output_type": "stream",
     "text": [
      "Pred_str: 321, label_str: 321\n",
      "Pred_str: 696, label_str: 696\n",
      "Pred_str: 694, label_str: 694\n",
      "Pred_str: 367, label_str: 367\n",
      "Pred_str: 654, label_str: 654\n",
      "Pred_str: 876, label_str: 876\n"
     ]
    },
    {
     "name": "stderr",
     "output_type": "stream",
     "text": [
      " 85%|████████▌ | 85/100 [00:44<00:09,  1.60it/s]"
     ]
    },
    {
     "name": "stdout",
     "output_type": "stream",
     "text": [
      "Pred_str: 912, label_str: 912\n",
      "Pred_str: 950, label_str: 950\n",
      "Pred_str: 843, label_str: 843\n",
      "Pred_str: 912, label_str: 912\n",
      "Pred_str: 680, label_str: 680\n",
      "Pred_str: 954, label_str: 954\n"
     ]
    },
    {
     "name": "stderr",
     "output_type": "stream",
     "text": [
      " 86%|████████▌ | 86/100 [00:45<00:08,  1.61it/s]"
     ]
    },
    {
     "name": "stdout",
     "output_type": "stream",
     "text": [
      "Pred_str: 464, label_str: 464\n",
      "Pred_str: 649, label_str: 649\n",
      "Pred_str: 833, label_str: 833\n",
      "Pred_str: 708, label_str: 708\n",
      "Pred_str: 970, label_str: 970\n",
      "Pred_str: 11, label_str: 1021\n"
     ]
    },
    {
     "name": "stderr",
     "output_type": "stream",
     "text": [
      " 87%|████████▋ | 87/100 [00:46<00:08,  1.58it/s]"
     ]
    },
    {
     "name": "stdout",
     "output_type": "stream",
     "text": [
      "Pred_str: 790, label_str: 790\n",
      "Pred_str: 882, label_str: 882\n",
      "Pred_str: 644, label_str: 644\n",
      "Pred_str: 940, label_str: 940\n",
      "Pred_str: 1016, label_str: 1016\n",
      "Pred_str: 993, label_str: 997\n"
     ]
    },
    {
     "name": "stderr",
     "output_type": "stream",
     "text": [
      " 88%|████████▊ | 88/100 [00:46<00:07,  1.61it/s]"
     ]
    },
    {
     "name": "stdout",
     "output_type": "stream",
     "text": [
      "Pred_str: 752, label_str: 752\n",
      "Pred_str: 176, label_str: 256\n",
      "Pred_str: 63, label_str: 633\n",
      "Pred_str: 572, label_str: 572\n",
      "Pred_str: 902, label_str: 902\n",
      "Pred_str: 703, label_str: 713\n"
     ]
    },
    {
     "name": "stderr",
     "output_type": "stream",
     "text": [
      " 89%|████████▉ | 89/100 [00:47<00:06,  1.61it/s]"
     ]
    },
    {
     "name": "stdout",
     "output_type": "stream",
     "text": [
      "Pred_str: 893, label_str: 893\n",
      "Pred_str: 237, label_str: 237\n",
      "Pred_str: 612, label_str: 612\n",
      "Pred_str: 990, label_str: 980\n",
      "Pred_str: 317, label_str: 327\n",
      "Pred_str: 304, label_str: 304\n"
     ]
    },
    {
     "name": "stderr",
     "output_type": "stream",
     "text": [
      " 90%|█████████ | 90/100 [00:47<00:06,  1.61it/s]"
     ]
    },
    {
     "name": "stdout",
     "output_type": "stream",
     "text": [
      "Pred_str: 347, label_str: 347\n",
      "Pred_str: 542, label_str: 542\n",
      "Pred_str: 710, label_str: 710\n",
      "Pred_str: 807, label_str: 807\n",
      "Pred_str: 483, label_str: 483\n",
      "Pred_str: 850, label_str: 850\n"
     ]
    },
    {
     "name": "stderr",
     "output_type": "stream",
     "text": [
      " 91%|█████████ | 91/100 [00:48<00:05,  1.68it/s]"
     ]
    },
    {
     "name": "stdout",
     "output_type": "stream",
     "text": [
      "Pred_str: 321, label_str: 321\n",
      "Pred_str: 678, label_str: 678\n",
      "Pred_str: 798, label_str: 798\n",
      "Pred_str: 546, label_str: 546\n",
      "Pred_str: 1038, label_str: 1008\n",
      "Pred_str: 881, label_str: 881\n"
     ]
    },
    {
     "name": "stderr",
     "output_type": "stream",
     "text": [
      " 92%|█████████▏| 92/100 [00:49<00:04,  1.67it/s]"
     ]
    },
    {
     "name": "stdout",
     "output_type": "stream",
     "text": [
      "Pred_str: 781, label_str: 781\n",
      "Pred_str: 833, label_str: 833\n",
      "Pred_str: 637, label_str: 637\n",
      "Pred_str: 402, label_str: 392\n",
      "Pred_str: 855, label_str: 855\n",
      "Pred_str: 990, label_str: 990\n"
     ]
    },
    {
     "name": "stderr",
     "output_type": "stream",
     "text": [
      " 93%|█████████▎| 93/100 [00:49<00:03,  1.83it/s]"
     ]
    },
    {
     "name": "stdout",
     "output_type": "stream",
     "text": [
      "Pred_str: 688, label_str: 698\n",
      "Pred_str: 846, label_str: 846\n",
      "Pred_str: 452, label_str: 452\n",
      "Pred_str: 967, label_str: 967\n",
      "Pred_str: 993, label_str: 993\n",
      "Pred_str: 694, label_str: 694\n"
     ]
    },
    {
     "name": "stderr",
     "output_type": "stream",
     "text": [
      " 94%|█████████▍| 94/100 [00:49<00:03,  1.92it/s]"
     ]
    },
    {
     "name": "stdout",
     "output_type": "stream",
     "text": [
      "Pred_str: 998, label_str: 998\n",
      "Pred_str: 873, label_str: 873\n",
      "Pred_str: 339, label_str: 339\n",
      "Pred_str: 814, label_str: 814\n",
      "Pred_str: 639, label_str: 639\n",
      "Pred_str: 696, label_str: 696\n"
     ]
    },
    {
     "name": "stderr",
     "output_type": "stream",
     "text": [
      " 95%|█████████▌| 95/100 [00:50<00:02,  2.04it/s]"
     ]
    },
    {
     "name": "stdout",
     "output_type": "stream",
     "text": [
      "Pred_str: 681, label_str: 681\n",
      "Pred_str: 708, label_str: 708\n",
      "Pred_str: 773, label_str: 773\n",
      "Pred_str: 1471, label_str: 1471\n",
      "Pred_str: 761, label_str: 751\n",
      "Pred_str: 854, label_str: 854\n"
     ]
    },
    {
     "name": "stderr",
     "output_type": "stream",
     "text": [
      " 96%|█████████▌| 96/100 [00:50<00:01,  2.06it/s]"
     ]
    },
    {
     "name": "stdout",
     "output_type": "stream",
     "text": [
      "Pred_str: 925, label_str: 925\n",
      "Pred_str: 666, label_str: 666\n",
      "Pred_str: 925, label_str: 925\n",
      "Pred_str: 901, label_str: 901\n",
      "Pred_str: 707, label_str: 707\n",
      "Pred_str: 572, label_str: 572\n"
     ]
    },
    {
     "name": "stderr",
     "output_type": "stream",
     "text": [
      " 97%|█████████▋| 97/100 [00:51<00:01,  2.12it/s]"
     ]
    },
    {
     "name": "stdout",
     "output_type": "stream",
     "text": [
      "Pred_str: 838, label_str: 838\n",
      "Pred_str: 10, label_str: 1016\n",
      "Pred_str: 487, label_str: 487\n",
      "Pred_str: 728, label_str: 728\n",
      "Pred_str: 468, label_str: 458\n",
      "Pred_str: 912, label_str: 912\n"
     ]
    },
    {
     "name": "stderr",
     "output_type": "stream",
     "text": [
      " 98%|█████████▊| 98/100 [00:51<00:00,  2.00it/s]"
     ]
    },
    {
     "name": "stdout",
     "output_type": "stream",
     "text": [
      "Pred_str: 924, label_str: 924\n",
      "Pred_str: 411, label_str: 421\n",
      "Pred_str: 838, label_str: 838\n",
      "Pred_str: 862, label_str: 862\n",
      "Pred_str: 528, label_str: 528\n",
      "Pred_str: 279, label_str: 279\n"
     ]
    },
    {
     "name": "stderr",
     "output_type": "stream",
     "text": [
      " 99%|█████████▉| 99/100 [00:52<00:00,  1.91it/s]"
     ]
    },
    {
     "name": "stdout",
     "output_type": "stream",
     "text": [
      "Pred_str: 790, label_str: 790\n",
      "Pred_str: 431, label_str: 431\n",
      "Pred_str: 482, label_str: 482\n",
      "Pred_str: 543, label_str: 543\n",
      "Pred_str: 907, label_str: 907\n",
      "Pred_str: 808, label_str: 808\n"
     ]
    },
    {
     "name": "stderr",
     "output_type": "stream",
     "text": [
      "100%|██████████| 100/100 [00:53<00:00,  1.88it/s]"
     ]
    },
    {
     "name": "stdout",
     "output_type": "stream",
     "text": [
      "Pred_str: 987, label_str: 987\n",
      "Pred_str: 549, label_str: 549\n",
      "Pred_str: 718, label_str: 718\n",
      "Pred_str: 860, label_str: 860\n",
      "Pred_str: 679, label_str: 679\n",
      "Pred_str: 633, label_str: 643\n",
      "0.8050000071525574\n"
     ]
    },
    {
     "name": "stderr",
     "output_type": "stream",
     "text": [
      "\n"
     ]
    }
   ],
   "source": [
    "def exact_match_accuracy(model, logits, corrupted_logits, input_lengths, labels):\n",
    "    batch_size = logits.size(0)\n",
    "    device = logits.device\n",
    "    positions = input_lengths - 1\n",
    "\n",
    "    last_logits = logits[torch.arange(batch_size), positions, :]\n",
    "    predicted_tokens = last_logits.argmax(dim=-1)\n",
    "    predicted_strings = [model.to_string(token.item()).strip() for token in predicted_tokens]\n",
    "\n",
    "    labels_strings = []\n",
    "    for i in range(batch_size):\n",
    "        lab = labels[i]\n",
    "        if isinstance(lab, torch.Tensor):\n",
    "            lab = lab.item()\n",
    "        labels_strings.append(str(lab).strip())\n",
    "\n",
    "    correct = []\n",
    "    for pred_str, label_str in zip(predicted_strings, labels_strings):\n",
    "        print(f'Pred_str: {pred_str}, label_str: {label_str}')\n",
    "        if pred_str == label_str:\n",
    "            correct.append(1.0)\n",
    "        else:\n",
    "            correct.append(0.0)\n",
    "\n",
    "    return torch.tensor(correct, device=device)\n",
    "\n",
    "def calculate_accuracy(model, g, dataloader):\n",
    "    baseline_accuracy = evaluate_baseline(model, dataloader, partial(exact_match_accuracy, model)).mean().item()\n",
    "    graph_accuracy = evaluate_graph(model, g, dataloader, partial(exact_match_accuracy, model)).mean().item()   \n",
    "    return baseline_accuracy, graph_accuracy\n",
    "\n",
    "baseline_accuracy = evaluate_baseline(model, dataloader, partial(exact_match_accuracy, model)).mean().item()\n",
    "print(baseline_accuracy)\n",
    "# graph_accuracy = evaluate_graph(model, g, dataloader, partial(exact_match_accuracy, model)).mean().item() "
   ]
  }
 ],
 "metadata": {
  "kernelspec": {
   "display_name": ".venv",
   "language": "python",
   "name": "python3"
  },
  "language_info": {
   "codemirror_mode": {
    "name": "ipython",
    "version": 3
   },
   "file_extension": ".py",
   "mimetype": "text/x-python",
   "name": "python",
   "nbconvert_exporter": "python",
   "pygments_lexer": "ipython3",
   "version": "3.12.3"
  }
 },
 "nbformat": 4,
 "nbformat_minor": 5
}
