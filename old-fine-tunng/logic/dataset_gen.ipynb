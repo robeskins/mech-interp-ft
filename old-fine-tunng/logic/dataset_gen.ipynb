{
 "cells": [
  {
   "cell_type": "code",
   "execution_count": null,
   "id": "b8c7ce45",
   "metadata": {},
   "outputs": [],
   "source": [
    "from names_dataset import NameDataset, NameWrapper\n",
    "import random\n",
    "from transformers import AutoTokenizer\n",
    "nd = NameDataset()\n",
    "import os\n",
    "import csv\n",
    "from tqdm import tqdm\n",
    "tokenizer = AutoTokenizer.from_pretrained('EleutherAI/pythia-1.4b-deduped')"
   ]
  },
  {
   "cell_type": "code",
   "execution_count": null,
   "id": "1d5769fc",
   "metadata": {},
   "outputs": [],
   "source": [
    "def get_one_token_names_list(tokenizer, nd):\n",
    "    names = list(nd.first_names.keys())\n",
    "    one_token_names = [name for name in names if len(tokenizer.tokenize(name)) == 1]\n",
    "    return one_token_names"
   ]
  },
  {
   "cell_type": "code",
   "execution_count": null,
   "id": "300295f6",
   "metadata": {},
   "outputs": [],
   "source": [
    "template_4_flips_clean = lambda Name1, Name2, Name3, Name4, flip1, flip2, flip3, flip4: (\n",
    "    f\"A coin is heads up. \"\n",
    "    f\"{Name1} {'flips coin' if flip1 else 'does not flip'}. \"\n",
    "    f\"{Name2} {'flips coin' if flip2 else 'does not flip'}. \"\n",
    "    f\"{Name3} {'flips coin' if flip3 else 'does not flip'}. \"\n",
    "    f\"{Name4} {'flips coin' if flip4 else 'does not flip'}. \"\n",
    "    \"Is the coin still heads up? \"\n",
    ")\n",
    "\n",
    "template_4_flips_corrupted = lambda Name1, Name2, Name3, Name4, flip1, flip2, flip3, flip4: (\n",
    "    f\"A coin is heads up. \"\n",
    "    f\"{Name1} {'flips coin' if not flip1 else 'does not flip'}. \"\n",
    "    f\"{Name2} {'flips coin' if flip2 else 'does not flip'}. \"\n",
    "    f\"{Name3} {'flips coin' if flip3 else 'does not flip'}. \"\n",
    "    f\"{Name4} {'flips coin' if flip4 else 'does not flip'}. \"\n",
    "    \"Is the coin still heads up? \"\n",
    ")"
   ]
  },
  {
   "cell_type": "markdown",
   "id": "561ec046",
   "metadata": {},
   "source": [
    "##### Check that the prompt lengths are the same length!"
   ]
  },
  {
   "cell_type": "code",
   "execution_count": 63,
   "id": "42599c3d",
   "metadata": {},
   "outputs": [],
   "source": [
    "def made_up_heuristics(flips):\n",
    "    #the flips location in the array, determines how many flips are done. e.g for position 1, one flip, postion 2, two flips.\n",
    "    total_flips = 0\n",
    "    for i, flip in enumerate(flips):\n",
    "        if flip == 1:\n",
    "            total_flips += (i + 1) \n",
    "    return total_flips"
   ]
  },
  {
   "cell_type": "code",
   "execution_count": 64,
   "id": "121e9fb5",
   "metadata": {},
   "outputs": [
    {
     "name": "stdout",
     "output_type": "stream",
     "text": [
      "['Ab', 'Abs', 'Ac', 'Accept', 'Accessor', 'According', 'Act', 'Active', 'Ad', 'Ada', 'Adam', 'Add', 'Addition', 'Admin', 'Adv', 'Advertisement', 'Af', 'Aff', 'African', 'After', 'Ag', 'Age', 'Agg', 'Ah', 'Air', 'Ak', 'Akt', 'Al', 'Ala', 'Alan', 'Ald', 'Aldrich', 'Ale', 'Alex', 'Alexander', 'Ali', 'Alias', 'Align', 'All', 'Allen', 'Allow', 'Along', 'Alpha', 'Alright', 'Also', 'Alt', 'Am', 'Ama', 'Amazon', 'Amb', 'Americ', 'America', 'Among', 'An', 'Analy', 'Analysis', 'Anchor', 'Anderson', 'Andrew', 'Ang', 'Angel', 'Angle', 'Anim', 'Ann', 'Anna', 'Anne', 'Answer', 'Ant', 'Anth', 'Anthony', 'Anti', 'Anton', 'Any', 'Anyway', 'Ap', 'Apart', 'Api', 'App', 'Appe', 'Appeal', 'Apple', 'April', 'Ar', 'Arab', 'Arc', 'Arch', 'Are', 'Area', 'Arg', 'Ari', 'Arm', 'Arn', 'Around', 'Arr', 'Art', 'Arthur', 'Article', 'As', 'Asc', 'Ash', 'Asia', 'Ask', 'Asp', 'Ass', 'Asset', 'Ast', 'At', 'Ath', 'Att', 'Au', 'Aud', 'Aug', 'August', 'Aust', 'Austin', 'Austral', 'Australia', 'Aut', 'Author', 'Av', 'Aw', 'Ax', 'Axis', 'Ay', 'Aye', 'Az', 'Azure', 'Ba', 'Bab', 'Baby', 'Back', 'Bag', 'Bal', 'Ball', 'Ban', 'Band', 'Bank', 'Bar', 'Barn', 'Bas', 'Base', 'Based', 'Basic', 'Bat', 'Batch', 'Bay', 'Bbb', 'Be', 'Bean', 'Beat', 'Beck', 'Bed', 'Been', 'Before', 'Begin', 'Being', 'Bel', 'Bell', 'Ben', 'Ber', 'Bern', 'Berry', 'Bert', 'Best', 'Bet', 'Better', 'Bey', 'Beyond', 'Bg', 'Bi', 'Bib', 'Big', 'Bigg', 'Bill', 'Bin', 'Bind', 'Bio', 'Bir', 'Bit', 'Bits', 'Bl', 'Black', 'Blo', 'Blob', 'Block', 'Blocks', 'Blue', 'Bo', 'Bob', 'Body', 'Bon', 'Book', 'Bor', 'Border', 'Born', 'Boston', 'Bot', 'Both', 'Bow', 'Box', 'Boy', 'Br', 'Bra', 'Brad', 'Brand', 'Brazil', 'Bre', 'Break', 'Brian', 'Bridge', 'Brien', 'Bring', 'Brit', 'British', 'Bro', 'Broad', 'Bron', 'Brown', 'Bru', 'Brush', 'Bs', 'Bu', 'Buck', 'Bucket', 'Bud', 'Buf', 'Buff', 'Bug', 'Builder', 'Bul', 'Bundle', 'Bur', 'Burn', 'Bus', 'But', 'Button', 'Buy', 'By', 'Bye', 'Ca', 'Cache', 'Cal', 'Call', 'Cam', 'Cambridge', 'Camera', 'Camp', 'Can', 'Canada', 'Cand', 'Canvas', 'Cap', 'Capacity', 'Captain', 'Capture', 'Car', 'Card', 'Care', 'Carl', 'Carol', 'Cart', 'Cas', 'Case', 'Cass', 'Cast', 'Cat', 'Catal', 'Cath', 'Cd', 'Ce', 'Cell', 'Cent', 'Central', 'Ch', 'Cha', 'Chan', 'Changes', 'Channel', 'Chap', 'Chapter', 'Char', 'Charl', 'Charles', 'Charlie', 'Chars', 'Che', 'Chem', 'Chen', 'Cherry', 'Chi', 'Child', 'Children', 'China', 'Chinese', 'Chip', 'Cho', 'Choice', 'Choose', 'Chris', 'Christ', 'Christian', 'Chunk', 'Church', 'Ci', 'Cir', 'Cit', 'Civ', 'Civil', 'Cl', 'Cla', 'Cle', 'Clear', 'Cli', 'Click', 'Clip', 'Clock', 'Close', 'Closed', 'Cloud', 'Club', 'Cluster', 'Co', 'Code', 'Col', 'Cold', 'Cole', 'Coll', 'Collect', 'Collins', 'Color', 'Columb', 'Come', 'Comm', 'Comp', 'Complete', 'Con', 'Conf', 'Cong', 'Conn', 'Connect', 'Connell', 'Connor', 'Cons', 'Consider', 'Console', 'Const', 'Constant', 'Constructor', 'Cont', 'Content', 'Continue', 'Contract', 'Cook', 'Cookie', 'Cool', 'Cop', 'Copy', 'Cor', 'Core', 'Corn', 'Corp', 'Correct', 'Cos', 'Cost', 'Court', 'Cover', 'Cr', 'Cra', 'Cre', 'Crim', 'Crit', 'Critical', 'Cro', 'Cross', 'Cs', 'Ct', 'Cu', 'Culture', 'Cur', 'Current', 'Cut', 'Cy', 'Da', 'Daily', 'Dam', 'Damn', 'Dan', 'Daniel', 'Dar', 'Dark', 'Das', 'Dat', 'Data', 'Date', 'Dav', 'Dave', 'David', 'Davis', 'Daw', 'Day', 'Days', 'Db', 'De', 'Dear', 'Deb', 'Dec', 'December', 'Deep', 'Def', 'Define', 'Deg', 'Del', 'Delay', 'Delta', 'Dem', 'Demo', 'Den', 'Dep', 'Der', 'Des', 'Despite', 'Dest', 'Det', 'Detail', 'Determine', 'Dev', 'Develop', 'Device', 'Di', 'Dick', 'Dictionary', 'Did', 'Didn', 'Die', 'Diff', 'Dig', 'Dim', 'Dir', 'Direction', 'Director', 'Dis', 'Disk', 'Display', 'Distance', 'Div', 'Do', 'Doc', 'Does', 'Dom', 'Don', 'Donald', 'Done', 'Donnell', 'Dor', 'Dot', 'Double', 'Doug', 'Down', 'Dr', 'Drag', 'Draw', 'Drawing', 'Drive', 'Driver', 'Drop', 'Ds', 'Du', 'Due', 'Dun', 'Dur', 'Dutch', 'Early', 'East', 'Ec', 'Ed', 'Edge', 'Edit', 'Edward', 'Eh', 'Einstein', 'Either', 'El', 'Ele', 'Elem', 'Element', 'Elements', 'Elizabeth', 'Ell', 'Else', 'Em', 'Emer', 'Emp', 'Employ', 'Empty', 'En', 'Enc', 'End', 'Energy', 'Eng', 'Engine', 'England', 'English', 'Enjoy', 'Enter', 'Ep', 'Eq', 'Equal', 'Er', 'Eric', 'Err', 'Es', 'Esc', 'Ess', 'Est', 'Et', 'Eu', 'Euro', 'Europe', 'Ev', 'Eval', 'Even', 'Ever', 'Every', 'Evidence', 'Ex', 'Example', 'Excel', 'Excellent', 'Exit', 'Extended', 'Extension', 'Extensions', 'Eye', 'Fa', 'Fab', 'Fac', 'Face', 'Fact', 'Factor', 'Fail', 'Fair', 'Fall', 'False', 'Fan', 'Far', 'Fast', 'Fat', 'Fatal', 'Fc', 'Fe', 'Feb', 'February', 'Fed', 'Fel', 'Fer', 'Few', 'Fi', 'Field', 'Fif', 'Fig', 'Figs', 'Fil', 'File', 'Fill', 'Filter', 'Fin', 'Final', 'Find', 'Fine', 'Finish', 'First', 'Fish', 'Fisher', 'Fit', 'Fix', 'Fixed', 'Fl', 'Fla', 'Flag', 'Flash', 'Flex', 'Flor', 'Florida', 'Flow', 'Flu', 'Fly', 'Fn', 'Fo', 'Focus', 'Follow', 'Font', 'Foo', 'Force', 'Foreign', 'Forget', 'Format', 'Fort', 'Forward', 'Four', 'Fourth', 'Fox', 'Fr', 'Fragment', 'Frame', 'Fran', 'Franc', 'France', 'Frank', 'Fre', 'Fred', 'Free', 'French', 'Fri', 'Friday', 'Fried', 'From', 'Front', 'Fs', 'Fu', 'Fuck', 'Full', 'Fun', 'Future', 'Ga', 'Gab', 'Gal', 'Gall', 'Game', 'Gar', 'Gary', 'Gas', 'Gate', 'Ge', 'Gen', 'Gender', 'Gene', 'Gener', 'General', 'Generator', 'Georg', 'George', 'Ger', 'Germ', 'German', 'Germany', 'Gest', 'Get', 'Getty', 'Gh', 'Gi', 'Gib', 'Gil', 'Git', 'Give', 'Given', 'Gl', 'Gly', 'Go', 'God', 'Going', 'Gold', 'Good', 'Gordon', 'Got', 'Gr', 'Gra', 'Grad', 'Grade', 'Grand', 'Grant', 'Gray', 'Gre', 'Great', 'Greek', 'Green', 'Greg', 'Grid', 'Gro', 'Gs', 'Gu', 'Guest', 'Gui', 'Guide', 'Gun', 'Guy', 'Gy', 'Ha', 'Had', 'Hal', 'Half', 'Hall', 'Ham', 'Hamilton', 'Han', 'Hand', 'Handler', 'Hang', 'Happy', 'Har', 'Hard', 'Harris', 'Harry', 'Hart', 'Has', 'Hash', 'Have', 'Haw', 'Hay', 'Hb', 'He', 'Head', 'Header', 'Heart', 'Heat', 'Hel', 'Hell', 'Helper', 'Hen', 'Hence', 'Henry', 'Hep', 'Her', 'Here', 'Hex', 'Hey', 'Hg', 'Hi', 'Hide', 'Hill', 'Hint', 'Hit', 'Hmm', 'Ho', 'Hol', 'Hold', 'Holder', 'Holy', 'Hom', 'Home', 'Hon', 'Honey', 'Hook', 'Hop', 'Hope', 'Hor', 'Host', 'Hot', 'House', 'Houston', 'How', 'Hs', 'Hu', 'Hub', 'Hug', 'Huh', 'Hum', 'Human', 'Hung', 'Hy', 'Hydro', 'Hz', 'Ibid', 'Ice', 'Ich', 'Icon', 'Id', 'Ide', 'Ids', 'If', 'Ig', 'Ign', 'Ik', 'Il', 'Ill', 'Im', 'Image', 'Imagine', 'Imm', 'Imp', 'In', 'Ind', 'Index', 'India', 'Indian', 'Inf', 'Info', 'Ins', 'Int', 'Inte', 'Integr', 'Inter', 'Interval', 'Into', 'Inv', 'Invest', 'Io', 'Iowa', 'Ip', 'Ir', 'Iran', 'Irish', 'Iron', 'Is', 'Isa', 'Islam', 'Israel', 'Iss', 'Item', 'Iter', 'Ja', 'Jac', 'Jack', 'Jackson', 'Jam', 'James', 'Jan', 'Jane', 'January', 'Jason', 'Java', 'Jay', 'Je', 'Jean', 'Jeff', 'Jen', 'Jer', 'Jes', 'Jess', 'Jesus', 'Jet', 'Jim', 'Jo', 'Job', 'Joe', 'John', 'Johnson', 'Join', 'Jon', 'Jonathan', 'Jones', 'Jordan', 'Jos', 'Jose', 'Joseph', 'Josh', 'Journal', 'Joy', 'Js', 'Json', 'Ju', 'Jud', 'Judge', 'Jul', 'July', 'Jun', 'June', 'Jur', 'Just', 'Justice', 'Jy', 'Ka', 'Kal', 'Kam', 'Kan', 'Kar', 'Kat', 'Kate', 'Kay', 'Ke', 'Keep', 'Kelly', 'Ken', 'Kenn', 'Ker', 'Kernel', 'Kevin', 'Key', 'Keys', 'Kh', 'Ki', 'Kill', 'Kim', 'Kin', 'Kind', 'King', 'Kit', 'Kl', 'Kn', 'Known', 'Ko', 'Ks', 'Ky', 'La', 'Lab', 'Label', 'Labels', 'Lady', 'Lag', 'Lam', 'Land', 'Lang', 'Lar', 'Large', 'Las', 'Last', 'Lat', 'Late', 'Later', 'Lau', 'Law', 'Le', 'Lead', 'Lean', 'Lear', 'Leave', 'Lee', 'Left', 'Lem', 'Lemma', 'Len', 'Leon', 'Les', 'Less', 'Let', 'Lett', 'Lev', 'Level', 'Lew', 'Lewis', 'Lex', 'Li', 'Lib', 'Lic', 'Lie', 'Lif', 'Light', 'Like', 'Lim', 'Limit', 'Lin', 'Lind', 'Line', 'Linear', 'Lines', 'Link', 'Links', 'Linux', 'Lip', 'List', 'Listen', 'Lit', 'Liter', 'Little', 'Liu', 'Live', 'Living', 'Lj', 'Ll', 'Lo', 'Loc', 'Local', 'Locale', 'Location', 'Lock', 'Log', 'Login', 'London', 'Long', 'Look', 'Loop', 'Lord', 'Los', 'Loss', 'Lou', 'Louis', 'Love', 'Low', 'Lu', 'Luc', 'Luke', 'Ly', 'Lyn', 'Ma', 'Mac', 'Mad', 'Made', 'Mag', 'Mah', 'Main', 'Major', 'Make', 'Makes', 'Mal', 'Male', 'Man', 'Mann', 'Many', 'Map', 'Mapper', 'Mar', 'Marc', 'March', 'Marg', 'Maria', 'Marie', 'Mark', 'Marker', 'Marshal', 'Mart', 'Martin', 'Mary', 'Mas', 'Mask', 'Mass', 'Master', 'Mat', 'Match', 'Material', 'Math', 'Matt', 'Matthe', 'Matthew', 'Max', 'May', 'Maybe', 'Mb', 'Mc', 'Me', 'Mean', 'Med', 'Media', 'Medium', 'Meet', 'Meier', 'Mel', 'Mem', 'Member', 'Memory', 'Men', 'Menu', 'Mer', 'Merge', 'Mesh', 'Mess', 'Met', 'Meta', 'Method', 'Mex', 'Mexico', 'Mg', 'Mi', 'Mic', 'Mich', 'Michael', 'Michel', 'Micro', 'Mid', 'Middle', 'Mike', 'Mil', 'Military', 'Mill', 'Miller', 'Min', 'Mind', 'Minimum', 'Minn', 'Mir', 'Mirror', 'Miss', 'Missing', 'Mit', 'Mix', 'Mm', 'Mn', 'Mo', 'Mock', 'Mod', 'Mode', 'Modern', 'Moh', 'Mon', 'Monday', 'Mont', 'Mor', 'More', 'Most', 'Mot', 'Mount', 'Mov', 'Move', 'Movie', 'Moving', 'Mr', 'Ms', 'Mu', 'Much', 'Multi', 'Mur', 'Mus', 'Muslim', 'Must', 'Mut', 'My', 'Na', 'Name', 'Names', 'Nan', 'Nat', 'Native', 'Natural', 'Nature', 'Nav', 'Nd', 'Ne', 'Near', 'Need', 'Neg', 'Neil', 'Neill', 'Net', 'Never', 'New', 'Newton', 'Next', 'Ni', 'Nic', 'Nice', 'Nick', 'Nik', 'Nil', 'No', 'Nob', 'Node', 'Nom', 'Non', 'None', 'Nor', 'Norm', 'Normal', 'North', 'Northern', 'Nos', 'Notable', 'Note', 'Nov', 'November', 'Ns', 'Nu', 'Num', 'Numbers', 'Numer', 'Ob', 'Obj', 'Oct', 'October', 'Od', 'Off', 'Offset', 'Oh', 'Ok', 'Okay', 'Ol', 'Olympic', 'Om', 'Omega', 'On', 'Once', 'One', 'Op', 'Open', 'Opp', 'Ops', 'Opt', 'Option', 'Optional', 'Or', 'Ord', 'Origin', 'Original', 'Os', 'Ot', 'Other', 'Our', 'Out', 'Over', 'Overall', 'Ow', 'Own', 'Owner', 'Ox', 'Oxford', 'Oz', 'Pa', 'Pac', 'Pacific', 'Pack', 'Pad', 'Page', 'Pages', 'Pain', 'Pak', 'Pal', 'Pan', 'Pane', 'Panel', 'Par', 'Para', 'Param', 'Parent', 'Paris', 'Park', 'Pars', 'Parse', 'Part', 'Parts', 'Pas', 'Pass', 'Past', 'Pat', 'Patch', 'Path', 'Patient', 'Patients', 'Patrick', 'Pattern', 'Paul', 'Pay', 'Pb', 'Pe', 'Pear', 'Ped', 'Peer', 'Pen', 'Per', 'Percent', 'Perfect', 'Perm', 'Permission', 'Pers', 'Person', 'Pet', 'Peter', 'Pf', 'Ph', 'Phase', 'Phi', 'Phil', 'Philip', 'Photos', 'Physical', 'Pi', 'Pic', 'Pick', 'Pier', 'Pierre', 'Pin', 'Pix', 'Pixel', 'Pl', 'Plan', 'Platform', 'Play', 'Plug', 'Plus', 'Po', 'Pod', 'Point', 'Pol', 'Polit', 'Political', 'Poly', 'Pool', 'Poor', 'Pop', 'Por', 'Port', 'Portuguese', 'Pos', 'Positive', 'Post', 'Pot', 'Pour', 'Pow', 'Power', 'Pr', 'Pre', 'Pred', 'Pref', 'Prem', 'Prep', 'Pres', 'Present', 'Press', 'Pret', 'Pretty', 'Previous', 'Price', 'Prim', 'Primary', 'Prime', 'Princ', 'Prince', 'Principal', 'Print', 'Prior', 'Priv', 'Pro', 'Probably', 'Progress', 'Prom', 'Promise', 'Proof', 'Prop', 'Property', 'Pros', 'Prot', 'Protein', 'Proto', 'Protocol', 'Provider', 'Proxy', 'Ps', 'Psi', 'Psych', 'Pt', 'Ptr', 'Pu', 'Pull', 'Pur', 'Put', 'Py', 'Qi', 'Qu', 'Quality', 'Que', 'Queen', 'Quest', 'Quick', 'Quite', 'Ra', 'Rad', 'Radio', 'Radius', 'Rail', 'Rain', 'Ram', 'Rand', 'Range', 'Rank', 'Rat', 'Rather', 'Ratio', 'Raw', 'Ray', 'Rb', 'Re', 'Read', 'Reader', 'Real', 'Reason', 'Rec', 'Record', 'Red', 'Ref', 'Refresh', 'Reg', 'Regarding', 'Region', 'Regular', 'Rel', 'Relative', 'Rele', 'Release', 'Rem', 'Remote', 'Remove', 'Ren', 'Rep', 'Req', 'Res', 'Reset', 'Rest', 'Ret', 'Return', 'Rew', 'Rh', 'Ric', 'Rich', 'Richard', 'Rick', 'Riddell', 'Right', 'Ring', 'Risk', 'Ro', 'Road', 'Rob', 'Rober', 'Robert', 'Roche', 'Rock', 'Rod', 'Rog', 'Roger', 'Rol', 'Role', 'Roll', 'Rom', 'Roman', 'Ron', 'Room', 'Root', 'Ros', 'Rose', 'Ross', 'Rot', 'Round', 'Rout', 'Route', 'Row', 'Roy', 'Royal', 'Rs', 'Ru', 'Rub', 'Ruby', 'Run', 'Runner', 'Running', 'Russ', 'Russia', 'Russian', 'Rx', 'Ryan', 'Sa', 'Sad', 'Safe', 'Sah', 'Saint', 'Sal', 'Sales', 'Salt', 'Sam', 'Same', 'Sample', 'San', 'Sand', 'Santa', 'Sar', 'Sarah', 'Sat', 'Saturday', 'Sav', 'Save', 'Say', 'Sb', 'Sc', 'Scal', 'Scan', 'Scene', 'Sch', 'Sche', 'School', 'Score', 'Scott', 'Script', 'Se', 'Sea', 'Season', 'Sec', 'See', 'Seg', 'Sel', 'Select', 'Selected', 'Selector', 'Self', 'Sem', 'Sen', 'Send', 'Sender', 'Sent', 'Sep', 'Sept', 'September', 'Ser', 'Series', 'Serv', 'Server', 'Set', 'Sets', 'Seven', 'Sh', 'Shader', 'Shadow', 'Shall', 'Share', 'Sharp', 'She', 'Shell', 'Sher', 'Shift', 'Sho', 'Shop', 'Short', 'Should', 'Show', 'Shut', 'Si', 'Side', 'Sig', 'Sign', 'Signal', 'Sil', 'Silver', 'Sim', 'Similar', 'Simon', 'Simple', 'Sin', 'Since', 'Sing', 'Sit', 'Six', 'Size', 'Sk', 'Skip', 'Sky', 'Sl', 'Sleep', 'Slice', 'Slot', 'Slow', 'Sm', 'Small', 'Smart', 'Smith', 'Sn', 'Snow', 'So', 'Soc', 'Sock', 'Sol', 'Solve', 'Some', 'Son', 'Song', 'Songs', 'Soon', 'Sounds', 'South', 'Sp', 'Spain', 'Span', 'Spanish', 'Spe', 'Spec', 'Speed', 'Spin', 'Split', 'Sport', 'Spot', 'Spr', 'Spring', 'Springer', 'Squ', 'Sr', 'St', 'Sta', 'Staff', 'Stage', 'Stan', 'Stand', 'Standard', 'Star', 'Start', 'Stat', 'State', 'States', 'Station', 'Stay', 'Std', 'Ste', 'Step', 'Stephen', 'Steve', 'Steven', 'Still', 'Sto', 'Stock', 'Stone', 'Story', 'Str', 'Stream', 'Street', 'Strong', 'Student', 'Study', 'Sty', 'Su', 'Success', 'Sud', 'Suddenly', 'Suite', 'Sum', 'Summer', 'Sun', 'Sunday', 'Sup', 'Sur', 'Sure', 'Sus', 'Sw', 'Swed', 'Sweet', 'Swift', 'Switch', 'Sy', 'Sym', 'Symbol', 'Syn', 'Sync', 'Sys', 'Sz', 'Ta', 'Tab', 'Table', 'Tag', 'Tak', 'Take', 'Tal', 'Tan', 'Target', 'Task', 'Tax', 'Taylor', 'Tc', 'Te', 'Tel', 'Tele', 'Tell', 'Tem', 'Temp', 'Ten', 'Tenn', 'Ter', 'Tex', 'Texas', 'Text', 'Tg', 'Th', 'Than', 'Thank', 'The', 'Theme', 'Then', 'Ther', 'There', 'They', 'This', 'Thom', 'Thomas', 'Throw', 'Thu', 'Thursday', 'Thus', 'Ti', 'Tick', 'Tile', 'Tim', 'Time', 'Times', 'Tip', 'Title', 'To', 'Tok', 'Token', 'Tom', 'Ton', 'Tony', 'Too', 'Tool', 'Tools', 'Top', 'Topic', 'Tor', 'Tot', 'Tour', 'Town', 'Tp', 'Tr', 'Tra', 'Trace', 'Tracker', 'Train', 'Transport', 'Tre', 'Tree', 'Tri', 'Trial', 'Trigger', 'Trim', 'True', 'Trump', 'Trust', 'Try', 'Ts', 'Tu', 'Tube', 'Tue', 'Tuesday', 'Tur', 'Turk', 'Tw', 'Ty', 'Typ', 'Ubuntu', 'Uh', 'Ui', 'Uk', 'Ul', 'Um', 'Un', 'Uniform', 'Unique', 'Unity', 'Univers', 'Uns', 'Up', 'Upper', 'Ur', 'Uri', 'Url', 'Us', 'Use', 'Used', 'Ut', 'Va', 'Val', 'Valid', 'Value', 'Van', 'Var', 'Vari', 'Various', 'Ve', 'Vec', 'Vector', 'Vel', 'Ven', 'Ver', 'Vern', 'Vers', 'Version', 'Vert', 'Very', 'Vi', 'Victor', 'Viet', 'View', 'Vill', 'Vir', 'Vis', 'Visual', 'Vo', 'Voice', 'Vol', 'Volume', 'Vs', 'Wa', 'Wait', 'Wal', 'Walker', 'Wall', 'Wang', 'War', 'Was', 'Washington', 'Wat', 'Water', 'Wave', 'Way', 'We', 'Web', 'Wed', 'Wednesday', 'Welcome', 'Well', 'Were', 'West', 'Western', 'Wh', 'When', 'Whit', 'White', 'Whitney', 'Why', 'Wil', 'Wild', 'Will', 'Willi', 'William', 'Williams', 'Wilson', 'Win', 'Wind', 'Window', 'Winter', 'Wire', 'Wis', 'Wol', 'Wolf', 'Wood', 'Word', 'Work', 'Works', 'Wow', 'Wrap', 'Ws', 'Wu', 'Xi', 'Xml', 'Ya', 'Yang', 'Ye', 'Yeah', 'Year', 'Yep', 'Yesterday', 'Yet', 'Yo', 'York', 'You', 'Young', 'Yu', 'Za', 'Ze', 'Zero', 'Zhang', 'Zip', 'Zn', 'Zone', 'Zoom', '[[', 'ים', 'اب', 'ات', 'ار', 'اس', 'ال', 'ام', 'ان', 'ای', 'ست', 'نا', 'ها', 'ود', 'ور', 'ون', 'あり', 'そう', 'よう']\n"
     ]
    }
   ],
   "source": [
    "one_token_names = get_one_token_names_list(tokenizer, nd)"
   ]
  },
  {
   "cell_type": "code",
   "execution_count": 65,
   "id": "20cd10ec",
   "metadata": {},
   "outputs": [],
   "source": [
    "names = [random.choice(one_token_names) for _ in range(4)]\n",
    "flips = [random.choice([0, 1]) for _ in range(4)]\n",
    "args = names + flips\n",
    "clean_entry = template_4_flips_clean(*args)\n",
    "corrupted_entry = template_4_flips_corrupted(*args)"
   ]
  },
  {
   "cell_type": "code",
   "execution_count": 67,
   "id": "cc74a018",
   "metadata": {},
   "outputs": [],
   "source": [
    "train_num = 5000\n",
    "test_num = 1000"
   ]
  },
  {
   "cell_type": "code",
   "execution_count": 68,
   "id": "cb824352",
   "metadata": {},
   "outputs": [],
   "source": [
    "data_train = [['clean', 'corrupted','answer']]\n",
    "data_test = [['clean', 'corrupted','answer']]\n",
    "\n",
    "for i in range(train_num):\n",
    "    names = [random.choice(one_token_names) for _ in range(4)]\n",
    "    flips = [random.choice([0, 1]) for _ in range(4)]\n",
    "    args = names + flips\n",
    "    clean_entry = template_4_flips_clean(*args)\n",
    "    corrupted_entry = template_4_flips_corrupted(*args)\n",
    "    total_flips = sum(flips)\n",
    "    answer = total_flips % 2 == 0\n",
    "    data_train.append([clean_entry, corrupted_entry, answer])\n",
    "\n",
    "for i in range(test_num):\n",
    "    names = [random.choice(one_token_names) for _ in range(4)]\n",
    "    flips = [random.choice([0, 1]) for _ in range(4)]\n",
    "    args = names + flips\n",
    "    clean_entry = template_4_flips_clean(*args)\n",
    "    corrupted_entry = template_4_flips_corrupted(*args)\n",
    "    total_flips = sum(flips)\n",
    "    answer = total_flips % 2 == 0\n",
    "    data_test.append([clean_entry, corrupted_entry, answer])\n",
    "\n",
    "folder_path = 'datasets_csv/prompts_id_0'\n",
    "\n",
    "os.makedirs(folder_path, exist_ok=True)\n",
    "with open('datasets_csv/prompts_id_0/train.csv', 'w', newline='', encoding='utf-8') as f_train:\n",
    "    writer = csv.writer(f_train)\n",
    "    writer.writerows(data_train)\n",
    "\n",
    "with open('datasets_csv/prompts_id_0/test.csv', 'w', newline='', encoding='utf-8') as f_test:\n",
    "    writer = csv.writer(f_test)\n",
    "    writer.writerows(data_test)"
   ]
  },
  {
   "cell_type": "code",
   "execution_count": 69,
   "id": "886bc422",
   "metadata": {},
   "outputs": [],
   "source": [
    "data_train = [['clean', 'corrupted','answer']]\n",
    "data_test = [['clean', 'corrupted','answer']]\n",
    "\n",
    "for i in range(train_num):\n",
    "    names = [random.choice(one_token_names) for _ in range(4)]\n",
    "    flips = [random.choice([0, 1]) for _ in range(4)]\n",
    "    args = names + flips\n",
    "    clean_entry = template_4_flips_clean(*args)\n",
    "    corrupted_entry = template_4_flips_corrupted(*args)\n",
    "    total_flips = sum(flips)\n",
    "    answer = total_flips % 2 != 0\n",
    "    data_train.append([clean_entry, corrupted_entry, answer])\n",
    "\n",
    "for i in range(test_num):\n",
    "    names = [random.choice(one_token_names) for _ in range(4)]\n",
    "    flips = [random.choice([0, 1]) for _ in range(4)]\n",
    "    args = names + flips\n",
    "    clean_entry = template_4_flips_clean(*args)\n",
    "    corrupted_entry = template_4_flips_corrupted(*args)\n",
    "    total_flips = sum(flips)\n",
    "    answer = total_flips % 2 != 0\n",
    "    data_test.append([clean_entry, corrupted_entry, answer])\n",
    "\n",
    "folder_path = 'datasets_csv/prompts_id_1'\n",
    "\n",
    "os.makedirs(folder_path, exist_ok=True)\n",
    "with open('datasets_csv/prompts_id_1/train.csv', 'w', newline='', encoding='utf-8') as f_train:\n",
    "    writer = csv.writer(f_train)\n",
    "    writer.writerows(data_train)\n",
    "\n",
    "with open('datasets_csv/prompts_id_1/test.csv', 'w', newline='', encoding='utf-8') as f_test:\n",
    "    writer = csv.writer(f_test)\n",
    "    writer.writerows(data_test)"
   ]
  },
  {
   "cell_type": "code",
   "execution_count": 70,
   "id": "d45d6516",
   "metadata": {},
   "outputs": [],
   "source": [
    "data_train = [['clean', 'corrupted','answer']]\n",
    "data_test = [['clean', 'corrupted','answer']]\n",
    "\n",
    "for i in range(train_num):\n",
    "    names = [random.choice(one_token_names) for _ in range(4)]\n",
    "    flips = [random.choice([0, 1]) for _ in range(4)]\n",
    "    args = names + flips\n",
    "    clean_entry = template_4_flips_clean(*args)\n",
    "    corrupted_entry = template_4_flips_corrupted(*args)\n",
    "    total_flips = made_up_heuristics(flips)\n",
    "    answer = total_flips % 2 == 0\n",
    "    data_train.append([clean_entry, corrupted_entry, answer])\n",
    "\n",
    "for i in range(test_num):\n",
    "    names = [random.choice(one_token_names) for _ in range(4)]\n",
    "    flips = [random.choice([0, 1]) for _ in range(4)]\n",
    "    args = names + flips\n",
    "    clean_entry = template_4_flips_clean(*args)\n",
    "    corrupted_entry = template_4_flips_corrupted(*args)\n",
    "    total_flips = made_up_heuristics(flips)\n",
    "    answer = total_flips % 2 == 0\n",
    "    data_test.append([clean_entry, corrupted_entry, answer])\n",
    "\n",
    "folder_path = 'datasets_csv/prompts_id_2'\n",
    "\n",
    "os.makedirs(folder_path, exist_ok=True)\n",
    "with open('datasets_csv/prompts_id_2/train.csv', 'w', newline='', encoding='utf-8') as f_train:\n",
    "    writer = csv.writer(f_train)\n",
    "    writer.writerows(data_train)\n",
    "\n",
    "with open('datasets_csv/prompts_id_2/test.csv', 'w', newline='', encoding='utf-8') as f_test:\n",
    "    writer = csv.writer(f_test)\n",
    "    writer.writerows(data_test)"
   ]
  }
 ],
 "metadata": {
  "kernelspec": {
   "display_name": ".venv",
   "language": "python",
   "name": "python3"
  },
  "language_info": {
   "codemirror_mode": {
    "name": "ipython",
    "version": 3
   },
   "file_extension": ".py",
   "mimetype": "text/x-python",
   "name": "python",
   "nbconvert_exporter": "python",
   "pygments_lexer": "ipython3",
   "version": "3.12.3"
  }
 },
 "nbformat": 4,
 "nbformat_minor": 5
}
