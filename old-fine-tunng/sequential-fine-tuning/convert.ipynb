{
 "cells": [
  {
   "cell_type": "code",
   "execution_count": 9,
   "id": "b9f4d120",
   "metadata": {},
   "outputs": [],
   "source": [
    "import json\n",
    "import csv\n",
    "import os \n",
    "from pathlib import Path\n",
    "\n",
    "def convert_csv_to_json(file_csv: str, percentage_split: float, output_dir_json: str, output_dir_csv) -> None:\n",
    "    filename_train_jsonl = os.path.join(output_dir_json, \"train.jsonl\")\n",
    "    filename_test_jsonl = os.path.join(output_dir_json, \"test.jsonl\")\n",
    "    os.makedirs(output_dir_json, exist_ok=True)\n",
    "\n",
    "    filename_train_csv = os.path.join(output_dir_csv, \"train.csv\")\n",
    "    filename_test_csv = os.path.join(output_dir_csv, \"test.csv\")\n",
    "    os.makedirs(output_dir_csv, exist_ok=True)\n",
    "\n",
    "    data_json = []\n",
    "    data_csv = []\n",
    "    with open(file_csv, 'r', newline='', encoding='utf-8') as csvfile:\n",
    "        reader = csv.reader(csvfile)\n",
    "        next(reader)\n",
    "        for row in reader:\n",
    "            data_json.append({\"instruction\": \"\", \"input\": row[0], \"output\": row[2]})\n",
    "            data_csv.append(row)\n",
    "\n",
    "    split_index = int(len(data_json) * percentage_split)\n",
    "\n",
    "    train_data_json = data_json[:split_index]\n",
    "    test_data_json = data_json[split_index:]\n",
    "\n",
    "    train_data_csv = data_csv[:split_index]\n",
    "    test_data_csv = data_csv[split_index:]\n",
    "\n",
    "\n",
    "    with open(filename_train_jsonl, 'w', encoding='utf-8') as f:\n",
    "        for item in train_data_json:\n",
    "            json_line = json.dumps(item)\n",
    "            f.write(json_line + '\\n')\n",
    "\n",
    "    with open(filename_test_jsonl, 'w', encoding='utf-8') as f:\n",
    "        for item in test_data_json:\n",
    "            json_line = json.dumps(item)\n",
    "            f.write(json_line + '\\n')\n",
    "\n",
    "    with open(filename_train_csv, 'w', newline='', encoding='utf-8') as f:\n",
    "        writer = csv.writer(f)\n",
    "        writer.writerow([\"clean\",\"corrupted\",\"label\"])\n",
    "        writer.writerows(train_data_csv)\n",
    "\n",
    "    with open(filename_test_csv, 'w', newline='', encoding='utf-8') as f:\n",
    "        writer = csv.writer(f)\n",
    "        writer.writerow([\"clean\",\"corrupted\",\"label\"])\n",
    "        writer.writerows(test_data_csv)\n",
    "\n",
    "    return filename_train_jsonl, filename_test_jsonl\n"
   ]
  },
  {
   "cell_type": "code",
   "execution_count": 10,
   "id": "d8f22b6e",
   "metadata": {},
   "outputs": [],
   "source": [
    "files = ['dataset_raw/data/Add_Sub_100.csv',\n",
    "         'dataset_raw/data/function_data.csv',\n",
    "         'dataset_raw/data/sequence_reasoning_data.csv']\n",
    "\n",
    "for file in files:\n",
    "    path = Path(file)\n",
    "    convert_csv_to_json(file, 0.9, f'dataset_json/{path.name}', f'dataset_csv/{path.name}')"
   ]
  }
 ],
 "metadata": {
  "kernelspec": {
   "display_name": ".venv",
   "language": "python",
   "name": "python3"
  },
  "language_info": {
   "codemirror_mode": {
    "name": "ipython",
    "version": 3
   },
   "file_extension": ".py",
   "mimetype": "text/x-python",
   "name": "python",
   "nbconvert_exporter": "python",
   "pygments_lexer": "ipython3",
   "version": "3.12.3"
  }
 },
 "nbformat": 4,
 "nbformat_minor": 5
}
