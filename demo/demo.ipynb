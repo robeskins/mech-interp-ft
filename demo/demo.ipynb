{
 "cells": [
  {
   "cell_type": "markdown",
   "id": "018e5636",
   "metadata": {},
   "source": [
    "### Generating graphs\n",
    "- We define some helper functions in utils that make ths process simple and can be intergrated into a fine-tuning pipeline.\n",
    "- We demo how this works in this notebook with the demo data"
   ]
  },
  {
   "cell_type": "code",
   "execution_count": 1,
   "id": "484bd50a",
   "metadata": {},
   "outputs": [],
   "source": [
    "import os\n",
    "os.environ[\"CUDA_VISIBLE_DEVICES\"] = \"0\""
   ]
  },
  {
   "cell_type": "code",
   "execution_count": null,
   "id": "ac253696",
   "metadata": {},
   "outputs": [],
   "source": [
    "from utils.eap_utils import run_eap_kl, run_metrics, run_eap_kl_baseline, load_adapter_into_hooked_transformer\n",
    "from eap.graph import Graph"
   ]
  },
  {
   "cell_type": "code",
   "execution_count": 3,
   "id": "b35caacf",
   "metadata": {},
   "outputs": [],
   "source": [
    "checkpoint_folder = 'demo_data/addsub_checkpoint'\n",
    "model_name = \"EleutherAI/pythia-1.4b-deduped\"\n",
    "transformer_lens_name = \"pythia-1.4B-deduped\"\n",
    "model_cache_dir = \"/mnt/faster0/rje41/.cache/huggingface\" #Change\n",
    "validation_dataset_csv = 'demo_data/AddSub_dataset/datasets_csv/validation.csv'\n",
    "loader_n = 6 "
   ]
  },
  {
   "cell_type": "code",
   "execution_count": 4,
   "id": "2b457487",
   "metadata": {},
   "outputs": [
    {
     "name": "stdout",
     "output_type": "stream",
     "text": [
      "Loaded pretrained model pythia-1.4B-deduped into HookedTransformer\n"
     ]
    },
    {
     "name": "stderr",
     "output_type": "stream",
     "text": [
      "100%|██████████| 100/100 [06:19<00:00,  3.79s/it]\n"
     ]
    }
   ],
   "source": [
    "graph, model = run_eap_kl(checkpoint_folder, \n",
    "           model_name, \n",
    "           transformer_lens_name, \n",
    "           model_cache_dir,\n",
    "           validation_dataset_csv,\n",
    "           loader_n)"
   ]
  },
  {
   "cell_type": "markdown",
   "id": "29475396",
   "metadata": {},
   "source": [
    "### Evaluating Graphs\n",
    "\n",
    "- We use the previous model to evaluate, however you can use this helper function to define a moddel and graph from files"
   ]
  },
  {
   "cell_type": "code",
   "execution_count": null,
   "id": "3cf2db54",
   "metadata": {},
   "outputs": [],
   "source": [
    "# model = load_adapter_into_hooked_transformer(\n",
    "#     adapter_path = checkpoint_folder,\n",
    "#     hf_model_name = model_name,\n",
    "#     translens_model_name= transformer_lens_name,\n",
    "#     adapter = True,\n",
    "#     scratch_cache_dir=model_cache_dir\n",
    "# )\n",
    "\n",
    "# graph = Graph.from_json('demo/demo_data/addsub_graph.json')"
   ]
  },
  {
   "cell_type": "code",
   "execution_count": 5,
   "id": "83ab9a41",
   "metadata": {},
   "outputs": [
    {
     "name": "stdout",
     "output_type": "stream",
     "text": [
      "Pruned the graph!\n"
     ]
    },
    {
     "name": "stderr",
     "output_type": "stream",
     "text": [
      "100%|██████████| 100/100 [00:38<00:00,  2.58it/s]\n",
      "100%|██████████| 100/100 [01:09<00:00,  1.44it/s]\n"
     ]
    },
    {
     "name": "stdout",
     "output_type": "stream",
     "text": [
      "Baseline performance: 0.00043311656918376684\n",
      "Circuit performance: 0.0004081630031578243\n",
      "Faithfulness: 2.4953566025942564e-05\n",
      "Percentage of model performance achieved by the circuit: 94.24%\n"
     ]
    },
    {
     "name": "stderr",
     "output_type": "stream",
     "text": [
      "100%|██████████| 100/100 [00:38<00:00,  2.58it/s]\n",
      "100%|██████████| 100/100 [00:50<00:00,  1.98it/s]"
     ]
    },
    {
     "name": "stdout",
     "output_type": "stream",
     "text": [
      "Baseline accuracy: 0.95333331823349\n",
      "Circuit accuracy: 0.871666669845581\n"
     ]
    },
    {
     "name": "stderr",
     "output_type": "stream",
     "text": [
      "\n"
     ]
    }
   ],
   "source": [
    "data,graph = run_metrics(graph, model, validation_dataset_csv, loader_n, percentage_prune = 0.05)"
   ]
  },
  {
   "cell_type": "code",
   "execution_count": 6,
   "id": "889812be",
   "metadata": {},
   "outputs": [
    {
     "name": "stdout",
     "output_type": "stream",
     "text": [
      "{'model_kl': 0.00043311656918376684, 'circuit_kl': 0.0004081630031578243, 'faithfulness_kl': 2.4953566025942564e-05, 'percentage_performance_kl': 94.23860276854127, 'model_accuracy': 0.95333331823349, 'graph_accuracy': 0.871666669845581}\n"
     ]
    }
   ],
   "source": [
    "print(data)"
   ]
  }
 ],
 "metadata": {
  "kernelspec": {
   "display_name": ".venv",
   "language": "python",
   "name": "python3"
  },
  "language_info": {
   "codemirror_mode": {
    "name": "ipython",
    "version": 3
   },
   "file_extension": ".py",
   "mimetype": "text/x-python",
   "name": "python",
   "nbconvert_exporter": "python",
   "pygments_lexer": "ipython3",
   "version": "3.12.3"
  }
 },
 "nbformat": 4,
 "nbformat_minor": 5
}
