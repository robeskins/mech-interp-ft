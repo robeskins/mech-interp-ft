{
 "cells": [
  {
   "cell_type": "code",
   "execution_count": 1,
   "id": "945b66e3",
   "metadata": {},
   "outputs": [
    {
     "name": "stdout",
     "output_type": "stream",
     "text": [
      "0 0\n"
     ]
    }
   ],
   "source": [
    "import pandas as pd\n",
    "\n",
    "dataset_path = '/homes/rje41/mech-interp-ft/experiment1/base_tasks_2d/AddBase10/datasets_csv/train.csv'\n",
    "df = pd.read_csv(dataset_path)\n",
    "\n",
    "base_10_count = 0\n",
    "base_count = 0\n",
    "for idx, row in df.iterrows():\n",
    "    # remove prompt text\n",
    "    prompt = row[\"clean\"].replace(\"Solve the following and respond with only the final answer:\", \"\")\n",
    "    # strip spaces and trailing '='\n",
    "    prompt = prompt.strip().rstrip(\"=\")\n",
    "    \n",
    "    try:\n",
    "        answer = eval(prompt)\n",
    "        if answer == row[\"answer\"]:\n",
    "            base_10_count += 1 \n",
    "        else:\n",
    "            base_count +=1\n",
    "    except Exception:\n",
    "        answer = None\n",
    "\n",
    "print(base_10_count,base_count)\n"
   ]
  },
  {
   "cell_type": "code",
   "execution_count": 16,
   "id": "97aafb4c",
   "metadata": {},
   "outputs": [
    {
     "name": "stdout",
     "output_type": "stream",
     "text": [
      "660 2040\n"
     ]
    }
   ],
   "source": [
    "import pandas as pd\n",
    "\n",
    "dataset_path = '/homes/rje41/mech-interp-ft/experiment1/base_tasks_2d/AddBase9/datasets_csv/train.csv'\n",
    "df = pd.read_csv(dataset_path)\n",
    "\n",
    "base_10_count = 0\n",
    "base_count = 0\n",
    "for idx, row in df.iterrows():\n",
    "    # remove prompt text\n",
    "    prompt = row[\"clean\"].replace(\"Solve the following and respond with only the final answer:\", \"\")\n",
    "    # strip spaces and trailing '='\n",
    "    prompt = prompt.strip().rstrip(\"=\")\n",
    "    \n",
    "    try:\n",
    "        answer = eval(prompt)\n",
    "        if answer == row[\"answer\"]:\n",
    "            base_10_count += 1 \n",
    "        else:\n",
    "            base_count +=1\n",
    "    except Exception:\n",
    "        answer = None\n",
    "\n",
    "print(base_10_count,base_count)"
   ]
  }
 ],
 "metadata": {
  "kernelspec": {
   "display_name": ".venv",
   "language": "python",
   "name": "python3"
  },
  "language_info": {
   "codemirror_mode": {
    "name": "ipython",
    "version": 3
   },
   "file_extension": ".py",
   "mimetype": "text/x-python",
   "name": "python",
   "nbconvert_exporter": "python",
   "pygments_lexer": "ipython3",
   "version": "3.12.3"
  }
 },
 "nbformat": 4,
 "nbformat_minor": 5
}
