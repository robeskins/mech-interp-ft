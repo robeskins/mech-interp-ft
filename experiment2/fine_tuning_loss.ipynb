{
 "cells": [
  {
   "cell_type": "code",
   "execution_count": null,
   "id": "debb1152",
   "metadata": {},
   "outputs": [],
   "source": [
    "import torch\n",
    "import torch.nn as nn\n",
    "import torch.nn.functional as F\n",
    "from torch.utils.data import DataLoader, Dataset\n",
    "import os \n",
    "from pathlib import Path\n",
    "from utils.ft_utils import setup_model_peft, convert_csv_to_json, load_and_preprocess_data\n",
    "from transformers import DataCollatorForSeq2Seq\n",
    "import random"
   ]
  },
  {
   "cell_type": "code",
   "execution_count": 69,
   "id": "fb8b2344",
   "metadata": {},
   "outputs": [],
   "source": [
    "def get_tokenized_datasets(dataset_path: str, tokenizer):\n",
    "    train_file = Path(dataset_path) / 'train.csv'\n",
    "    val_file = Path(dataset_path) / 'validation.csv'\n",
    "    parent_path = Path(dataset_path).parent\n",
    "\n",
    "    filename_train_jsonl, filename_test_jsonl = convert_csv_to_json(\n",
    "        str(train_file), str(val_file), str(parent_path)\n",
    "    )\n",
    "    tokenized_datasets = load_and_preprocess_data(filename_train_jsonl, \n",
    "                                                  filename_test_jsonl, \n",
    "                                                  tokenizer,\n",
    "                                                  max_length = 32)\n",
    "    return tokenized_datasets"
   ]
  },
  {
   "cell_type": "markdown",
   "id": "c2ffef6c",
   "metadata": {},
   "source": [
    "### Task A diff"
   ]
  },
  {
   "cell_type": "code",
   "execution_count": 73,
   "id": "5c5f1d52",
   "metadata": {},
   "outputs": [],
   "source": [
    "import os \n",
    "from pathlib import Path\n",
    "import json\n",
    "\n",
    "sq_main_path = '/mnt/faster0/rje41/checkpoints/results/experiment_2/forgetting_graph_set_0_lr_false'\n",
    "checkpoints_path = Path('/mnt/faster0/rje41/checkpoints/experiment_2/forgetting_graph_set_0_lr_false')\n",
    "\n",
    "dirs = [d for d in os.listdir(sq_main_path) if os.path.isdir(os.path.join(sq_main_path, d))]\n",
    "\n",
    "experiments = {}\n",
    "for exp_folder in dirs:\n",
    "    exp_path = os.path.join(sq_main_path, exp_folder)\n",
    "    task_subfolders = [d for d in os.listdir(exp_path) if os.path.isdir(os.path.join(exp_path, d))]\n",
    "    task_a_folder = [d for d in task_subfolders if 'task_a' in d][0]\n",
    "    task_b_folder = [d for d in task_subfolders if 'task_b' in d][0]\n",
    "\n",
    "    task_a_folder_path = os.path.join(exp_path, task_a_folder)\n",
    "    task_b_folder_path = os.path.join(exp_path, task_b_folder)\n",
    "    checkpoint_0_a = [d for d in os.listdir(task_a_folder_path) if 'checkpoint-0' in d][0]\n",
    "    checkpoint_270_a = [d for d in os.listdir(task_a_folder_path) if 'checkpoint-270' in d][0]\n",
    "\n",
    "    checkpoint_0_a_path = os.path.join(task_a_folder_path, checkpoint_0_a)\n",
    "    checkpoint_270_a_path = os.path.join(task_a_folder_path, checkpoint_270_a)\n",
    "   \n",
    "    graph_0_a_path = Path(checkpoint_0_a_path) / 'graph.json'\n",
    "    graph_270_a_path = Path(checkpoint_270_a_path) / 'graph.json'\n",
    "\n",
    "    final_path = Path(checkpoints_path) / Path(exp_path).name / 'checkpoints' / 'checkpoint-270'\n",
    "\n",
    "    task_name = Path(exp_path).name\n",
    "    parts = task_name.split('->') \n",
    "    experiments[Path(exp_path).name ] = {\n",
    "        'task_0_a_graph':graph_0_a_path,\n",
    "        'task_270_a_graph':graph_270_a_path,\n",
    "    }\n",
    "\n",
    "dirs = [d for d in os.listdir(sq_main_path) if os.path.isdir(os.path.join(checkpoints_path, d))]\n",
    "\n",
    "for check_folder in dirs:\n",
    "    exp_path = os.path.join(checkpoints_path, check_folder)\n",
    "    dataset_locations = Path(exp_path) / 'task_info.json'\n",
    "    checkpoint_folder = [os.path.join(exp_path, d) \n",
    "                          for d in os.listdir(exp_path) \n",
    "                          if os.path.isdir(os.path.join(exp_path, d)) and d.startswith('checkpoint')][0]\n",
    "    \n",
    "    checkpoint_0_a_path = Path(checkpoint_folder) / 'checkpoint-0'\n",
    "    checkpoint_270_a_path = Path(checkpoint_folder) / 'checkpoint-270'\n",
    "\n",
    "    with open(dataset_locations, 'r') as f:\n",
    "        data = json.load(f)\n",
    "    task_a_dataset = data.get('task_a') \n",
    "\n",
    "    if Path(exp_path).name in experiments:\n",
    "        experiments[Path(exp_path).name].update({\n",
    "            'dataset_path': task_a_dataset,\n",
    "            'checkpoint_0_a': checkpoint_0_a_path,\n",
    "            'checkpoint_270_a': checkpoint_270_a_path\n",
    "        })\n",
    "    else:\n",
    "        experiments[Path(exp_path).name] = {\n",
    "            'dataset_path': task_a_dataset,\n",
    "            'checkpoint_0_a': checkpoint_0_a_path,\n",
    "            'checkpoint_270_a': checkpoint_270_a_path\n",
    "        }"
   ]
  },
  {
   "cell_type": "code",
   "execution_count": null,
   "id": "1021f0a3",
   "metadata": {},
   "outputs": [
    {
     "name": "stdout",
     "output_type": "stream",
     "text": [
      "trainable params: 6,291,456 || all params: 1,420,939,264 || trainable%: 0.4428\n"
     ]
    },
    {
     "data": {
      "application/vnd.jupyter.widget-view+json": {
       "model_id": "d5a0b82c0eb54bd2a8aeb05af44ab2a9",
       "version_major": 2,
       "version_minor": 0
      },
      "text/plain": [
       "Generating train split: 0 examples [00:00, ? examples/s]"
      ]
     },
     "metadata": {},
     "output_type": "display_data"
    },
    {
     "data": {
      "application/vnd.jupyter.widget-view+json": {
       "model_id": "66e10dcfafff42319a34b749e8bd1753",
       "version_major": 2,
       "version_minor": 0
      },
      "text/plain": [
       "Generating validation split: 0 examples [00:00, ? examples/s]"
      ]
     },
     "metadata": {},
     "output_type": "display_data"
    },
    {
     "data": {
      "application/vnd.jupyter.widget-view+json": {
       "model_id": "07217d1f54a84a50a8472aba957b92be",
       "version_major": 2,
       "version_minor": 0
      },
      "text/plain": [
       "Map:   0%|          | 0/3600 [00:00<?, ? examples/s]"
      ]
     },
     "metadata": {},
     "output_type": "display_data"
    },
    {
     "data": {
      "application/vnd.jupyter.widget-view+json": {
       "model_id": "d24f740221ba4da9b143c0f4240174aa",
       "version_major": 2,
       "version_minor": 0
      },
      "text/plain": [
       "Map:   0%|          | 0/400 [00:00<?, ? examples/s]"
      ]
     },
     "metadata": {},
     "output_type": "display_data"
    },
    {
     "name": "stdout",
     "output_type": "stream",
     "text": [
      "trainable params: 6,291,456 || all params: 1,420,939,264 || trainable%: 0.4428\n",
      "Loss diff -0.13679968687441765\n",
      "JC 0.5482576416293224\n",
      "trainable params: 6,291,456 || all params: 1,420,939,264 || trainable%: 0.4428\n"
     ]
    },
    {
     "data": {
      "application/vnd.jupyter.widget-view+json": {
       "model_id": "67f8ff2a79e34d58a689d247bc8bfeb5",
       "version_major": 2,
       "version_minor": 0
      },
      "text/plain": [
       "Generating train split: 0 examples [00:00, ? examples/s]"
      ]
     },
     "metadata": {},
     "output_type": "display_data"
    },
    {
     "data": {
      "application/vnd.jupyter.widget-view+json": {
       "model_id": "693d12b8d8aa4b5cb7c3670790a41528",
       "version_major": 2,
       "version_minor": 0
      },
      "text/plain": [
       "Generating validation split: 0 examples [00:00, ? examples/s]"
      ]
     },
     "metadata": {},
     "output_type": "display_data"
    },
    {
     "data": {
      "application/vnd.jupyter.widget-view+json": {
       "model_id": "551a8687dd7a46eda9c2eaa66a0439c2",
       "version_major": 2,
       "version_minor": 0
      },
      "text/plain": [
       "Map:   0%|          | 0/3600 [00:00<?, ? examples/s]"
      ]
     },
     "metadata": {},
     "output_type": "display_data"
    },
    {
     "data": {
      "application/vnd.jupyter.widget-view+json": {
       "model_id": "b58ba625cb3245628f077da17c8caff8",
       "version_major": 2,
       "version_minor": 0
      },
      "text/plain": [
       "Map:   0%|          | 0/400 [00:00<?, ? examples/s]"
      ]
     },
     "metadata": {},
     "output_type": "display_data"
    },
    {
     "name": "stdout",
     "output_type": "stream",
     "text": [
      "trainable params: 6,291,456 || all params: 1,420,939,264 || trainable%: 0.4428\n",
      "Loss diff 12.113619514793932\n",
      "JC 0.4639514292942069\n",
      "trainable params: 6,291,456 || all params: 1,420,939,264 || trainable%: 0.4428\n"
     ]
    },
    {
     "data": {
      "application/vnd.jupyter.widget-view+json": {
       "model_id": "081dfb4b8791409c8a37eb65af1d98a6",
       "version_major": 2,
       "version_minor": 0
      },
      "text/plain": [
       "Generating train split: 0 examples [00:00, ? examples/s]"
      ]
     },
     "metadata": {},
     "output_type": "display_data"
    },
    {
     "data": {
      "application/vnd.jupyter.widget-view+json": {
       "model_id": "611ffa5548ca4ce785359d8d674128e0",
       "version_major": 2,
       "version_minor": 0
      },
      "text/plain": [
       "Generating validation split: 0 examples [00:00, ? examples/s]"
      ]
     },
     "metadata": {},
     "output_type": "display_data"
    },
    {
     "data": {
      "application/vnd.jupyter.widget-view+json": {
       "model_id": "017b859d6b84432a8a5767df6912d686",
       "version_major": 2,
       "version_minor": 0
      },
      "text/plain": [
       "Map:   0%|          | 0/3600 [00:00<?, ? examples/s]"
      ]
     },
     "metadata": {},
     "output_type": "display_data"
    },
    {
     "data": {
      "application/vnd.jupyter.widget-view+json": {
       "model_id": "a9e00d17d91e453fa9a4623d7a7c1d57",
       "version_major": 2,
       "version_minor": 0
      },
      "text/plain": [
       "Map:   0%|          | 0/400 [00:00<?, ? examples/s]"
      ]
     },
     "metadata": {},
     "output_type": "display_data"
    },
    {
     "name": "stdout",
     "output_type": "stream",
     "text": [
      "trainable params: 6,291,456 || all params: 1,420,939,264 || trainable%: 0.4428\n",
      "Loss diff 46.78446713012004\n",
      "JC 0.3754010695187166\n",
      "trainable params: 6,291,456 || all params: 1,420,939,264 || trainable%: 0.4428\n"
     ]
    },
    {
     "data": {
      "application/vnd.jupyter.widget-view+json": {
       "model_id": "56658b996bb7441fb1ecd166cb57f625",
       "version_major": 2,
       "version_minor": 0
      },
      "text/plain": [
       "Generating train split: 0 examples [00:00, ? examples/s]"
      ]
     },
     "metadata": {},
     "output_type": "display_data"
    },
    {
     "data": {
      "application/vnd.jupyter.widget-view+json": {
       "model_id": "0dd41ed39b83462e8ba00cb193b5b90e",
       "version_major": 2,
       "version_minor": 0
      },
      "text/plain": [
       "Generating validation split: 0 examples [00:00, ? examples/s]"
      ]
     },
     "metadata": {},
     "output_type": "display_data"
    },
    {
     "data": {
      "application/vnd.jupyter.widget-view+json": {
       "model_id": "a0d845c65c6a43678047854aee5e8eb6",
       "version_major": 2,
       "version_minor": 0
      },
      "text/plain": [
       "Map:   0%|          | 0/3600 [00:00<?, ? examples/s]"
      ]
     },
     "metadata": {},
     "output_type": "display_data"
    },
    {
     "data": {
      "application/vnd.jupyter.widget-view+json": {
       "model_id": "d9b4d535188c4c528d31a377fc8f4074",
       "version_major": 2,
       "version_minor": 0
      },
      "text/plain": [
       "Map:   0%|          | 0/401 [00:00<?, ? examples/s]"
      ]
     },
     "metadata": {},
     "output_type": "display_data"
    },
    {
     "name": "stdout",
     "output_type": "stream",
     "text": [
      "trainable params: 6,291,456 || all params: 1,420,939,264 || trainable%: 0.4428\n",
      "Loss diff 145.5270423676229\n",
      "JC 0.35972744360902253\n",
      "trainable params: 6,291,456 || all params: 1,420,939,264 || trainable%: 0.4428\n"
     ]
    },
    {
     "data": {
      "application/vnd.jupyter.widget-view+json": {
       "model_id": "8af5e9baf7974dff877469252a27a42a",
       "version_major": 2,
       "version_minor": 0
      },
      "text/plain": [
       "Generating train split: 0 examples [00:00, ? examples/s]"
      ]
     },
     "metadata": {},
     "output_type": "display_data"
    },
    {
     "data": {
      "application/vnd.jupyter.widget-view+json": {
       "model_id": "f24bb2fb66364c43834ba9c1a62d80d1",
       "version_major": 2,
       "version_minor": 0
      },
      "text/plain": [
       "Generating validation split: 0 examples [00:00, ? examples/s]"
      ]
     },
     "metadata": {},
     "output_type": "display_data"
    },
    {
     "data": {
      "application/vnd.jupyter.widget-view+json": {
       "model_id": "99b903d0745f4a6f8d00079c95ce0f37",
       "version_major": 2,
       "version_minor": 0
      },
      "text/plain": [
       "Map:   0%|          | 0/3600 [00:00<?, ? examples/s]"
      ]
     },
     "metadata": {},
     "output_type": "display_data"
    },
    {
     "data": {
      "application/vnd.jupyter.widget-view+json": {
       "model_id": "7ba305125a2b48be8fd912f84a81202d",
       "version_major": 2,
       "version_minor": 0
      },
      "text/plain": [
       "Map:   0%|          | 0/400 [00:00<?, ? examples/s]"
      ]
     },
     "metadata": {},
     "output_type": "display_data"
    },
    {
     "name": "stdout",
     "output_type": "stream",
     "text": [
      "trainable params: 6,291,456 || all params: 1,420,939,264 || trainable%: 0.4428\n",
      "Loss diff 116.81304143073785\n",
      "JC 0.3856929063154744\n",
      "trainable params: 6,291,456 || all params: 1,420,939,264 || trainable%: 0.4428\n"
     ]
    },
    {
     "data": {
      "application/vnd.jupyter.widget-view+json": {
       "model_id": "b7d85dddf61449778b6cca6bf7c54669",
       "version_major": 2,
       "version_minor": 0
      },
      "text/plain": [
       "Generating train split: 0 examples [00:00, ? examples/s]"
      ]
     },
     "metadata": {},
     "output_type": "display_data"
    },
    {
     "data": {
      "application/vnd.jupyter.widget-view+json": {
       "model_id": "ab1566ec40d34a3f92b5d2c29d29af3b",
       "version_major": 2,
       "version_minor": 0
      },
      "text/plain": [
       "Generating validation split: 0 examples [00:00, ? examples/s]"
      ]
     },
     "metadata": {},
     "output_type": "display_data"
    },
    {
     "data": {
      "application/vnd.jupyter.widget-view+json": {
       "model_id": "081118550e354aca8058080ca8181489",
       "version_major": 2,
       "version_minor": 0
      },
      "text/plain": [
       "Map:   0%|          | 0/3600 [00:00<?, ? examples/s]"
      ]
     },
     "metadata": {},
     "output_type": "display_data"
    },
    {
     "data": {
      "application/vnd.jupyter.widget-view+json": {
       "model_id": "528b0bc43fd046feaf537f9049851fcd",
       "version_major": 2,
       "version_minor": 0
      },
      "text/plain": [
       "Map:   0%|          | 0/400 [00:00<?, ? examples/s]"
      ]
     },
     "metadata": {},
     "output_type": "display_data"
    },
    {
     "name": "stdout",
     "output_type": "stream",
     "text": [
      "trainable params: 6,291,456 || all params: 1,420,939,264 || trainable%: 0.4428\n",
      "Loss diff 7.6634689908141995\n",
      "JC 0.5217934389586484\n",
      "trainable params: 6,291,456 || all params: 1,420,939,264 || trainable%: 0.4428\n"
     ]
    },
    {
     "data": {
      "application/vnd.jupyter.widget-view+json": {
       "model_id": "a4bc84fba70d4e029eb4d46e340f6e25",
       "version_major": 2,
       "version_minor": 0
      },
      "text/plain": [
       "Generating train split: 0 examples [00:00, ? examples/s]"
      ]
     },
     "metadata": {},
     "output_type": "display_data"
    },
    {
     "data": {
      "application/vnd.jupyter.widget-view+json": {
       "model_id": "32ab3988e80548178c9eec8c790c71d1",
       "version_major": 2,
       "version_minor": 0
      },
      "text/plain": [
       "Generating validation split: 0 examples [00:00, ? examples/s]"
      ]
     },
     "metadata": {},
     "output_type": "display_data"
    },
    {
     "data": {
      "application/vnd.jupyter.widget-view+json": {
       "model_id": "a46e30a0855f4ab3a0dc7b2070f13da8",
       "version_major": 2,
       "version_minor": 0
      },
      "text/plain": [
       "Map:   0%|          | 0/3600 [00:00<?, ? examples/s]"
      ]
     },
     "metadata": {},
     "output_type": "display_data"
    },
    {
     "data": {
      "application/vnd.jupyter.widget-view+json": {
       "model_id": "c1a929e664174b889ba04e705fa4eb13",
       "version_major": 2,
       "version_minor": 0
      },
      "text/plain": [
       "Map:   0%|          | 0/400 [00:00<?, ? examples/s]"
      ]
     },
     "metadata": {},
     "output_type": "display_data"
    },
    {
     "name": "stdout",
     "output_type": "stream",
     "text": [
      "trainable params: 6,291,456 || all params: 1,420,939,264 || trainable%: 0.4428\n",
      "Loss diff 30.87574268535175\n",
      "JC 0.431097372488408\n",
      "trainable params: 6,291,456 || all params: 1,420,939,264 || trainable%: 0.4428\n"
     ]
    },
    {
     "data": {
      "application/vnd.jupyter.widget-view+json": {
       "model_id": "f396923720d64f759d7c148389018990",
       "version_major": 2,
       "version_minor": 0
      },
      "text/plain": [
       "Generating train split: 0 examples [00:00, ? examples/s]"
      ]
     },
     "metadata": {},
     "output_type": "display_data"
    },
    {
     "data": {
      "application/vnd.jupyter.widget-view+json": {
       "model_id": "edb1c78fae0b448f80e6d4947c8312af",
       "version_major": 2,
       "version_minor": 0
      },
      "text/plain": [
       "Generating validation split: 0 examples [00:00, ? examples/s]"
      ]
     },
     "metadata": {},
     "output_type": "display_data"
    },
    {
     "data": {
      "application/vnd.jupyter.widget-view+json": {
       "model_id": "106d1078e5a74513805b3ed3c935742a",
       "version_major": 2,
       "version_minor": 0
      },
      "text/plain": [
       "Map:   0%|          | 0/3600 [00:00<?, ? examples/s]"
      ]
     },
     "metadata": {},
     "output_type": "display_data"
    },
    {
     "data": {
      "application/vnd.jupyter.widget-view+json": {
       "model_id": "a95c56e6b2df4dbe8ec49784dd97f8db",
       "version_major": 2,
       "version_minor": 0
      },
      "text/plain": [
       "Map:   0%|          | 0/400 [00:00<?, ? examples/s]"
      ]
     },
     "metadata": {},
     "output_type": "display_data"
    },
    {
     "name": "stdout",
     "output_type": "stream",
     "text": [
      "trainable params: 6,291,456 || all params: 1,420,939,264 || trainable%: 0.4428\n",
      "Loss diff 244.94125187722094\n",
      "JC 0.3973198116624411\n",
      "trainable params: 6,291,456 || all params: 1,420,939,264 || trainable%: 0.4428\n"
     ]
    },
    {
     "data": {
      "application/vnd.jupyter.widget-view+json": {
       "model_id": "f1f46005485b42d594567fa8865daefb",
       "version_major": 2,
       "version_minor": 0
      },
      "text/plain": [
       "Generating train split: 0 examples [00:00, ? examples/s]"
      ]
     },
     "metadata": {},
     "output_type": "display_data"
    },
    {
     "data": {
      "application/vnd.jupyter.widget-view+json": {
       "model_id": "09fdd4ef2e484a188b2b5e6456f6be5f",
       "version_major": 2,
       "version_minor": 0
      },
      "text/plain": [
       "Generating validation split: 0 examples [00:00, ? examples/s]"
      ]
     },
     "metadata": {},
     "output_type": "display_data"
    },
    {
     "data": {
      "application/vnd.jupyter.widget-view+json": {
       "model_id": "aa3c240d096e4c39a35c6dc24ca8e3c9",
       "version_major": 2,
       "version_minor": 0
      },
      "text/plain": [
       "Map:   0%|          | 0/3600 [00:00<?, ? examples/s]"
      ]
     },
     "metadata": {},
     "output_type": "display_data"
    },
    {
     "data": {
      "application/vnd.jupyter.widget-view+json": {
       "model_id": "9fe5012f1bfd4eb38b8019669aef51ab",
       "version_major": 2,
       "version_minor": 0
      },
      "text/plain": [
       "Map:   0%|          | 0/401 [00:00<?, ? examples/s]"
      ]
     },
     "metadata": {},
     "output_type": "display_data"
    },
    {
     "name": "stdout",
     "output_type": "stream",
     "text": [
      "trainable params: 6,291,456 || all params: 1,420,939,264 || trainable%: 0.4428\n",
      "Loss diff 73.56275498446709\n",
      "JC 0.3915238954012624\n",
      "trainable params: 6,291,456 || all params: 1,420,939,264 || trainable%: 0.4428\n"
     ]
    },
    {
     "data": {
      "application/vnd.jupyter.widget-view+json": {
       "model_id": "01af41e558eb4148bb5b1283d74ac81e",
       "version_major": 2,
       "version_minor": 0
      },
      "text/plain": [
       "Generating train split: 0 examples [00:00, ? examples/s]"
      ]
     },
     "metadata": {},
     "output_type": "display_data"
    },
    {
     "data": {
      "application/vnd.jupyter.widget-view+json": {
       "model_id": "bafe98cb04174fb984e502ba7be786b5",
       "version_major": 2,
       "version_minor": 0
      },
      "text/plain": [
       "Generating validation split: 0 examples [00:00, ? examples/s]"
      ]
     },
     "metadata": {},
     "output_type": "display_data"
    },
    {
     "data": {
      "application/vnd.jupyter.widget-view+json": {
       "model_id": "2c377a065f6e4572bee63c5de5c0d19f",
       "version_major": 2,
       "version_minor": 0
      },
      "text/plain": [
       "Map:   0%|          | 0/3600 [00:00<?, ? examples/s]"
      ]
     },
     "metadata": {},
     "output_type": "display_data"
    },
    {
     "data": {
      "application/vnd.jupyter.widget-view+json": {
       "model_id": "40cce0ffa95e4533b560b956b3e91ddc",
       "version_major": 2,
       "version_minor": 0
      },
      "text/plain": [
       "Map:   0%|          | 0/400 [00:00<?, ? examples/s]"
      ]
     },
     "metadata": {},
     "output_type": "display_data"
    },
    {
     "name": "stdout",
     "output_type": "stream",
     "text": [
      "trainable params: 6,291,456 || all params: 1,420,939,264 || trainable%: 0.4428\n",
      "Loss diff 69.7807304705753\n",
      "JC 0.3659054699946893\n",
      "trainable params: 6,291,456 || all params: 1,420,939,264 || trainable%: 0.4428\n"
     ]
    },
    {
     "data": {
      "application/vnd.jupyter.widget-view+json": {
       "model_id": "bceed7e117944337b62403d15e3f8e5c",
       "version_major": 2,
       "version_minor": 0
      },
      "text/plain": [
       "Generating train split: 0 examples [00:00, ? examples/s]"
      ]
     },
     "metadata": {},
     "output_type": "display_data"
    },
    {
     "data": {
      "application/vnd.jupyter.widget-view+json": {
       "model_id": "dce588991ee24531b4467ea011cea1b3",
       "version_major": 2,
       "version_minor": 0
      },
      "text/plain": [
       "Generating validation split: 0 examples [00:00, ? examples/s]"
      ]
     },
     "metadata": {},
     "output_type": "display_data"
    },
    {
     "data": {
      "application/vnd.jupyter.widget-view+json": {
       "model_id": "7b6b5562a77f4345801b43b42c31eca5",
       "version_major": 2,
       "version_minor": 0
      },
      "text/plain": [
       "Map:   0%|          | 0/3600 [00:00<?, ? examples/s]"
      ]
     },
     "metadata": {},
     "output_type": "display_data"
    },
    {
     "data": {
      "application/vnd.jupyter.widget-view+json": {
       "model_id": "42f368417caf4f79a5e181f6d6a27f7b",
       "version_major": 2,
       "version_minor": 0
      },
      "text/plain": [
       "Map:   0%|          | 0/400 [00:00<?, ? examples/s]"
      ]
     },
     "metadata": {},
     "output_type": "display_data"
    },
    {
     "name": "stdout",
     "output_type": "stream",
     "text": [
      "trainable params: 6,291,456 || all params: 1,420,939,264 || trainable%: 0.4428\n",
      "Loss diff 82.73818198813215\n",
      "JC 0.312170511875744\n",
      "trainable params: 6,291,456 || all params: 1,420,939,264 || trainable%: 0.4428\n"
     ]
    },
    {
     "data": {
      "application/vnd.jupyter.widget-view+json": {
       "model_id": "75d963fad9ca4a9e82c9df5d88862fd9",
       "version_major": 2,
       "version_minor": 0
      },
      "text/plain": [
       "Generating train split: 0 examples [00:00, ? examples/s]"
      ]
     },
     "metadata": {},
     "output_type": "display_data"
    },
    {
     "data": {
      "application/vnd.jupyter.widget-view+json": {
       "model_id": "32e1bfb8d8ab4652a20e493208205fb0",
       "version_major": 2,
       "version_minor": 0
      },
      "text/plain": [
       "Generating validation split: 0 examples [00:00, ? examples/s]"
      ]
     },
     "metadata": {},
     "output_type": "display_data"
    },
    {
     "data": {
      "application/vnd.jupyter.widget-view+json": {
       "model_id": "33371134473b4e269137c3f8ff6ac13e",
       "version_major": 2,
       "version_minor": 0
      },
      "text/plain": [
       "Map:   0%|          | 0/3600 [00:00<?, ? examples/s]"
      ]
     },
     "metadata": {},
     "output_type": "display_data"
    },
    {
     "data": {
      "application/vnd.jupyter.widget-view+json": {
       "model_id": "91e0784281b04c058dcabfa512ad334e",
       "version_major": 2,
       "version_minor": 0
      },
      "text/plain": [
       "Map:   0%|          | 0/401 [00:00<?, ? examples/s]"
      ]
     },
     "metadata": {},
     "output_type": "display_data"
    },
    {
     "name": "stdout",
     "output_type": "stream",
     "text": [
      "trainable params: 6,291,456 || all params: 1,420,939,264 || trainable%: 0.4428\n",
      "Loss diff 64.9332094459115\n",
      "JC 0.2965161868488854\n",
      "trainable params: 6,291,456 || all params: 1,420,939,264 || trainable%: 0.4428\n"
     ]
    },
    {
     "data": {
      "application/vnd.jupyter.widget-view+json": {
       "model_id": "fd963886d72649cbb0491ca4b138d38b",
       "version_major": 2,
       "version_minor": 0
      },
      "text/plain": [
       "Generating train split: 0 examples [00:00, ? examples/s]"
      ]
     },
     "metadata": {},
     "output_type": "display_data"
    },
    {
     "data": {
      "application/vnd.jupyter.widget-view+json": {
       "model_id": "f4573fc67280427898dfac766a96285b",
       "version_major": 2,
       "version_minor": 0
      },
      "text/plain": [
       "Generating validation split: 0 examples [00:00, ? examples/s]"
      ]
     },
     "metadata": {},
     "output_type": "display_data"
    },
    {
     "data": {
      "application/vnd.jupyter.widget-view+json": {
       "model_id": "efa5527ab04241a1a67b54ff1514e330",
       "version_major": 2,
       "version_minor": 0
      },
      "text/plain": [
       "Map:   0%|          | 0/3600 [00:00<?, ? examples/s]"
      ]
     },
     "metadata": {},
     "output_type": "display_data"
    },
    {
     "data": {
      "application/vnd.jupyter.widget-view+json": {
       "model_id": "b474a158af64422b8297989bdcd21208",
       "version_major": 2,
       "version_minor": 0
      },
      "text/plain": [
       "Map:   0%|          | 0/400 [00:00<?, ? examples/s]"
      ]
     },
     "metadata": {},
     "output_type": "display_data"
    },
    {
     "name": "stdout",
     "output_type": "stream",
     "text": [
      "trainable params: 6,291,456 || all params: 1,420,939,264 || trainable%: 0.4428\n",
      "Loss diff 89.84347140471986\n",
      "JC 0.44539494224164844\n",
      "trainable params: 6,291,456 || all params: 1,420,939,264 || trainable%: 0.4428\n"
     ]
    },
    {
     "data": {
      "application/vnd.jupyter.widget-view+json": {
       "model_id": "3e295876d7d241b882f48902ba7dfe2d",
       "version_major": 2,
       "version_minor": 0
      },
      "text/plain": [
       "Generating train split: 0 examples [00:00, ? examples/s]"
      ]
     },
     "metadata": {},
     "output_type": "display_data"
    },
    {
     "data": {
      "application/vnd.jupyter.widget-view+json": {
       "model_id": "9271f045a5a5425a9d1ad9146268400b",
       "version_major": 2,
       "version_minor": 0
      },
      "text/plain": [
       "Generating validation split: 0 examples [00:00, ? examples/s]"
      ]
     },
     "metadata": {},
     "output_type": "display_data"
    },
    {
     "data": {
      "application/vnd.jupyter.widget-view+json": {
       "model_id": "6254dfd47a3b4dc5856008778f48f1c6",
       "version_major": 2,
       "version_minor": 0
      },
      "text/plain": [
       "Map:   0%|          | 0/3600 [00:00<?, ? examples/s]"
      ]
     },
     "metadata": {},
     "output_type": "display_data"
    },
    {
     "data": {
      "application/vnd.jupyter.widget-view+json": {
       "model_id": "111f3eae79114cf18604613eecd31313",
       "version_major": 2,
       "version_minor": 0
      },
      "text/plain": [
       "Map:   0%|          | 0/400 [00:00<?, ? examples/s]"
      ]
     },
     "metadata": {},
     "output_type": "display_data"
    },
    {
     "name": "stdout",
     "output_type": "stream",
     "text": [
      "trainable params: 6,291,456 || all params: 1,420,939,264 || trainable%: 0.4428\n",
      "Loss diff 3.7832241890377007\n",
      "JC 0.5255041518386714\n",
      "trainable params: 6,291,456 || all params: 1,420,939,264 || trainable%: 0.4428\n"
     ]
    },
    {
     "data": {
      "application/vnd.jupyter.widget-view+json": {
       "model_id": "e3cda2686ed1452c9e6bb62c15be59a0",
       "version_major": 2,
       "version_minor": 0
      },
      "text/plain": [
       "Generating train split: 0 examples [00:00, ? examples/s]"
      ]
     },
     "metadata": {},
     "output_type": "display_data"
    },
    {
     "data": {
      "application/vnd.jupyter.widget-view+json": {
       "model_id": "05c61ebc77e549eb873a87a08cc29992",
       "version_major": 2,
       "version_minor": 0
      },
      "text/plain": [
       "Generating validation split: 0 examples [00:00, ? examples/s]"
      ]
     },
     "metadata": {},
     "output_type": "display_data"
    },
    {
     "data": {
      "application/vnd.jupyter.widget-view+json": {
       "model_id": "9f506325faf248c7948c42e855867b25",
       "version_major": 2,
       "version_minor": 0
      },
      "text/plain": [
       "Map:   0%|          | 0/3600 [00:00<?, ? examples/s]"
      ]
     },
     "metadata": {},
     "output_type": "display_data"
    },
    {
     "data": {
      "application/vnd.jupyter.widget-view+json": {
       "model_id": "ebfade9c6e1449e4b8893f1c99679fd7",
       "version_major": 2,
       "version_minor": 0
      },
      "text/plain": [
       "Map:   0%|          | 0/400 [00:00<?, ? examples/s]"
      ]
     },
     "metadata": {},
     "output_type": "display_data"
    },
    {
     "name": "stdout",
     "output_type": "stream",
     "text": [
      "trainable params: 6,291,456 || all params: 1,420,939,264 || trainable%: 0.4428\n",
      "Loss diff 12.45066104954664\n",
      "JC 0.48842592592592593\n",
      "trainable params: 6,291,456 || all params: 1,420,939,264 || trainable%: 0.4428\n"
     ]
    },
    {
     "data": {
      "application/vnd.jupyter.widget-view+json": {
       "model_id": "7e96f767a135490eb00c278b31ba34e3",
       "version_major": 2,
       "version_minor": 0
      },
      "text/plain": [
       "Generating train split: 0 examples [00:00, ? examples/s]"
      ]
     },
     "metadata": {},
     "output_type": "display_data"
    },
    {
     "data": {
      "application/vnd.jupyter.widget-view+json": {
       "model_id": "d9833938089a4f248ac18bc349d3d070",
       "version_major": 2,
       "version_minor": 0
      },
      "text/plain": [
       "Generating validation split: 0 examples [00:00, ? examples/s]"
      ]
     },
     "metadata": {},
     "output_type": "display_data"
    },
    {
     "data": {
      "application/vnd.jupyter.widget-view+json": {
       "model_id": "e26b90872947476daaf8f8c178731183",
       "version_major": 2,
       "version_minor": 0
      },
      "text/plain": [
       "Map:   0%|          | 0/3600 [00:00<?, ? examples/s]"
      ]
     },
     "metadata": {},
     "output_type": "display_data"
    },
    {
     "data": {
      "application/vnd.jupyter.widget-view+json": {
       "model_id": "cfbde074395d4bce973d02bba6c1fc1b",
       "version_major": 2,
       "version_minor": 0
      },
      "text/plain": [
       "Map:   0%|          | 0/400 [00:00<?, ? examples/s]"
      ]
     },
     "metadata": {},
     "output_type": "display_data"
    },
    {
     "name": "stdout",
     "output_type": "stream",
     "text": [
      "trainable params: 6,291,456 || all params: 1,420,939,264 || trainable%: 0.4428\n",
      "Loss diff 13.590481358091912\n",
      "JC 0.4983494077286556\n",
      "trainable params: 6,291,456 || all params: 1,420,939,264 || trainable%: 0.4428\n"
     ]
    },
    {
     "data": {
      "application/vnd.jupyter.widget-view+json": {
       "model_id": "d270b94c2f3a4eabae2e0ca38b879304",
       "version_major": 2,
       "version_minor": 0
      },
      "text/plain": [
       "Generating train split: 0 examples [00:00, ? examples/s]"
      ]
     },
     "metadata": {},
     "output_type": "display_data"
    },
    {
     "data": {
      "application/vnd.jupyter.widget-view+json": {
       "model_id": "84e1aa8fa7a944e694fd93bdad902e03",
       "version_major": 2,
       "version_minor": 0
      },
      "text/plain": [
       "Generating validation split: 0 examples [00:00, ? examples/s]"
      ]
     },
     "metadata": {},
     "output_type": "display_data"
    },
    {
     "data": {
      "application/vnd.jupyter.widget-view+json": {
       "model_id": "989b57710201466ba9d34e28a8dcb09c",
       "version_major": 2,
       "version_minor": 0
      },
      "text/plain": [
       "Map:   0%|          | 0/3600 [00:00<?, ? examples/s]"
      ]
     },
     "metadata": {},
     "output_type": "display_data"
    },
    {
     "data": {
      "application/vnd.jupyter.widget-view+json": {
       "model_id": "bbe473def5714ba2b2e56e6f9e7a6001",
       "version_major": 2,
       "version_minor": 0
      },
      "text/plain": [
       "Map:   0%|          | 0/400 [00:00<?, ? examples/s]"
      ]
     },
     "metadata": {},
     "output_type": "display_data"
    },
    {
     "name": "stdout",
     "output_type": "stream",
     "text": [
      "trainable params: 6,291,456 || all params: 1,420,939,264 || trainable%: 0.4428\n",
      "Loss diff 13.576489227196891\n",
      "JC 0.3170232134729176\n",
      "trainable params: 6,291,456 || all params: 1,420,939,264 || trainable%: 0.4428\n"
     ]
    },
    {
     "data": {
      "application/vnd.jupyter.widget-view+json": {
       "model_id": "9919e3ecf4304a19b6754bd0faa9afb7",
       "version_major": 2,
       "version_minor": 0
      },
      "text/plain": [
       "Generating train split: 0 examples [00:00, ? examples/s]"
      ]
     },
     "metadata": {},
     "output_type": "display_data"
    },
    {
     "data": {
      "application/vnd.jupyter.widget-view+json": {
       "model_id": "87c732454bf544beb7501e5cdd626b62",
       "version_major": 2,
       "version_minor": 0
      },
      "text/plain": [
       "Generating validation split: 0 examples [00:00, ? examples/s]"
      ]
     },
     "metadata": {},
     "output_type": "display_data"
    },
    {
     "data": {
      "application/vnd.jupyter.widget-view+json": {
       "model_id": "dd1e7b8d8f7b43e7b5851880bbdda496",
       "version_major": 2,
       "version_minor": 0
      },
      "text/plain": [
       "Map:   0%|          | 0/3600 [00:00<?, ? examples/s]"
      ]
     },
     "metadata": {},
     "output_type": "display_data"
    },
    {
     "data": {
      "application/vnd.jupyter.widget-view+json": {
       "model_id": "e9c8ccd9782f45ec81e458a67068c36d",
       "version_major": 2,
       "version_minor": 0
      },
      "text/plain": [
       "Map:   0%|          | 0/400 [00:00<?, ? examples/s]"
      ]
     },
     "metadata": {},
     "output_type": "display_data"
    },
    {
     "name": "stdout",
     "output_type": "stream",
     "text": [
      "trainable params: 6,291,456 || all params: 1,420,939,264 || trainable%: 0.4428\n",
      "Loss diff 27.65823518350698\n",
      "JC 0.4280955024986119\n",
      "trainable params: 6,291,456 || all params: 1,420,939,264 || trainable%: 0.4428\n"
     ]
    },
    {
     "data": {
      "application/vnd.jupyter.widget-view+json": {
       "model_id": "81a1217e993f487782ee05c4629d4446",
       "version_major": 2,
       "version_minor": 0
      },
      "text/plain": [
       "Generating train split: 0 examples [00:00, ? examples/s]"
      ]
     },
     "metadata": {},
     "output_type": "display_data"
    },
    {
     "data": {
      "application/vnd.jupyter.widget-view+json": {
       "model_id": "b5aca5b5c9ed4ea6b0e006045853c1f3",
       "version_major": 2,
       "version_minor": 0
      },
      "text/plain": [
       "Generating validation split: 0 examples [00:00, ? examples/s]"
      ]
     },
     "metadata": {},
     "output_type": "display_data"
    },
    {
     "data": {
      "application/vnd.jupyter.widget-view+json": {
       "model_id": "9c749a2a8a1d48d2903df6b5affce71d",
       "version_major": 2,
       "version_minor": 0
      },
      "text/plain": [
       "Map:   0%|          | 0/3600 [00:00<?, ? examples/s]"
      ]
     },
     "metadata": {},
     "output_type": "display_data"
    },
    {
     "data": {
      "application/vnd.jupyter.widget-view+json": {
       "model_id": "12522e99359d44d09864772445d97f54",
       "version_major": 2,
       "version_minor": 0
      },
      "text/plain": [
       "Map:   0%|          | 0/400 [00:00<?, ? examples/s]"
      ]
     },
     "metadata": {},
     "output_type": "display_data"
    },
    {
     "name": "stdout",
     "output_type": "stream",
     "text": [
      "trainable params: 6,291,456 || all params: 1,420,939,264 || trainable%: 0.4428\n",
      "Loss diff 6.17960494718189\n",
      "JC 0.5635258358662614\n",
      "trainable params: 6,291,456 || all params: 1,420,939,264 || trainable%: 0.4428\n"
     ]
    },
    {
     "data": {
      "application/vnd.jupyter.widget-view+json": {
       "model_id": "10344b992da646fd9e97d3d82b4b28e0",
       "version_major": 2,
       "version_minor": 0
      },
      "text/plain": [
       "Generating train split: 0 examples [00:00, ? examples/s]"
      ]
     },
     "metadata": {},
     "output_type": "display_data"
    },
    {
     "data": {
      "application/vnd.jupyter.widget-view+json": {
       "model_id": "85daeae31cda47cd8c06b364c104d6d2",
       "version_major": 2,
       "version_minor": 0
      },
      "text/plain": [
       "Generating validation split: 0 examples [00:00, ? examples/s]"
      ]
     },
     "metadata": {},
     "output_type": "display_data"
    },
    {
     "data": {
      "application/vnd.jupyter.widget-view+json": {
       "model_id": "e4e698893e18459daa8576c03e20f756",
       "version_major": 2,
       "version_minor": 0
      },
      "text/plain": [
       "Map:   0%|          | 0/3600 [00:00<?, ? examples/s]"
      ]
     },
     "metadata": {},
     "output_type": "display_data"
    },
    {
     "data": {
      "application/vnd.jupyter.widget-view+json": {
       "model_id": "1d58b924cfa24994bdab818a36e303ca",
       "version_major": 2,
       "version_minor": 0
      },
      "text/plain": [
       "Map:   0%|          | 0/400 [00:00<?, ? examples/s]"
      ]
     },
     "metadata": {},
     "output_type": "display_data"
    },
    {
     "name": "stdout",
     "output_type": "stream",
     "text": [
      "trainable params: 6,291,456 || all params: 1,420,939,264 || trainable%: 0.4428\n",
      "Loss diff 77.78147892455635\n",
      "JC 0.37100213219616207\n",
      "trainable params: 6,291,456 || all params: 1,420,939,264 || trainable%: 0.4428\n"
     ]
    },
    {
     "data": {
      "application/vnd.jupyter.widget-view+json": {
       "model_id": "c19ea92239f94bbfb56f31ee8435d19d",
       "version_major": 2,
       "version_minor": 0
      },
      "text/plain": [
       "Generating train split: 0 examples [00:00, ? examples/s]"
      ]
     },
     "metadata": {},
     "output_type": "display_data"
    },
    {
     "data": {
      "application/vnd.jupyter.widget-view+json": {
       "model_id": "0b796e6a8ba4480198ebb89c7221bece",
       "version_major": 2,
       "version_minor": 0
      },
      "text/plain": [
       "Generating validation split: 0 examples [00:00, ? examples/s]"
      ]
     },
     "metadata": {},
     "output_type": "display_data"
    },
    {
     "data": {
      "application/vnd.jupyter.widget-view+json": {
       "model_id": "f48d74ff7fa343958fc07c427b8040cb",
       "version_major": 2,
       "version_minor": 0
      },
      "text/plain": [
       "Map:   0%|          | 0/3600 [00:00<?, ? examples/s]"
      ]
     },
     "metadata": {},
     "output_type": "display_data"
    },
    {
     "data": {
      "application/vnd.jupyter.widget-view+json": {
       "model_id": "204962fe7f5043679736bced545c22a2",
       "version_major": 2,
       "version_minor": 0
      },
      "text/plain": [
       "Map:   0%|          | 0/400 [00:00<?, ? examples/s]"
      ]
     },
     "metadata": {},
     "output_type": "display_data"
    },
    {
     "name": "stdout",
     "output_type": "stream",
     "text": [
      "trainable params: 6,291,456 || all params: 1,420,939,264 || trainable%: 0.4428\n",
      "Loss diff 16.13284789863084\n",
      "JC 0.3301154973280469\n",
      "trainable params: 6,291,456 || all params: 1,420,939,264 || trainable%: 0.4428\n"
     ]
    },
    {
     "data": {
      "application/vnd.jupyter.widget-view+json": {
       "model_id": "32dc9fae647e4331a2e43b6a72689b51",
       "version_major": 2,
       "version_minor": 0
      },
      "text/plain": [
       "Generating train split: 0 examples [00:00, ? examples/s]"
      ]
     },
     "metadata": {},
     "output_type": "display_data"
    },
    {
     "data": {
      "application/vnd.jupyter.widget-view+json": {
       "model_id": "c17437ad555b48949345493a8a7eaea2",
       "version_major": 2,
       "version_minor": 0
      },
      "text/plain": [
       "Generating validation split: 0 examples [00:00, ? examples/s]"
      ]
     },
     "metadata": {},
     "output_type": "display_data"
    },
    {
     "data": {
      "application/vnd.jupyter.widget-view+json": {
       "model_id": "dd6d3a18697243478d62738958e63590",
       "version_major": 2,
       "version_minor": 0
      },
      "text/plain": [
       "Map:   0%|          | 0/3600 [00:00<?, ? examples/s]"
      ]
     },
     "metadata": {},
     "output_type": "display_data"
    },
    {
     "data": {
      "application/vnd.jupyter.widget-view+json": {
       "model_id": "d2cd24fb70b74c5295d3eb207676aed4",
       "version_major": 2,
       "version_minor": 0
      },
      "text/plain": [
       "Map:   0%|          | 0/400 [00:00<?, ? examples/s]"
      ]
     },
     "metadata": {},
     "output_type": "display_data"
    },
    {
     "name": "stdout",
     "output_type": "stream",
     "text": [
      "trainable params: 6,291,456 || all params: 1,420,939,264 || trainable%: 0.4428\n",
      "Loss diff 11.477006623787043\n",
      "JC 0.3963925921457441\n",
      "trainable params: 6,291,456 || all params: 1,420,939,264 || trainable%: 0.4428\n"
     ]
    },
    {
     "data": {
      "application/vnd.jupyter.widget-view+json": {
       "model_id": "f684c87ebfe942f7b684c2debdc67808",
       "version_major": 2,
       "version_minor": 0
      },
      "text/plain": [
       "Generating train split: 0 examples [00:00, ? examples/s]"
      ]
     },
     "metadata": {},
     "output_type": "display_data"
    },
    {
     "data": {
      "application/vnd.jupyter.widget-view+json": {
       "model_id": "945b8220c5e1494e8bd4cf59515f8dca",
       "version_major": 2,
       "version_minor": 0
      },
      "text/plain": [
       "Generating validation split: 0 examples [00:00, ? examples/s]"
      ]
     },
     "metadata": {},
     "output_type": "display_data"
    },
    {
     "data": {
      "application/vnd.jupyter.widget-view+json": {
       "model_id": "a6bad57155854b20a29d80ca8aabf1e5",
       "version_major": 2,
       "version_minor": 0
      },
      "text/plain": [
       "Map:   0%|          | 0/3600 [00:00<?, ? examples/s]"
      ]
     },
     "metadata": {},
     "output_type": "display_data"
    },
    {
     "data": {
      "application/vnd.jupyter.widget-view+json": {
       "model_id": "1623c199ed9948b78a2ef9c252484a88",
       "version_major": 2,
       "version_minor": 0
      },
      "text/plain": [
       "Map:   0%|          | 0/400 [00:00<?, ? examples/s]"
      ]
     },
     "metadata": {},
     "output_type": "display_data"
    },
    {
     "name": "stdout",
     "output_type": "stream",
     "text": [
      "trainable params: 6,291,456 || all params: 1,420,939,264 || trainable%: 0.4428\n",
      "Loss diff 37.421510869995224\n",
      "JC 0.42941830307521306\n",
      "trainable params: 6,291,456 || all params: 1,420,939,264 || trainable%: 0.4428\n"
     ]
    },
    {
     "data": {
      "application/vnd.jupyter.widget-view+json": {
       "model_id": "a945053f83ac49568890e6f400c5aad8",
       "version_major": 2,
       "version_minor": 0
      },
      "text/plain": [
       "Generating train split: 0 examples [00:00, ? examples/s]"
      ]
     },
     "metadata": {},
     "output_type": "display_data"
    },
    {
     "data": {
      "application/vnd.jupyter.widget-view+json": {
       "model_id": "ff38b4d9e98541d79c4cdc71e44789ae",
       "version_major": 2,
       "version_minor": 0
      },
      "text/plain": [
       "Generating validation split: 0 examples [00:00, ? examples/s]"
      ]
     },
     "metadata": {},
     "output_type": "display_data"
    },
    {
     "data": {
      "application/vnd.jupyter.widget-view+json": {
       "model_id": "18dbaef9f4384ae29af9c8c0b45d78ab",
       "version_major": 2,
       "version_minor": 0
      },
      "text/plain": [
       "Map:   0%|          | 0/3600 [00:00<?, ? examples/s]"
      ]
     },
     "metadata": {},
     "output_type": "display_data"
    },
    {
     "data": {
      "application/vnd.jupyter.widget-view+json": {
       "model_id": "54f3699024264968b0d4c7142f4a15a5",
       "version_major": 2,
       "version_minor": 0
      },
      "text/plain": [
       "Map:   0%|          | 0/400 [00:00<?, ? examples/s]"
      ]
     },
     "metadata": {},
     "output_type": "display_data"
    },
    {
     "name": "stdout",
     "output_type": "stream",
     "text": [
      "trainable params: 6,291,456 || all params: 1,420,939,264 || trainable%: 0.4428\n",
      "Loss diff 72.20835947589764\n",
      "JC 0.4117216564005611\n",
      "trainable params: 6,291,456 || all params: 1,420,939,264 || trainable%: 0.4428\n"
     ]
    },
    {
     "data": {
      "application/vnd.jupyter.widget-view+json": {
       "model_id": "493bdbaacdf246e7bfabf39f30914953",
       "version_major": 2,
       "version_minor": 0
      },
      "text/plain": [
       "Generating train split: 0 examples [00:00, ? examples/s]"
      ]
     },
     "metadata": {},
     "output_type": "display_data"
    },
    {
     "data": {
      "application/vnd.jupyter.widget-view+json": {
       "model_id": "4a42493660184c04bdf65e1ca9868476",
       "version_major": 2,
       "version_minor": 0
      },
      "text/plain": [
       "Generating validation split: 0 examples [00:00, ? examples/s]"
      ]
     },
     "metadata": {},
     "output_type": "display_data"
    },
    {
     "data": {
      "application/vnd.jupyter.widget-view+json": {
       "model_id": "625e5faa80c04028b636814647c7c3da",
       "version_major": 2,
       "version_minor": 0
      },
      "text/plain": [
       "Map:   0%|          | 0/3600 [00:00<?, ? examples/s]"
      ]
     },
     "metadata": {},
     "output_type": "display_data"
    },
    {
     "data": {
      "application/vnd.jupyter.widget-view+json": {
       "model_id": "ec05d2509bc6413196dbc02f495ba09f",
       "version_major": 2,
       "version_minor": 0
      },
      "text/plain": [
       "Map:   0%|          | 0/401 [00:00<?, ? examples/s]"
      ]
     },
     "metadata": {},
     "output_type": "display_data"
    },
    {
     "name": "stdout",
     "output_type": "stream",
     "text": [
      "trainable params: 6,291,456 || all params: 1,420,939,264 || trainable%: 0.4428\n",
      "Loss diff 116.50580052194194\n",
      "JC 0.35661958623923107\n",
      "trainable params: 6,291,456 || all params: 1,420,939,264 || trainable%: 0.4428\n"
     ]
    },
    {
     "data": {
      "application/vnd.jupyter.widget-view+json": {
       "model_id": "bdb990a1f1a747f39b4bb6e00043f3b7",
       "version_major": 2,
       "version_minor": 0
      },
      "text/plain": [
       "Generating train split: 0 examples [00:00, ? examples/s]"
      ]
     },
     "metadata": {},
     "output_type": "display_data"
    },
    {
     "data": {
      "application/vnd.jupyter.widget-view+json": {
       "model_id": "c648f91f102346808feb7405c9a618d6",
       "version_major": 2,
       "version_minor": 0
      },
      "text/plain": [
       "Generating validation split: 0 examples [00:00, ? examples/s]"
      ]
     },
     "metadata": {},
     "output_type": "display_data"
    },
    {
     "data": {
      "application/vnd.jupyter.widget-view+json": {
       "model_id": "e0dc3feff2dc4cd29c5eebaf1c035da2",
       "version_major": 2,
       "version_minor": 0
      },
      "text/plain": [
       "Map:   0%|          | 0/3600 [00:00<?, ? examples/s]"
      ]
     },
     "metadata": {},
     "output_type": "display_data"
    },
    {
     "data": {
      "application/vnd.jupyter.widget-view+json": {
       "model_id": "1277185be55f41f5bdf5a287c042dd6f",
       "version_major": 2,
       "version_minor": 0
      },
      "text/plain": [
       "Map:   0%|          | 0/400 [00:00<?, ? examples/s]"
      ]
     },
     "metadata": {},
     "output_type": "display_data"
    },
    {
     "name": "stdout",
     "output_type": "stream",
     "text": [
      "trainable params: 6,291,456 || all params: 1,420,939,264 || trainable%: 0.4428\n",
      "Loss diff 10.05074291336268\n",
      "JC 0.46081029912911775\n",
      "trainable params: 6,291,456 || all params: 1,420,939,264 || trainable%: 0.4428\n"
     ]
    },
    {
     "data": {
      "application/vnd.jupyter.widget-view+json": {
       "model_id": "2a4b2e04f38b4aefb152d7b73ec9ffa3",
       "version_major": 2,
       "version_minor": 0
      },
      "text/plain": [
       "Generating train split: 0 examples [00:00, ? examples/s]"
      ]
     },
     "metadata": {},
     "output_type": "display_data"
    },
    {
     "data": {
      "application/vnd.jupyter.widget-view+json": {
       "model_id": "a48b6bb792b4496a91806f989dc8df9a",
       "version_major": 2,
       "version_minor": 0
      },
      "text/plain": [
       "Generating validation split: 0 examples [00:00, ? examples/s]"
      ]
     },
     "metadata": {},
     "output_type": "display_data"
    },
    {
     "data": {
      "application/vnd.jupyter.widget-view+json": {
       "model_id": "af6aaeac48224d2c95cc84ef77c79cc0",
       "version_major": 2,
       "version_minor": 0
      },
      "text/plain": [
       "Map:   0%|          | 0/3600 [00:00<?, ? examples/s]"
      ]
     },
     "metadata": {},
     "output_type": "display_data"
    },
    {
     "data": {
      "application/vnd.jupyter.widget-view+json": {
       "model_id": "003a6dd0ce544ab694c962184e8eb50e",
       "version_major": 2,
       "version_minor": 0
      },
      "text/plain": [
       "Map:   0%|          | 0/401 [00:00<?, ? examples/s]"
      ]
     },
     "metadata": {},
     "output_type": "display_data"
    },
    {
     "name": "stdout",
     "output_type": "stream",
     "text": [
      "trainable params: 6,291,456 || all params: 1,420,939,264 || trainable%: 0.4428\n",
      "Loss diff 86.31418374175935\n",
      "JC 0.3830435561928661\n",
      "trainable params: 6,291,456 || all params: 1,420,939,264 || trainable%: 0.4428\n"
     ]
    },
    {
     "data": {
      "application/vnd.jupyter.widget-view+json": {
       "model_id": "abc7bb88eed74f5285040da41a1fe9b0",
       "version_major": 2,
       "version_minor": 0
      },
      "text/plain": [
       "Generating train split: 0 examples [00:00, ? examples/s]"
      ]
     },
     "metadata": {},
     "output_type": "display_data"
    },
    {
     "data": {
      "application/vnd.jupyter.widget-view+json": {
       "model_id": "74fe0cb0b1da49cf8ffc46033f7e2ed7",
       "version_major": 2,
       "version_minor": 0
      },
      "text/plain": [
       "Generating validation split: 0 examples [00:00, ? examples/s]"
      ]
     },
     "metadata": {},
     "output_type": "display_data"
    },
    {
     "data": {
      "application/vnd.jupyter.widget-view+json": {
       "model_id": "8205aea1c4964389b7a486ec5a1eb2f7",
       "version_major": 2,
       "version_minor": 0
      },
      "text/plain": [
       "Map:   0%|          | 0/3600 [00:00<?, ? examples/s]"
      ]
     },
     "metadata": {},
     "output_type": "display_data"
    },
    {
     "data": {
      "application/vnd.jupyter.widget-view+json": {
       "model_id": "fff606ea4571472bb2cd73312ad657b3",
       "version_major": 2,
       "version_minor": 0
      },
      "text/plain": [
       "Map:   0%|          | 0/401 [00:00<?, ? examples/s]"
      ]
     },
     "metadata": {},
     "output_type": "display_data"
    },
    {
     "name": "stdout",
     "output_type": "stream",
     "text": [
      "trainable params: 6,291,456 || all params: 1,420,939,264 || trainable%: 0.4428\n",
      "Loss diff 105.98382271921551\n",
      "JC 0.38213518032003824\n",
      "trainable params: 6,291,456 || all params: 1,420,939,264 || trainable%: 0.4428\n"
     ]
    },
    {
     "data": {
      "application/vnd.jupyter.widget-view+json": {
       "model_id": "d996d321076d49aca78e5512da632602",
       "version_major": 2,
       "version_minor": 0
      },
      "text/plain": [
       "Generating train split: 0 examples [00:00, ? examples/s]"
      ]
     },
     "metadata": {},
     "output_type": "display_data"
    },
    {
     "data": {
      "application/vnd.jupyter.widget-view+json": {
       "model_id": "a31d25c0fe7649cea60d44299098f0e9",
       "version_major": 2,
       "version_minor": 0
      },
      "text/plain": [
       "Generating validation split: 0 examples [00:00, ? examples/s]"
      ]
     },
     "metadata": {},
     "output_type": "display_data"
    },
    {
     "data": {
      "application/vnd.jupyter.widget-view+json": {
       "model_id": "c5cf897cd72d414eaba3b5f92ad35876",
       "version_major": 2,
       "version_minor": 0
      },
      "text/plain": [
       "Map:   0%|          | 0/3600 [00:00<?, ? examples/s]"
      ]
     },
     "metadata": {},
     "output_type": "display_data"
    },
    {
     "data": {
      "application/vnd.jupyter.widget-view+json": {
       "model_id": "c3b20d9a693a47eab78ecdb279b9f0ea",
       "version_major": 2,
       "version_minor": 0
      },
      "text/plain": [
       "Map:   0%|          | 0/400 [00:00<?, ? examples/s]"
      ]
     },
     "metadata": {},
     "output_type": "display_data"
    },
    {
     "name": "stdout",
     "output_type": "stream",
     "text": [
      "trainable params: 6,291,456 || all params: 1,420,939,264 || trainable%: 0.4428\n",
      "Loss diff -0.4804790651856849\n",
      "JC 0.583743842364532\n",
      "trainable params: 6,291,456 || all params: 1,420,939,264 || trainable%: 0.4428\n"
     ]
    },
    {
     "data": {
      "application/vnd.jupyter.widget-view+json": {
       "model_id": "4e91b9d4e26e4a3f8f819a752fd1df2d",
       "version_major": 2,
       "version_minor": 0
      },
      "text/plain": [
       "Generating train split: 0 examples [00:00, ? examples/s]"
      ]
     },
     "metadata": {},
     "output_type": "display_data"
    },
    {
     "data": {
      "application/vnd.jupyter.widget-view+json": {
       "model_id": "83e5d990ea924e14b640752c9581aad2",
       "version_major": 2,
       "version_minor": 0
      },
      "text/plain": [
       "Generating validation split: 0 examples [00:00, ? examples/s]"
      ]
     },
     "metadata": {},
     "output_type": "display_data"
    },
    {
     "data": {
      "application/vnd.jupyter.widget-view+json": {
       "model_id": "cb2c602f504a46a2a426c843bb90bcd2",
       "version_major": 2,
       "version_minor": 0
      },
      "text/plain": [
       "Map:   0%|          | 0/3600 [00:00<?, ? examples/s]"
      ]
     },
     "metadata": {},
     "output_type": "display_data"
    },
    {
     "data": {
      "application/vnd.jupyter.widget-view+json": {
       "model_id": "6dbe183e7c7e4989b6fd4592c4d6ff96",
       "version_major": 2,
       "version_minor": 0
      },
      "text/plain": [
       "Map:   0%|          | 0/400 [00:00<?, ? examples/s]"
      ]
     },
     "metadata": {},
     "output_type": "display_data"
    },
    {
     "name": "stdout",
     "output_type": "stream",
     "text": [
      "trainable params: 6,291,456 || all params: 1,420,939,264 || trainable%: 0.4428\n",
      "Loss diff 0.35261947965804796\n",
      "JC 0.5317628374801482\n",
      "trainable params: 6,291,456 || all params: 1,420,939,264 || trainable%: 0.4428\n"
     ]
    },
    {
     "data": {
      "application/vnd.jupyter.widget-view+json": {
       "model_id": "34f7a8c8d3ea472095d5d7d00afdc674",
       "version_major": 2,
       "version_minor": 0
      },
      "text/plain": [
       "Generating train split: 0 examples [00:00, ? examples/s]"
      ]
     },
     "metadata": {},
     "output_type": "display_data"
    },
    {
     "data": {
      "application/vnd.jupyter.widget-view+json": {
       "model_id": "bf4d26ce8ce1413aa371611d6a6ce83d",
       "version_major": 2,
       "version_minor": 0
      },
      "text/plain": [
       "Generating validation split: 0 examples [00:00, ? examples/s]"
      ]
     },
     "metadata": {},
     "output_type": "display_data"
    },
    {
     "data": {
      "application/vnd.jupyter.widget-view+json": {
       "model_id": "8a5b9885b7094906ab74d1b896f0aa2d",
       "version_major": 2,
       "version_minor": 0
      },
      "text/plain": [
       "Map:   0%|          | 0/3600 [00:00<?, ? examples/s]"
      ]
     },
     "metadata": {},
     "output_type": "display_data"
    }
   ],
   "source": [
    "def load_edges(json_path, percentage=5):\n",
    "    with open(json_path, 'r') as f:\n",
    "        graph_data = json.load(f)\n",
    "\n",
    "    scored_edges = [\n",
    "    (edge, abs(attrs.get(\"score\", 0)))\n",
    "    for edge, attrs in graph_data['edges'].items()\n",
    "    ]\n",
    "\n",
    "    scored_edges.sort(key=lambda x: abs(x[1]), reverse=True)\n",
    "\n",
    "    top_n = max(1, int(len(scored_edges) * (percentage / 100)))\n",
    "    top_edges = {edge for edge, score in scored_edges[:top_n]}\n",
    "    return top_edges\n",
    "\n",
    "def jaccard_similarity(set_a, set_b):\n",
    "    intersection = len(set_a & set_b)\n",
    "    union = len(set_a | set_b)\n",
    "    return intersection / union if union != 0 else 0.0\n",
    "\n",
    "def get_jaccard_similarity_from_graphs(graph_path_1, graph_path_2, percentage=5):\n",
    "    set_a = load_edges(graph_path_1, percentage)\n",
    "    set_b = load_edges(graph_path_2, percentage)\n",
    "    jc = jaccard_similarity(set_a, set_b)\n",
    "    return jc\n",
    "\n",
    "model_cache_dir = \"/mnt/faster0/rje41/.cache/huggingface\"\n",
    "model_name = \"EleutherAI/pythia-1.4b-deduped\"\n",
    "device = torch.device(\"cuda\" if torch.cuda.is_available() else \"cpu\")\n",
    "\n",
    "results = []\n",
    "\n",
    "for exp_name, exp_data in experiments.items():\n",
    "    #Start of training Task B\n",
    "    model, tokenizer = setup_model_peft(\n",
    "        model_name=model_name,\n",
    "        scratch_cache_dir=model_cache_dir,\n",
    "        lora_r=32,\n",
    "        lora_alpha=64,\n",
    "        load_checkpoint=True,\n",
    "        latest_checkpoint_path=str(exp_data['checkpoint_0_a'])\n",
    "    )\n",
    "    model.to(device)\n",
    "    tokenized_datasets = get_tokenized_datasets(Path(exp_data['dataset_path']) / 'datasets_csv', tokenizer)\n",
    "    val_dataset = tokenized_datasets['validation']\n",
    "\n",
    "    data_collator = DataCollatorForSeq2Seq(tokenizer, padding=True)\n",
    "    val_dataloader = DataLoader(val_dataset, batch_size=32, collate_fn=data_collator)\n",
    "    num_batches = len(val_dataloader)\n",
    "\n",
    "    model.eval()\n",
    "    losses = []\n",
    "    with torch.no_grad():\n",
    "        for batch in val_dataloader:\n",
    "            input_ids = batch['input_ids'].to(device)\n",
    "            attention_mask = batch['attention_mask'].to(device)\n",
    "            labels = batch['labels'].to(device)\n",
    "    \n",
    "            outputs = model(input_ids=input_ids, attention_mask=attention_mask, labels=labels)\n",
    "            losses.append(outputs.loss.item())\n",
    "\n",
    "    avg_loss_0 = sum(losses) / len(losses)\n",
    "\n",
    "    #End of training Task B\n",
    "    model, tokenizer = setup_model_peft(\n",
    "        model_name=model_name,\n",
    "        scratch_cache_dir=model_cache_dir,\n",
    "        lora_r=32,\n",
    "        lora_alpha=64,\n",
    "        load_checkpoint=True,\n",
    "        latest_checkpoint_path=str(exp_data['checkpoint_270_a'])\n",
    "    )\n",
    "    model.to(device)\n",
    "\n",
    "    model.eval()\n",
    "    losses = []\n",
    "    with torch.no_grad():\n",
    "        for batch in val_dataloader:\n",
    "            input_ids = batch['input_ids'].to(device)\n",
    "            attention_mask = batch['attention_mask'].to(device)\n",
    "            labels = batch['labels'].to(device)\n",
    "    \n",
    "            outputs = model(input_ids=input_ids, attention_mask=attention_mask, labels=labels)\n",
    "            losses.append(outputs.loss.item())\n",
    "            \n",
    "    avg_loss_270 = sum(losses) / len(losses)\n",
    "    loss_diff = (avg_loss_270 - avg_loss_0) / avg_loss_0\n",
    "    print('Loss diff',loss_diff)\n",
    "\n",
    "    jaccard_similarity_value = get_jaccard_similarity_from_graphs(\n",
    "        exp_data['task_0_a_graph'],\n",
    "        exp_data['task_270_a_graph'],\n",
    "        5\n",
    "    )\n",
    "    print('JC', jaccard_similarity_value)\n",
    "\n",
    "    results.append({\n",
    "        'experiment': exp_name,\n",
    "        'avg_loss_0': avg_loss_0,\n",
    "        'avg_loss_270': avg_loss_270,\n",
    "        'loss_diff': loss_diff,\n",
    "        'jaccard_similarity': jaccard_similarity_value\n",
    "    })"
   ]
  },
  {
   "cell_type": "code",
   "execution_count": 51,
   "id": "f945ef57",
   "metadata": {},
   "outputs": [
    {
     "name": "stdout",
     "output_type": "stream",
     "text": [
      "Slope: -3.09475418127041\n",
      "Intercept: 1.7210311744064037\n",
      "R^2: 0.5556423070909324\n"
     ]
    },
    {
     "data": {
      "image/png": "[encoded data removed]",
      "text/plain": [
       "<Figure size 640x480 with 1 Axes>"
      ]
     },
     "metadata": {},
     "output_type": "display_data"
    }
   ],
   "source": [
    "import pandas as pd\n",
    "from sklearn.linear_model import LinearRegression\n",
    "import matplotlib.pyplot as plt\n",
    "\n",
    "df = pd.DataFrame(results)\n",
    "X = df[['jaccard_similarity']]\n",
    "y = df['loss_diff']\n",
    "model = LinearRegression()\n",
    "model.fit(X, y)\n",
    "print(\"Slope:\", model.coef_[0])\n",
    "print(\"Intercept:\", model.intercept_)\n",
    "print(\"R^2:\", model.score(X, y))\n",
    "\n",
    "plt.scatter(X, y, label='Data')\n",
    "plt.plot(X, model.predict(X), color='red', label='Fit')\n",
    "plt.xlabel('Jaccard Similarity')\n",
    "plt.ylabel('Loss Difference')\n",
    "plt.legend()\n",
    "plt.show()"
   ]
  },
  {
   "cell_type": "code",
   "execution_count": 59,
   "id": "22837952",
   "metadata": {},
   "outputs": [],
   "source": [
    "from sklearn.linear_model import LinearRegression\n",
    "from sklearn.metrics import r2_score\n",
    "import numpy as np\n",
    "import matplotlib.pyplot as plt\n",
    "\n",
    "def plot_accuracy_vs_jaccard(jc_sims, accuracy_drops, x_bounds=None,\n",
    "                             plot_title=\"Accuracy Drop vs Jaccard Similarity\", save_fig_path=None):\n",
    "    X = np.array(jc_sims).reshape(-1, 1)\n",
    "    y = np.array(accuracy_drops)\n",
    "    \n",
    "    if x_bounds is not None:\n",
    "        mask = (X[:, 0] >= x_bounds[0]) & (X[:, 0] <= x_bounds[1])\n",
    "        X_filtered = X[mask]\n",
    "        y_filtered = y[mask]\n",
    "    else:\n",
    "        X_filtered = X\n",
    "        y_filtered = y\n",
    "\n",
    "    model = LinearRegression()\n",
    "    model.fit(X_filtered, y_filtered)\n",
    "    y_pred_filtered = model.predict(X_filtered)\n",
    "    r2 = r2_score(y_filtered, y_pred_filtered)\n",
    "    r = np.corrcoef(X_filtered[:, 0], y_filtered)[0, 1]\n",
    "\n",
    "    x_line = np.linspace(X_filtered.min(), X_filtered.max(), 100).reshape(-1, 1)\n",
    "    y_line = model.predict(x_line)\n",
    "\n",
    "    plt.scatter(X, y)\n",
    "    plt.plot(x_line, y_line, linestyle='--', linewidth=2, color='red',\n",
    "             label=f\"$R^2$={r2:.2f}, r={r:.2f}\")\n",
    "\n",
    "    plt.xlabel(\"Edge Jaccard Similarity\", fontsize=11)\n",
    "    plt.ylabel(\"Cross Entropy Loss Difference\", fontsize=11)\n",
    "    plt.title(plot_title, fontsize=11)\n",
    "    plt.grid(True, linestyle='--', alpha=0.5)\n",
    "    plt.legend(fontsize=10)\n",
    "    plt.tight_layout()\n",
    "\n",
    "    if save_fig_path:\n",
    "        plt.savefig(save_fig_path, format='pdf', dpi=600)\n",
    "    plt.show()\n",
    "\n",
    "    return model, r2, r"
   ]
  },
  {
   "cell_type": "code",
   "execution_count": 62,
   "id": "2e32cf39",
   "metadata": {},
   "outputs": [
    {
     "data": {
      "image/png": "[encoded data removed]",
      "text/plain": [
       "<Figure size 640x480 with 1 Axes>"
      ]
     },
     "metadata": {},
     "output_type": "display_data"
    },
    {
     "data": {
      "text/plain": [
       "(LinearRegression(), 0.5556423070909324, -0.745414184927368)"
      ]
     },
     "execution_count": 62,
     "metadata": {},
     "output_type": "execute_result"
    }
   ],
   "source": [
    "plot_accuracy_vs_jaccard(\n",
    "    X, y, \n",
    "    plot_title=\"Edge Jaccard Similarity vs Task A Loss Difference\",\n",
    "    save_fig_path='loss_diff_jc.png'\n",
    ")"
   ]
  }
 ],
 "metadata": {
  "kernelspec": {
   "display_name": ".venv",
   "language": "python",
   "name": "python3"
  },
  "language_info": {
   "codemirror_mode": {
    "name": "ipython",
    "version": 3
   },
   "file_extension": ".py",
   "mimetype": "text/x-python",
   "name": "python",
   "nbconvert_exporter": "python",
   "pygments_lexer": "ipython3",
   "version": "3.12.3"
  }
 },
 "nbformat": 4,
 "nbformat_minor": 5
}
