{
 "cells": [
  {
   "cell_type": "code",
   "execution_count": 1,
   "id": "7acd67df",
   "metadata": {},
   "outputs": [],
   "source": [
    "import os\n",
    "os.environ[\"CUDA_VISIBLE_DEVICES\"] = \"0\"\n",
    "from utils.eap_utils import run_metrics, load_adapter_into_hooked_transformer\n",
    "from eap.graph import Graph\n",
    "import json\n",
    "import gc\n",
    "import torch"
   ]
  },
  {
   "cell_type": "code",
   "execution_count": 2,
   "id": "5502ce96",
   "metadata": {},
   "outputs": [],
   "source": [
    "from pathlib import Path\n",
    "sq_main_path = '/mnt/faster0/rje41/checkpoints/results/experiment_2/forgetting_graph_set_0_lr_false'\n",
    "checkpoints_path = Path('/mnt/faster0/rje41/checkpoints/experiment_2/forgetting_graph_set_0_lr_false')\n",
    "\n",
    "dirs = [d for d in os.listdir(sq_main_path) if os.path.isdir(os.path.join(sq_main_path, d))]\n",
    "\n",
    "experiments = {}\n",
    "for exp_folder in dirs:\n",
    "    exp_path = os.path.join(sq_main_path, exp_folder)\n",
    "    task_subfolders = [d for d in os.listdir(exp_path) if os.path.isdir(os.path.join(exp_path, d))]\n",
    "    task_a_folder = [d for d in task_subfolders if 'task_a' in d][0]\n",
    "    task_b_folder = [d for d in task_subfolders if 'task_b' in d][0]\n",
    "\n",
    "    task_a_folder_path = os.path.join(exp_path, task_a_folder)\n",
    "    task_b_folder_path = os.path.join(exp_path, task_b_folder)\n",
    "    checkpoint_270_a = [d for d in os.listdir(task_a_folder_path) if 'checkpoint-270' in d][0]\n",
    "    checkpoint_270_b = [d for d in os.listdir(task_b_folder_path) if 'checkpoint-270' in d][0]\n",
    "\n",
    "    checkpoint_270_a_path = os.path.join(task_a_folder_path, checkpoint_270_a)\n",
    "    checkpoint_270_b_path = os.path.join(task_b_folder_path, checkpoint_270_b)\n",
    "\n",
    "    graph_a_path = Path(checkpoint_270_a_path) / 'graph.json'\n",
    "    graph_b_path = Path(checkpoint_270_b_path) / 'graph.json'\n",
    "    metrics_b_path = Path(checkpoint_270_b_path) / 'metrics.json'\n",
    "    final_path = Path(checkpoints_path) / Path(exp_path).name / 'checkpoints' / 'checkpoint-270'\n",
    "\n",
    "    task_name = Path(exp_path).name\n",
    "    parts = task_name.split('->') \n",
    "    experiments[Path(exp_path).name ] = {\n",
    "        'task_a_graph':graph_a_path,\n",
    "        'task_b_graph':graph_b_path,\n",
    "        'checkpoint_path':final_path,\n",
    "        'task_a': parts[0],\n",
    "        'task_b': parts[1]\n",
    "    }"
   ]
  },
  {
   "cell_type": "code",
   "execution_count": null,
   "id": "a9d7e91c",
   "metadata": {},
   "outputs": [
    {
     "name": "stdout",
     "output_type": "stream",
     "text": [
      "Sub AddSub\n",
      "Loaded pretrained model pythia-1.4B-deduped into HookedTransformer\n",
      "Pruned the graph!\n"
     ]
    },
    {
     "name": "stderr",
     "output_type": "stream",
     "text": [
      "100%|██████████| 67/67 [00:54<00:00,  1.23it/s]\n",
      "100%|██████████| 67/67 [01:24<00:00,  1.26s/it]\n"
     ]
    },
    {
     "name": "stdout",
     "output_type": "stream",
     "text": [
      "Baseline performance: 0.00041834349394775927\n",
      "Circuit performance: 0.0003865249454975128\n",
      "Faithfulness: 3.181854845024645e-05\n",
      "Percentage of model performance achieved by the circuit: 92.39%\n"
     ]
    },
    {
     "name": "stderr",
     "output_type": "stream",
     "text": [
      "100%|██████████| 67/67 [00:49<00:00,  1.35it/s]\n",
      "100%|██████████| 67/67 [01:01<00:00,  1.09it/s]\n"
     ]
    },
    {
     "name": "stdout",
     "output_type": "stream",
     "text": [
      "Baseline accuracy: 0.9449999928474426\n",
      "Circuit accuracy: 0.8299999833106995\n",
      "Pruned the graph!\n"
     ]
    },
    {
     "name": "stderr",
     "output_type": "stream",
     "text": [
      "100%|██████████| 67/67 [00:49<00:00,  1.36it/s]\n",
      "100%|██████████| 67/67 [01:23<00:00,  1.25s/it]\n"
     ]
    },
    {
     "name": "stdout",
     "output_type": "stream",
     "text": [
      "Baseline performance: 0.00041834349394775927\n",
      "Circuit performance: 0.0003856968251056969\n",
      "Faithfulness: 3.2646668842062354e-05\n",
      "Percentage of model performance achieved by the circuit: 92.20%\n"
     ]
    },
    {
     "name": "stderr",
     "output_type": "stream",
     "text": [
      "100%|██████████| 67/67 [00:48<00:00,  1.37it/s]\n",
      "100%|██████████| 67/67 [01:01<00:00,  1.08it/s]\n"
     ]
    },
    {
     "name": "stdout",
     "output_type": "stream",
     "text": [
      "Baseline accuracy: 0.9449999928474426\n",
      "Circuit accuracy: 0.8374999761581421\n",
      "KL_Faithfulness 0.9978575240706651\n",
      "Accuracy Faithfulness 0.9910447844048339\n",
      "FloorDiv AddSubAlias\n",
      "Loaded pretrained model pythia-1.4B-deduped into HookedTransformer\n",
      "Pruned the graph!\n"
     ]
    },
    {
     "name": "stderr",
     "output_type": "stream",
     "text": [
      "100%|██████████| 67/67 [00:50<00:00,  1.32it/s]\n",
      "100%|██████████| 67/67 [01:26<00:00,  1.30s/it]\n"
     ]
    },
    {
     "name": "stdout",
     "output_type": "stream",
     "text": [
      "Baseline performance: 0.0004158198134973645\n",
      "Circuit performance: 0.0003798893594648689\n",
      "Faithfulness: 3.593045403249562e-05\n",
      "Percentage of model performance achieved by the circuit: 91.36%\n"
     ]
    },
    {
     "name": "stderr",
     "output_type": "stream",
     "text": [
      "100%|██████████| 67/67 [00:50<00:00,  1.33it/s]\n",
      "100%|██████████| 67/67 [01:01<00:00,  1.09it/s]\n"
     ]
    },
    {
     "name": "stdout",
     "output_type": "stream",
     "text": [
      "Baseline accuracy: 0.9449999928474426\n",
      "Circuit accuracy: 0.7724999785423279\n",
      "Pruned the graph!\n"
     ]
    },
    {
     "name": "stderr",
     "output_type": "stream",
     "text": [
      "100%|██████████| 67/67 [00:49<00:00,  1.34it/s]\n",
      "100%|██████████| 67/67 [01:25<00:00,  1.27s/it]\n"
     ]
    },
    {
     "name": "stdout",
     "output_type": "stream",
     "text": [
      "Baseline performance: 0.0004158198134973645\n",
      "Circuit performance: 0.0003936171415261924\n",
      "Faithfulness: 2.2202671971172094e-05\n",
      "Percentage of model performance achieved by the circuit: 94.66%\n"
     ]
    },
    {
     "name": "stderr",
     "output_type": "stream",
     "text": [
      "100%|██████████| 67/67 [00:50<00:00,  1.34it/s]\n",
      "100%|██████████| 67/67 [01:01<00:00,  1.08it/s]\n"
     ]
    },
    {
     "name": "stdout",
     "output_type": "stream",
     "text": [
      "Baseline accuracy: 0.9449999928474426\n",
      "Circuit accuracy: 0.8575000166893005\n",
      "KL_Faithfulness 1.036136263675985\n",
      "Accuracy Faithfulness 0.9008745930114997\n",
      "Add Sub\n",
      "Loaded pretrained model pythia-1.4B-deduped into HookedTransformer\n",
      "Pruned the graph!\n"
     ]
    },
    {
     "name": "stderr",
     "output_type": "stream",
     "text": [
      "100%|██████████| 67/67 [00:50<00:00,  1.33it/s]\n",
      "100%|██████████| 67/67 [01:26<00:00,  1.29s/it]\n"
     ]
    },
    {
     "name": "stdout",
     "output_type": "stream",
     "text": [
      "Baseline performance: 0.00042760049109347165\n",
      "Circuit performance: 0.00038747527287341654\n",
      "Faithfulness: 4.01252182200551e-05\n",
      "Percentage of model performance achieved by the circuit: 90.62%\n"
     ]
    },
    {
     "name": "stderr",
     "output_type": "stream",
     "text": [
      "100%|██████████| 67/67 [00:50<00:00,  1.34it/s]\n",
      "100%|██████████| 67/67 [01:02<00:00,  1.08it/s]\n"
     ]
    },
    {
     "name": "stdout",
     "output_type": "stream",
     "text": [
      "Baseline accuracy: 1.0\n",
      "Circuit accuracy: 0.9449999928474426\n",
      "Pruned the graph!\n"
     ]
    },
    {
     "name": "stderr",
     "output_type": "stream",
     "text": [
      "100%|██████████| 67/67 [00:49<00:00,  1.35it/s]\n",
      "100%|██████████| 67/67 [01:24<00:00,  1.26s/it]\n"
     ]
    },
    {
     "name": "stdout",
     "output_type": "stream",
     "text": [
      "Baseline performance: 0.00042760049109347165\n",
      "Circuit performance: 0.0003886614285875112\n",
      "Faithfulness: 3.8939062505960464e-05\n",
      "Percentage of model performance achieved by the circuit: 90.89%\n"
     ]
    },
    {
     "name": "stderr",
     "output_type": "stream",
     "text": [
      "100%|██████████| 67/67 [00:49<00:00,  1.35it/s]\n",
      "100%|██████████| 67/67 [01:01<00:00,  1.08it/s]\n"
     ]
    },
    {
     "name": "stdout",
     "output_type": "stream",
     "text": [
      "Baseline accuracy: 1.0\n",
      "Circuit accuracy: 0.949999988079071\n",
      "KL_Faithfulness 1.0030612423479268\n",
      "Accuracy Faithfulness 0.9947368470585578\n",
      "Abs Sub\n",
      "Loaded pretrained model pythia-1.4B-deduped into HookedTransformer\n",
      "Pruned the graph!\n"
     ]
    },
    {
     "name": "stderr",
     "output_type": "stream",
     "text": [
      "100%|██████████| 67/67 [00:50<00:00,  1.32it/s]\n",
      "100%|██████████| 67/67 [01:25<00:00,  1.28s/it]\n"
     ]
    },
    {
     "name": "stdout",
     "output_type": "stream",
     "text": [
      "Baseline performance: 0.0004521612427197397\n",
      "Circuit performance: 0.0004230471677146852\n",
      "Faithfulness: 2.9114075005054474e-05\n",
      "Percentage of model performance achieved by the circuit: 93.56%\n"
     ]
    },
    {
     "name": "stderr",
     "output_type": "stream",
     "text": [
      "100%|██████████| 67/67 [00:50<00:00,  1.34it/s]\n",
      "100%|██████████| 67/67 [01:02<00:00,  1.08it/s]\n"
     ]
    },
    {
     "name": "stdout",
     "output_type": "stream",
     "text": [
      "Baseline accuracy: 1.0\n",
      "Circuit accuracy: 0.9825000166893005\n",
      "Pruned the graph!\n"
     ]
    },
    {
     "name": "stderr",
     "output_type": "stream",
     "text": [
      "100%|██████████| 67/67 [00:50<00:00,  1.32it/s]\n",
      "100%|██████████| 67/67 [01:25<00:00,  1.28s/it]\n"
     ]
    },
    {
     "name": "stdout",
     "output_type": "stream",
     "text": [
      "Baseline performance: 0.0004521612427197397\n",
      "Circuit performance: 0.0004246200551278889\n",
      "Faithfulness: 2.7541187591850758e-05\n",
      "Percentage of model performance achieved by the circuit: 93.91%\n"
     ]
    },
    {
     "name": "stderr",
     "output_type": "stream",
     "text": [
      "100%|██████████| 67/67 [00:49<00:00,  1.35it/s]\n",
      "100%|██████████| 67/67 [01:02<00:00,  1.08it/s]\n"
     ]
    },
    {
     "name": "stdout",
     "output_type": "stream",
     "text": [
      "Baseline accuracy: 1.0\n",
      "Circuit accuracy: 0.9750000238418579\n",
      "KL_Faithfulness 1.0037179953755524\n",
      "Accuracy Faithfulness 1.00769230016825\n",
      "AddSub AddSubAlias\n",
      "Loaded pretrained model pythia-1.4B-deduped into HookedTransformer\n",
      "Pruned the graph!\n"
     ]
    },
    {
     "name": "stderr",
     "output_type": "stream",
     "text": [
      "100%|██████████| 67/67 [00:50<00:00,  1.32it/s]\n",
      "100%|██████████| 67/67 [01:24<00:00,  1.26s/it]\n"
     ]
    },
    {
     "name": "stdout",
     "output_type": "stream",
     "text": [
      "Baseline performance: 0.0004369760281406343\n",
      "Circuit performance: 0.00041186832822859287\n",
      "Faithfulness: 2.5107699912041426e-05\n",
      "Percentage of model performance achieved by the circuit: 94.25%\n"
     ]
    },
    {
     "name": "stderr",
     "output_type": "stream",
     "text": [
      "100%|██████████| 67/67 [00:49<00:00,  1.34it/s]\n",
      "100%|██████████| 67/67 [01:02<00:00,  1.07it/s]\n"
     ]
    },
    {
     "name": "stdout",
     "output_type": "stream",
     "text": [
      "Baseline accuracy: 0.9649999737739563\n",
      "Circuit accuracy: 0.8600000143051147\n"
     ]
    }
   ],
   "source": [
    "model_name = \"EleutherAI/pythia-1.4b-deduped\"\n",
    "transformer_lens_name = \"pythia-1.4B-deduped\"\n",
    "model_cache_dir = \"/mnt/faster0/rje41/.cache/huggingface\"\n",
    "validation_datasets = '/homes/rje41/mech-interp-ft/experiment2/task_set_0'\n",
    "\n",
    "all_results = {}\n",
    "task_combos_set = [\n",
    "    ('Sub','AddSub'),\n",
    "    ('Add','Sub'),\n",
    "    ('Abs','Sub'),\n",
    "    ('AddSub','AddSubAlias'),\n",
    "    ('FloorDiv','AddSubAlias'),\n",
    "    ('AddSub','CondAddSub'),\n",
    "    ('Sub','Modulo'),\n",
    "    ('Abs','FloorDiv')\n",
    "]\n",
    "\n",
    "for exp_name, exp_info in experiments.items():\n",
    "    task_a_graph = exp_info['task_a_graph']\n",
    "    task_b_graph = exp_info['task_b_graph']\n",
    "    checkpoint_path = exp_info['checkpoint_path']\n",
    "    task_a = exp_info['task_a']\n",
    "    task_b = exp_info['task_b']\n",
    "    if (task_a,task_b) not in task_combos_set:\n",
    "        continue \n",
    "    print(task_a, task_b)\n",
    "\n",
    "    model = load_adapter_into_hooked_transformer(\n",
    "        adapter_path=checkpoint_path,\n",
    "        hf_model_name=model_name,\n",
    "        translens_model_name=transformer_lens_name,\n",
    "        adapter=True,\n",
    "        scratch_cache_dir=model_cache_dir,\n",
    "    )   \n",
    "\n",
    "    result_a_on_b = run_metrics(\n",
    "        g=Graph.from_json(task_a_graph),\n",
    "        model=model,\n",
    "        valid_file_csv=Path(validation_datasets) / task_b / 'datasets_csv' / 'validation.csv',\n",
    "        loader_n=6,\n",
    "        percentage_prune=0.05\n",
    "    )\n",
    "\n",
    "    result_b_on_b = run_metrics(\n",
    "        g=Graph.from_json(task_b_graph),\n",
    "        model=model,\n",
    "        valid_file_csv=Path(validation_datasets) / task_b / 'datasets_csv' / 'validation.csv',\n",
    "        loader_n=6,\n",
    "        percentage_prune=0.05\n",
    "    )\n",
    "\n",
    "    kl_faithfulness = result_b_on_b[0]['circuit_kl'] / result_a_on_b[0]['circuit_kl']\n",
    "\n",
    "    accuracy_faithfulness = result_a_on_b[0]['graph_accuracy'] / result_b_on_b[0]['graph_accuracy']\n",
    "\n",
    "    del model\n",
    "    torch.cuda.empty_cache()\n",
    "    gc.collect()\n",
    "\n",
    "    all_results[exp_name] = {\n",
    "        'task_a_on_task_b': result_a_on_b[0],\n",
    "        'task_b_on_task_b': result_b_on_b[0],\n",
    "        'kl_faithfulness': kl_faithfulness,\n",
    "        'accuracy_faithfulness': accuracy_faithfulness\n",
    "    }\n",
    "\n",
    "    print('KL_Faithfulness', kl_faithfulness)\n",
    "    print('Accuracy Faithfulness', accuracy_faithfulness)\n",
    "\n",
    "    all_results[exp_name] = {\n",
    "        'task_a_on_task_b': result_a_on_b,\n",
    "        'task_b_on_task_b': result_b_on_b,\n",
    "        'kl_faithfulness': kl_faithfulness,\n",
    "        'accuracy_faithfulness': accuracy_faithfulness\n",
    "    }\n"
   ]
  },
  {
   "cell_type": "code",
   "execution_count": null,
   "id": "d5224e63",
   "metadata": {},
   "outputs": [],
   "source": [
    "with open(\"all_results.json\", \"w\") as f:\n",
    "    json.dump(all_results, f, indent=4)"
   ]
  }
 ],
 "metadata": {
  "kernelspec": {
   "display_name": ".venv",
   "language": "python",
   "name": "python3"
  },
  "language_info": {
   "codemirror_mode": {
    "name": "ipython",
    "version": 3
   },
   "file_extension": ".py",
   "mimetype": "text/x-python",
   "name": "python",
   "nbconvert_exporter": "python",
   "pygments_lexer": "ipython3",
   "version": "3.12.3"
  }
 },
 "nbformat": 4,
 "nbformat_minor": 5
}
