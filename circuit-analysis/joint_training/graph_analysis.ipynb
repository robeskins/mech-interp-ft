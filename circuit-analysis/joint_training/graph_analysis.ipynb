{
 "cells": [
  {
   "cell_type": "code",
   "execution_count": 1,
   "id": "e8f064a8",
   "metadata": {},
   "outputs": [],
   "source": [
    "import json"
   ]
  },
  {
   "cell_type": "code",
   "execution_count": 2,
   "id": "c911d2b3",
   "metadata": {},
   "outputs": [],
   "source": [
    "def load_circuit(json_path):\n",
    "    with open(json_path, 'r') as f:\n",
    "        data = json.load(f)\n",
    "    return data"
   ]
  },
  {
   "cell_type": "code",
   "execution_count": 15,
   "id": "e725f9ce",
   "metadata": {},
   "outputs": [],
   "source": [
    "add_sub_g =load_circuit('add_sub_graph.json')\n",
    "edges_in_graph_add_sub_g = {k: v for k, v in add_sub_g['edges'].items() if v.get(\"in_graph\")}"
   ]
  },
  {
   "cell_type": "code",
   "execution_count": 16,
   "id": "e40fa71c",
   "metadata": {},
   "outputs": [],
   "source": [
    "add_sub_merge_g =load_circuit('add_sub_merge_graph.json')\n",
    "edges_in_graph_add_sub_merge_g = {k: v for k, v in add_sub_merge_g['edges'].items() if v.get(\"in_graph\")}"
   ]
  },
  {
   "cell_type": "code",
   "execution_count": 20,
   "id": "139964f5",
   "metadata": {},
   "outputs": [],
   "source": [
    "overlapping_keys = set(edges_in_graph_add_sub_merge_g.keys()) & set(edges_in_graph_add_sub_g.keys())"
   ]
  },
  {
   "cell_type": "code",
   "execution_count": 23,
   "id": "617ea5a9",
   "metadata": {},
   "outputs": [
    {
     "data": {
      "text/plain": [
       "0.6731703087062089"
      ]
     },
     "execution_count": 23,
     "metadata": {},
     "output_type": "execute_result"
    }
   ],
   "source": [
    "len(overlapping_keys)/ len(edges_in_graph_add_sub_merge_g)"
   ]
  }
 ],
 "metadata": {
  "kernelspec": {
   "display_name": ".venv",
   "language": "python",
   "name": "python3"
  },
  "language_info": {
   "codemirror_mode": {
    "name": "ipython",
    "version": 3
   },
   "file_extension": ".py",
   "mimetype": "text/x-python",
   "name": "python",
   "nbconvert_exporter": "python",
   "pygments_lexer": "ipython3",
   "version": "3.12.3"
  }
 },
 "nbformat": 4,
 "nbformat_minor": 5
}
