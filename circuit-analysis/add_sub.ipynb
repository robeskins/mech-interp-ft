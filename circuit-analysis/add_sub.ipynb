{
 "cells": [
  {
   "cell_type": "code",
   "execution_count": 1,
   "id": "9fb67293",
   "metadata": {},
   "outputs": [],
   "source": [
    "import os\n",
    "os.environ[\"CUDA_VISIBLE_DEVICES\"] = \"2\""
   ]
  },
  {
   "cell_type": "code",
   "execution_count": 2,
   "id": "424feffc",
   "metadata": {},
   "outputs": [],
   "source": [
    "from functools import partial\n",
    "\n",
    "import pandas as pd\n",
    "import torch\n",
    "from torch.utils.data import Dataset, DataLoader\n",
    "from transformers import PreTrainedTokenizer, AutoTokenizer\n",
    "from transformer_lens import HookedTransformer\n",
    "import torch.nn.functional as F"
   ]
  },
  {
   "cell_type": "code",
   "execution_count": 3,
   "id": "430f02c2",
   "metadata": {},
   "outputs": [],
   "source": [
    "from eap_ig.graph import Graph\n",
    "from eap_ig.evaluate import evaluate_graph, evaluate_baseline\n",
    "from eap_ig.attribute import attribute "
   ]
  },
  {
   "cell_type": "code",
   "execution_count": 4,
   "id": "0d72ff1e",
   "metadata": {},
   "outputs": [],
   "source": [
    "from transformers import AutoModelForCausalLM, AutoTokenizer\n",
    "from peft import PeftModel\n",
    "\n",
    "def load_model(adapter_path, hf_model_name, translens_model_name, scratch_cache_dir = None):\n",
    "    base_model = AutoModelForCausalLM.from_pretrained(hf_model_name, cache_dir=scratch_cache_dir)\n",
    "    model_with_lora = PeftModel.from_pretrained(base_model, adapter_path)\n",
    "    model_with_lora = model_with_lora.merge_and_unload()\n",
    "    model = HookedTransformer.from_pretrained(model_name=translens_model_name, hf_model=model_with_lora, cache_dir=scratch_cache_dir)  \n",
    "\n",
    "    model.cfg.use_split_qkv_input = True\n",
    "    model.cfg.use_attn_result = True\n",
    "    model.cfg.use_hook_mlp_in = True\n",
    "    model.cfg.ungroup_grouped_query_attention = True\n",
    "    return model"
   ]
  },
  {
   "cell_type": "code",
   "execution_count": 5,
   "id": "9e243c58",
   "metadata": {},
   "outputs": [],
   "source": [
    "def collate_EAP(xs):\n",
    "    clean, corrupted, labels = zip(*xs)\n",
    "    clean = list(clean)\n",
    "    corrupted = list(corrupted)\n",
    "    return clean, corrupted, labels\n",
    "\n",
    "class EAPDataset(Dataset):\n",
    "    def __init__(self, filepath):\n",
    "        self.df = pd.read_csv(filepath)\n",
    "\n",
    "    def __len__(self):\n",
    "        return len(self.df)\n",
    "    \n",
    "    def shuffle(self):\n",
    "        self.df = self.df.sample(frac=1)\n",
    "\n",
    "    def head(self, n: int):\n",
    "        self.df = self.df.head(n)\n",
    "    \n",
    "    def __getitem__(self, index):\n",
    "        row = self.df.iloc[index]\n",
    "        return row['clean'], row['corrupted'], row['label']\n",
    "    \n",
    "    def to_dataloader(self, batch_size: int):\n",
    "        return DataLoader(self, batch_size=batch_size, collate_fn=collate_EAP)\n",
    "    \n",
    "def get_logit_positions(logits: torch.Tensor, input_length: torch.Tensor):\n",
    "    batch_size = logits.size(0)\n",
    "    idx = torch.arange(batch_size, device=logits.device)\n",
    "\n",
    "    logits = logits[idx, input_length - 1]\n",
    "    return logits\n",
    "\n",
    "def kl_divergence(logits: torch.Tensor, clean_logits: torch.Tensor, input_length: torch.Tensor, labels: torch.Tensor, mean=True, loss=True):\n",
    "    logits = get_logit_positions(logits, input_length)\n",
    "    clean_logits = get_logit_positions(clean_logits, input_length)\n",
    "\n",
    "    probs = torch.softmax(logits, dim=-1)\n",
    "    clean_probs = torch.softmax(clean_logits, dim=-1)\n",
    "\n",
    "    results = F.kl_div(probs.log(), clean_probs.log(), log_target=True, reduction='none').mean(-1)\n",
    "    return results.mean() if mean else results"
   ]
  },
  {
   "cell_type": "code",
   "execution_count": 6,
   "id": "d3e2e08e",
   "metadata": {},
   "outputs": [
    {
     "name": "stdout",
     "output_type": "stream",
     "text": [
      "Loaded pretrained model pythia-1.4B-deduped into HookedTransformer\n"
     ]
    }
   ],
   "source": [
    "scratch_cache_dir = \"/mnt/fast0/rje41/.cache/huggingface\"    \n",
    "hf_model_name = \"EleutherAI/pythia-1.4B-deduped\"\n",
    "translens_model_name=\"pythia-1.4B-deduped\"\n",
    "adapter_path = \"../fine-tuning/add_sub/lora_opt_results/r32a64/checkpoint-282\"\n",
    "model = load_model(\n",
    "        adapter_path=adapter_path,\n",
    "        hf_model_name=hf_model_name,\n",
    "        translens_model_name=translens_model_name,\n",
    "        scratch_cache_dir=scratch_cache_dir,\n",
    "    )"
   ]
  },
  {
   "cell_type": "code",
   "execution_count": 7,
   "id": "141a9004",
   "metadata": {},
   "outputs": [],
   "source": [
    "ds = EAPDataset('../datasets/Add_Sub_100_circuit.csv')\n",
    "dataloader = ds.to_dataloader(6)"
   ]
  },
  {
   "cell_type": "code",
   "execution_count": 8,
   "id": "d843825b",
   "metadata": {},
   "outputs": [
    {
     "name": "stderr",
     "output_type": "stream",
     "text": [
      "100%|██████████| 84/84 [05:04<00:00,  3.63s/it]\n",
      "100%|██████████| 231493/231493 [00:00<00:00, 640825.59it/s]\n"
     ]
    }
   ],
   "source": [
    "g = Graph.from_model(model)\n",
    "attribute(model, g, dataloader, partial(kl_divergence, loss=True, mean=True), method='EAP-IG', ig_steps=5)"
   ]
  },
  {
   "cell_type": "code",
   "execution_count": 9,
   "id": "5c20c17a",
   "metadata": {},
   "outputs": [],
   "source": [
    "total_edges = len(g.edges)\n",
    "five_percent_edges = int(total_edges * 0.05)\n",
    "g.apply_topn(five_percent_edges , absolute=True)\n",
    "g.prune_dead_nodes()\n",
    "g.to_json('graph.json')"
   ]
  },
  {
   "cell_type": "code",
   "execution_count": 10,
   "id": "04db66f7",
   "metadata": {},
   "outputs": [
    {
     "name": "stderr",
     "output_type": "stream",
     "text": [
      "100%|██████████| 84/84 [00:31<00:00,  2.68it/s]\n",
      "100%|██████████| 84/84 [00:31<00:00,  2.68it/s]\n",
      "100%|██████████| 84/84 [00:40<00:00,  2.07it/s]"
     ]
    },
    {
     "name": "stdout",
     "output_type": "stream",
     "text": [
      "Baseline performance: 0.0003752674092538655\n",
      "Circuit performance: 0.000333296979079023\n",
      "Faithfulness: 4.197043017484248e-05\n",
      "Percentage of model performance achieved by the circuit: 88.82%\n"
     ]
    },
    {
     "name": "stderr",
     "output_type": "stream",
     "text": [
      "\n"
     ]
    }
   ],
   "source": [
    "import torch\n",
    "from functools import partial\n",
    "\n",
    "def calculate_faithfulness(model, g, dataloader, metric_fn):\n",
    "    baseline_performance = evaluate_baseline(model, dataloader, metric_fn).mean().item()\n",
    "    circuit_performance = evaluate_graph(model, g, dataloader, metric_fn).mean().item()\n",
    "    faithfulness = abs(baseline_performance - circuit_performance)\n",
    "    percentage_performance = (1 - faithfulness / baseline_performance) * 100\n",
    "\n",
    "    print(f\"Baseline performance: {baseline_performance}\")\n",
    "    print(f\"Circuit performance: {circuit_performance}\")\n",
    "    print(f\"Faithfulness: {faithfulness}\")\n",
    "    print(f\"Percentage of model performance achieved by the circuit: {percentage_performance:.2f}%\")\n",
    "\n",
    "    return faithfulness, percentage_performance\n",
    "\n",
    "metric_fn = partial(kl_divergence, loss=False, mean=False)\n",
    "faithfulness, percentage_performance = calculate_faithfulness(model, g, dataloader, metric_fn)"
   ]
  },
  {
   "cell_type": "code",
   "execution_count": 11,
   "id": "8bb75606",
   "metadata": {},
   "outputs": [
    {
     "name": "stderr",
     "output_type": "stream",
     "text": [
      "  1%|          | 1/84 [00:00<00:31,  2.61it/s]"
     ]
    },
    {
     "name": "stdout",
     "output_type": "stream",
     "text": [
      "pred_str:26, labeel_str:26\n",
      "pred_str:8, labeel_str:8\n",
      "pred_str:24, labeel_str:24\n",
      "pred_str:165, labeel_str:165\n",
      "pred_str:6, labeel_str:6\n",
      "pred_str:131, labeel_str:131\n"
     ]
    },
    {
     "name": "stderr",
     "output_type": "stream",
     "text": [
      "  2%|▏         | 2/84 [00:00<00:30,  2.65it/s]"
     ]
    },
    {
     "name": "stdout",
     "output_type": "stream",
     "text": [
      "pred_str:131, labeel_str:131\n",
      "pred_str:16, labeel_str:16\n",
      "pred_str:20, labeel_str:20\n",
      "pred_str:59, labeel_str:59\n",
      "pred_str:63, labeel_str:63\n",
      "pred_str:11, labeel_str:11\n"
     ]
    },
    {
     "name": "stderr",
     "output_type": "stream",
     "text": [
      "  4%|▎         | 3/84 [00:01<00:30,  2.63it/s]"
     ]
    },
    {
     "name": "stdout",
     "output_type": "stream",
     "text": [
      "pred_str:124, labeel_str:124\n",
      "pred_str:35, labeel_str:35\n",
      "pred_str:77, labeel_str:77\n",
      "pred_str:77, labeel_str:75\n",
      "pred_str:98, labeel_str:98\n",
      "pred_str:50, labeel_str:50\n"
     ]
    },
    {
     "name": "stderr",
     "output_type": "stream",
     "text": [
      "  5%|▍         | 4/84 [00:01<00:30,  2.64it/s]"
     ]
    },
    {
     "name": "stdout",
     "output_type": "stream",
     "text": [
      "pred_str:34, labeel_str:34\n",
      "pred_str:12, labeel_str:12\n",
      "pred_str:3, labeel_str:3\n",
      "pred_str:171, labeel_str:171\n",
      "pred_str:52, labeel_str:52\n",
      "pred_str:133, labeel_str:133\n"
     ]
    },
    {
     "name": "stderr",
     "output_type": "stream",
     "text": [
      "  6%|▌         | 5/84 [00:01<00:29,  2.64it/s]"
     ]
    },
    {
     "name": "stdout",
     "output_type": "stream",
     "text": [
      "pred_str:102, labeel_str:102\n",
      "pred_str:73, labeel_str:73\n",
      "pred_str:9, labeel_str:9\n",
      "pred_str:1, labeel_str:1\n",
      "pred_str:34, labeel_str:34\n",
      "pred_str:5, labeel_str:5\n"
     ]
    },
    {
     "name": "stderr",
     "output_type": "stream",
     "text": [
      "  7%|▋         | 6/84 [00:02<00:29,  2.64it/s]"
     ]
    },
    {
     "name": "stdout",
     "output_type": "stream",
     "text": [
      "pred_str:39, labeel_str:39\n",
      "pred_str:64, labeel_str:64\n",
      "pred_str:44, labeel_str:44\n",
      "pred_str:56, labeel_str:56\n",
      "pred_str:180, labeel_str:180\n",
      "pred_str:111, labeel_str:111\n"
     ]
    },
    {
     "name": "stderr",
     "output_type": "stream",
     "text": [
      "  8%|▊         | 7/84 [00:02<00:28,  2.67it/s]"
     ]
    },
    {
     "name": "stdout",
     "output_type": "stream",
     "text": [
      "pred_str:95, labeel_str:95\n",
      "pred_str:6, labeel_str:6\n",
      "pred_str:85, labeel_str:85\n",
      "pred_str:135, labeel_str:135\n",
      "pred_str:31, labeel_str:31\n",
      "pred_str:150, labeel_str:150\n"
     ]
    },
    {
     "name": "stderr",
     "output_type": "stream",
     "text": [
      " 10%|▉         | 8/84 [00:03<00:28,  2.67it/s]"
     ]
    },
    {
     "name": "stdout",
     "output_type": "stream",
     "text": [
      "pred_str:41, labeel_str:41\n",
      "pred_str:74, labeel_str:74\n",
      "pred_str:76, labeel_str:76\n",
      "pred_str:111, labeel_str:105\n",
      "pred_str:179, labeel_str:179\n",
      "pred_str:47, labeel_str:47\n"
     ]
    },
    {
     "name": "stderr",
     "output_type": "stream",
     "text": [
      " 11%|█         | 9/84 [00:03<00:28,  2.68it/s]"
     ]
    },
    {
     "name": "stdout",
     "output_type": "stream",
     "text": [
      "pred_str:74, labeel_str:74\n",
      "pred_str:4, labeel_str:4\n",
      "pred_str:57, labeel_str:57\n",
      "pred_str:16, labeel_str:16\n",
      "pred_str:98, labeel_str:98\n",
      "pred_str:151, labeel_str:145\n"
     ]
    },
    {
     "name": "stderr",
     "output_type": "stream",
     "text": [
      " 12%|█▏        | 10/84 [00:03<00:27,  2.68it/s]"
     ]
    },
    {
     "name": "stdout",
     "output_type": "stream",
     "text": [
      "pred_str:44, labeel_str:44\n",
      "pred_str:75, labeel_str:81\n",
      "pred_str:43, labeel_str:43\n",
      "pred_str:19, labeel_str:19\n",
      "pred_str:112, labeel_str:116\n",
      "pred_str:45, labeel_str:45\n"
     ]
    },
    {
     "name": "stderr",
     "output_type": "stream",
     "text": [
      " 13%|█▎        | 11/84 [00:04<00:27,  2.68it/s]"
     ]
    },
    {
     "name": "stdout",
     "output_type": "stream",
     "text": [
      "pred_str:68, labeel_str:68\n",
      "pred_str:57, labeel_str:57\n",
      "pred_str:180, labeel_str:180\n",
      "pred_str:20, labeel_str:20\n",
      "pred_str:7, labeel_str:7\n",
      "pred_str:94, labeel_str:94\n"
     ]
    },
    {
     "name": "stderr",
     "output_type": "stream",
     "text": [
      " 14%|█▍        | 12/84 [00:04<00:26,  2.67it/s]"
     ]
    },
    {
     "name": "stdout",
     "output_type": "stream",
     "text": [
      "pred_str:48, labeel_str:48\n",
      "pred_str:54, labeel_str:54\n",
      "pred_str:2, labeel_str:2\n",
      "pred_str:67, labeel_str:67\n",
      "pred_str:137, labeel_str:137\n",
      "pred_str:129, labeel_str:129\n"
     ]
    },
    {
     "name": "stderr",
     "output_type": "stream",
     "text": [
      " 15%|█▌        | 13/84 [00:04<00:26,  2.66it/s]"
     ]
    },
    {
     "name": "stdout",
     "output_type": "stream",
     "text": [
      "pred_str:10, labeel_str:10\n",
      "pred_str:8, labeel_str:8\n",
      "pred_str:120, labeel_str:120\n",
      "pred_str:12, labeel_str:12\n",
      "pred_str:66, labeel_str:66\n",
      "pred_str:97, labeel_str:97\n"
     ]
    },
    {
     "name": "stderr",
     "output_type": "stream",
     "text": [
      " 17%|█▋        | 14/84 [00:05<00:26,  2.68it/s]"
     ]
    },
    {
     "name": "stdout",
     "output_type": "stream",
     "text": [
      "pred_str:4, labeel_str:4\n",
      "pred_str:93, labeel_str:93\n",
      "pred_str:45, labeel_str:45\n",
      "pred_str:148, labeel_str:148\n",
      "pred_str:107, labeel_str:107\n",
      "pred_str:68, labeel_str:68\n"
     ]
    },
    {
     "name": "stderr",
     "output_type": "stream",
     "text": [
      " 18%|█▊        | 15/84 [00:05<00:25,  2.68it/s]"
     ]
    },
    {
     "name": "stdout",
     "output_type": "stream",
     "text": [
      "pred_str:19, labeel_str:19\n",
      "pred_str:92, labeel_str:92\n",
      "pred_str:30, labeel_str:30\n",
      "pred_str:83, labeel_str:83\n",
      "pred_str:64, labeel_str:64\n",
      "pred_str:24, labeel_str:24\n"
     ]
    },
    {
     "name": "stderr",
     "output_type": "stream",
     "text": [
      " 19%|█▉        | 16/84 [00:06<00:25,  2.66it/s]"
     ]
    },
    {
     "name": "stdout",
     "output_type": "stream",
     "text": [
      "pred_str:13, labeel_str:13\n",
      "pred_str:39, labeel_str:39\n",
      "pred_str:19, labeel_str:19\n",
      "pred_str:5, labeel_str:5\n",
      "pred_str:15, labeel_str:15\n",
      "pred_str:33, labeel_str:33\n"
     ]
    },
    {
     "name": "stderr",
     "output_type": "stream",
     "text": [
      " 20%|██        | 17/84 [00:06<00:25,  2.66it/s]"
     ]
    },
    {
     "name": "stdout",
     "output_type": "stream",
     "text": [
      "pred_str:135, labeel_str:135\n",
      "pred_str:16, labeel_str:16\n",
      "pred_str:99, labeel_str:101\n",
      "pred_str:116, labeel_str:116\n",
      "pred_str:23, labeel_str:23\n",
      "pred_str:19, labeel_str:19\n"
     ]
    },
    {
     "name": "stderr",
     "output_type": "stream",
     "text": [
      " 21%|██▏       | 18/84 [00:06<00:24,  2.67it/s]"
     ]
    },
    {
     "name": "stdout",
     "output_type": "stream",
     "text": [
      "pred_str:54, labeel_str:54\n",
      "pred_str:5, labeel_str:5\n",
      "pred_str:74, labeel_str:74\n",
      "pred_str:99, labeel_str:99\n",
      "pred_str:24, labeel_str:24\n",
      "pred_str:111, labeel_str:111\n"
     ]
    },
    {
     "name": "stderr",
     "output_type": "stream",
     "text": [
      " 23%|██▎       | 19/84 [00:07<00:24,  2.68it/s]"
     ]
    },
    {
     "name": "stdout",
     "output_type": "stream",
     "text": [
      "pred_str:86, labeel_str:86\n",
      "pred_str:128, labeel_str:128\n",
      "pred_str:40, labeel_str:40\n",
      "pred_str:84, labeel_str:84\n",
      "pred_str:73, labeel_str:73\n",
      "pred_str:15, labeel_str:15\n"
     ]
    },
    {
     "name": "stderr",
     "output_type": "stream",
     "text": [
      " 24%|██▍       | 20/84 [00:07<00:23,  2.68it/s]"
     ]
    },
    {
     "name": "stdout",
     "output_type": "stream",
     "text": [
      "pred_str:53, labeel_str:53\n",
      "pred_str:40, labeel_str:40\n",
      "pred_str:20, labeel_str:20\n",
      "pred_str:64, labeel_str:64\n",
      "pred_str:48, labeel_str:48\n",
      "pred_str:110, labeel_str:110\n"
     ]
    },
    {
     "name": "stderr",
     "output_type": "stream",
     "text": [
      " 25%|██▌       | 21/84 [00:07<00:23,  2.67it/s]"
     ]
    },
    {
     "name": "stdout",
     "output_type": "stream",
     "text": [
      "pred_str:101, labeel_str:101\n",
      "pred_str:125, labeel_str:125\n",
      "pred_str:73, labeel_str:73\n",
      "pred_str:31, labeel_str:31\n",
      "pred_str:26, labeel_str:26\n",
      "pred_str:35, labeel_str:35\n"
     ]
    },
    {
     "name": "stderr",
     "output_type": "stream",
     "text": [
      " 26%|██▌       | 22/84 [00:08<00:23,  2.67it/s]"
     ]
    },
    {
     "name": "stdout",
     "output_type": "stream",
     "text": [
      "pred_str:8, labeel_str:8\n",
      "pred_str:4, labeel_str:4\n",
      "pred_str:155, labeel_str:145\n",
      "pred_str:5, labeel_str:7\n",
      "pred_str:123, labeel_str:123\n",
      "pred_str:3, labeel_str:3\n"
     ]
    },
    {
     "name": "stderr",
     "output_type": "stream",
     "text": [
      " 27%|██▋       | 23/84 [00:08<00:22,  2.66it/s]"
     ]
    },
    {
     "name": "stdout",
     "output_type": "stream",
     "text": [
      "pred_str:139, labeel_str:139\n",
      "pred_str:151, labeel_str:151\n",
      "pred_str:119, labeel_str:119\n",
      "pred_str:25, labeel_str:25\n",
      "pred_str:38, labeel_str:38\n",
      "pred_str:98, labeel_str:98\n"
     ]
    },
    {
     "name": "stderr",
     "output_type": "stream",
     "text": [
      " 29%|██▊       | 24/84 [00:09<00:22,  2.66it/s]"
     ]
    },
    {
     "name": "stdout",
     "output_type": "stream",
     "text": [
      "pred_str:23, labeel_str:23\n",
      "pred_str:84, labeel_str:84\n",
      "pred_str:56, labeel_str:56\n",
      "pred_str:35, labeel_str:35\n",
      "pred_str:143, labeel_str:143\n",
      "pred_str:45, labeel_str:45\n"
     ]
    },
    {
     "name": "stderr",
     "output_type": "stream",
     "text": [
      " 30%|██▉       | 25/84 [00:09<00:22,  2.65it/s]"
     ]
    },
    {
     "name": "stdout",
     "output_type": "stream",
     "text": [
      "pred_str:60, labeel_str:60\n",
      "pred_str:65, labeel_str:65\n",
      "pred_str:16, labeel_str:16\n",
      "pred_str:157, labeel_str:157\n",
      "pred_str:165, labeel_str:165\n",
      "pred_str:9, labeel_str:9\n"
     ]
    },
    {
     "name": "stderr",
     "output_type": "stream",
     "text": [
      " 31%|███       | 26/84 [00:09<00:21,  2.65it/s]"
     ]
    },
    {
     "name": "stdout",
     "output_type": "stream",
     "text": [
      "pred_str:55, labeel_str:55\n",
      "pred_str:26, labeel_str:26\n",
      "pred_str:39, labeel_str:39\n",
      "pred_str:108, labeel_str:108\n",
      "pred_str:14, labeel_str:14\n",
      "pred_str:133, labeel_str:133\n"
     ]
    },
    {
     "name": "stderr",
     "output_type": "stream",
     "text": [
      " 32%|███▏      | 27/84 [00:10<00:21,  2.66it/s]"
     ]
    },
    {
     "name": "stdout",
     "output_type": "stream",
     "text": [
      "pred_str:73, labeel_str:73\n",
      "pred_str:106, labeel_str:106\n",
      "pred_str:11, labeel_str:11\n",
      "pred_str:28, labeel_str:28\n",
      "pred_str:51, labeel_str:51\n",
      "pred_str:3, labeel_str:3\n"
     ]
    },
    {
     "name": "stderr",
     "output_type": "stream",
     "text": [
      " 33%|███▎      | 28/84 [00:10<00:20,  2.67it/s]"
     ]
    },
    {
     "name": "stdout",
     "output_type": "stream",
     "text": [
      "pred_str:119, labeel_str:119\n",
      "pred_str:13, labeel_str:13\n",
      "pred_str:18, labeel_str:18\n",
      "pred_str:104, labeel_str:104\n",
      "pred_str:20, labeel_str:20\n",
      "pred_str:67, labeel_str:67\n"
     ]
    },
    {
     "name": "stderr",
     "output_type": "stream",
     "text": [
      " 35%|███▍      | 29/84 [00:10<00:20,  2.67it/s]"
     ]
    },
    {
     "name": "stdout",
     "output_type": "stream",
     "text": [
      "pred_str:76, labeel_str:76\n",
      "pred_str:7, labeel_str:7\n",
      "pred_str:116, labeel_str:116\n",
      "pred_str:3, labeel_str:3\n",
      "pred_str:19, labeel_str:19\n",
      "pred_str:140, labeel_str:140\n"
     ]
    },
    {
     "name": "stderr",
     "output_type": "stream",
     "text": [
      " 36%|███▌      | 30/84 [00:11<00:20,  2.65it/s]"
     ]
    },
    {
     "name": "stdout",
     "output_type": "stream",
     "text": [
      "pred_str:35, labeel_str:35\n",
      "pred_str:25, labeel_str:25\n",
      "pred_str:134, labeel_str:134\n",
      "pred_str:9, labeel_str:9\n",
      "pred_str:22, labeel_str:22\n",
      "pred_str:121, labeel_str:121\n"
     ]
    },
    {
     "name": "stderr",
     "output_type": "stream",
     "text": [
      " 37%|███▋      | 31/84 [00:11<00:19,  2.66it/s]"
     ]
    },
    {
     "name": "stdout",
     "output_type": "stream",
     "text": [
      "pred_str:151, labeel_str:151\n",
      "pred_str:14, labeel_str:14\n",
      "pred_str:11, labeel_str:11\n",
      "pred_str:52, labeel_str:52\n",
      "pred_str:47, labeel_str:47\n",
      "pred_str:25, labeel_str:25\n"
     ]
    },
    {
     "name": "stderr",
     "output_type": "stream",
     "text": [
      " 38%|███▊      | 32/84 [00:12<00:19,  2.64it/s]"
     ]
    },
    {
     "name": "stdout",
     "output_type": "stream",
     "text": [
      "pred_str:133, labeel_str:123\n",
      "pred_str:26, labeel_str:26\n",
      "pred_str:41, labeel_str:41\n",
      "pred_str:29, labeel_str:31\n",
      "pred_str:49, labeel_str:49\n",
      "pred_str:13, labeel_str:13\n"
     ]
    },
    {
     "name": "stderr",
     "output_type": "stream",
     "text": [
      " 39%|███▉      | 33/84 [00:12<00:19,  2.65it/s]"
     ]
    },
    {
     "name": "stdout",
     "output_type": "stream",
     "text": [
      "pred_str:31, labeel_str:31\n",
      "pred_str:66, labeel_str:66\n",
      "pred_str:68, labeel_str:68\n",
      "pred_str:69, labeel_str:69\n",
      "pred_str:15, labeel_str:15\n",
      "pred_str:84, labeel_str:84\n"
     ]
    },
    {
     "name": "stderr",
     "output_type": "stream",
     "text": [
      " 40%|████      | 34/84 [00:12<00:18,  2.65it/s]"
     ]
    },
    {
     "name": "stdout",
     "output_type": "stream",
     "text": [
      "pred_str:2, labeel_str:2\n",
      "pred_str:15, labeel_str:15\n",
      "pred_str:25, labeel_str:25\n",
      "pred_str:44, labeel_str:44\n",
      "pred_str:132, labeel_str:132\n",
      "pred_str:85, labeel_str:85\n"
     ]
    },
    {
     "name": "stderr",
     "output_type": "stream",
     "text": [
      " 42%|████▏     | 35/84 [00:13<00:18,  2.65it/s]"
     ]
    },
    {
     "name": "stdout",
     "output_type": "stream",
     "text": [
      "pred_str:109, labeel_str:109\n",
      "pred_str:76, labeel_str:76\n",
      "pred_str:10, labeel_str:10\n",
      "pred_str:89, labeel_str:89\n",
      "pred_str:80, labeel_str:80\n",
      "pred_str:21, labeel_str:21\n"
     ]
    },
    {
     "name": "stderr",
     "output_type": "stream",
     "text": [
      " 43%|████▎     | 36/84 [00:13<00:18,  2.64it/s]"
     ]
    },
    {
     "name": "stdout",
     "output_type": "stream",
     "text": [
      "pred_str:119, labeel_str:119\n",
      "pred_str:31, labeel_str:31\n",
      "pred_str:3, labeel_str:3\n",
      "pred_str:139, labeel_str:139\n",
      "pred_str:86, labeel_str:86\n",
      "pred_str:162, labeel_str:162\n"
     ]
    },
    {
     "name": "stderr",
     "output_type": "stream",
     "text": [
      " 44%|████▍     | 37/84 [00:13<00:17,  2.66it/s]"
     ]
    },
    {
     "name": "stdout",
     "output_type": "stream",
     "text": [
      "pred_str:15, labeel_str:15\n",
      "pred_str:37, labeel_str:37\n",
      "pred_str:71, labeel_str:77\n",
      "pred_str:50, labeel_str:50\n",
      "pred_str:24, labeel_str:24\n",
      "pred_str:17, labeel_str:17\n"
     ]
    },
    {
     "name": "stderr",
     "output_type": "stream",
     "text": [
      " 45%|████▌     | 38/84 [00:14<00:17,  2.65it/s]"
     ]
    },
    {
     "name": "stdout",
     "output_type": "stream",
     "text": [
      "pred_str:14, labeel_str:14\n",
      "pred_str:2, labeel_str:2\n",
      "pred_str:81, labeel_str:81\n",
      "pred_str:116, labeel_str:116\n",
      "pred_str:146, labeel_str:146\n",
      "pred_str:43, labeel_str:43\n"
     ]
    },
    {
     "name": "stderr",
     "output_type": "stream",
     "text": [
      " 46%|████▋     | 39/84 [00:14<00:16,  2.66it/s]"
     ]
    },
    {
     "name": "stdout",
     "output_type": "stream",
     "text": [
      "pred_str:65, labeel_str:65\n",
      "pred_str:38, labeel_str:38\n",
      "pred_str:13, labeel_str:13\n",
      "pred_str:36, labeel_str:36\n",
      "pred_str:0, labeel_str:0\n",
      "pred_str:156, labeel_str:156\n"
     ]
    },
    {
     "name": "stderr",
     "output_type": "stream",
     "text": [
      " 48%|████▊     | 40/84 [00:15<00:16,  2.66it/s]"
     ]
    },
    {
     "name": "stdout",
     "output_type": "stream",
     "text": [
      "pred_str:8, labeel_str:8\n",
      "pred_str:56, labeel_str:56\n",
      "pred_str:55, labeel_str:55\n",
      "pred_str:38, labeel_str:38\n",
      "pred_str:45, labeel_str:45\n",
      "pred_str:9, labeel_str:9\n"
     ]
    },
    {
     "name": "stderr",
     "output_type": "stream",
     "text": [
      " 49%|████▉     | 41/84 [00:15<00:16,  2.67it/s]"
     ]
    },
    {
     "name": "stdout",
     "output_type": "stream",
     "text": [
      "pred_str:14, labeel_str:14\n",
      "pred_str:49, labeel_str:49\n",
      "pred_str:35, labeel_str:35\n",
      "pred_str:83, labeel_str:83\n",
      "pred_str:9, labeel_str:11\n",
      "pred_str:16, labeel_str:16\n"
     ]
    },
    {
     "name": "stderr",
     "output_type": "stream",
     "text": [
      " 50%|█████     | 42/84 [00:15<00:15,  2.66it/s]"
     ]
    },
    {
     "name": "stdout",
     "output_type": "stream",
     "text": [
      "pred_str:112, labeel_str:112\n",
      "pred_str:94, labeel_str:94\n",
      "pred_str:64, labeel_str:64\n",
      "pred_str:19, labeel_str:19\n",
      "pred_str:129, labeel_str:129\n",
      "pred_str:29, labeel_str:29\n"
     ]
    },
    {
     "name": "stderr",
     "output_type": "stream",
     "text": [
      " 51%|█████     | 43/84 [00:16<00:15,  2.66it/s]"
     ]
    },
    {
     "name": "stdout",
     "output_type": "stream",
     "text": [
      "pred_str:77, labeel_str:77\n",
      "pred_str:24, labeel_str:24\n",
      "pred_str:24, labeel_str:24\n",
      "pred_str:104, labeel_str:104\n",
      "pred_str:57, labeel_str:57\n",
      "pred_str:55, labeel_str:55\n"
     ]
    },
    {
     "name": "stderr",
     "output_type": "stream",
     "text": [
      " 52%|█████▏    | 44/84 [00:16<00:15,  2.66it/s]"
     ]
    },
    {
     "name": "stdout",
     "output_type": "stream",
     "text": [
      "pred_str:27, labeel_str:27\n",
      "pred_str:73, labeel_str:73\n",
      "pred_str:106, labeel_str:106\n",
      "pred_str:162, labeel_str:162\n",
      "pred_str:173, labeel_str:163\n",
      "pred_str:134, labeel_str:134\n"
     ]
    },
    {
     "name": "stderr",
     "output_type": "stream",
     "text": [
      " 54%|█████▎    | 45/84 [00:16<00:14,  2.68it/s]"
     ]
    },
    {
     "name": "stdout",
     "output_type": "stream",
     "text": [
      "pred_str:91, labeel_str:91\n",
      "pred_str:134, labeel_str:134\n",
      "pred_str:7, labeel_str:7\n",
      "pred_str:10, labeel_str:10\n",
      "pred_str:42, labeel_str:42\n",
      "pred_str:112, labeel_str:112\n"
     ]
    },
    {
     "name": "stderr",
     "output_type": "stream",
     "text": [
      " 55%|█████▍    | 46/84 [00:17<00:14,  2.68it/s]"
     ]
    },
    {
     "name": "stdout",
     "output_type": "stream",
     "text": [
      "pred_str:68, labeel_str:68\n",
      "pred_str:141, labeel_str:141\n",
      "pred_str:89, labeel_str:89\n",
      "pred_str:83, labeel_str:83\n",
      "pred_str:81, labeel_str:81\n",
      "pred_str:44, labeel_str:44\n"
     ]
    },
    {
     "name": "stderr",
     "output_type": "stream",
     "text": [
      " 56%|█████▌    | 47/84 [00:17<00:13,  2.67it/s]"
     ]
    },
    {
     "name": "stdout",
     "output_type": "stream",
     "text": [
      "pred_str:120, labeel_str:120\n",
      "pred_str:34, labeel_str:34\n",
      "pred_str:100, labeel_str:100\n",
      "pred_str:4, labeel_str:4\n",
      "pred_str:125, labeel_str:125\n",
      "pred_str:73, labeel_str:73\n"
     ]
    },
    {
     "name": "stderr",
     "output_type": "stream",
     "text": [
      " 57%|█████▋    | 48/84 [00:18<00:13,  2.67it/s]"
     ]
    },
    {
     "name": "stdout",
     "output_type": "stream",
     "text": [
      "pred_str:140, labeel_str:140\n",
      "pred_str:76, labeel_str:76\n",
      "pred_str:2, labeel_str:2\n",
      "pred_str:106, labeel_str:106\n",
      "pred_str:55, labeel_str:55\n",
      "pred_str:15, labeel_str:15\n"
     ]
    },
    {
     "name": "stderr",
     "output_type": "stream",
     "text": [
      " 58%|█████▊    | 49/84 [00:18<00:13,  2.68it/s]"
     ]
    },
    {
     "name": "stdout",
     "output_type": "stream",
     "text": [
      "pred_str:167, labeel_str:157\n",
      "pred_str:62, labeel_str:62\n",
      "pred_str:155, labeel_str:155\n",
      "pred_str:42, labeel_str:42\n",
      "pred_str:57, labeel_str:57\n",
      "pred_str:28, labeel_str:28\n"
     ]
    },
    {
     "name": "stderr",
     "output_type": "stream",
     "text": [
      " 60%|█████▉    | 50/84 [00:18<00:12,  2.67it/s]"
     ]
    },
    {
     "name": "stdout",
     "output_type": "stream",
     "text": [
      "pred_str:0, labeel_str:0\n",
      "pred_str:93, labeel_str:93\n",
      "pred_str:168, labeel_str:168\n",
      "pred_str:152, labeel_str:152\n",
      "pred_str:151, labeel_str:151\n",
      "pred_str:131, labeel_str:131\n"
     ]
    },
    {
     "name": "stderr",
     "output_type": "stream",
     "text": [
      " 61%|██████    | 51/84 [00:19<00:12,  2.67it/s]"
     ]
    },
    {
     "name": "stdout",
     "output_type": "stream",
     "text": [
      "pred_str:158, labeel_str:158\n",
      "pred_str:18, labeel_str:18\n",
      "pred_str:3, labeel_str:3\n",
      "pred_str:121, labeel_str:121\n",
      "pred_str:57, labeel_str:57\n",
      "pred_str:51, labeel_str:51\n"
     ]
    },
    {
     "name": "stderr",
     "output_type": "stream",
     "text": [
      " 62%|██████▏   | 52/84 [00:19<00:12,  2.67it/s]"
     ]
    },
    {
     "name": "stdout",
     "output_type": "stream",
     "text": [
      "pred_str:123, labeel_str:123\n",
      "pred_str:11, labeel_str:11\n",
      "pred_str:124, labeel_str:124\n",
      "pred_str:22, labeel_str:22\n",
      "pred_str:52, labeel_str:52\n",
      "pred_str:88, labeel_str:88\n"
     ]
    },
    {
     "name": "stderr",
     "output_type": "stream",
     "text": [
      " 63%|██████▎   | 53/84 [00:19<00:11,  2.65it/s]"
     ]
    },
    {
     "name": "stdout",
     "output_type": "stream",
     "text": [
      "pred_str:33, labeel_str:33\n",
      "pred_str:18, labeel_str:18\n",
      "pred_str:108, labeel_str:108\n",
      "pred_str:109, labeel_str:109\n",
      "pred_str:100, labeel_str:100\n",
      "pred_str:64, labeel_str:64\n"
     ]
    },
    {
     "name": "stderr",
     "output_type": "stream",
     "text": [
      " 64%|██████▍   | 54/84 [00:20<00:11,  2.65it/s]"
     ]
    },
    {
     "name": "stdout",
     "output_type": "stream",
     "text": [
      "pred_str:0, labeel_str:0\n",
      "pred_str:36, labeel_str:36\n",
      "pred_str:65, labeel_str:65\n",
      "pred_str:153, labeel_str:153\n",
      "pred_str:81, labeel_str:81\n",
      "pred_str:14, labeel_str:14\n"
     ]
    },
    {
     "name": "stderr",
     "output_type": "stream",
     "text": [
      " 65%|██████▌   | 55/84 [00:20<00:10,  2.65it/s]"
     ]
    },
    {
     "name": "stdout",
     "output_type": "stream",
     "text": [
      "pred_str:38, labeel_str:38\n",
      "pred_str:59, labeel_str:59\n",
      "pred_str:45, labeel_str:45\n",
      "pred_str:127, labeel_str:127\n",
      "pred_str:76, labeel_str:76\n",
      "pred_str:134, labeel_str:134\n"
     ]
    },
    {
     "name": "stderr",
     "output_type": "stream",
     "text": [
      " 67%|██████▋   | 56/84 [00:21<00:10,  2.65it/s]"
     ]
    },
    {
     "name": "stdout",
     "output_type": "stream",
     "text": [
      "pred_str:155, labeel_str:149\n",
      "pred_str:135, labeel_str:135\n",
      "pred_str:115, labeel_str:115\n",
      "pred_str:78, labeel_str:78\n",
      "pred_str:26, labeel_str:26\n",
      "pred_str:54, labeel_str:54\n"
     ]
    },
    {
     "name": "stderr",
     "output_type": "stream",
     "text": [
      " 68%|██████▊   | 57/84 [00:21<00:10,  2.67it/s]"
     ]
    },
    {
     "name": "stdout",
     "output_type": "stream",
     "text": [
      "pred_str:7, labeel_str:7\n",
      "pred_str:57, labeel_str:57\n",
      "pred_str:105, labeel_str:105\n",
      "pred_str:46, labeel_str:46\n",
      "pred_str:140, labeel_str:140\n",
      "pred_str:4, labeel_str:6\n"
     ]
    },
    {
     "name": "stderr",
     "output_type": "stream",
     "text": [
      " 69%|██████▉   | 58/84 [00:21<00:09,  2.66it/s]"
     ]
    },
    {
     "name": "stdout",
     "output_type": "stream",
     "text": [
      "pred_str:28, labeel_str:28\n",
      "pred_str:42, labeel_str:42\n",
      "pred_str:28, labeel_str:28\n",
      "pred_str:117, labeel_str:117\n",
      "pred_str:99, labeel_str:99\n",
      "pred_str:85, labeel_str:85\n"
     ]
    },
    {
     "name": "stderr",
     "output_type": "stream",
     "text": [
      " 70%|███████   | 59/84 [00:22<00:09,  2.67it/s]"
     ]
    },
    {
     "name": "stdout",
     "output_type": "stream",
     "text": [
      "pred_str:40, labeel_str:40\n",
      "pred_str:68, labeel_str:68\n",
      "pred_str:32, labeel_str:32\n",
      "pred_str:71, labeel_str:71\n",
      "pred_str:121, labeel_str:121\n",
      "pred_str:54, labeel_str:54\n"
     ]
    },
    {
     "name": "stderr",
     "output_type": "stream",
     "text": [
      " 71%|███████▏  | 60/84 [00:22<00:08,  2.68it/s]"
     ]
    },
    {
     "name": "stdout",
     "output_type": "stream",
     "text": [
      "pred_str:35, labeel_str:35\n",
      "pred_str:16, labeel_str:16\n",
      "pred_str:194, labeel_str:194\n",
      "pred_str:56, labeel_str:56\n",
      "pred_str:34, labeel_str:34\n",
      "pred_str:43, labeel_str:43\n"
     ]
    },
    {
     "name": "stderr",
     "output_type": "stream",
     "text": [
      " 73%|███████▎  | 61/84 [00:22<00:08,  2.68it/s]"
     ]
    },
    {
     "name": "stdout",
     "output_type": "stream",
     "text": [
      "pred_str:105, labeel_str:105\n",
      "pred_str:47, labeel_str:47\n",
      "pred_str:129, labeel_str:129\n",
      "pred_str:26, labeel_str:26\n",
      "pred_str:120, labeel_str:120\n",
      "pred_str:2, labeel_str:2\n"
     ]
    },
    {
     "name": "stderr",
     "output_type": "stream",
     "text": [
      " 74%|███████▍  | 62/84 [00:23<00:08,  2.68it/s]"
     ]
    },
    {
     "name": "stdout",
     "output_type": "stream",
     "text": [
      "pred_str:25, labeel_str:25\n",
      "pred_str:63, labeel_str:63\n",
      "pred_str:98, labeel_str:98\n",
      "pred_str:31, labeel_str:31\n",
      "pred_str:81, labeel_str:81\n",
      "pred_str:14, labeel_str:14\n"
     ]
    },
    {
     "name": "stderr",
     "output_type": "stream",
     "text": [
      " 75%|███████▌  | 63/84 [00:23<00:07,  2.67it/s]"
     ]
    },
    {
     "name": "stdout",
     "output_type": "stream",
     "text": [
      "pred_str:46, labeel_str:46\n",
      "pred_str:89, labeel_str:89\n",
      "pred_str:16, labeel_str:16\n",
      "pred_str:137, labeel_str:133\n",
      "pred_str:106, labeel_str:106\n",
      "pred_str:35, labeel_str:35\n"
     ]
    },
    {
     "name": "stderr",
     "output_type": "stream",
     "text": [
      " 76%|███████▌  | 64/84 [00:24<00:07,  2.67it/s]"
     ]
    },
    {
     "name": "stdout",
     "output_type": "stream",
     "text": [
      "pred_str:6, labeel_str:6\n",
      "pred_str:101, labeel_str:101\n",
      "pred_str:34, labeel_str:34\n",
      "pred_str:107, labeel_str:107\n",
      "pred_str:26, labeel_str:26\n",
      "pred_str:128, labeel_str:128\n"
     ]
    },
    {
     "name": "stderr",
     "output_type": "stream",
     "text": [
      " 77%|███████▋  | 65/84 [00:24<00:07,  2.67it/s]"
     ]
    },
    {
     "name": "stdout",
     "output_type": "stream",
     "text": [
      "pred_str:65, labeel_str:65\n",
      "pred_str:21, labeel_str:21\n",
      "pred_str:101, labeel_str:101\n",
      "pred_str:105, labeel_str:105\n",
      "pred_str:133, labeel_str:133\n",
      "pred_str:1, labeel_str:1\n"
     ]
    },
    {
     "name": "stderr",
     "output_type": "stream",
     "text": [
      " 79%|███████▊  | 66/84 [00:24<00:06,  2.67it/s]"
     ]
    },
    {
     "name": "stdout",
     "output_type": "stream",
     "text": [
      "pred_str:151, labeel_str:157\n",
      "pred_str:48, labeel_str:48\n",
      "pred_str:138, labeel_str:138\n",
      "pred_str:16, labeel_str:16\n",
      "pred_str:43, labeel_str:43\n",
      "pred_str:1, labeel_str:1\n"
     ]
    },
    {
     "name": "stderr",
     "output_type": "stream",
     "text": [
      " 80%|███████▉  | 67/84 [00:25<00:06,  2.67it/s]"
     ]
    },
    {
     "name": "stdout",
     "output_type": "stream",
     "text": [
      "pred_str:36, labeel_str:36\n",
      "pred_str:77, labeel_str:77\n",
      "pred_str:42, labeel_str:42\n",
      "pred_str:62, labeel_str:62\n",
      "pred_str:171, labeel_str:171\n",
      "pred_str:102, labeel_str:102\n"
     ]
    },
    {
     "name": "stderr",
     "output_type": "stream",
     "text": [
      " 81%|████████  | 68/84 [00:25<00:05,  2.67it/s]"
     ]
    },
    {
     "name": "stdout",
     "output_type": "stream",
     "text": [
      "pred_str:65, labeel_str:65\n",
      "pred_str:9, labeel_str:9\n",
      "pred_str:44, labeel_str:44\n",
      "pred_str:142, labeel_str:142\n",
      "pred_str:151, labeel_str:151\n",
      "pred_str:178, labeel_str:178\n"
     ]
    },
    {
     "name": "stderr",
     "output_type": "stream",
     "text": [
      " 82%|████████▏ | 69/84 [00:25<00:05,  2.66it/s]"
     ]
    },
    {
     "name": "stdout",
     "output_type": "stream",
     "text": [
      "pred_str:115, labeel_str:115\n",
      "pred_str:128, labeel_str:118\n",
      "pred_str:104, labeel_str:104\n",
      "pred_str:131, labeel_str:131\n",
      "pred_str:56, labeel_str:56\n",
      "pred_str:29, labeel_str:29\n"
     ]
    },
    {
     "name": "stderr",
     "output_type": "stream",
     "text": [
      " 83%|████████▎ | 70/84 [00:26<00:05,  2.65it/s]"
     ]
    },
    {
     "name": "stdout",
     "output_type": "stream",
     "text": [
      "pred_str:61, labeel_str:61\n",
      "pred_str:6, labeel_str:6\n",
      "pred_str:21, labeel_str:21\n",
      "pred_str:132, labeel_str:132\n",
      "pred_str:6, labeel_str:6\n",
      "pred_str:38, labeel_str:38\n"
     ]
    },
    {
     "name": "stderr",
     "output_type": "stream",
     "text": [
      " 85%|████████▍ | 71/84 [00:26<00:04,  2.63it/s]"
     ]
    },
    {
     "name": "stdout",
     "output_type": "stream",
     "text": [
      "pred_str:12, labeel_str:12\n",
      "pred_str:177, labeel_str:177\n",
      "pred_str:106, labeel_str:106\n",
      "pred_str:64, labeel_str:64\n",
      "pred_str:129, labeel_str:129\n",
      "pred_str:47, labeel_str:47\n"
     ]
    },
    {
     "name": "stderr",
     "output_type": "stream",
     "text": [
      " 86%|████████▌ | 72/84 [00:27<00:04,  2.64it/s]"
     ]
    },
    {
     "name": "stdout",
     "output_type": "stream",
     "text": [
      "pred_str:68, labeel_str:68\n",
      "pred_str:29, labeel_str:29\n",
      "pred_str:104, labeel_str:104\n",
      "pred_str:137, labeel_str:137\n",
      "pred_str:13, labeel_str:13\n",
      "pred_str:34, labeel_str:34\n"
     ]
    },
    {
     "name": "stderr",
     "output_type": "stream",
     "text": [
      " 87%|████████▋ | 73/84 [00:27<00:04,  2.65it/s]"
     ]
    },
    {
     "name": "stdout",
     "output_type": "stream",
     "text": [
      "pred_str:79, labeel_str:79\n",
      "pred_str:86, labeel_str:86\n",
      "pred_str:114, labeel_str:114\n",
      "pred_str:141, labeel_str:141\n",
      "pred_str:70, labeel_str:70\n",
      "pred_str:88, labeel_str:88\n"
     ]
    },
    {
     "name": "stderr",
     "output_type": "stream",
     "text": [
      " 88%|████████▊ | 74/84 [00:27<00:03,  2.66it/s]"
     ]
    },
    {
     "name": "stdout",
     "output_type": "stream",
     "text": [
      "pred_str:144, labeel_str:144\n",
      "pred_str:26, labeel_str:26\n",
      "pred_str:26, labeel_str:26\n",
      "pred_str:37, labeel_str:37\n",
      "pred_str:105, labeel_str:105\n",
      "pred_str:40, labeel_str:40\n"
     ]
    },
    {
     "name": "stderr",
     "output_type": "stream",
     "text": [
      " 89%|████████▉ | 75/84 [00:28<00:03,  2.66it/s]"
     ]
    },
    {
     "name": "stdout",
     "output_type": "stream",
     "text": [
      "pred_str:102, labeel_str:102\n",
      "pred_str:93, labeel_str:93\n",
      "pred_str:182, labeel_str:182\n",
      "pred_str:64, labeel_str:64\n",
      "pred_str:136, labeel_str:136\n",
      "pred_str:101, labeel_str:101\n"
     ]
    },
    {
     "name": "stderr",
     "output_type": "stream",
     "text": [
      " 90%|█████████ | 76/84 [00:28<00:03,  2.65it/s]"
     ]
    },
    {
     "name": "stdout",
     "output_type": "stream",
     "text": [
      "pred_str:95, labeel_str:95\n",
      "pred_str:189, labeel_str:189\n",
      "pred_str:150, labeel_str:150\n",
      "pred_str:29, labeel_str:29\n",
      "pred_str:118, labeel_str:118\n",
      "pred_str:118, labeel_str:118\n"
     ]
    },
    {
     "name": "stderr",
     "output_type": "stream",
     "text": [
      " 92%|█████████▏| 77/84 [00:28<00:02,  2.66it/s]"
     ]
    },
    {
     "name": "stdout",
     "output_type": "stream",
     "text": [
      "pred_str:7, labeel_str:7\n",
      "pred_str:168, labeel_str:168\n",
      "pred_str:24, labeel_str:24\n",
      "pred_str:4, labeel_str:4\n",
      "pred_str:3, labeel_str:3\n",
      "pred_str:119, labeel_str:119\n"
     ]
    },
    {
     "name": "stderr",
     "output_type": "stream",
     "text": [
      " 93%|█████████▎| 78/84 [00:29<00:02,  2.66it/s]"
     ]
    },
    {
     "name": "stdout",
     "output_type": "stream",
     "text": [
      "pred_str:60, labeel_str:60\n",
      "pred_str:133, labeel_str:133\n",
      "pred_str:90, labeel_str:90\n",
      "pred_str:76, labeel_str:76\n",
      "pred_str:145, labeel_str:145\n",
      "pred_str:61, labeel_str:61\n"
     ]
    },
    {
     "name": "stderr",
     "output_type": "stream",
     "text": [
      " 94%|█████████▍| 79/84 [00:29<00:01,  2.67it/s]"
     ]
    },
    {
     "name": "stdout",
     "output_type": "stream",
     "text": [
      "pred_str:108, labeel_str:108\n",
      "pred_str:13, labeel_str:13\n",
      "pred_str:13, labeel_str:13\n",
      "pred_str:154, labeel_str:154\n",
      "pred_str:107, labeel_str:107\n",
      "pred_str:84, labeel_str:84\n"
     ]
    },
    {
     "name": "stderr",
     "output_type": "stream",
     "text": [
      " 95%|█████████▌| 80/84 [00:30<00:01,  2.68it/s]"
     ]
    },
    {
     "name": "stdout",
     "output_type": "stream",
     "text": [
      "pred_str:22, labeel_str:22\n",
      "pred_str:49, labeel_str:49\n",
      "pred_str:124, labeel_str:114\n",
      "pred_str:15, labeel_str:15\n",
      "pred_str:25, labeel_str:25\n",
      "pred_str:35, labeel_str:35\n"
     ]
    },
    {
     "name": "stderr",
     "output_type": "stream",
     "text": [
      " 96%|█████████▋| 81/84 [00:30<00:01,  2.68it/s]"
     ]
    },
    {
     "name": "stdout",
     "output_type": "stream",
     "text": [
      "pred_str:129, labeel_str:129\n",
      "pred_str:41, labeel_str:41\n",
      "pred_str:13, labeel_str:13\n",
      "pred_str:98, labeel_str:98\n",
      "pred_str:91, labeel_str:91\n",
      "pred_str:73, labeel_str:73\n"
     ]
    },
    {
     "name": "stderr",
     "output_type": "stream",
     "text": [
      " 98%|█████████▊| 82/84 [00:30<00:00,  2.67it/s]"
     ]
    },
    {
     "name": "stdout",
     "output_type": "stream",
     "text": [
      "pred_str:138, labeel_str:138\n",
      "pred_str:112, labeel_str:112\n",
      "pred_str:82, labeel_str:82\n",
      "pred_str:60, labeel_str:60\n",
      "pred_str:14, labeel_str:14\n",
      "pred_str:139, labeel_str:139\n"
     ]
    },
    {
     "name": "stderr",
     "output_type": "stream",
     "text": [
      "100%|██████████| 84/84 [00:31<00:00,  2.68it/s]\n",
      "100%|██████████| 84/84 [00:31<00:00,  2.68it/s]"
     ]
    },
    {
     "name": "stdout",
     "output_type": "stream",
     "text": [
      "pred_str:122, labeel_str:122\n",
      "pred_str:65, labeel_str:65\n",
      "pred_str:51, labeel_str:51\n",
      "pred_str:16, labeel_str:16\n",
      "pred_str:38, labeel_str:38\n",
      "pred_str:24, labeel_str:24\n",
      "pred_str:106, labeel_str:106\n",
      "pred_str:70, labeel_str:70\n"
     ]
    },
    {
     "name": "stderr",
     "output_type": "stream",
     "text": [
      "\n",
      "  1%|          | 1/84 [00:00<00:40,  2.04it/s]"
     ]
    },
    {
     "name": "stdout",
     "output_type": "stream",
     "text": [
      "pred_str:28, labeel_str:26\n",
      "pred_str:8, labeel_str:8\n",
      "pred_str:24, labeel_str:24\n",
      "pred_str:155, labeel_str:165\n",
      "pred_str:6, labeel_str:6\n",
      "pred_str:127, labeel_str:131\n"
     ]
    },
    {
     "name": "stderr",
     "output_type": "stream",
     "text": [
      "  2%|▏         | 2/84 [00:00<00:40,  2.03it/s]"
     ]
    },
    {
     "name": "stdout",
     "output_type": "stream",
     "text": [
      "pred_str:125, labeel_str:131\n",
      "pred_str:16, labeel_str:16\n",
      "pred_str:220, labeel_str:20\n",
      "pred_str:63, labeel_str:59\n",
      "pred_str:63, labeel_str:63\n",
      "pred_str:11, labeel_str:11\n"
     ]
    },
    {
     "name": "stderr",
     "output_type": "stream",
     "text": [
      "  4%|▎         | 3/84 [00:01<00:39,  2.04it/s]"
     ]
    },
    {
     "name": "stdout",
     "output_type": "stream",
     "text": [
      "pred_str:116, labeel_str:124\n",
      "pred_str:35, labeel_str:35\n",
      "pred_str:77, labeel_str:77\n",
      "pred_str:73, labeel_str:75\n",
      "pred_str:98, labeel_str:98\n",
      "pred_str:50, labeel_str:50\n"
     ]
    },
    {
     "name": "stderr",
     "output_type": "stream",
     "text": [
      "  5%|▍         | 4/84 [00:01<00:39,  2.04it/s]"
     ]
    },
    {
     "name": "stdout",
     "output_type": "stream",
     "text": [
      "pred_str:38, labeel_str:34\n",
      "pred_str:12, labeel_str:12\n",
      "pred_str:3, labeel_str:3\n",
      "pred_str:158, labeel_str:171\n",
      "pred_str:52, labeel_str:52\n",
      "pred_str:143, labeel_str:133\n"
     ]
    },
    {
     "name": "stderr",
     "output_type": "stream",
     "text": [
      "  6%|▌         | 5/84 [00:02<00:38,  2.04it/s]"
     ]
    },
    {
     "name": "stdout",
     "output_type": "stream",
     "text": [
      "pred_str:102, labeel_str:102\n",
      "pred_str:73, labeel_str:73\n",
      "pred_str:9, labeel_str:9\n",
      "pred_str:1, labeel_str:1\n",
      "pred_str:36, labeel_str:34\n",
      "pred_str:5, labeel_str:5\n"
     ]
    },
    {
     "name": "stderr",
     "output_type": "stream",
     "text": [
      "  7%|▋         | 6/84 [00:02<00:38,  2.05it/s]"
     ]
    },
    {
     "name": "stdout",
     "output_type": "stream",
     "text": [
      "pred_str:39, labeel_str:39\n",
      "pred_str:64, labeel_str:64\n",
      "pred_str:44, labeel_str:44\n",
      "pred_str:56, labeel_str:56\n",
      "pred_str:180, labeel_str:180\n",
      "pred_str:116, labeel_str:111\n"
     ]
    },
    {
     "name": "stderr",
     "output_type": "stream",
     "text": [
      "  8%|▊         | 7/84 [00:03<00:37,  2.03it/s]"
     ]
    },
    {
     "name": "stdout",
     "output_type": "stream",
     "text": [
      "pred_str:95, labeel_str:95\n",
      "pred_str:6, labeel_str:6\n",
      "pred_str:85, labeel_str:85\n",
      "pred_str:135, labeel_str:135\n",
      "pred_str:31, labeel_str:31\n",
      "pred_str:150, labeel_str:150\n"
     ]
    },
    {
     "name": "stderr",
     "output_type": "stream",
     "text": [
      " 10%|▉         | 8/84 [00:03<00:37,  2.04it/s]"
     ]
    },
    {
     "name": "stdout",
     "output_type": "stream",
     "text": [
      "pred_str:41, labeel_str:41\n",
      "pred_str:74, labeel_str:74\n",
      "pred_str:76, labeel_str:76\n",
      "pred_str:103, labeel_str:105\n",
      "pred_str:174, labeel_str:179\n",
      "pred_str:47, labeel_str:47\n"
     ]
    },
    {
     "name": "stderr",
     "output_type": "stream",
     "text": [
      " 11%|█         | 9/84 [00:04<00:36,  2.05it/s]"
     ]
    },
    {
     "name": "stdout",
     "output_type": "stream",
     "text": [
      "pred_str:74, labeel_str:74\n",
      "pred_str:4, labeel_str:4\n",
      "pred_str:57, labeel_str:57\n",
      "pred_str:20, labeel_str:16\n",
      "pred_str:98, labeel_str:98\n",
      "pred_str:143, labeel_str:145\n"
     ]
    },
    {
     "name": "stderr",
     "output_type": "stream",
     "text": [
      " 12%|█▏        | 10/84 [00:04<00:36,  2.05it/s]"
     ]
    },
    {
     "name": "stdout",
     "output_type": "stream",
     "text": [
      "pred_str:44, labeel_str:44\n",
      "pred_str:75, labeel_str:81\n",
      "pred_str:47, labeel_str:43\n",
      "pred_str:25, labeel_str:19\n",
      "pred_str:110, labeel_str:116\n",
      "pred_str:45, labeel_str:45\n"
     ]
    },
    {
     "name": "stderr",
     "output_type": "stream",
     "text": [
      " 13%|█▎        | 11/84 [00:05<00:35,  2.05it/s]"
     ]
    },
    {
     "name": "stdout",
     "output_type": "stream",
     "text": [
      "pred_str:68, labeel_str:68\n",
      "pred_str:63, labeel_str:57\n",
      "pred_str:180, labeel_str:180\n",
      "pred_str:20, labeel_str:20\n",
      "pred_str:7, labeel_str:7\n",
      "pred_str:94, labeel_str:94\n"
     ]
    },
    {
     "name": "stderr",
     "output_type": "stream",
     "text": [
      " 14%|█▍        | 12/84 [00:05<00:35,  2.05it/s]"
     ]
    },
    {
     "name": "stdout",
     "output_type": "stream",
     "text": [
      "pred_str:48, labeel_str:48\n",
      "pred_str:54, labeel_str:54\n",
      "pred_str:2, labeel_str:2\n",
      "pred_str:67, labeel_str:67\n",
      "pred_str:131, labeel_str:137\n",
      "pred_str:139, labeel_str:129\n"
     ]
    },
    {
     "name": "stderr",
     "output_type": "stream",
     "text": [
      " 15%|█▌        | 13/84 [00:06<00:34,  2.06it/s]"
     ]
    },
    {
     "name": "stdout",
     "output_type": "stream",
     "text": [
      "pred_str:10, labeel_str:10\n",
      "pred_str:8, labeel_str:8\n",
      "pred_str:104, labeel_str:120\n",
      "pred_str:12, labeel_str:12\n",
      "pred_str:66, labeel_str:66\n",
      "pred_str:97, labeel_str:97\n"
     ]
    },
    {
     "name": "stderr",
     "output_type": "stream",
     "text": [
      " 17%|█▋        | 14/84 [00:06<00:33,  2.06it/s]"
     ]
    },
    {
     "name": "stdout",
     "output_type": "stream",
     "text": [
      "pred_str:4, labeel_str:4\n",
      "pred_str:93, labeel_str:93\n",
      "pred_str:45, labeel_str:45\n",
      "pred_str:148, labeel_str:148\n",
      "pred_str:107, labeel_str:107\n",
      "pred_str:68, labeel_str:68\n"
     ]
    },
    {
     "name": "stderr",
     "output_type": "stream",
     "text": [
      " 18%|█▊        | 15/84 [00:07<00:33,  2.07it/s]"
     ]
    },
    {
     "name": "stdout",
     "output_type": "stream",
     "text": [
      "pred_str:25, labeel_str:19\n",
      "pred_str:88, labeel_str:92\n",
      "pred_str:30, labeel_str:30\n",
      "pred_str:83, labeel_str:83\n",
      "pred_str:64, labeel_str:64\n",
      "pred_str:24, labeel_str:24\n"
     ]
    },
    {
     "name": "stderr",
     "output_type": "stream",
     "text": [
      " 19%|█▉        | 16/84 [00:08<00:41,  1.63it/s]"
     ]
    },
    {
     "name": "stdout",
     "output_type": "stream",
     "text": [
      "pred_str:13, labeel_str:13\n",
      "pred_str:39, labeel_str:39\n",
      "pred_str:19, labeel_str:19\n",
      "pred_str:5, labeel_str:5\n",
      "pred_str:15, labeel_str:15\n",
      "pred_str:33, labeel_str:33\n"
     ]
    },
    {
     "name": "stderr",
     "output_type": "stream",
     "text": [
      " 20%|██        | 17/84 [00:08<00:38,  1.73it/s]"
     ]
    },
    {
     "name": "stdout",
     "output_type": "stream",
     "text": [
      "pred_str:135, labeel_str:135\n",
      "pred_str:16, labeel_str:16\n",
      "pred_str:93, labeel_str:101\n",
      "pred_str:118, labeel_str:116\n",
      "pred_str:27, labeel_str:23\n",
      "pred_str:19, labeel_str:19\n"
     ]
    },
    {
     "name": "stderr",
     "output_type": "stream",
     "text": [
      " 21%|██▏       | 18/84 [00:09<00:36,  1.81it/s]"
     ]
    },
    {
     "name": "stdout",
     "output_type": "stream",
     "text": [
      "pred_str:54, labeel_str:54\n",
      "pred_str:5, labeel_str:5\n",
      "pred_str:74, labeel_str:74\n",
      "pred_str:99, labeel_str:99\n",
      "pred_str:24, labeel_str:24\n",
      "pred_str:105, labeel_str:111\n"
     ]
    },
    {
     "name": "stderr",
     "output_type": "stream",
     "text": [
      " 23%|██▎       | 19/84 [00:09<00:34,  1.87it/s]"
     ]
    },
    {
     "name": "stdout",
     "output_type": "stream",
     "text": [
      "pred_str:86, labeel_str:86\n",
      "pred_str:130, labeel_str:128\n",
      "pred_str:40, labeel_str:40\n",
      "pred_str:84, labeel_str:84\n",
      "pred_str:73, labeel_str:73\n",
      "pred_str:15, labeel_str:15\n"
     ]
    },
    {
     "name": "stderr",
     "output_type": "stream",
     "text": [
      " 24%|██▍       | 20/84 [00:10<00:33,  1.93it/s]"
     ]
    },
    {
     "name": "stdout",
     "output_type": "stream",
     "text": [
      "pred_str:53, labeel_str:53\n",
      "pred_str:40, labeel_str:40\n",
      "pred_str:20, labeel_str:20\n",
      "pred_str:64, labeel_str:64\n",
      "pred_str:48, labeel_str:48\n",
      "pred_str:110, labeel_str:110\n"
     ]
    },
    {
     "name": "stderr",
     "output_type": "stream",
     "text": [
      " 25%|██▌       | 21/84 [00:10<00:32,  1.96it/s]"
     ]
    },
    {
     "name": "stdout",
     "output_type": "stream",
     "text": [
      "pred_str:101, labeel_str:101\n",
      "pred_str:125, labeel_str:125\n",
      "pred_str:73, labeel_str:73\n",
      "pred_str:31, labeel_str:31\n",
      "pred_str:28, labeel_str:26\n",
      "pred_str:35, labeel_str:35\n"
     ]
    },
    {
     "name": "stderr",
     "output_type": "stream",
     "text": [
      " 26%|██▌       | 22/84 [00:11<00:31,  1.99it/s]"
     ]
    },
    {
     "name": "stdout",
     "output_type": "stream",
     "text": [
      "pred_str:8, labeel_str:8\n",
      "pred_str:4, labeel_str:4\n",
      "pred_str:145, labeel_str:145\n",
      "pred_str:9, labeel_str:7\n",
      "pred_str:117, labeel_str:123\n",
      "pred_str:3, labeel_str:3\n"
     ]
    },
    {
     "name": "stderr",
     "output_type": "stream",
     "text": [
      " 27%|██▋       | 23/84 [00:11<00:30,  2.00it/s]"
     ]
    },
    {
     "name": "stdout",
     "output_type": "stream",
     "text": [
      "pred_str:137, labeel_str:139\n",
      "pred_str:145, labeel_str:151\n",
      "pred_str:115, labeel_str:119\n",
      "pred_str:29, labeel_str:25\n",
      "pred_str:38, labeel_str:38\n",
      "pred_str:98, labeel_str:98\n"
     ]
    },
    {
     "name": "stderr",
     "output_type": "stream",
     "text": [
      " 29%|██▊       | 24/84 [00:12<00:29,  2.01it/s]"
     ]
    },
    {
     "name": "stdout",
     "output_type": "stream",
     "text": [
      "pred_str:25, labeel_str:23\n",
      "pred_str:84, labeel_str:84\n",
      "pred_str:56, labeel_str:56\n",
      "pred_str:35, labeel_str:35\n",
      "pred_str:145, labeel_str:143\n",
      "pred_str:45, labeel_str:45\n"
     ]
    },
    {
     "name": "stderr",
     "output_type": "stream",
     "text": [
      " 30%|██▉       | 25/84 [00:12<00:29,  2.02it/s]"
     ]
    },
    {
     "name": "stdout",
     "output_type": "stream",
     "text": [
      "pred_str:60, labeel_str:60\n",
      "pred_str:67, labeel_str:65\n",
      "pred_str:16, labeel_str:16\n",
      "pred_str:157, labeel_str:157\n",
      "pred_str:153, labeel_str:165\n",
      "pred_str:11, labeel_str:9\n"
     ]
    },
    {
     "name": "stderr",
     "output_type": "stream",
     "text": [
      " 31%|███       | 26/84 [00:13<00:28,  2.03it/s]"
     ]
    },
    {
     "name": "stdout",
     "output_type": "stream",
     "text": [
      "pred_str:53, labeel_str:55\n",
      "pred_str:26, labeel_str:26\n",
      "pred_str:41, labeel_str:39\n",
      "pred_str:108, labeel_str:108\n",
      "pred_str:14, labeel_str:14\n",
      "pred_str:133, labeel_str:133\n"
     ]
    },
    {
     "name": "stderr",
     "output_type": "stream",
     "text": [
      " 32%|███▏      | 27/84 [00:13<00:27,  2.04it/s]"
     ]
    },
    {
     "name": "stdout",
     "output_type": "stream",
     "text": [
      "pred_str:73, labeel_str:73\n",
      "pred_str:106, labeel_str:106\n",
      "pred_str:11, labeel_str:11\n",
      "pred_str:32, labeel_str:28\n",
      "pred_str:51, labeel_str:51\n",
      "pred_str:3, labeel_str:3\n"
     ]
    },
    {
     "name": "stderr",
     "output_type": "stream",
     "text": [
      " 33%|███▎      | 28/84 [00:14<00:27,  2.04it/s]"
     ]
    },
    {
     "name": "stdout",
     "output_type": "stream",
     "text": [
      "pred_str:119, labeel_str:119\n",
      "pred_str:13, labeel_str:13\n",
      "pred_str:18, labeel_str:18\n",
      "pred_str:104, labeel_str:104\n",
      "pred_str:22, labeel_str:20\n",
      "pred_str:77, labeel_str:67\n"
     ]
    },
    {
     "name": "stderr",
     "output_type": "stream",
     "text": [
      " 35%|███▍      | 29/84 [00:14<00:26,  2.04it/s]"
     ]
    },
    {
     "name": "stdout",
     "output_type": "stream",
     "text": [
      "pred_str:76, labeel_str:76\n",
      "pred_str:11, labeel_str:7\n",
      "pred_str:120, labeel_str:116\n",
      "pred_str:5, labeel_str:3\n",
      "pred_str:19, labeel_str:19\n",
      "pred_str:140, labeel_str:140\n"
     ]
    },
    {
     "name": "stderr",
     "output_type": "stream",
     "text": [
      " 36%|███▌      | 30/84 [00:15<00:26,  2.04it/s]"
     ]
    },
    {
     "name": "stdout",
     "output_type": "stream",
     "text": [
      "pred_str:35, labeel_str:35\n",
      "pred_str:25, labeel_str:25\n",
      "pred_str:134, labeel_str:134\n",
      "pred_str:9, labeel_str:9\n",
      "pred_str:26, labeel_str:22\n",
      "pred_str:125, labeel_str:121\n"
     ]
    },
    {
     "name": "stderr",
     "output_type": "stream",
     "text": [
      " 37%|███▋      | 31/84 [00:15<00:25,  2.04it/s]"
     ]
    },
    {
     "name": "stdout",
     "output_type": "stream",
     "text": [
      "pred_str:151, labeel_str:151\n",
      "pred_str:14, labeel_str:14\n",
      "pred_str:11, labeel_str:11\n",
      "pred_str:52, labeel_str:52\n",
      "pred_str:47, labeel_str:47\n",
      "pred_str:25, labeel_str:25\n"
     ]
    },
    {
     "name": "stderr",
     "output_type": "stream",
     "text": [
      " 38%|███▊      | 32/84 [00:16<00:25,  2.04it/s]"
     ]
    },
    {
     "name": "stdout",
     "output_type": "stream",
     "text": [
      "pred_str:123, labeel_str:123\n",
      "pred_str:32, labeel_str:26\n",
      "pred_str:41, labeel_str:41\n",
      "pred_str:35, labeel_str:31\n",
      "pred_str:48, labeel_str:49\n",
      "pred_str:13, labeel_str:13\n"
     ]
    },
    {
     "name": "stderr",
     "output_type": "stream",
     "text": [
      " 39%|███▉      | 33/84 [00:16<00:25,  2.04it/s]"
     ]
    },
    {
     "name": "stdout",
     "output_type": "stream",
     "text": [
      "pred_str:31, labeel_str:31\n",
      "pred_str:66, labeel_str:66\n",
      "pred_str:68, labeel_str:68\n",
      "pred_str:69, labeel_str:69\n",
      "pred_str:15, labeel_str:15\n",
      "pred_str:84, labeel_str:84\n"
     ]
    },
    {
     "name": "stderr",
     "output_type": "stream",
     "text": [
      " 40%|████      | 34/84 [00:17<00:24,  2.03it/s]"
     ]
    },
    {
     "name": "stdout",
     "output_type": "stream",
     "text": [
      "pred_str:2, labeel_str:2\n",
      "pred_str:15, labeel_str:15\n",
      "pred_str:25, labeel_str:25\n",
      "pred_str:44, labeel_str:44\n",
      "pred_str:132, labeel_str:132\n",
      "pred_str:85, labeel_str:85\n"
     ]
    },
    {
     "name": "stderr",
     "output_type": "stream",
     "text": [
      " 42%|████▏     | 35/84 [00:17<00:24,  2.02it/s]"
     ]
    },
    {
     "name": "stdout",
     "output_type": "stream",
     "text": [
      "pred_str:109, labeel_str:109\n",
      "pred_str:74, labeel_str:76\n",
      "pred_str:10, labeel_str:10\n",
      "pred_str:89, labeel_str:89\n",
      "pred_str:80, labeel_str:80\n",
      "pred_str:21, labeel_str:21\n"
     ]
    },
    {
     "name": "stderr",
     "output_type": "stream",
     "text": [
      " 43%|████▎     | 36/84 [00:18<00:23,  2.03it/s]"
     ]
    },
    {
     "name": "stdout",
     "output_type": "stream",
     "text": [
      "pred_str:119, labeel_str:119\n",
      "pred_str:31, labeel_str:31\n",
      "pred_str:3, labeel_str:3\n",
      "pred_str:143, labeel_str:139\n",
      "pred_str:82, labeel_str:86\n",
      "pred_str:154, labeel_str:162\n"
     ]
    },
    {
     "name": "stderr",
     "output_type": "stream",
     "text": [
      " 44%|████▍     | 37/84 [00:18<00:23,  2.04it/s]"
     ]
    },
    {
     "name": "stdout",
     "output_type": "stream",
     "text": [
      "pred_str:15, labeel_str:15\n",
      "pred_str:37, labeel_str:37\n",
      "pred_str:73, labeel_str:77\n",
      "pred_str:50, labeel_str:50\n",
      "pred_str:24, labeel_str:24\n",
      "pred_str:19, labeel_str:17\n"
     ]
    },
    {
     "name": "stderr",
     "output_type": "stream",
     "text": [
      " 45%|████▌     | 38/84 [00:19<00:22,  2.03it/s]"
     ]
    },
    {
     "name": "stdout",
     "output_type": "stream",
     "text": [
      "pred_str:16, labeel_str:14\n",
      "pred_str:2, labeel_str:2\n",
      "pred_str:83, labeel_str:81\n",
      "pred_str:116, labeel_str:116\n",
      "pred_str:142, labeel_str:146\n",
      "pred_str:43, labeel_str:43\n"
     ]
    },
    {
     "name": "stderr",
     "output_type": "stream",
     "text": [
      " 46%|████▋     | 39/84 [00:19<00:22,  2.03it/s]"
     ]
    },
    {
     "name": "stdout",
     "output_type": "stream",
     "text": [
      "pred_str:65, labeel_str:65\n",
      "pred_str:40, labeel_str:38\n",
      "pred_str:13, labeel_str:13\n",
      "pred_str:36, labeel_str:36\n",
      "pred_str:0, labeel_str:0\n",
      "pred_str:148, labeel_str:156\n"
     ]
    },
    {
     "name": "stderr",
     "output_type": "stream",
     "text": [
      " 48%|████▊     | 40/84 [00:20<00:21,  2.04it/s]"
     ]
    },
    {
     "name": "stdout",
     "output_type": "stream",
     "text": [
      "pred_str:8, labeel_str:8\n",
      "pred_str:56, labeel_str:56\n",
      "pred_str:55, labeel_str:55\n",
      "pred_str:38, labeel_str:38\n",
      "pred_str:43, labeel_str:45\n",
      "pred_str:9, labeel_str:9\n"
     ]
    },
    {
     "name": "stderr",
     "output_type": "stream",
     "text": [
      " 49%|████▉     | 41/84 [00:20<00:21,  2.04it/s]"
     ]
    },
    {
     "name": "stdout",
     "output_type": "stream",
     "text": [
      "pred_str:14, labeel_str:14\n",
      "pred_str:49, labeel_str:49\n",
      "pred_str:35, labeel_str:35\n",
      "pred_str:83, labeel_str:83\n",
      "pred_str:9, labeel_str:11\n",
      "pred_str:16, labeel_str:16\n"
     ]
    },
    {
     "name": "stderr",
     "output_type": "stream",
     "text": [
      " 50%|█████     | 42/84 [00:20<00:20,  2.03it/s]"
     ]
    },
    {
     "name": "stdout",
     "output_type": "stream",
     "text": [
      "pred_str:118, labeel_str:112\n",
      "pred_str:94, labeel_str:94\n",
      "pred_str:62, labeel_str:64\n",
      "pred_str:19, labeel_str:19\n",
      "pred_str:129, labeel_str:129\n",
      "pred_str:29, labeel_str:29\n"
     ]
    },
    {
     "name": "stderr",
     "output_type": "stream",
     "text": [
      " 51%|█████     | 43/84 [00:21<00:20,  2.03it/s]"
     ]
    },
    {
     "name": "stdout",
     "output_type": "stream",
     "text": [
      "pred_str:77, labeel_str:77\n",
      "pred_str:24, labeel_str:24\n",
      "pred_str:24, labeel_str:24\n",
      "pred_str:104, labeel_str:104\n",
      "pred_str:57, labeel_str:57\n",
      "pred_str:55, labeel_str:55\n"
     ]
    },
    {
     "name": "stderr",
     "output_type": "stream",
     "text": [
      " 52%|█████▏    | 44/84 [00:21<00:19,  2.03it/s]"
     ]
    },
    {
     "name": "stdout",
     "output_type": "stream",
     "text": [
      "pred_str:27, labeel_str:27\n",
      "pred_str:73, labeel_str:73\n",
      "pred_str:106, labeel_str:106\n",
      "pred_str:154, labeel_str:162\n",
      "pred_str:157, labeel_str:163\n",
      "pred_str:134, labeel_str:134\n"
     ]
    },
    {
     "name": "stderr",
     "output_type": "stream",
     "text": [
      " 54%|█████▎    | 45/84 [00:22<00:19,  2.04it/s]"
     ]
    },
    {
     "name": "stdout",
     "output_type": "stream",
     "text": [
      "pred_str:91, labeel_str:91\n",
      "pred_str:134, labeel_str:134\n",
      "pred_str:7, labeel_str:7\n",
      "pred_str:10, labeel_str:10\n",
      "pred_str:42, labeel_str:42\n",
      "pred_str:102, labeel_str:112\n"
     ]
    },
    {
     "name": "stderr",
     "output_type": "stream",
     "text": [
      " 55%|█████▍    | 46/84 [00:22<00:18,  2.04it/s]"
     ]
    },
    {
     "name": "stdout",
     "output_type": "stream",
     "text": [
      "pred_str:68, labeel_str:68\n",
      "pred_str:145, labeel_str:141\n",
      "pred_str:89, labeel_str:89\n",
      "pred_str:83, labeel_str:83\n",
      "pred_str:83, labeel_str:81\n",
      "pred_str:44, labeel_str:44\n"
     ]
    },
    {
     "name": "stderr",
     "output_type": "stream",
     "text": [
      " 56%|█████▌    | 47/84 [00:23<00:18,  2.04it/s]"
     ]
    },
    {
     "name": "stdout",
     "output_type": "stream",
     "text": [
      "pred_str:120, labeel_str:120\n",
      "pred_str:34, labeel_str:34\n",
      "pred_str:94, labeel_str:100\n",
      "pred_str:2, labeel_str:4\n",
      "pred_str:125, labeel_str:125\n",
      "pred_str:73, labeel_str:73\n"
     ]
    },
    {
     "name": "stderr",
     "output_type": "stream",
     "text": [
      " 57%|█████▋    | 48/84 [00:23<00:17,  2.03it/s]"
     ]
    },
    {
     "name": "stdout",
     "output_type": "stream",
     "text": [
      "pred_str:140, labeel_str:140\n",
      "pred_str:76, labeel_str:76\n",
      "pred_str:2, labeel_str:2\n",
      "pred_str:106, labeel_str:106\n",
      "pred_str:55, labeel_str:55\n",
      "pred_str:15, labeel_str:15\n"
     ]
    },
    {
     "name": "stderr",
     "output_type": "stream",
     "text": [
      " 58%|█████▊    | 49/84 [00:24<00:17,  2.03it/s]"
     ]
    },
    {
     "name": "stdout",
     "output_type": "stream",
     "text": [
      "pred_str:157, labeel_str:157\n",
      "pred_str:62, labeel_str:62\n",
      "pred_str:145, labeel_str:155\n",
      "pred_str:42, labeel_str:42\n",
      "pred_str:57, labeel_str:57\n",
      "pred_str:32, labeel_str:28\n"
     ]
    },
    {
     "name": "stderr",
     "output_type": "stream",
     "text": [
      " 60%|█████▉    | 50/84 [00:24<00:16,  2.03it/s]"
     ]
    },
    {
     "name": "stdout",
     "output_type": "stream",
     "text": [
      "pred_str:0, labeel_str:0\n",
      "pred_str:91, labeel_str:93\n",
      "pred_str:138, labeel_str:168\n",
      "pred_str:148, labeel_str:152\n",
      "pred_str:151, labeel_str:151\n",
      "pred_str:131, labeel_str:131\n"
     ]
    },
    {
     "name": "stderr",
     "output_type": "stream",
     "text": [
      " 61%|██████    | 51/84 [00:25<00:16,  2.03it/s]"
     ]
    },
    {
     "name": "stdout",
     "output_type": "stream",
     "text": [
      "pred_str:158, labeel_str:158\n",
      "pred_str:22, labeel_str:18\n",
      "pred_str:3, labeel_str:3\n",
      "pred_str:113, labeel_str:121\n",
      "pred_str:57, labeel_str:57\n",
      "pred_str:51, labeel_str:51\n"
     ]
    },
    {
     "name": "stderr",
     "output_type": "stream",
     "text": [
      " 62%|██████▏   | 52/84 [00:25<00:15,  2.03it/s]"
     ]
    },
    {
     "name": "stdout",
     "output_type": "stream",
     "text": [
      "pred_str:119, labeel_str:123\n",
      "pred_str:11, labeel_str:11\n",
      "pred_str:116, labeel_str:124\n",
      "pred_str:22, labeel_str:22\n",
      "pred_str:52, labeel_str:52\n",
      "pred_str:88, labeel_str:88\n"
     ]
    },
    {
     "name": "stderr",
     "output_type": "stream",
     "text": [
      " 63%|██████▎   | 53/84 [00:26<00:15,  2.03it/s]"
     ]
    },
    {
     "name": "stdout",
     "output_type": "stream",
     "text": [
      "pred_str:33, labeel_str:33\n",
      "pred_str:20, labeel_str:18\n",
      "pred_str:108, labeel_str:108\n",
      "pred_str:109, labeel_str:109\n",
      "pred_str:98, labeel_str:100\n",
      "pred_str:64, labeel_str:64\n"
     ]
    },
    {
     "name": "stderr",
     "output_type": "stream",
     "text": [
      " 64%|██████▍   | 54/84 [00:26<00:14,  2.04it/s]"
     ]
    },
    {
     "name": "stdout",
     "output_type": "stream",
     "text": [
      "pred_str:0, labeel_str:0\n",
      "pred_str:36, labeel_str:36\n",
      "pred_str:65, labeel_str:65\n",
      "pred_str:155, labeel_str:153\n",
      "pred_str:81, labeel_str:81\n",
      "pred_str:16, labeel_str:14\n"
     ]
    },
    {
     "name": "stderr",
     "output_type": "stream",
     "text": [
      " 65%|██████▌   | 55/84 [00:27<00:14,  2.04it/s]"
     ]
    },
    {
     "name": "stdout",
     "output_type": "stream",
     "text": [
      "pred_str:38, labeel_str:38\n",
      "pred_str:59, labeel_str:59\n",
      "pred_str:45, labeel_str:45\n",
      "pred_str:127, labeel_str:127\n",
      "pred_str:76, labeel_str:76\n",
      "pred_str:134, labeel_str:134\n"
     ]
    },
    {
     "name": "stderr",
     "output_type": "stream",
     "text": [
      " 67%|██████▋   | 56/84 [00:27<00:13,  2.05it/s]"
     ]
    },
    {
     "name": "stdout",
     "output_type": "stream",
     "text": [
      "pred_str:139, labeel_str:149\n",
      "pred_str:145, labeel_str:135\n",
      "pred_str:115, labeel_str:115\n",
      "pred_str:78, labeel_str:78\n",
      "pred_str:26, labeel_str:26\n",
      "pred_str:54, labeel_str:54\n"
     ]
    },
    {
     "name": "stderr",
     "output_type": "stream",
     "text": [
      " 68%|██████▊   | 57/84 [00:28<00:13,  2.05it/s]"
     ]
    },
    {
     "name": "stdout",
     "output_type": "stream",
     "text": [
      "pred_str:7, labeel_str:7\n",
      "pred_str:57, labeel_str:57\n",
      "pred_str:105, labeel_str:105\n",
      "pred_str:46, labeel_str:46\n",
      "pred_str:140, labeel_str:140\n",
      "pred_str:6, labeel_str:6\n"
     ]
    },
    {
     "name": "stderr",
     "output_type": "stream",
     "text": [
      " 69%|██████▉   | 58/84 [00:28<00:12,  2.05it/s]"
     ]
    },
    {
     "name": "stdout",
     "output_type": "stream",
     "text": [
      "pred_str:28, labeel_str:28\n",
      "pred_str:46, labeel_str:42\n",
      "pred_str:28, labeel_str:28\n",
      "pred_str:113, labeel_str:117\n",
      "pred_str:97, labeel_str:99\n",
      "pred_str:85, labeel_str:85\n"
     ]
    },
    {
     "name": "stderr",
     "output_type": "stream",
     "text": [
      " 70%|███████   | 59/84 [00:29<00:12,  2.04it/s]"
     ]
    },
    {
     "name": "stdout",
     "output_type": "stream",
     "text": [
      "pred_str:40, labeel_str:40\n",
      "pred_str:64, labeel_str:68\n",
      "pred_str:32, labeel_str:32\n",
      "pred_str:73, labeel_str:71\n",
      "pred_str:110, labeel_str:121\n",
      "pred_str:54, labeel_str:54\n"
     ]
    },
    {
     "name": "stderr",
     "output_type": "stream",
     "text": [
      " 71%|███████▏  | 60/84 [00:29<00:11,  2.04it/s]"
     ]
    },
    {
     "name": "stdout",
     "output_type": "stream",
     "text": [
      "pred_str:35, labeel_str:35\n",
      "pred_str:16, labeel_str:16\n",
      "pred_str:194, labeel_str:194\n",
      "pred_str:56, labeel_str:56\n",
      "pred_str:34, labeel_str:34\n",
      "pred_str:43, labeel_str:43\n"
     ]
    },
    {
     "name": "stderr",
     "output_type": "stream",
     "text": [
      " 73%|███████▎  | 61/84 [00:30<00:11,  2.05it/s]"
     ]
    },
    {
     "name": "stdout",
     "output_type": "stream",
     "text": [
      "pred_str:98, labeel_str:105\n",
      "pred_str:47, labeel_str:47\n",
      "pred_str:119, labeel_str:129\n",
      "pred_str:26, labeel_str:26\n",
      "pred_str:112, labeel_str:120\n",
      "pred_str:2, labeel_str:2\n"
     ]
    },
    {
     "name": "stderr",
     "output_type": "stream",
     "text": [
      " 74%|███████▍  | 62/84 [00:30<00:10,  2.05it/s]"
     ]
    },
    {
     "name": "stdout",
     "output_type": "stream",
     "text": [
      "pred_str:25, labeel_str:25\n",
      "pred_str:63, labeel_str:63\n",
      "pred_str:98, labeel_str:98\n",
      "pred_str:35, labeel_str:31\n",
      "pred_str:81, labeel_str:81\n",
      "pred_str:16, labeel_str:14\n"
     ]
    },
    {
     "name": "stderr",
     "output_type": "stream",
     "text": [
      " 75%|███████▌  | 63/84 [00:31<00:10,  2.03it/s]"
     ]
    },
    {
     "name": "stdout",
     "output_type": "stream",
     "text": [
      "pred_str:46, labeel_str:46\n",
      "pred_str:89, labeel_str:89\n",
      "pred_str:16, labeel_str:16\n",
      "pred_str:145, labeel_str:133\n",
      "pred_str:106, labeel_str:106\n",
      "pred_str:35, labeel_str:35\n"
     ]
    },
    {
     "name": "stderr",
     "output_type": "stream",
     "text": [
      " 76%|███████▌  | 64/84 [00:31<00:09,  2.03it/s]"
     ]
    },
    {
     "name": "stdout",
     "output_type": "stream",
     "text": [
      "pred_str:6, labeel_str:6\n",
      "pred_str:101, labeel_str:101\n",
      "pred_str:34, labeel_str:34\n",
      "pred_str:99, labeel_str:107\n",
      "pred_str:26, labeel_str:26\n",
      "pred_str:116, labeel_str:128\n"
     ]
    },
    {
     "name": "stderr",
     "output_type": "stream",
     "text": [
      " 77%|███████▋  | 65/84 [00:32<00:09,  2.04it/s]"
     ]
    },
    {
     "name": "stdout",
     "output_type": "stream",
     "text": [
      "pred_str:65, labeel_str:65\n",
      "pred_str:21, labeel_str:21\n",
      "pred_str:102, labeel_str:101\n",
      "pred_str:105, labeel_str:105\n",
      "pred_str:133, labeel_str:133\n",
      "pred_str:1, labeel_str:1\n"
     ]
    },
    {
     "name": "stderr",
     "output_type": "stream",
     "text": [
      " 79%|███████▊  | 66/84 [00:32<00:08,  2.04it/s]"
     ]
    },
    {
     "name": "stdout",
     "output_type": "stream",
     "text": [
      "pred_str:145, labeel_str:157\n",
      "pred_str:48, labeel_str:48\n",
      "pred_str:130, labeel_str:138\n",
      "pred_str:16, labeel_str:16\n",
      "pred_str:43, labeel_str:43\n",
      "pred_str:1, labeel_str:1\n"
     ]
    },
    {
     "name": "stderr",
     "output_type": "stream",
     "text": [
      " 80%|███████▉  | 67/84 [00:33<00:08,  2.04it/s]"
     ]
    },
    {
     "name": "stdout",
     "output_type": "stream",
     "text": [
      "pred_str:36, labeel_str:36\n",
      "pred_str:77, labeel_str:77\n",
      "pred_str:42, labeel_str:42\n",
      "pred_str:62, labeel_str:62\n",
      "pred_str:180, labeel_str:171\n",
      "pred_str:92, labeel_str:102\n"
     ]
    },
    {
     "name": "stderr",
     "output_type": "stream",
     "text": [
      " 81%|████████  | 68/84 [00:33<00:07,  2.04it/s]"
     ]
    },
    {
     "name": "stdout",
     "output_type": "stream",
     "text": [
      "pred_str:65, labeel_str:65\n",
      "pred_str:11, labeel_str:9\n",
      "pred_str:44, labeel_str:44\n",
      "pred_str:142, labeel_str:142\n",
      "pred_str:151, labeel_str:151\n",
      "pred_str:170, labeel_str:178\n"
     ]
    },
    {
     "name": "stderr",
     "output_type": "stream",
     "text": [
      " 82%|████████▏ | 69/84 [00:34<00:07,  2.04it/s]"
     ]
    },
    {
     "name": "stdout",
     "output_type": "stream",
     "text": [
      "pred_str:107, labeel_str:115\n",
      "pred_str:118, labeel_str:118\n",
      "pred_str:103, labeel_str:104\n",
      "pred_str:123, labeel_str:131\n",
      "pred_str:56, labeel_str:56\n",
      "pred_str:31, labeel_str:29\n"
     ]
    },
    {
     "name": "stderr",
     "output_type": "stream",
     "text": [
      " 83%|████████▎ | 70/84 [00:34<00:06,  2.05it/s]"
     ]
    },
    {
     "name": "stdout",
     "output_type": "stream",
     "text": [
      "pred_str:59, labeel_str:61\n",
      "pred_str:6, labeel_str:6\n",
      "pred_str:21, labeel_str:21\n",
      "pred_str:132, labeel_str:132\n",
      "pred_str:6, labeel_str:6\n",
      "pred_str:38, labeel_str:38\n"
     ]
    },
    {
     "name": "stderr",
     "output_type": "stream",
     "text": [
      " 85%|████████▍ | 71/84 [00:35<00:06,  2.03it/s]"
     ]
    },
    {
     "name": "stdout",
     "output_type": "stream",
     "text": [
      "pred_str:12, labeel_str:12\n",
      "pred_str:158, labeel_str:177\n",
      "pred_str:106, labeel_str:106\n",
      "pred_str:64, labeel_str:64\n",
      "pred_str:129, labeel_str:129\n",
      "pred_str:53, labeel_str:47\n"
     ]
    },
    {
     "name": "stderr",
     "output_type": "stream",
     "text": [
      " 86%|████████▌ | 72/84 [00:35<00:05,  2.04it/s]"
     ]
    },
    {
     "name": "stdout",
     "output_type": "stream",
     "text": [
      "pred_str:68, labeel_str:68\n",
      "pred_str:29, labeel_str:29\n",
      "pred_str:104, labeel_str:104\n",
      "pred_str:133, labeel_str:137\n",
      "pred_str:15, labeel_str:13\n",
      "pred_str:38, labeel_str:34\n"
     ]
    },
    {
     "name": "stderr",
     "output_type": "stream",
     "text": [
      " 87%|████████▋ | 73/84 [00:36<00:05,  2.04it/s]"
     ]
    },
    {
     "name": "stdout",
     "output_type": "stream",
     "text": [
      "pred_str:79, labeel_str:79\n",
      "pred_str:82, labeel_str:86\n",
      "pred_str:104, labeel_str:114\n",
      "pred_str:141, labeel_str:141\n",
      "pred_str:70, labeel_str:70\n",
      "pred_str:88, labeel_str:88\n"
     ]
    },
    {
     "name": "stderr",
     "output_type": "stream",
     "text": [
      " 88%|████████▊ | 74/84 [00:36<00:04,  2.03it/s]"
     ]
    },
    {
     "name": "stdout",
     "output_type": "stream",
     "text": [
      "pred_str:144, labeel_str:144\n",
      "pred_str:30, labeel_str:26\n",
      "pred_str:26, labeel_str:26\n",
      "pred_str:37, labeel_str:37\n",
      "pred_str:105, labeel_str:105\n",
      "pred_str:44, labeel_str:40\n"
     ]
    },
    {
     "name": "stderr",
     "output_type": "stream",
     "text": [
      " 89%|████████▉ | 75/84 [00:37<00:04,  2.03it/s]"
     ]
    },
    {
     "name": "stdout",
     "output_type": "stream",
     "text": [
      "pred_str:102, labeel_str:102\n",
      "pred_str:93, labeel_str:93\n",
      "pred_str:182, labeel_str:182\n",
      "pred_str:62, labeel_str:64\n",
      "pred_str:146, labeel_str:136\n",
      "pred_str:103, labeel_str:101\n"
     ]
    },
    {
     "name": "stderr",
     "output_type": "stream",
     "text": [
      " 90%|█████████ | 76/84 [00:37<00:03,  2.02it/s]"
     ]
    },
    {
     "name": "stdout",
     "output_type": "stream",
     "text": [
      "pred_str:95, labeel_str:95\n",
      "pred_str:179, labeel_str:189\n",
      "pred_str:138, labeel_str:150\n",
      "pred_str:33, labeel_str:29\n",
      "pred_str:130, labeel_str:118\n",
      "pred_str:118, labeel_str:118\n"
     ]
    },
    {
     "name": "stderr",
     "output_type": "stream",
     "text": [
      " 92%|█████████▏| 77/84 [00:38<00:03,  2.03it/s]"
     ]
    },
    {
     "name": "stdout",
     "output_type": "stream",
     "text": [
      "pred_str:7, labeel_str:7\n",
      "pred_str:168, labeel_str:168\n",
      "pred_str:24, labeel_str:24\n",
      "pred_str:4, labeel_str:4\n",
      "pred_str:3, labeel_str:3\n",
      "pred_str:119, labeel_str:119\n"
     ]
    },
    {
     "name": "stderr",
     "output_type": "stream",
     "text": [
      " 93%|█████████▎| 78/84 [00:38<00:02,  2.03it/s]"
     ]
    },
    {
     "name": "stdout",
     "output_type": "stream",
     "text": [
      "pred_str:62, labeel_str:60\n",
      "pred_str:130, labeel_str:133\n",
      "pred_str:90, labeel_str:90\n",
      "pred_str:76, labeel_str:76\n",
      "pred_str:142, labeel_str:145\n",
      "pred_str:61, labeel_str:61\n"
     ]
    },
    {
     "name": "stderr",
     "output_type": "stream",
     "text": [
      " 94%|█████████▍| 79/84 [00:39<00:02,  2.03it/s]"
     ]
    },
    {
     "name": "stdout",
     "output_type": "stream",
     "text": [
      "pred_str:108, labeel_str:108\n",
      "pred_str:13, labeel_str:13\n",
      "pred_str:17, labeel_str:13\n",
      "pred_str:140, labeel_str:154\n",
      "pred_str:103, labeel_str:107\n",
      "pred_str:84, labeel_str:84\n"
     ]
    },
    {
     "name": "stderr",
     "output_type": "stream",
     "text": [
      " 95%|█████████▌| 80/84 [00:39<00:01,  2.04it/s]"
     ]
    },
    {
     "name": "stdout",
     "output_type": "stream",
     "text": [
      "pred_str:22, labeel_str:22\n",
      "pred_str:49, labeel_str:49\n",
      "pred_str:114, labeel_str:114\n",
      "pred_str:15, labeel_str:15\n",
      "pred_str:29, labeel_str:25\n",
      "pred_str:35, labeel_str:35\n"
     ]
    },
    {
     "name": "stderr",
     "output_type": "stream",
     "text": [
      " 96%|█████████▋| 81/84 [00:40<00:01,  2.04it/s]"
     ]
    },
    {
     "name": "stdout",
     "output_type": "stream",
     "text": [
      "pred_str:141, labeel_str:129\n",
      "pred_str:41, labeel_str:41\n",
      "pred_str:13, labeel_str:13\n",
      "pred_str:98, labeel_str:98\n",
      "pred_str:91, labeel_str:91\n",
      "pred_str:73, labeel_str:73\n"
     ]
    },
    {
     "name": "stderr",
     "output_type": "stream",
     "text": [
      " 98%|█████████▊| 82/84 [00:40<00:00,  2.03it/s]"
     ]
    },
    {
     "name": "stdout",
     "output_type": "stream",
     "text": [
      "pred_str:138, labeel_str:138\n",
      "pred_str:112, labeel_str:112\n",
      "pred_str:82, labeel_str:82\n",
      "pred_str:60, labeel_str:60\n",
      "pred_str:14, labeel_str:14\n",
      "pred_str:139, labeel_str:139\n"
     ]
    },
    {
     "name": "stderr",
     "output_type": "stream",
     "text": [
      " 99%|█████████▉| 83/84 [00:41<00:00,  2.04it/s]"
     ]
    },
    {
     "name": "stdout",
     "output_type": "stream",
     "text": [
      "pred_str:122, labeel_str:122\n",
      "pred_str:65, labeel_str:65\n",
      "pred_str:51, labeel_str:51\n",
      "pred_str:16, labeel_str:16\n",
      "pred_str:38, labeel_str:38\n",
      "pred_str:26, labeel_str:24\n"
     ]
    },
    {
     "name": "stderr",
     "output_type": "stream",
     "text": [
      "100%|██████████| 84/84 [00:41<00:00,  2.03it/s]"
     ]
    },
    {
     "name": "stdout",
     "output_type": "stream",
     "text": [
      "pred_str:106, labeel_str:106\n",
      "pred_str:70, labeel_str:70\n",
      "Baseline model accuracy: 0.9600; Graph model accuracy: 0.7100\n"
     ]
    },
    {
     "name": "stderr",
     "output_type": "stream",
     "text": [
      "\n"
     ]
    }
   ],
   "source": [
    "def exact_match_accuracy(model, logits, corrupted_logits, input_lengths, labels):\n",
    "\n",
    "    batch_size = logits.size(0)\n",
    "    device = logits.device\n",
    "\n",
    "    positions = input_lengths - 1 \n",
    "\n",
    "    # Gather the logits at these positions\n",
    "    last_logits = logits[torch.arange(batch_size), positions, :]  # [batch_size, vocab_size]\n",
    "\n",
    "    # Get the predicted tokens\n",
    "    predicted_tokens = last_logits.argmax(dim=-1)  # [batch_size]\n",
    "\n",
    "    # Convert predicted tokens to strings\n",
    "    predicted_strings = [model.to_string(token.item()).strip() for token in predicted_tokens]\n",
    "\n",
    "    # Convert labels to strings\n",
    "    labels_strings = []\n",
    "    for i in range(batch_size):\n",
    "        lab = labels[i]\n",
    "        if isinstance(lab, torch.Tensor):\n",
    "            lab = lab.item()\n",
    "        labels_strings.append(str(lab).strip())\n",
    "\n",
    "    # Compute correctness\n",
    "    correct = []\n",
    "    for pred_str, label_str in zip(predicted_strings, labels_strings):\n",
    "        print(f'pred_str:{pred_str}, labeel_str:{label_str}')\n",
    "        if pred_str == label_str:\n",
    "            correct.append(1.0)\n",
    "        else:\n",
    "            correct.append(0.0)\n",
    "\n",
    "    return torch.tensor(correct, device=device)\n",
    "\n",
    "# Evaluate the baseline model\n",
    "baseline_accuracy = evaluate_baseline(model, dataloader, partial(exact_match_accuracy, model)).mean().item()\n",
    "\n",
    "# Evaluate the graph model\n",
    "graph_accuracy = evaluate_graph(model, g, dataloader, partial(exact_match_accuracy, model)).mean().item()\n",
    "\n",
    "print(f\"Baseline model accuracy: {baseline_accuracy:.4f}; Graph model accuracy: {graph_accuracy:.4f}\")"
   ]
  }
 ],
 "metadata": {
  "kernelspec": {
   "display_name": ".venv",
   "language": "python",
   "name": "python3"
  },
  "language_info": {
   "codemirror_mode": {
    "name": "ipython",
    "version": 3
   },
   "file_extension": ".py",
   "mimetype": "text/x-python",
   "name": "python",
   "nbconvert_exporter": "python",
   "pygments_lexer": "ipython3",
   "version": "3.12.3"
  }
 },
 "nbformat": 4,
 "nbformat_minor": 5
}
