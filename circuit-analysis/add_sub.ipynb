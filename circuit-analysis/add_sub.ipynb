{
 "cells": [
  {
   "cell_type": "code",
   "execution_count": 1,
   "id": "9fb67293",
   "metadata": {},
   "outputs": [],
   "source": [
    "import os\n",
    "os.environ[\"CUDA_VISIBLE_DEVICES\"] = \"1\""
   ]
  },
  {
   "cell_type": "code",
   "execution_count": 2,
   "id": "424feffc",
   "metadata": {},
   "outputs": [],
   "source": [
    "from functools import partial\n",
    "\n",
    "import pandas as pd\n",
    "import torch\n",
    "from torch.utils.data import Dataset, DataLoader\n",
    "from transformers import PreTrainedTokenizer, AutoTokenizer\n",
    "from transformer_lens import HookedTransformer\n",
    "\n",
    "from eap.graph import Graph\n",
    "from eap.evaluate import evaluate_graph, evaluate_baseline\n",
    "from eap.attribute import attribute "
   ]
  },
  {
   "cell_type": "code",
   "execution_count": 3,
   "id": "0d72ff1e",
   "metadata": {},
   "outputs": [
    {
     "name": "stdout",
     "output_type": "stream",
     "text": [
      "Loaded pretrained model pythia-1.4B-deduped into HookedTransformer\n"
     ]
    }
   ],
   "source": [
    "from transformers import AutoModelForCausalLM, AutoTokenizer\n",
    "from peft import PeftModel\n",
    "\n",
    "scratch_cache_dir = \"/mnt/fast0/rje41/.cache/huggingface\"    \n",
    "model_name = \"EleutherAI/pythia-1.4B-deduped\"\n",
    "base_model = AutoModelForCausalLM.from_pretrained(model_name, cache_dir=scratch_cache_dir)\n",
    "tokenizer = AutoTokenizer.from_pretrained(model_name, cache_dir=scratch_cache_dir)\n",
    "\n",
    "adapter_path = \"../fine-tuning/add_sub/results/checkpoint-2000\"\n",
    "\n",
    "model_with_lora = PeftModel.from_pretrained(base_model, adapter_path)\n",
    "model_with_lora = model_with_lora.merge_and_unload()\n",
    "model = HookedTransformer.from_pretrained(model_name=\"pythia-1.4B-deduped\", hf_model=model_with_lora, cache_dir=scratch_cache_dir)\n",
    "\n",
    "model.cfg.use_split_qkv_input = True\n",
    "model.cfg.use_attn_result = True\n",
    "model.cfg.use_hook_mlp_in = True\n",
    "model.cfg.ungroup_grouped_query_attention = True"
   ]
  },
  {
   "cell_type": "code",
   "execution_count": 4,
   "id": "9e243c58",
   "metadata": {},
   "outputs": [],
   "source": [
    "def collate_EAP(xs):\n",
    "    clean, corrupted, labels = zip(*xs)\n",
    "    clean = list(clean)\n",
    "    corrupted = list(corrupted)\n",
    "    return clean, corrupted, labels\n",
    "\n",
    "class EAPDataset(Dataset):\n",
    "    def __init__(self, filepath, tokenizer):\n",
    "        self.df = pd.read_csv(filepath)\n",
    "        self.tokenizer = tokenizer\n",
    "\n",
    "    def __len__(self):\n",
    "        return len(self.df)\n",
    "    \n",
    "    def shuffle(self):\n",
    "        self.df = self.df.sample(frac=1)\n",
    "\n",
    "    def head(self, n: int):\n",
    "        self.df = self.df.head(n)\n",
    "    \n",
    "    def __getitem__(self, index):\n",
    "        row = self.df.iloc[index]\n",
    "        clean = row['clean']\n",
    "        corrupted = row['corrupted']\n",
    "        label_str = str(row['label']) \n",
    "        label_id = self.tokenizer(label_str, add_special_tokens=False).input_ids[0]\n",
    "        return clean, corrupted, label_id\n",
    "    \n",
    "    def to_dataloader(self, batch_size: int):\n",
    "        return DataLoader(self, batch_size=batch_size, collate_fn=collate_EAP)\n",
    "\n",
    "def get_logit_positions(logits: torch.Tensor, input_length: torch.Tensor):\n",
    "    batch_size = logits.size(0)\n",
    "    idx = torch.arange(batch_size, device=logits.device)\n",
    "    return logits[idx, input_length - 1]\n",
    "\n",
    "def prob_diff(\n",
    "    logits: torch.Tensor,\n",
    "    clean_logits: torch.Tensor,\n",
    "    input_length: torch.Tensor,\n",
    "    labels: torch.Tensor,\n",
    "    mean: bool = True,\n",
    "    loss: bool = False\n",
    ") -> torch.Tensor:\n",
    "    logits = get_logit_positions(logits, input_length)\n",
    "    probs = torch.softmax(logits, dim=-1)\n",
    "    selected_probs = probs[torch.arange(probs.size(0)), labels]\n",
    "    \n",
    "    results = selected_probs\n",
    "    if loss:\n",
    "        results = -results\n",
    "    if mean:\n",
    "        results = results.mean()\n",
    "    return results"
   ]
  },
  {
   "cell_type": "code",
   "execution_count": 5,
   "id": "141a9004",
   "metadata": {},
   "outputs": [],
   "source": [
    "ds = EAPDataset('../datasets/add_sub_test.csv', model.tokenizer)\n",
    "dataloader = ds.to_dataloader(10)"
   ]
  },
  {
   "cell_type": "code",
   "execution_count": 6,
   "id": "d843825b",
   "metadata": {},
   "outputs": [
    {
     "name": "stderr",
     "output_type": "stream",
     "text": [
      "100%|██████████| 50/50 [01:33<00:00,  1.86s/it]\n"
     ]
    }
   ],
   "source": [
    "g = Graph.from_model(model)\n",
    "attribute(model, g, dataloader, partial(prob_diff, loss=True, mean=True), method='EAP-IG-inputs', ig_steps=5)"
   ]
  },
  {
   "cell_type": "code",
   "execution_count": 7,
   "id": "5c20c17a",
   "metadata": {},
   "outputs": [],
   "source": [
    "g.apply_topn(200, True)\n",
    "g.to_json('graph.json')"
   ]
  },
  {
   "cell_type": "code",
   "execution_count": 8,
   "id": "769a46d9",
   "metadata": {},
   "outputs": [
    {
     "name": "stdout",
     "output_type": "stream",
     "text": [
      "No pygraphviz installed; skipping this part\n"
     ]
    }
   ],
   "source": [
    "try:\n",
    "    import pygraphviz\n",
    "    gz = g.to_image(f'graph.png')\n",
    "except ImportError:\n",
    "    print(\"No pygraphviz installed; skipping this part\")"
   ]
  },
  {
   "cell_type": "code",
   "execution_count": 9,
   "id": "04db66f7",
   "metadata": {},
   "outputs": [
    {
     "name": "stderr",
     "output_type": "stream",
     "text": [
      "100%|██████████| 50/50 [00:10<00:00,  4.87it/s]\n",
      "100%|██████████| 50/50 [00:12<00:00,  4.13it/s]"
     ]
    },
    {
     "name": "stdout",
     "output_type": "stream",
     "text": [
      "Original performance was 0.4229940176010132; the circuit's performance is 0.22875460982322693\n"
     ]
    },
    {
     "name": "stderr",
     "output_type": "stream",
     "text": [
      "\n"
     ]
    }
   ],
   "source": [
    "baseline = evaluate_baseline(model, dataloader, partial(prob_diff, loss=False, mean=False)).mean().item()\n",
    "results = evaluate_graph(model, g, dataloader, partial(prob_diff, loss=False, mean=False)).mean().item()\n",
    "print(f\"Original performance was {baseline}; the circuit's performance is {results}\")"
   ]
  }
 ],
 "metadata": {
  "kernelspec": {
   "display_name": ".venv",
   "language": "python",
   "name": "python3"
  },
  "language_info": {
   "codemirror_mode": {
    "name": "ipython",
    "version": 3
   },
   "file_extension": ".py",
   "mimetype": "text/x-python",
   "name": "python",
   "nbconvert_exporter": "python",
   "pygments_lexer": "ipython3",
   "version": "3.12.3"
  }
 },
 "nbformat": 4,
 "nbformat_minor": 5
}
