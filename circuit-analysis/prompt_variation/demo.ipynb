{
 "cells": [
  {
   "cell_type": "code",
   "execution_count": 1,
   "id": "9fb67293",
   "metadata": {},
   "outputs": [],
   "source": [
    "import os\n",
    "os.environ[\"CUDA_VISIBLE_DEVICES\"] = \"2\""
   ]
  },
  {
   "cell_type": "code",
   "execution_count": 2,
   "id": "424feffc",
   "metadata": {},
   "outputs": [],
   "source": [
    "from functools import partial\n",
    "\n",
    "import pandas as pd\n",
    "import torch\n",
    "from torch.utils.data import Dataset, DataLoader\n",
    "from transformers import PreTrainedTokenizer, AutoTokenizer\n",
    "from transformer_lens import HookedTransformer\n",
    "import torch.nn.functional as F\n",
    "import json\n",
    "from pathlib import Path"
   ]
  },
  {
   "cell_type": "code",
   "execution_count": 3,
   "id": "430f02c2",
   "metadata": {},
   "outputs": [],
   "source": [
    "from eap.graph import Graph\n",
    "from eap.evaluate import evaluate_graph, evaluate_baseline\n",
    "from eap.attribute import attribute "
   ]
  },
  {
   "cell_type": "code",
   "execution_count": 4,
   "id": "0d72ff1e",
   "metadata": {},
   "outputs": [],
   "source": [
    "from transformers import AutoModelForCausalLM, AutoTokenizer\n",
    "from peft import PeftModel\n",
    "\n",
    "def load_model(adapter_path, hf_model_name, translens_model_name, scratch_cache_dir = None):\n",
    "    base_model = AutoModelForCausalLM.from_pretrained(hf_model_name, cache_dir=scratch_cache_dir)\n",
    "    model_with_lora = PeftModel.from_pretrained(base_model, adapter_path)\n",
    "    model_with_lora = model_with_lora.merge_and_unload()\n",
    "    model = HookedTransformer.from_pretrained(model_name=translens_model_name, hf_model=model_with_lora, cache_dir=scratch_cache_dir)  \n",
    "\n",
    "    model.cfg.use_split_qkv_input = True\n",
    "    model.cfg.use_attn_result = True\n",
    "    model.cfg.use_hook_mlp_in = True\n",
    "    model.cfg.ungroup_grouped_query_attention = True\n",
    "    return model"
   ]
  },
  {
   "cell_type": "code",
   "execution_count": 5,
   "id": "9e243c58",
   "metadata": {},
   "outputs": [],
   "source": [
    "def collate_EAP(xs):\n",
    "    clean, corrupted, labels = zip(*xs)\n",
    "    clean = list(clean)\n",
    "    corrupted = list(corrupted)\n",
    "    return clean, corrupted, labels\n",
    "\n",
    "class EAPDataset(Dataset):\n",
    "    def __init__(self, filepath):\n",
    "        self.df = pd.read_csv(filepath)\n",
    "\n",
    "    def __len__(self):\n",
    "        return len(self.df)\n",
    "    \n",
    "    def shuffle(self):\n",
    "        self.df = self.df.sample(frac=1)\n",
    "\n",
    "    def head(self, n: int):\n",
    "        self.df = self.df.head(n)\n",
    "    \n",
    "    def __getitem__(self, index):\n",
    "        row = self.df.iloc[index]\n",
    "        return row['clean'], row['corrupted'], row['answer']\n",
    "    \n",
    "    def to_dataloader(self, batch_size: int):\n",
    "        return DataLoader(self, batch_size=batch_size, collate_fn=collate_EAP)\n",
    "    \n",
    "def get_logit_positions(logits: torch.Tensor, input_length: torch.Tensor):\n",
    "    batch_size = logits.size(0)\n",
    "    idx = torch.arange(batch_size, device=logits.device)\n",
    "\n",
    "    logits = logits[idx, input_length - 1]\n",
    "    return logits\n",
    "\n",
    "def kl_divergence(logits: torch.Tensor, clean_logits: torch.Tensor, input_length: torch.Tensor, labels: torch.Tensor, mean=True, loss=True):\n",
    "    logits = get_logit_positions(logits, input_length)\n",
    "    clean_logits = get_logit_positions(clean_logits, input_length)\n",
    "\n",
    "    probs = torch.softmax(logits, dim=-1)\n",
    "    clean_probs = torch.softmax(clean_logits, dim=-1)\n",
    "    results = F.kl_div(probs.log(), clean_probs.log(), log_target=True, reduction='none').mean(-1)\n",
    "    return results.mean() if mean else results"
   ]
  },
  {
   "cell_type": "code",
   "execution_count": 8,
   "id": "54fb14e5",
   "metadata": {},
   "outputs": [],
   "source": [
    "def calculate_faithfulness(model, g, dataloader, metric_fn):\n",
    "    baseline_performance = evaluate_baseline(model, dataloader, metric_fn).mean().item()\n",
    "    circuit_performance = evaluate_graph(model, g, dataloader, metric_fn,skip_clean=False).mean().item()\n",
    "    faithfulness = abs(baseline_performance - circuit_performance)\n",
    "    percentage_performance = (1 - faithfulness / baseline_performance) * 100\n",
    "\n",
    "    print(f\"Baseline performance: {baseline_performance}\")\n",
    "    print(f\"Circuit performance: {circuit_performance}\")\n",
    "    print(f\"Faithfulness: {faithfulness}\")\n",
    "    print(f\"Percentage of model performance achieved by the circuit: {percentage_performance:.2f}%\")\n",
    "\n",
    "    return faithfulness, percentage_performance\n",
    "\n",
    "def exact_match_accuracy(model, logits, corrupted_logits, input_lengths, labels):\n",
    "    batch_size = logits.size(0)\n",
    "    device = logits.device\n",
    "    positions = input_lengths - 1\n",
    "\n",
    "    last_logits = logits[torch.arange(batch_size), positions, :]\n",
    "    predicted_tokens = last_logits.argmax(dim=-1)\n",
    "    predicted_strings = [model.to_string(token.item()).strip() for token in predicted_tokens]\n",
    "\n",
    "    labels_strings = []\n",
    "    for i in range(batch_size):\n",
    "        lab = labels[i]\n",
    "        if isinstance(lab, torch.Tensor):\n",
    "            lab = lab.item()\n",
    "        labels_strings.append(str(lab).strip())\n",
    "\n",
    "    correct = []\n",
    "    for pred_str, label_str in zip(predicted_strings, labels_strings):\n",
    "        print(f'pred_str:{pred_str}, label_str:{label_str}')\n",
    "        if pred_str == label_str:\n",
    "            correct.append(1.0)\n",
    "        else:\n",
    "            correct.append(0.0)\n",
    "\n",
    "    return torch.tensor(correct, device=device)\n",
    "\n",
    "def calculate_accuracy(model, g, dataloader):\n",
    "    baseline_accuracy = evaluate_baseline(model, dataloader, partial(exact_match_accuracy, model)).mean().item()\n",
    "    graph_accuracy = evaluate_graph(model, g, dataloader, partial(exact_match_accuracy, model)).mean().item()   \n",
    "    return baseline_accuracy, graph_accuracy\n"
   ]
  },
  {
   "cell_type": "code",
   "execution_count": null,
   "id": "151086d5",
   "metadata": {},
   "outputs": [
    {
     "name": "stdout",
     "output_type": "stream",
     "text": [
      "Loaded pretrained model pythia-1.4B-deduped into HookedTransformer\n"
     ]
    },
    {
     "name": "stderr",
     "output_type": "stream",
     "text": [
      "100%|██████████| 84/84 [01:58<00:00,  1.41s/it]\n",
      "100%|██████████| 84/84 [00:12<00:00,  6.75it/s]\n",
      "100%|██████████| 84/84 [00:21<00:00,  3.98it/s]\n"
     ]
    },
    {
     "name": "stdout",
     "output_type": "stream",
     "text": [
      "Baseline performance: 0.0003732457116711885\n",
      "Circuit performance: 0.0003499678277876228\n",
      "Faithfulness: 2.3277883883565664e-05\n",
      "Percentage of model performance achieved by the circuit: 93.76%\n"
     ]
    },
    {
     "name": "stderr",
     "output_type": "stream",
     "text": [
      "  1%|          | 1/84 [00:00<00:12,  6.48it/s]"
     ]
    },
    {
     "name": "stdout",
     "output_type": "stream",
     "text": [
      "pred_str:44, label_str:48\n",
      "pred_str:69, label_str:59\n",
      "pred_str:132, label_str:150\n",
      "pred_str:66, label_str:60\n",
      "pred_str:98, label_str:100\n",
      "pred_str:101, label_str:100\n"
     ]
    },
    {
     "name": "stderr",
     "output_type": "stream",
     "text": [
      "  2%|▏         | 2/84 [00:00<00:12,  6.60it/s]"
     ]
    },
    {
     "name": "stdout",
     "output_type": "stream",
     "text": [
      "pred_str:115, label_str:109\n",
      "pred_str:98, label_str:118\n",
      "pred_str:74, label_str:74\n",
      "pred_str:74, label_str:74\n",
      "pred_str:99, label_str:93\n",
      "pred_str:146, label_str:144\n"
     ]
    },
    {
     "name": "stderr",
     "output_type": "stream",
     "text": [
      "  4%|▎         | 3/84 [00:00<00:12,  6.49it/s]"
     ]
    },
    {
     "name": "stdout",
     "output_type": "stream",
     "text": [
      "pred_str:123, label_str:133\n",
      "pred_str:72, label_str:62\n",
      "pred_str:94, label_str:114\n",
      "pred_str:86, label_str:85\n",
      "pred_str:99, label_str:129\n",
      "pred_str:54, label_str:55\n"
     ]
    },
    {
     "name": "stderr",
     "output_type": "stream",
     "text": [
      "  5%|▍         | 4/84 [00:00<00:12,  6.51it/s]"
     ]
    },
    {
     "name": "stdout",
     "output_type": "stream",
     "text": [
      "pred_str:125, label_str:143\n",
      "pred_str:44, label_str:50\n",
      "pred_str:132, label_str:132\n",
      "pred_str:91, label_str:91\n",
      "pred_str:136, label_str:141\n",
      "pred_str:159, label_str:175\n"
     ]
    },
    {
     "name": "stderr",
     "output_type": "stream",
     "text": [
      "  7%|▋         | 6/84 [00:00<00:13,  5.96it/s]"
     ]
    },
    {
     "name": "stdout",
     "output_type": "stream",
     "text": [
      "pred_str:30, label_str:30\n",
      "pred_str:103, label_str:107\n",
      "pred_str:93, label_str:113\n",
      "pred_str:171, label_str:171\n",
      "pred_str:91, label_str:107\n",
      "pred_str:99, label_str:99\n",
      "pred_str:109, label_str:121\n",
      "pred_str:102, label_str:110\n",
      "pred_str:102, label_str:102\n",
      "pred_str:94, label_str:94\n",
      "pred_str:08, label_str:72\n",
      "pred_str:37, label_str:37\n"
     ]
    },
    {
     "name": "stderr",
     "output_type": "stream",
     "text": [
      " 10%|▉         | 8/84 [00:01<00:12,  5.93it/s]"
     ]
    },
    {
     "name": "stdout",
     "output_type": "stream",
     "text": [
      "pred_str:88, label_str:97\n",
      "pred_str:128, label_str:148\n",
      "pred_str:82, label_str:82\n",
      "pred_str:100, label_str:100\n",
      "pred_str:150, label_str:150\n",
      "pred_str:78, label_str:75\n",
      "pred_str:91, label_str:93\n",
      "pred_str:119, label_str:129\n",
      "pred_str:86, label_str:86\n",
      "pred_str:102, label_str:104\n",
      "pred_str:51, label_str:57\n",
      "pred_str:158, label_str:180\n"
     ]
    },
    {
     "name": "stderr",
     "output_type": "stream",
     "text": [
      " 12%|█▏        | 10/84 [00:01<00:11,  6.24it/s]"
     ]
    },
    {
     "name": "stdout",
     "output_type": "stream",
     "text": [
      "pred_str:65, label_str:65\n",
      "pred_str:99, label_str:99\n",
      "pred_str:103, label_str:99\n",
      "pred_str:149, label_str:154\n",
      "pred_str:54, label_str:54\n",
      "pred_str:74, label_str:74\n",
      "pred_str:164, label_str:176\n",
      "pred_str:148, label_str:158\n",
      "pred_str:91, label_str:83\n",
      "pred_str:155, label_str:170\n",
      "pred_str:95, label_str:95\n",
      "pred_str:84, label_str:84\n"
     ]
    },
    {
     "name": "stderr",
     "output_type": "stream",
     "text": [
      " 14%|█▍        | 12/84 [00:01<00:11,  6.34it/s]"
     ]
    },
    {
     "name": "stdout",
     "output_type": "stream",
     "text": [
      "pred_str:70, label_str:70\n",
      "pred_str:168, label_str:176\n",
      "pred_str:9, label_str:9\n",
      "pred_str:124, label_str:134\n",
      "pred_str:111, label_str:129\n",
      "pred_str:80, label_str:100\n",
      "pred_str:51, label_str:51\n",
      "pred_str:139, label_str:139\n",
      "pred_str:78, label_str:98\n",
      "pred_str:143, label_str:145\n",
      "pred_str:103, label_str:107\n",
      "pred_str:125, label_str:135\n"
     ]
    },
    {
     "name": "stderr",
     "output_type": "stream",
     "text": [
      " 17%|█▋        | 14/84 [00:02<00:10,  6.57it/s]"
     ]
    },
    {
     "name": "stdout",
     "output_type": "stream",
     "text": [
      "pred_str:179, label_str:179\n",
      "pred_str:84, label_str:80\n",
      "pred_str:188, label_str:192\n",
      "pred_str:117, label_str:117\n",
      "pred_str:87, label_str:87\n",
      "pred_str:95, label_str:95\n",
      "pred_str:129, label_str:129\n",
      "pred_str:114, label_str:124\n",
      "pred_str:59, label_str:59\n",
      "pred_str:80, label_str:93\n",
      "pred_str:124, label_str:128\n",
      "pred_str:155, label_str:187\n"
     ]
    },
    {
     "name": "stderr",
     "output_type": "stream",
     "text": [
      " 19%|█▉        | 16/84 [00:02<00:09,  6.90it/s]"
     ]
    },
    {
     "name": "stdout",
     "output_type": "stream",
     "text": [
      "pred_str:86, label_str:96\n",
      "pred_str:50, label_str:50\n",
      "pred_str:37, label_str:31\n",
      "pred_str:76, label_str:86\n",
      "pred_str:115, label_str:122\n",
      "pred_str:115, label_str:125\n",
      "pred_str:43, label_str:42\n",
      "pred_str:145, label_str:144\n",
      "pred_str:195, label_str:195\n",
      "pred_str:91, label_str:83\n",
      "pred_str:132, label_str:132\n",
      "pred_str:84, label_str:100\n"
     ]
    },
    {
     "name": "stderr",
     "output_type": "stream",
     "text": [
      " 21%|██▏       | 18/84 [00:02<00:09,  6.87it/s]"
     ]
    },
    {
     "name": "stdout",
     "output_type": "stream",
     "text": [
      "pred_str:93, label_str:100\n",
      "pred_str:92, label_str:96\n",
      "pred_str:69, label_str:69\n",
      "pred_str:94, label_str:123\n",
      "pred_str:110, label_str:114\n",
      "pred_str:154, label_str:150\n",
      "pred_str:93, label_str:93\n",
      "pred_str:138, label_str:138\n",
      "pred_str:94, label_str:124\n",
      "pred_str:94, label_str:109\n",
      "pred_str:111, label_str:109\n",
      "pred_str:69, label_str:70\n"
     ]
    },
    {
     "name": "stderr",
     "output_type": "stream",
     "text": [
      " 24%|██▍       | 20/84 [00:03<00:09,  6.93it/s]"
     ]
    },
    {
     "name": "stdout",
     "output_type": "stream",
     "text": [
      "pred_str:111, label_str:111\n",
      "pred_str:126, label_str:126\n",
      "pred_str:129, label_str:129\n",
      "pred_str:32, label_str:32\n",
      "pred_str:149, label_str:169\n",
      "pred_str:95, label_str:105\n",
      "pred_str:158, label_str:178\n",
      "pred_str:96, label_str:90\n",
      "pred_str:121, label_str:121\n",
      "pred_str:94, label_str:92\n",
      "pred_str:159, label_str:163\n",
      "pred_str:61, label_str:53\n"
     ]
    },
    {
     "name": "stderr",
     "output_type": "stream",
     "text": [
      " 26%|██▌       | 22/84 [00:03<00:09,  6.88it/s]"
     ]
    },
    {
     "name": "stdout",
     "output_type": "stream",
     "text": [
      "pred_str:91, label_str:103\n",
      "pred_str:54, label_str:54\n",
      "pred_str:127, label_str:137\n",
      "pred_str:68, label_str:68\n",
      "pred_str:101, label_str:111\n",
      "pred_str:158, label_str:178\n",
      "pred_str:25, label_str:27\n",
      "pred_str:114, label_str:116\n",
      "pred_str:48, label_str:42\n",
      "pred_str:97, label_str:88\n",
      "pred_str:77, label_str:77\n",
      "pred_str:122, label_str:142\n"
     ]
    },
    {
     "name": "stderr",
     "output_type": "stream",
     "text": [
      " 29%|██▊       | 24/84 [00:03<00:08,  6.74it/s]"
     ]
    },
    {
     "name": "stdout",
     "output_type": "stream",
     "text": [
      "pred_str:73, label_str:73\n",
      "pred_str:153, label_str:157\n",
      "pred_str:93, label_str:93\n",
      "pred_str:119, label_str:121\n",
      "pred_str:79, label_str:79\n",
      "pred_str:49, label_str:39\n",
      "pred_str:94, label_str:98\n",
      "pred_str:83, label_str:83\n",
      "pred_str:97, label_str:107\n",
      "pred_str:61, label_str:55\n",
      "pred_str:78, label_str:90\n",
      "pred_str:118, label_str:128\n"
     ]
    },
    {
     "name": "stderr",
     "output_type": "stream",
     "text": [
      " 31%|███       | 26/84 [00:03<00:08,  6.79it/s]"
     ]
    },
    {
     "name": "stdout",
     "output_type": "stream",
     "text": [
      "pred_str:37, label_str:37\n",
      "pred_str:128, label_str:131\n",
      "pred_str:35, label_str:35\n",
      "pred_str:119, label_str:140\n",
      "pred_str:123, label_str:123\n",
      "pred_str:160, label_str:160\n",
      "pred_str:153, label_str:161\n",
      "pred_str:93, label_str:123\n",
      "pred_str:90, label_str:90\n",
      "pred_str:158, label_str:162\n",
      "pred_str:134, label_str:140\n",
      "pred_str:98, label_str:108\n"
     ]
    },
    {
     "name": "stderr",
     "output_type": "stream",
     "text": [
      " 33%|███▎      | 28/84 [00:04<00:08,  6.59it/s]"
     ]
    },
    {
     "name": "stdout",
     "output_type": "stream",
     "text": [
      "pred_str:149, label_str:168\n",
      "pred_str:81, label_str:81\n",
      "pred_str:94, label_str:98\n",
      "pred_str:10, label_str:10\n",
      "pred_str:115, label_str:115\n",
      "pred_str:96, label_str:97\n",
      "pred_str:65, label_str:80\n",
      "pred_str:60, label_str:71\n",
      "pred_str:67, label_str:61\n",
      "pred_str:139, label_str:149\n",
      "pred_str:80, label_str:81\n",
      "pred_str:53, label_str:73\n"
     ]
    },
    {
     "name": "stderr",
     "output_type": "stream",
     "text": [
      " 36%|███▌      | 30/84 [00:04<00:07,  6.88it/s]"
     ]
    },
    {
     "name": "stdout",
     "output_type": "stream",
     "text": [
      "pred_str:85, label_str:76\n",
      "pred_str:32, label_str:116\n",
      "pred_str:118, label_str:118\n",
      "pred_str:108, label_str:102\n",
      "pred_str:159, label_str:171\n",
      "pred_str:125, label_str:141\n",
      "pred_str:72, label_str:66\n",
      "pred_str:140, label_str:142\n",
      "pred_str:145, label_str:155\n",
      "pred_str:145, label_str:141\n",
      "pred_str:71, label_str:71\n",
      "pred_str:114, label_str:124\n"
     ]
    },
    {
     "name": "stderr",
     "output_type": "stream",
     "text": [
      " 38%|███▊      | 32/84 [00:04<00:07,  6.65it/s]"
     ]
    },
    {
     "name": "stdout",
     "output_type": "stream",
     "text": [
      "pred_str:155, label_str:155\n",
      "pred_str:100, label_str:105\n",
      "pred_str:85, label_str:83\n",
      "pred_str:129, label_str:135\n",
      "pred_str:93, label_str:91\n",
      "pred_str:180, label_str:180\n",
      "pred_str:87, label_str:87\n",
      "pred_str:57, label_str:53\n",
      "pred_str:93, label_str:83\n",
      "pred_str:86, label_str:80\n",
      "pred_str:95, label_str:115\n",
      "pred_str:81, label_str:82\n"
     ]
    },
    {
     "name": "stderr",
     "output_type": "stream",
     "text": [
      " 40%|████      | 34/84 [00:05<00:07,  6.85it/s]"
     ]
    },
    {
     "name": "stdout",
     "output_type": "stream",
     "text": [
      "pred_str:163, label_str:161\n",
      "pred_str:74, label_str:86\n",
      "pred_str:94, label_str:114\n",
      "pred_str:71, label_str:67\n",
      "pred_str:132, label_str:142\n",
      "pred_str:63, label_str:83\n",
      "pred_str:84, label_str:76\n",
      "pred_str:149, label_str:163\n",
      "pred_str:109, label_str:119\n",
      "pred_str:98, label_str:99\n",
      "pred_str:99, label_str:104\n",
      "pred_str:82, label_str:84\n"
     ]
    },
    {
     "name": "stderr",
     "output_type": "stream",
     "text": [
      " 43%|████▎     | 36/84 [00:05<00:07,  6.72it/s]"
     ]
    },
    {
     "name": "stdout",
     "output_type": "stream",
     "text": [
      "pred_str:119, label_str:139\n",
      "pred_str:94, label_str:106\n",
      "pred_str:102, label_str:112\n",
      "pred_str:103, label_str:112\n",
      "pred_str:124, label_str:140\n",
      "pred_str:144, label_str:144\n",
      "pred_str:21, label_str:111\n",
      "pred_str:104, label_str:112\n",
      "pred_str:110, label_str:116\n",
      "pred_str:41, label_str:47\n",
      "pred_str:174, label_str:174\n",
      "pred_str:62, label_str:62\n"
     ]
    },
    {
     "name": "stderr",
     "output_type": "stream",
     "text": [
      " 45%|████▌     | 38/84 [00:05<00:06,  6.82it/s]"
     ]
    },
    {
     "name": "stdout",
     "output_type": "stream",
     "text": [
      "pred_str:115, label_str:120\n",
      "pred_str:58, label_str:68\n",
      "pred_str:188, label_str:188\n",
      "pred_str:134, label_str:154\n",
      "pred_str:149, label_str:158\n",
      "pred_str:138, label_str:137\n",
      "pred_str:136, label_str:142\n",
      "pred_str:191, label_str:191\n",
      "pred_str:94, label_str:90\n",
      "pred_str:122, label_str:142\n",
      "pred_str:85, label_str:85\n",
      "pred_str:22, label_str:22\n"
     ]
    },
    {
     "name": "stderr",
     "output_type": "stream",
     "text": [
      " 48%|████▊     | 40/84 [00:06<00:06,  6.84it/s]"
     ]
    },
    {
     "name": "stdout",
     "output_type": "stream",
     "text": [
      "pred_str:139, label_str:139\n",
      "pred_str:138, label_str:157\n",
      "pred_str:87, label_str:87\n",
      "pred_str:119, label_str:119\n",
      "pred_str:116, label_str:136\n",
      "pred_str:121, label_str:131\n",
      "pred_str:115, label_str:113\n",
      "pred_str:139, label_str:159\n",
      "pred_str:102, label_str:108\n",
      "pred_str:92, label_str:102\n",
      "pred_str:123, label_str:123\n",
      "pred_str:40, label_str:41\n"
     ]
    },
    {
     "name": "stderr",
     "output_type": "stream",
     "text": [
      " 50%|█████     | 42/84 [00:06<00:06,  6.72it/s]"
     ]
    },
    {
     "name": "stdout",
     "output_type": "stream",
     "text": [
      "pred_str:123, label_str:129\n",
      "pred_str:20, label_str:22\n",
      "pred_str:108, label_str:118\n",
      "pred_str:117, label_str:117\n",
      "pred_str:118, label_str:148\n",
      "pred_str:94, label_str:104\n",
      "pred_str:157, label_str:165\n",
      "pred_str:76, label_str:76\n",
      "pred_str:169, label_str:169\n",
      "pred_str:132, label_str:152\n",
      "pred_str:140, label_str:140\n",
      "pred_str:145, label_str:155\n"
     ]
    },
    {
     "name": "stderr",
     "output_type": "stream",
     "text": [
      " 52%|█████▏    | 44/84 [00:06<00:06,  6.66it/s]"
     ]
    },
    {
     "name": "stdout",
     "output_type": "stream",
     "text": [
      "pred_str:173, label_str:173\n",
      "pred_str:99, label_str:119\n",
      "pred_str:96, label_str:96\n",
      "pred_str:119, label_str:129\n",
      "pred_str:126, label_str:146\n",
      "pred_str:45, label_str:45\n",
      "pred_str:99, label_str:119\n",
      "pred_str:129, label_str:139\n",
      "pred_str:55, label_str:50\n",
      "pred_str:107, label_str:117\n",
      "pred_str:186, label_str:182\n",
      "pred_str:78, label_str:79\n"
     ]
    },
    {
     "name": "stderr",
     "output_type": "stream",
     "text": [
      " 55%|█████▍    | 46/84 [00:06<00:05,  6.77it/s]"
     ]
    },
    {
     "name": "stdout",
     "output_type": "stream",
     "text": [
      "pred_str:111, label_str:121\n",
      "pred_str:98, label_str:98\n",
      "pred_str:83, label_str:86\n",
      "pred_str:67, label_str:66\n",
      "pred_str:71, label_str:65\n",
      "pred_str:129, label_str:135\n",
      "pred_str:154, label_str:154\n",
      "pred_str:147, label_str:147\n",
      "pred_str:126, label_str:126\n",
      "pred_str:91, label_str:91\n",
      "pred_str:48, label_str:48\n",
      "pred_str:42, label_str:42\n"
     ]
    },
    {
     "name": "stderr",
     "output_type": "stream",
     "text": [
      " 57%|█████▋    | 48/84 [00:07<00:05,  6.83it/s]"
     ]
    },
    {
     "name": "stdout",
     "output_type": "stream",
     "text": [
      "pred_str:8, label_str:28\n",
      "pred_str:116, label_str:112\n",
      "pred_str:140, label_str:160\n",
      "pred_str:90, label_str:110\n",
      "pred_str:24, label_str:26\n",
      "pred_str:114, label_str:124\n",
      "pred_str:141, label_str:161\n",
      "pred_str:144, label_str:160\n",
      "pred_str:122, label_str:126\n",
      "pred_str:185, label_str:195\n",
      "pred_str:92, label_str:92\n",
      "pred_str:69, label_str:69\n"
     ]
    },
    {
     "name": "stderr",
     "output_type": "stream",
     "text": [
      " 60%|█████▉    | 50/84 [00:07<00:04,  6.85it/s]"
     ]
    },
    {
     "name": "stdout",
     "output_type": "stream",
     "text": [
      "pred_str:129, label_str:139\n",
      "pred_str:92, label_str:101\n",
      "pred_str:115, label_str:115\n",
      "pred_str:163, label_str:175\n",
      "pred_str:37, label_str:38\n",
      "pred_str:61, label_str:61\n",
      "pred_str:48, label_str:48\n",
      "pred_str:20, label_str:20\n",
      "pred_str:96, label_str:96\n",
      "pred_str:79, label_str:89\n",
      "pred_str:86, label_str:82\n",
      "pred_str:76, label_str:76\n"
     ]
    },
    {
     "name": "stderr",
     "output_type": "stream",
     "text": [
      " 62%|██████▏   | 52/84 [00:07<00:04,  6.87it/s]"
     ]
    },
    {
     "name": "stdout",
     "output_type": "stream",
     "text": [
      "pred_str:128, label_str:138\n",
      "pred_str:101, label_str:121\n",
      "pred_str:81, label_str:97\n",
      "pred_str:94, label_str:94\n",
      "pred_str:94, label_str:94\n",
      "pred_str:157, label_str:157\n",
      "pred_str:86, label_str:86\n",
      "pred_str:84, label_str:86\n",
      "pred_str:137, label_str:137\n",
      "pred_str:76, label_str:72\n",
      "pred_str:138, label_str:148\n",
      "pred_str:99, label_str:93\n"
     ]
    },
    {
     "name": "stderr",
     "output_type": "stream",
     "text": [
      " 64%|██████▍   | 54/84 [00:08<00:04,  6.73it/s]"
     ]
    },
    {
     "name": "stdout",
     "output_type": "stream",
     "text": [
      "pred_str:81, label_str:81\n",
      "pred_str:143, label_str:153\n",
      "pred_str:122, label_str:122\n",
      "pred_str:93, label_str:95\n",
      "pred_str:130, label_str:134\n",
      "pred_str:58, label_str:59\n",
      "pred_str:86, label_str:76\n",
      "pred_str:99, label_str:99\n",
      "pred_str:91, label_str:91\n",
      "pred_str:98, label_str:103\n",
      "pred_str:103, label_str:115\n",
      "pred_str:107, label_str:107\n"
     ]
    },
    {
     "name": "stderr",
     "output_type": "stream",
     "text": [
      " 67%|██████▋   | 56/84 [00:08<00:04,  6.82it/s]"
     ]
    },
    {
     "name": "stdout",
     "output_type": "stream",
     "text": [
      "pred_str:64, label_str:64\n",
      "pred_str:50, label_str:54\n",
      "pred_str:93, label_str:95\n",
      "pred_str:38, label_str:39\n",
      "pred_str:7, label_str:7\n",
      "pred_str:74, label_str:64\n",
      "pred_str:125, label_str:141\n",
      "pred_str:73, label_str:70\n",
      "pred_str:69, label_str:64\n",
      "pred_str:23, label_str:23\n",
      "pred_str:139, label_str:149\n",
      "pred_str:100, label_str:119\n"
     ]
    },
    {
     "name": "stderr",
     "output_type": "stream",
     "text": [
      " 69%|██████▉   | 58/84 [00:08<00:03,  7.04it/s]"
     ]
    },
    {
     "name": "stdout",
     "output_type": "stream",
     "text": [
      "pred_str:115, label_str:125\n",
      "pred_str:103, label_str:105\n",
      "pred_str:99, label_str:105\n",
      "pred_str:133, label_str:133\n",
      "pred_str:24, label_str:24\n",
      "pred_str:93, label_str:129\n",
      "pred_str:73, label_str:65\n",
      "pred_str:102, label_str:121\n",
      "pred_str:115, label_str:120\n",
      "pred_str:31, label_str:31\n",
      "pred_str:68, label_str:68\n",
      "pred_str:101, label_str:101\n"
     ]
    },
    {
     "name": "stderr",
     "output_type": "stream",
     "text": [
      " 71%|███████▏  | 60/84 [00:08<00:03,  6.84it/s]"
     ]
    },
    {
     "name": "stdout",
     "output_type": "stream",
     "text": [
      "pred_str:37, label_str:37\n",
      "pred_str:130, label_str:146\n",
      "pred_str:100, label_str:110\n",
      "pred_str:159, label_str:179\n",
      "pred_str:92, label_str:102\n",
      "pred_str:121, label_str:127\n",
      "pred_str:53, label_str:73\n",
      "pred_str:193, label_str:187\n",
      "pred_str:134, label_str:149\n",
      "pred_str:92, label_str:92\n",
      "pred_str:94, label_str:97\n",
      "pred_str:124, label_str:124\n"
     ]
    },
    {
     "name": "stderr",
     "output_type": "stream",
     "text": [
      " 74%|███████▍  | 62/84 [00:09<00:03,  7.09it/s]"
     ]
    },
    {
     "name": "stdout",
     "output_type": "stream",
     "text": [
      "pred_str:36, label_str:36\n",
      "pred_str:125, label_str:115\n",
      "pred_str:99, label_str:105\n",
      "pred_str:121, label_str:131\n",
      "pred_str:104, label_str:110\n",
      "pred_str:48, label_str:54\n",
      "pred_str:100, label_str:100\n",
      "pred_str:115, label_str:115\n",
      "pred_str:96, label_str:99\n",
      "pred_str:36, label_str:56\n",
      "pred_str:47, label_str:57\n",
      "pred_str:66, label_str:66\n"
     ]
    },
    {
     "name": "stderr",
     "output_type": "stream",
     "text": [
      " 76%|███████▌  | 64/84 [00:09<00:02,  7.04it/s]"
     ]
    },
    {
     "name": "stdout",
     "output_type": "stream",
     "text": [
      "pred_str:127, label_str:127\n",
      "pred_str:83, label_str:77\n",
      "pred_str:41, label_str:35\n",
      "pred_str:80, label_str:100\n",
      "pred_str:33, label_str:33\n",
      "pred_str:100, label_str:114\n",
      "pred_str:32, label_str:32\n",
      "pred_str:85, label_str:89\n",
      "pred_str:123, label_str:128\n",
      "pred_str:45, label_str:45\n",
      "pred_str:99, label_str:100\n",
      "pred_str:140, label_str:139\n"
     ]
    },
    {
     "name": "stderr",
     "output_type": "stream",
     "text": [
      " 79%|███████▊  | 66/84 [00:09<00:02,  7.03it/s]"
     ]
    },
    {
     "name": "stdout",
     "output_type": "stream",
     "text": [
      "pred_str:25, label_str:25\n",
      "pred_str:116, label_str:106\n",
      "pred_str:180, label_str:180\n",
      "pred_str:125, label_str:141\n",
      "pred_str:82, label_str:78\n",
      "pred_str:13, label_str:14\n",
      "pred_str:111, label_str:111\n",
      "pred_str:87, label_str:87\n",
      "pred_str:72, label_str:72\n",
      "pred_str:126, label_str:136\n",
      "pred_str:26, label_str:26\n",
      "pred_str:158, label_str:154\n"
     ]
    },
    {
     "name": "stderr",
     "output_type": "stream",
     "text": [
      " 81%|████████  | 68/84 [00:10<00:02,  6.81it/s]"
     ]
    },
    {
     "name": "stdout",
     "output_type": "stream",
     "text": [
      "pred_str:127, label_str:147\n",
      "pred_str:94, label_str:95\n",
      "pred_str:148, label_str:153\n",
      "pred_str:109, label_str:114\n",
      "pred_str:144, label_str:150\n",
      "pred_str:75, label_str:75\n",
      "pred_str:124, label_str:134\n",
      "pred_str:65, label_str:70\n",
      "pred_str:63, label_str:79\n",
      "pred_str:160, label_str:172\n",
      "pred_str:60, label_str:88\n",
      "pred_str:58, label_str:58\n"
     ]
    },
    {
     "name": "stderr",
     "output_type": "stream",
     "text": [
      " 83%|████████▎ | 70/84 [00:10<00:02,  6.41it/s]"
     ]
    },
    {
     "name": "stdout",
     "output_type": "stream",
     "text": [
      "pred_str:154, label_str:164\n",
      "pred_str:103, label_str:101\n",
      "pred_str:158, label_str:162\n",
      "pred_str:94, label_str:94\n",
      "pred_str:77, label_str:77\n",
      "pred_str:94, label_str:110\n",
      "pred_str:60, label_str:63\n",
      "pred_str:08, label_str:62\n",
      "pred_str:77, label_str:77\n",
      "pred_str:82, label_str:97\n",
      "pred_str:95, label_str:95\n",
      "pred_str:158, label_str:158\n"
     ]
    },
    {
     "name": "stderr",
     "output_type": "stream",
     "text": [
      " 86%|████████▌ | 72/84 [00:10<00:01,  6.27it/s]"
     ]
    },
    {
     "name": "stdout",
     "output_type": "stream",
     "text": [
      "pred_str:123, label_str:125\n",
      "pred_str:60, label_str:63\n",
      "pred_str:68, label_str:73\n",
      "pred_str:132, label_str:142\n",
      "pred_str:117, label_str:127\n",
      "pred_str:126, label_str:126\n",
      "pred_str:61, label_str:51\n",
      "pred_str:52, label_str:52\n",
      "pred_str:68, label_str:68\n",
      "pred_str:94, label_str:91\n",
      "pred_str:117, label_str:111\n",
      "pred_str:76, label_str:77\n"
     ]
    },
    {
     "name": "stderr",
     "output_type": "stream",
     "text": [
      " 88%|████████▊ | 74/84 [00:11<00:01,  6.61it/s]"
     ]
    },
    {
     "name": "stdout",
     "output_type": "stream",
     "text": [
      "pred_str:100, label_str:110\n",
      "pred_str:146, label_str:156\n",
      "pred_str:145, label_str:145\n",
      "pred_str:155, label_str:175\n",
      "pred_str:83, label_str:83\n",
      "pred_str:94, label_str:86\n",
      "pred_str:98, label_str:90\n",
      "pred_str:57, label_str:57\n",
      "pred_str:95, label_str:85\n",
      "pred_str:128, label_str:145\n",
      "pred_str:135, label_str:135\n",
      "pred_str:95, label_str:95\n"
     ]
    },
    {
     "name": "stderr",
     "output_type": "stream",
     "text": [
      " 90%|█████████ | 76/84 [00:11<00:01,  6.61it/s]"
     ]
    },
    {
     "name": "stdout",
     "output_type": "stream",
     "text": [
      "pred_str:146, label_str:155\n",
      "pred_str:111, label_str:111\n",
      "pred_str:104, label_str:112\n",
      "pred_str:118, label_str:122\n",
      "pred_str:117, label_str:137\n",
      "pred_str:102, label_str:102\n",
      "pred_str:104, label_str:104\n",
      "pred_str:154, label_str:174\n",
      "pred_str:85, label_str:89\n",
      "pred_str:80, label_str:81\n",
      "pred_str:158, label_str:158\n",
      "pred_str:118, label_str:118\n"
     ]
    },
    {
     "name": "stderr",
     "output_type": "stream",
     "text": [
      " 93%|█████████▎| 78/84 [00:11<00:00,  6.48it/s]"
     ]
    },
    {
     "name": "stdout",
     "output_type": "stream",
     "text": [
      "pred_str:128, label_str:148\n",
      "pred_str:45, label_str:45\n",
      "pred_str:85, label_str:89\n",
      "pred_str:93, label_str:99\n",
      "pred_str:101, label_str:121\n",
      "pred_str:94, label_str:110\n",
      "pred_str:21, label_str:21\n",
      "pred_str:122, label_str:126\n",
      "pred_str:111, label_str:109\n",
      "pred_str:115, label_str:127\n",
      "pred_str:61, label_str:62\n",
      "pred_str:131, label_str:141\n"
     ]
    },
    {
     "name": "stderr",
     "output_type": "stream",
     "text": [
      " 95%|█████████▌| 80/84 [00:11<00:00,  6.53it/s]"
     ]
    },
    {
     "name": "stdout",
     "output_type": "stream",
     "text": [
      "pred_str:122, label_str:132\n",
      "pred_str:60, label_str:67\n",
      "pred_str:116, label_str:116\n",
      "pred_str:64, label_str:78\n",
      "pred_str:15, label_str:21\n",
      "pred_str:52, label_str:52\n",
      "pred_str:136, label_str:136\n",
      "pred_str:118, label_str:108\n",
      "pred_str:120, label_str:150\n",
      "pred_str:145, label_str:155\n",
      "pred_str:16, label_str:16\n",
      "pred_str:60, label_str:72\n"
     ]
    },
    {
     "name": "stderr",
     "output_type": "stream",
     "text": [
      " 98%|█████████▊| 82/84 [00:12<00:00,  6.68it/s]"
     ]
    },
    {
     "name": "stdout",
     "output_type": "stream",
     "text": [
      "pred_str:75, label_str:85\n",
      "pred_str:106, label_str:111\n",
      "pred_str:83, label_str:77\n",
      "pred_str:103, label_str:103\n",
      "pred_str:91, label_str:91\n",
      "pred_str:101, label_str:111\n",
      "pred_str:83, label_str:85\n",
      "pred_str:124, label_str:134\n",
      "pred_str:91, label_str:87\n",
      "pred_str:08, label_str:52\n",
      "pred_str:83, label_str:82\n",
      "pred_str:74, label_str:71\n"
     ]
    },
    {
     "name": "stderr",
     "output_type": "stream",
     "text": [
      "100%|██████████| 84/84 [00:12<00:00,  6.70it/s]\n"
     ]
    },
    {
     "name": "stdout",
     "output_type": "stream",
     "text": [
      "pred_str:94, label_str:89\n",
      "pred_str:84, label_str:94\n",
      "pred_str:116, label_str:136\n",
      "pred_str:48, label_str:48\n",
      "pred_str:60, label_str:69\n",
      "pred_str:144, label_str:156\n",
      "pred_str:94, label_str:103\n",
      "pred_str:117, label_str:117\n"
     ]
    },
    {
     "name": "stderr",
     "output_type": "stream",
     "text": [
      "  2%|▏         | 2/84 [00:00<00:14,  5.74it/s]"
     ]
    },
    {
     "name": "stdout",
     "output_type": "stream",
     "text": [
      "pred_str:54, label_str:48\n",
      "pred_str:59, label_str:59\n",
      "pred_str:132, label_str:150\n",
      "pred_str:61, label_str:60\n",
      "pred_str:100, label_str:100\n",
      "pred_str:94, label_str:100\n",
      "pred_str:105, label_str:109\n",
      "pred_str:98, label_str:118\n",
      "pred_str:70, label_str:74\n",
      "pred_str:68, label_str:74\n",
      "pred_str:81, label_str:93\n",
      "pred_str:114, label_str:144\n"
     ]
    },
    {
     "name": "stderr",
     "output_type": "stream",
     "text": [
      "  5%|▍         | 4/84 [00:00<00:13,  5.78it/s]"
     ]
    },
    {
     "name": "stdout",
     "output_type": "stream",
     "text": [
      "pred_str:123, label_str:133\n",
      "pred_str:68, label_str:62\n",
      "pred_str:94, label_str:114\n",
      "pred_str:91, label_str:85\n",
      "pred_str:99, label_str:129\n",
      "pred_str:54, label_str:55\n",
      "pred_str:125, label_str:143\n",
      "pred_str:44, label_str:50\n",
      "pred_str:132, label_str:132\n",
      "pred_str:96, label_str:91\n",
      "pred_str:131, label_str:141\n",
      "pred_str:175, label_str:175\n"
     ]
    },
    {
     "name": "stderr",
     "output_type": "stream",
     "text": [
      "  7%|▋         | 6/84 [00:01<00:13,  5.77it/s]"
     ]
    },
    {
     "name": "stdout",
     "output_type": "stream",
     "text": [
      "pred_str:34, label_str:30\n",
      "pred_str:97, label_str:107\n",
      "pred_str:94, label_str:113\n",
      "pred_str:171, label_str:171\n",
      "pred_str:87, label_str:107\n",
      "pred_str:89, label_str:99\n",
      "pred_str:105, label_str:121\n",
      "pred_str:102, label_str:110\n",
      "pred_str:102, label_str:102\n",
      "pred_str:94, label_str:94\n",
      "pred_str:56, label_str:72\n",
      "pred_str:37, label_str:37\n"
     ]
    },
    {
     "name": "stderr",
     "output_type": "stream",
     "text": [
      " 10%|▉         | 8/84 [00:01<00:13,  5.76it/s]"
     ]
    },
    {
     "name": "stdout",
     "output_type": "stream",
     "text": [
      "pred_str:88, label_str:97\n",
      "pred_str:134, label_str:148\n",
      "pred_str:82, label_str:82\n",
      "pred_str:80, label_str:100\n",
      "pred_str:120, label_str:150\n",
      "pred_str:76, label_str:75\n",
      "pred_str:79, label_str:93\n",
      "pred_str:114, label_str:129\n",
      "pred_str:92, label_str:86\n",
      "pred_str:98, label_str:104\n",
      "pred_str:51, label_str:57\n",
      "pred_str:158, label_str:180\n"
     ]
    },
    {
     "name": "stderr",
     "output_type": "stream",
     "text": [
      " 12%|█▏        | 10/84 [00:01<00:13,  5.59it/s]"
     ]
    },
    {
     "name": "stdout",
     "output_type": "stream",
     "text": [
      "pred_str:75, label_str:65\n",
      "pred_str:89, label_str:99\n",
      "pred_str:107, label_str:99\n",
      "pred_str:145, label_str:154\n",
      "pred_str:54, label_str:54\n",
      "pred_str:74, label_str:74\n",
      "pred_str:145, label_str:176\n",
      "pred_str:158, label_str:158\n",
      "pred_str:89, label_str:83\n",
      "pred_str:145, label_str:170\n",
      "pred_str:95, label_str:95\n",
      "pred_str:84, label_str:84\n"
     ]
    },
    {
     "name": "stderr",
     "output_type": "stream",
     "text": [
      " 14%|█▍        | 12/84 [00:02<00:12,  5.60it/s]"
     ]
    },
    {
     "name": "stdout",
     "output_type": "stream",
     "text": [
      "pred_str:70, label_str:70\n",
      "pred_str:148, label_str:176\n",
      "pred_str:9, label_str:9\n",
      "pred_str:112, label_str:134\n",
      "pred_str:129, label_str:129\n",
      "pred_str:80, label_str:100\n",
      "pred_str:41, label_str:51\n",
      "pred_str:119, label_str:139\n",
      "pred_str:78, label_str:98\n",
      "pred_str:128, label_str:145\n",
      "pred_str:99, label_str:107\n",
      "pred_str:105, label_str:135\n"
     ]
    },
    {
     "name": "stderr",
     "output_type": "stream",
     "text": [
      " 17%|█▋        | 14/84 [00:02<00:12,  5.67it/s]"
     ]
    },
    {
     "name": "stdout",
     "output_type": "stream",
     "text": [
      "pred_str:179, label_str:179\n",
      "pred_str:84, label_str:80\n",
      "pred_str:198, label_str:192\n",
      "pred_str:117, label_str:117\n",
      "pred_str:87, label_str:87\n",
      "pred_str:95, label_str:95\n",
      "pred_str:117, label_str:129\n",
      "pred_str:115, label_str:124\n",
      "pred_str:59, label_str:59\n",
      "pred_str:78, label_str:93\n",
      "pred_str:104, label_str:128\n",
      "pred_str:117, label_str:187\n"
     ]
    },
    {
     "name": "stderr",
     "output_type": "stream",
     "text": [
      " 19%|█▉        | 16/84 [00:02<00:12,  5.64it/s]"
     ]
    },
    {
     "name": "stdout",
     "output_type": "stream",
     "text": [
      "pred_str:96, label_str:96\n",
      "pred_str:46, label_str:50\n",
      "pred_str:37, label_str:31\n",
      "pred_str:66, label_str:86\n",
      "pred_str:109, label_str:122\n",
      "pred_str:115, label_str:125\n",
      "pred_str:43, label_str:42\n",
      "pred_str:124, label_str:144\n",
      "pred_str:195, label_str:195\n",
      "pred_str:41, label_str:83\n",
      "pred_str:134, label_str:132\n",
      "pred_str:84, label_str:100\n"
     ]
    },
    {
     "name": "stderr",
     "output_type": "stream",
     "text": [
      " 21%|██▏       | 18/84 [00:03<00:12,  5.50it/s]"
     ]
    },
    {
     "name": "stdout",
     "output_type": "stream",
     "text": [
      "pred_str:93, label_str:100\n",
      "pred_str:91, label_str:96\n",
      "pred_str:69, label_str:69\n",
      "pred_str:94, label_str:123\n",
      "pred_str:110, label_str:114\n",
      "pred_str:129, label_str:150\n",
      "pred_str:81, label_str:93\n",
      "pred_str:118, label_str:138\n",
      "pred_str:94, label_str:124\n",
      "pred_str:94, label_str:109\n",
      "pred_str:109, label_str:109\n",
      "pred_str:69, label_str:70\n"
     ]
    },
    {
     "name": "stderr",
     "output_type": "stream",
     "text": [
      " 24%|██▍       | 20/84 [00:03<00:11,  5.38it/s]"
     ]
    },
    {
     "name": "stdout",
     "output_type": "stream",
     "text": [
      "pred_str:111, label_str:111\n",
      "pred_str:126, label_str:126\n",
      "pred_str:129, label_str:129\n",
      "pred_str:32, label_str:32\n",
      "pred_str:149, label_str:169\n",
      "pred_str:93, label_str:105\n",
      "pred_str:114, label_str:178\n",
      "pred_str:96, label_str:90\n",
      "pred_str:121, label_str:121\n",
      "pred_str:94, label_str:92\n",
      "pred_str:159, label_str:163\n",
      "pred_str:49, label_str:53\n"
     ]
    },
    {
     "name": "stderr",
     "output_type": "stream",
     "text": [
      " 26%|██▌       | 22/84 [00:03<00:11,  5.18it/s]"
     ]
    },
    {
     "name": "stdout",
     "output_type": "stream",
     "text": [
      "pred_str:93, label_str:103\n",
      "pred_str:54, label_str:54\n",
      "pred_str:121, label_str:137\n",
      "pred_str:74, label_str:68\n",
      "pred_str:101, label_str:111\n",
      "pred_str:148, label_str:178\n",
      "pred_str:15, label_str:27\n",
      "pred_str:119, label_str:116\n",
      "pred_str:42, label_str:42\n",
      "pred_str:98, label_str:88\n",
      "pred_str:77, label_str:77\n",
      "pred_str:122, label_str:142\n"
     ]
    },
    {
     "name": "stderr",
     "output_type": "stream",
     "text": [
      " 29%|██▊       | 24/84 [00:04<00:11,  5.18it/s]"
     ]
    },
    {
     "name": "stdout",
     "output_type": "stream",
     "text": [
      "pred_str:79, label_str:73\n",
      "pred_str:145, label_str:157\n",
      "pred_str:83, label_str:93\n",
      "pred_str:115, label_str:121\n",
      "pred_str:79, label_str:79\n",
      "pred_str:39, label_str:39\n",
      "pred_str:94, label_str:98\n",
      "pred_str:83, label_str:83\n",
      "pred_str:97, label_str:107\n",
      "pred_str:61, label_str:55\n",
      "pred_str:78, label_str:90\n",
      "pred_str:122, label_str:128\n"
     ]
    },
    {
     "name": "stderr",
     "output_type": "stream",
     "text": [
      " 31%|███       | 26/84 [00:04<00:10,  5.40it/s]"
     ]
    },
    {
     "name": "stdout",
     "output_type": "stream",
     "text": [
      "pred_str:38, label_str:37\n",
      "pred_str:119, label_str:131\n",
      "pred_str:35, label_str:35\n",
      "pred_str:119, label_str:140\n",
      "pred_str:123, label_str:123\n",
      "pred_str:160, label_str:160\n",
      "pred_str:145, label_str:161\n",
      "pred_str:93, label_str:123\n",
      "pred_str:90, label_str:90\n",
      "pred_str:138, label_str:162\n",
      "pred_str:124, label_str:140\n",
      "pred_str:94, label_str:108\n"
     ]
    },
    {
     "name": "stderr",
     "output_type": "stream",
     "text": [
      " 33%|███▎      | 28/84 [00:05<00:10,  5.31it/s]"
     ]
    },
    {
     "name": "stdout",
     "output_type": "stream",
     "text": [
      "pred_str:159, label_str:168\n",
      "pred_str:79, label_str:81\n",
      "pred_str:94, label_str:98\n",
      "pred_str:10, label_str:10\n",
      "pred_str:995, label_str:115\n",
      "pred_str:96, label_str:97\n",
      "pred_str:75, label_str:80\n",
      "pred_str:60, label_str:71\n",
      "pred_str:65, label_str:61\n",
      "pred_str:129, label_str:149\n",
      "pred_str:80, label_str:81\n",
      "pred_str:53, label_str:73\n"
     ]
    },
    {
     "name": "stderr",
     "output_type": "stream",
     "text": [
      " 36%|███▌      | 30/84 [00:05<00:09,  5.54it/s]"
     ]
    },
    {
     "name": "stdout",
     "output_type": "stream",
     "text": [
      "pred_str:85, label_str:76\n",
      "pred_str:98, label_str:116\n",
      "pred_str:108, label_str:118\n",
      "pred_str:102, label_str:102\n",
      "pred_str:159, label_str:171\n",
      "pred_str:121, label_str:141\n",
      "pred_str:69, label_str:66\n",
      "pred_str:130, label_str:142\n",
      "pred_str:145, label_str:155\n",
      "pred_str:131, label_str:141\n",
      "pred_str:71, label_str:71\n",
      "pred_str:29, label_str:124\n"
     ]
    },
    {
     "name": "stderr",
     "output_type": "stream",
     "text": [
      " 38%|███▊      | 32/84 [00:05<00:09,  5.54it/s]"
     ]
    },
    {
     "name": "stdout",
     "output_type": "stream",
     "text": [
      "pred_str:145, label_str:155\n",
      "pred_str:100, label_str:105\n",
      "pred_str:89, label_str:83\n",
      "pred_str:129, label_str:135\n",
      "pred_str:93, label_str:91\n",
      "pred_str:180, label_str:180\n",
      "pred_str:87, label_str:87\n",
      "pred_str:53, label_str:53\n",
      "pred_str:73, label_str:83\n",
      "pred_str:80, label_str:80\n",
      "pred_str:85, label_str:115\n",
      "pred_str:79, label_str:82\n"
     ]
    },
    {
     "name": "stderr",
     "output_type": "stream",
     "text": [
      " 40%|████      | 34/84 [00:06<00:09,  5.42it/s]"
     ]
    },
    {
     "name": "stdout",
     "output_type": "stream",
     "text": [
      "pred_str:163, label_str:161\n",
      "pred_str:74, label_str:86\n",
      "pred_str:94, label_str:114\n",
      "pred_str:71, label_str:67\n",
      "pred_str:117, label_str:142\n",
      "pred_str:80, label_str:83\n",
      "pred_str:64, label_str:76\n",
      "pred_str:139, label_str:163\n",
      "pred_str:114, label_str:119\n",
      "pred_str:108, label_str:99\n",
      "pred_str:104, label_str:104\n",
      "pred_str:92, label_str:84\n"
     ]
    },
    {
     "name": "stderr",
     "output_type": "stream",
     "text": [
      " 43%|████▎     | 36/84 [00:06<00:08,  5.62it/s]"
     ]
    },
    {
     "name": "stdout",
     "output_type": "stream",
     "text": [
      "pred_str:119, label_str:139\n",
      "pred_str:101, label_str:106\n",
      "pred_str:98, label_str:112\n",
      "pred_str:102, label_str:112\n",
      "pred_str:124, label_str:140\n",
      "pred_str:144, label_str:144\n",
      "pred_str:16, label_str:111\n",
      "pred_str:104, label_str:112\n",
      "pred_str:112, label_str:116\n",
      "pred_str:41, label_str:47\n",
      "pred_str:174, label_str:174\n",
      "pred_str:62, label_str:62\n"
     ]
    },
    {
     "name": "stderr",
     "output_type": "stream",
     "text": [
      " 45%|████▌     | 38/84 [00:06<00:08,  5.64it/s]"
     ]
    },
    {
     "name": "stdout",
     "output_type": "stream",
     "text": [
      "pred_str:115, label_str:120\n",
      "pred_str:58, label_str:68\n",
      "pred_str:188, label_str:188\n",
      "pred_str:134, label_str:154\n",
      "pred_str:149, label_str:158\n",
      "pred_str:137, label_str:137\n",
      "pred_str:136, label_str:142\n",
      "pred_str:191, label_str:191\n",
      "pred_str:94, label_str:90\n",
      "pred_str:122, label_str:142\n",
      "pred_str:95, label_str:85\n",
      "pred_str:12, label_str:22\n"
     ]
    },
    {
     "name": "stderr",
     "output_type": "stream",
     "text": [
      " 48%|████▊     | 40/84 [00:07<00:07,  5.76it/s]"
     ]
    },
    {
     "name": "stdout",
     "output_type": "stream",
     "text": [
      "pred_str:133, label_str:139\n",
      "pred_str:123, label_str:157\n",
      "pred_str:87, label_str:87\n",
      "pred_str:119, label_str:119\n",
      "pred_str:136, label_str:136\n",
      "pred_str:121, label_str:131\n",
      "pred_str:115, label_str:113\n",
      "pred_str:139, label_str:159\n",
      "pred_str:102, label_str:108\n",
      "pred_str:92, label_str:102\n",
      "pred_str:111, label_str:123\n",
      "pred_str:37, label_str:41\n"
     ]
    },
    {
     "name": "stderr",
     "output_type": "stream",
     "text": [
      " 50%|█████     | 42/84 [00:07<00:07,  5.52it/s]"
     ]
    },
    {
     "name": "stdout",
     "output_type": "stream",
     "text": [
      "pred_str:119, label_str:129\n",
      "pred_str:16, label_str:22\n",
      "pred_str:98, label_str:118\n",
      "pred_str:117, label_str:117\n",
      "pred_str:118, label_str:148\n",
      "pred_str:84, label_str:104\n",
      "pred_str:155, label_str:165\n",
      "pred_str:76, label_str:76\n",
      "pred_str:169, label_str:169\n",
      "pred_str:138, label_str:152\n",
      "pred_str:140, label_str:140\n",
      "pred_str:145, label_str:155\n"
     ]
    },
    {
     "name": "stderr",
     "output_type": "stream",
     "text": [
      " 52%|█████▏    | 44/84 [00:07<00:07,  5.58it/s]"
     ]
    },
    {
     "name": "stdout",
     "output_type": "stream",
     "text": [
      "pred_str:193, label_str:173\n",
      "pred_str:99, label_str:119\n",
      "pred_str:94, label_str:96\n",
      "pred_str:99, label_str:129\n",
      "pred_str:126, label_str:146\n",
      "pred_str:45, label_str:45\n",
      "pred_str:99, label_str:119\n",
      "pred_str:129, label_str:139\n",
      "pred_str:65, label_str:50\n",
      "pred_str:97, label_str:117\n",
      "pred_str:182, label_str:182\n",
      "pred_str:88, label_str:79\n"
     ]
    },
    {
     "name": "stderr",
     "output_type": "stream",
     "text": [
      " 55%|█████▍    | 46/84 [00:08<00:06,  5.44it/s]"
     ]
    },
    {
     "name": "stdout",
     "output_type": "stream",
     "text": [
      "pred_str:121, label_str:121\n",
      "pred_str:98, label_str:98\n",
      "pred_str:92, label_str:86\n",
      "pred_str:67, label_str:66\n",
      "pred_str:71, label_str:65\n",
      "pred_str:99, label_str:135\n",
      "pred_str:154, label_str:154\n",
      "pred_str:143, label_str:147\n",
      "pred_str:125, label_str:126\n",
      "pred_str:91, label_str:91\n",
      "pred_str:48, label_str:48\n",
      "pred_str:41, label_str:42\n"
     ]
    },
    {
     "name": "stderr",
     "output_type": "stream",
     "text": [
      " 57%|█████▋    | 48/84 [00:08<00:06,  5.50it/s]"
     ]
    },
    {
     "name": "stdout",
     "output_type": "stream",
     "text": [
      "pred_str:10, label_str:28\n",
      "pred_str:116, label_str:112\n",
      "pred_str:148, label_str:160\n",
      "pred_str:98, label_str:110\n",
      "pred_str:24, label_str:26\n",
      "pred_str:29, label_str:124\n",
      "pred_str:131, label_str:161\n",
      "pred_str:144, label_str:160\n",
      "pred_str:122, label_str:126\n",
      "pred_str:185, label_str:195\n",
      "pred_str:92, label_str:92\n",
      "pred_str:69, label_str:69\n"
     ]
    },
    {
     "name": "stderr",
     "output_type": "stream",
     "text": [
      " 60%|█████▉    | 50/84 [00:09<00:06,  5.56it/s]"
     ]
    },
    {
     "name": "stdout",
     "output_type": "stream",
     "text": [
      "pred_str:129, label_str:139\n",
      "pred_str:86, label_str:101\n",
      "pred_str:109, label_str:115\n",
      "pred_str:139, label_str:175\n",
      "pred_str:37, label_str:38\n",
      "pred_str:49, label_str:61\n",
      "pred_str:48, label_str:48\n",
      "pred_str:18, label_str:20\n",
      "pred_str:96, label_str:96\n",
      "pred_str:79, label_str:89\n",
      "pred_str:85, label_str:82\n",
      "pred_str:56, label_str:76\n"
     ]
    },
    {
     "name": "stderr",
     "output_type": "stream",
     "text": [
      " 62%|██████▏   | 52/84 [00:09<00:05,  5.58it/s]"
     ]
    },
    {
     "name": "stdout",
     "output_type": "stream",
     "text": [
      "pred_str:122, label_str:138\n",
      "pred_str:115, label_str:121\n",
      "pred_str:97, label_str:97\n",
      "pred_str:94, label_str:94\n",
      "pred_str:94, label_str:94\n",
      "pred_str:157, label_str:157\n",
      "pred_str:86, label_str:86\n",
      "pred_str:74, label_str:86\n",
      "pred_str:137, label_str:137\n",
      "pred_str:76, label_str:72\n",
      "pred_str:138, label_str:148\n",
      "pred_str:97, label_str:93\n"
     ]
    },
    {
     "name": "stderr",
     "output_type": "stream",
     "text": [
      " 64%|██████▍   | 54/84 [00:09<00:05,  5.42it/s]"
     ]
    },
    {
     "name": "stdout",
     "output_type": "stream",
     "text": [
      "pred_str:81, label_str:81\n",
      "pred_str:143, label_str:153\n",
      "pred_str:118, label_str:122\n",
      "pred_str:93, label_str:95\n",
      "pred_str:130, label_str:134\n",
      "pred_str:63, label_str:59\n",
      "pred_str:86, label_str:76\n",
      "pred_str:99, label_str:99\n",
      "pred_str:79, label_str:91\n",
      "pred_str:98, label_str:103\n",
      "pred_str:103, label_str:115\n",
      "pred_str:107, label_str:107\n"
     ]
    },
    {
     "name": "stderr",
     "output_type": "stream",
     "text": [
      " 67%|██████▋   | 56/84 [00:10<00:05,  5.44it/s]"
     ]
    },
    {
     "name": "stdout",
     "output_type": "stream",
     "text": [
      "pred_str:64, label_str:64\n",
      "pred_str:50, label_str:54\n",
      "pred_str:83, label_str:95\n",
      "pred_str:38, label_str:39\n",
      "pred_str:7, label_str:7\n",
      "pred_str:74, label_str:64\n",
      "pred_str:119, label_str:141\n",
      "pred_str:74, label_str:70\n",
      "pred_str:69, label_str:64\n",
      "pred_str:13, label_str:23\n",
      "pred_str:129, label_str:149\n",
      "pred_str:99, label_str:119\n"
     ]
    },
    {
     "name": "stderr",
     "output_type": "stream",
     "text": [
      " 69%|██████▉   | 58/84 [00:10<00:04,  5.44it/s]"
     ]
    },
    {
     "name": "stdout",
     "output_type": "stream",
     "text": [
      "pred_str:125, label_str:125\n",
      "pred_str:99, label_str:105\n",
      "pred_str:99, label_str:105\n",
      "pred_str:133, label_str:133\n",
      "pred_str:24, label_str:24\n",
      "pred_str:93, label_str:129\n",
      "pred_str:73, label_str:65\n",
      "pred_str:112, label_str:121\n",
      "pred_str:111, label_str:120\n",
      "pred_str:31, label_str:31\n",
      "pred_str:68, label_str:68\n",
      "pred_str:97, label_str:101\n"
     ]
    },
    {
     "name": "stderr",
     "output_type": "stream",
     "text": [
      " 71%|███████▏  | 60/84 [00:10<00:04,  5.56it/s]"
     ]
    },
    {
     "name": "stdout",
     "output_type": "stream",
     "text": [
      "pred_str:37, label_str:37\n",
      "pred_str:140, label_str:146\n",
      "pred_str:100, label_str:110\n",
      "pred_str:151, label_str:179\n",
      "pred_str:94, label_str:102\n",
      "pred_str:121, label_str:127\n",
      "pred_str:53, label_str:73\n",
      "pred_str:113, label_str:187\n",
      "pred_str:139, label_str:149\n",
      "pred_str:72, label_str:92\n",
      "pred_str:87, label_str:97\n",
      "pred_str:119, label_str:124\n"
     ]
    },
    {
     "name": "stderr",
     "output_type": "stream",
     "text": [
      " 73%|███████▎  | 61/84 [00:11<00:04,  5.46it/s]"
     ]
    },
    {
     "name": "stdout",
     "output_type": "stream",
     "text": [
      "pred_str:36, label_str:36\n",
      "pred_str:115, label_str:115\n",
      "pred_str:109, label_str:105\n",
      "pred_str:121, label_str:131\n",
      "pred_str:94, label_str:110\n",
      "pred_str:50, label_str:54\n"
     ]
    },
    {
     "name": "stderr",
     "output_type": "stream",
     "text": [
      " 75%|███████▌  | 63/84 [00:11<00:04,  5.21it/s]"
     ]
    },
    {
     "name": "stdout",
     "output_type": "stream",
     "text": [
      "pred_str:96, label_str:100\n",
      "pred_str:115, label_str:115\n",
      "pred_str:96, label_str:99\n",
      "pred_str:25, label_str:56\n",
      "pred_str:47, label_str:57\n",
      "pred_str:72, label_str:66\n",
      "pred_str:117, label_str:127\n",
      "pred_str:87, label_str:77\n",
      "pred_str:34, label_str:35\n",
      "pred_str:88, label_str:100\n",
      "pred_str:33, label_str:33\n",
      "pred_str:100, label_str:114\n"
     ]
    },
    {
     "name": "stderr",
     "output_type": "stream",
     "text": [
      " 77%|███████▋  | 65/84 [00:11<00:03,  5.27it/s]"
     ]
    },
    {
     "name": "stdout",
     "output_type": "stream",
     "text": [
      "pred_str:20, label_str:32\n",
      "pred_str:89, label_str:89\n",
      "pred_str:128, label_str:128\n",
      "pred_str:55, label_str:45\n",
      "pred_str:98, label_str:100\n",
      "pred_str:139, label_str:139\n",
      "pred_str:25, label_str:25\n",
      "pred_str:116, label_str:106\n",
      "pred_str:180, label_str:180\n",
      "pred_str:129, label_str:141\n",
      "pred_str:78, label_str:78\n",
      "pred_str:9, label_str:14\n"
     ]
    },
    {
     "name": "stderr",
     "output_type": "stream",
     "text": [
      " 80%|███████▉  | 67/84 [00:12<00:03,  5.26it/s]"
     ]
    },
    {
     "name": "stdout",
     "output_type": "stream",
     "text": [
      "pred_str:105, label_str:111\n",
      "pred_str:87, label_str:87\n",
      "pred_str:75, label_str:72\n",
      "pred_str:136, label_str:136\n",
      "pred_str:26, label_str:26\n",
      "pred_str:158, label_str:154\n",
      "pred_str:137, label_str:147\n",
      "pred_str:94, label_str:95\n",
      "pred_str:148, label_str:153\n",
      "pred_str:109, label_str:114\n",
      "pred_str:134, label_str:150\n",
      "pred_str:75, label_str:75\n"
     ]
    },
    {
     "name": "stderr",
     "output_type": "stream",
     "text": [
      " 82%|████████▏ | 69/84 [00:12<00:02,  5.28it/s]"
     ]
    },
    {
     "name": "stdout",
     "output_type": "stream",
     "text": [
      "pred_str:124, label_str:134\n",
      "pred_str:75, label_str:70\n",
      "pred_str:63, label_str:79\n",
      "pred_str:188, label_str:172\n",
      "pred_str:68, label_str:88\n",
      "pred_str:58, label_str:58\n",
      "pred_str:154, label_str:164\n",
      "pred_str:994, label_str:101\n",
      "pred_str:158, label_str:162\n",
      "pred_str:94, label_str:94\n",
      "pred_str:77, label_str:77\n",
      "pred_str:994, label_str:110\n"
     ]
    },
    {
     "name": "stderr",
     "output_type": "stream",
     "text": [
      " 85%|████████▍ | 71/84 [00:12<00:02,  5.44it/s]"
     ]
    },
    {
     "name": "stdout",
     "output_type": "stream",
     "text": [
      "pred_str:60, label_str:63\n",
      "pred_str:08, label_str:62\n",
      "pred_str:67, label_str:77\n",
      "pred_str:87, label_str:97\n",
      "pred_str:85, label_str:95\n",
      "pred_str:158, label_str:158\n",
      "pred_str:123, label_str:125\n",
      "pred_str:60, label_str:63\n",
      "pred_str:78, label_str:73\n",
      "pred_str:132, label_str:142\n",
      "pred_str:127, label_str:127\n",
      "pred_str:94, label_str:126\n"
     ]
    },
    {
     "name": "stderr",
     "output_type": "stream",
     "text": [
      " 87%|████████▋ | 73/84 [00:13<00:02,  5.34it/s]"
     ]
    },
    {
     "name": "stdout",
     "output_type": "stream",
     "text": [
      "pred_str:59, label_str:51\n",
      "pred_str:50, label_str:52\n",
      "pred_str:60, label_str:68\n",
      "pred_str:85, label_str:91\n",
      "pred_str:93, label_str:111\n",
      "pred_str:76, label_str:77\n",
      "pred_str:110, label_str:110\n",
      "pred_str:136, label_str:156\n",
      "pred_str:115, label_str:145\n",
      "pred_str:145, label_str:175\n",
      "pred_str:89, label_str:83\n",
      "pred_str:74, label_str:86\n"
     ]
    },
    {
     "name": "stderr",
     "output_type": "stream",
     "text": [
      " 89%|████████▉ | 75/84 [00:13<00:01,  5.46it/s]"
     ]
    },
    {
     "name": "stdout",
     "output_type": "stream",
     "text": [
      "pred_str:98, label_str:90\n",
      "pred_str:37, label_str:57\n",
      "pred_str:95, label_str:85\n",
      "pred_str:125, label_str:145\n",
      "pred_str:135, label_str:135\n",
      "pred_str:95, label_str:95\n",
      "pred_str:151, label_str:155\n",
      "pred_str:111, label_str:111\n",
      "pred_str:100, label_str:112\n",
      "pred_str:118, label_str:122\n",
      "pred_str:117, label_str:137\n",
      "pred_str:92, label_str:102\n"
     ]
    },
    {
     "name": "stderr",
     "output_type": "stream",
     "text": [
      " 92%|█████████▏| 77/84 [00:14<00:01,  5.40it/s]"
     ]
    },
    {
     "name": "stdout",
     "output_type": "stream",
     "text": [
      "pred_str:104, label_str:104\n",
      "pred_str:144, label_str:174\n",
      "pred_str:95, label_str:89\n",
      "pred_str:79, label_str:81\n",
      "pred_str:118, label_str:158\n",
      "pred_str:98, label_str:118\n",
      "pred_str:128, label_str:148\n",
      "pred_str:45, label_str:45\n",
      "pred_str:85, label_str:89\n",
      "pred_str:93, label_str:99\n",
      "pred_str:109, label_str:121\n",
      "pred_str:94, label_str:110\n"
     ]
    },
    {
     "name": "stderr",
     "output_type": "stream",
     "text": [
      " 94%|█████████▍| 79/84 [00:14<00:00,  5.28it/s]"
     ]
    },
    {
     "name": "stdout",
     "output_type": "stream",
     "text": [
      "pred_str:21, label_str:21\n",
      "pred_str:112, label_str:126\n",
      "pred_str:101, label_str:109\n",
      "pred_str:115, label_str:127\n",
      "pred_str:61, label_str:62\n",
      "pred_str:121, label_str:141\n",
      "pred_str:117, label_str:132\n",
      "pred_str:58, label_str:67\n",
      "pred_str:112, label_str:116\n",
      "pred_str:64, label_str:78\n",
      "pred_str:15, label_str:21\n",
      "pred_str:52, label_str:52\n"
     ]
    },
    {
     "name": "stderr",
     "output_type": "stream",
     "text": [
      " 96%|█████████▋| 81/84 [00:14<00:00,  5.38it/s]"
     ]
    },
    {
     "name": "stdout",
     "output_type": "stream",
     "text": [
      "pred_str:126, label_str:136\n",
      "pred_str:98, label_str:108\n",
      "pred_str:150, label_str:150\n",
      "pred_str:155, label_str:155\n",
      "pred_str:15, label_str:16\n",
      "pred_str:60, label_str:72\n",
      "pred_str:75, label_str:85\n",
      "pred_str:115, label_str:111\n",
      "pred_str:77, label_str:77\n",
      "pred_str:95, label_str:103\n",
      "pred_str:91, label_str:91\n",
      "pred_str:111, label_str:111\n"
     ]
    },
    {
     "name": "stderr",
     "output_type": "stream",
     "text": [
      " 99%|█████████▉| 83/84 [00:15<00:00,  5.53it/s]"
     ]
    },
    {
     "name": "stdout",
     "output_type": "stream",
     "text": [
      "pred_str:85, label_str:85\n",
      "pred_str:124, label_str:134\n",
      "pred_str:91, label_str:87\n",
      "pred_str:48, label_str:52\n",
      "pred_str:81, label_str:82\n",
      "pred_str:76, label_str:71\n",
      "pred_str:85, label_str:89\n",
      "pred_str:94, label_str:94\n",
      "pred_str:126, label_str:136\n",
      "pred_str:48, label_str:48\n",
      "pred_str:59, label_str:69\n",
      "pred_str:144, label_str:156\n"
     ]
    },
    {
     "name": "stderr",
     "output_type": "stream",
     "text": [
      "100%|██████████| 84/84 [00:15<00:00,  5.47it/s]"
     ]
    },
    {
     "name": "stdout",
     "output_type": "stream",
     "text": [
      "pred_str:94, label_str:103\n",
      "pred_str:117, label_str:117\n"
     ]
    },
    {
     "name": "stderr",
     "output_type": "stream",
     "text": [
      "\n"
     ]
    },
    {
     "ename": "",
     "evalue": "",
     "output_type": "error",
     "traceback": [
      "\u001b[1;31mThe Kernel crashed while executing code in the current cell or a previous cell. \n",
      "\u001b[1;31mPlease review the code in the cell(s) to identify a possible cause of the failure. \n",
      "\u001b[1;31mClick <a href='https://aka.ms/vscodeJupyterKernelCrash'>here</a> for more info. \n",
      "\u001b[1;31mView Jupyter <a href='command:jupyter.viewOutput'>log</a> for further details."
     ]
    }
   ],
   "source": [
    "\n",
    "prompt_id = f'prompt_template_{5}'\n",
    "csv_id = f'prompts_id_{5}'\n",
    "results_folder = f'results/{prompt_id}/'\n",
    "results_folder = Path(results_folder)\n",
    "results_folder.mkdir(parents=True, exist_ok=True)\n",
    "\n",
    "scratch_cache_dir = \"/mnt/fast0/rje41/.cache/huggingface\"    \n",
    "hf_model_name = \"EleutherAI/pythia-1.4B-deduped\"\n",
    "translens_model_name=\"pythia-1.4B-deduped\"\n",
    "adapter_path = f\"../../fine-tuning/add_sub_nlp/checkpoints/{prompt_id}/checkpoint-300\"\n",
    "model = load_model(\n",
    "        adapter_path=adapter_path,\n",
    "        hf_model_name=hf_model_name,\n",
    "        translens_model_name=translens_model_name,\n",
    "        scratch_cache_dir=scratch_cache_dir,\n",
    "    )\n",
    " \n",
    "ds = EAPDataset(f'../../fine-tuning/add_sub_nlp/datasets_csv/{csv_id}/test.csv')\n",
    "dataloader = ds.to_dataloader(6)\n",
    "\n",
    "g = Graph.from_model(model)\n",
    "attribute(model, g, dataloader, partial(kl_divergence, loss=True, mean=True), method='EAP-IG-inputs', ig_steps=5)\n",
    "\n",
    "total_edges = len(g.edges)\n",
    "five_percent_edges = int(total_edges * 0.05)\n",
    "g.apply_topn(five_percent_edges , absolute=True, prune =True)\n",
    "g.to_json(results_folder / 'graph.json')\n",
    "\n",
    "metric_fn = partial(kl_divergence, loss=False, mean=False)\n",
    "faithfulness, percentage_performance = calculate_faithfulness(model, g, dataloader, metric_fn)\n",
    "baseline_performance, circuit_performance = calculate_accuracy(model, g, dataloader)\n",
    " \n",
    "data = {\n",
    "'faithfulness': faithfulness,\n",
    "'percentage_performance': percentage_performance,\n",
    "'model_accuracy': baseline_performance,\n",
    "'graph_accuracy': circuit_performance\n",
    "}   \n",
    " \n",
    "\n",
    "with open(results_folder / 'metrics.json', 'w') as f:\n",
    "    json.dump(data, f, indent=4) "
   ]
  }
 ],
 "metadata": {
  "kernelspec": {
   "display_name": ".venv",
   "language": "python",
   "name": "python3"
  },
  "language_info": {
   "codemirror_mode": {
    "name": "ipython",
    "version": 3
   },
   "file_extension": ".py",
   "mimetype": "text/x-python",
   "name": "python",
   "nbconvert_exporter": "python",
   "pygments_lexer": "ipython3",
   "version": "3.12.3"
  }
 },
 "nbformat": 4,
 "nbformat_minor": 5
}
