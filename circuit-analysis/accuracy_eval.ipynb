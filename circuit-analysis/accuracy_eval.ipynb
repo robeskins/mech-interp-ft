{
 "cells": [
  {
   "cell_type": "code",
   "execution_count": null,
   "id": "8c8ad2fe",
   "metadata": {},
   "outputs": [],
   "source": [
    "from transformers import AutoModelForCausalLM, AutoTokenizer\n",
    "from peft import PeftModel\n",
    "from transformer_lens import HookedTransformer\n",
    "import pandas as pd\n",
    "import torch\n",
    "from tqdm import tqdm\n",
    "from pathlib import Path"
   ]
  },
  {
   "cell_type": "code",
   "execution_count": 40,
   "id": "894a6cdc",
   "metadata": {},
   "outputs": [],
   "source": [
    "def load_model(adapter_path, hf_model_name, translens_model_name, scratch_cache_dir = None):\n",
    "    base_model = AutoModelForCausalLM.from_pretrained(hf_model_name, cache_dir=scratch_cache_dir)\n",
    "    model_with_lora = PeftModel.from_pretrained(base_model, adapter_path)\n",
    "    model_with_lora = model_with_lora.merge_and_unload()\n",
    "    model = HookedTransformer.from_pretrained(model_name=translens_model_name, hf_model=model_with_lora, cache_dir=scratch_cache_dir)  \n",
    "\n",
    "    model.cfg.use_split_qkv_input = True\n",
    "    model.cfg.use_attn_result = True\n",
    "    model.cfg.use_hook_mlp_in = True\n",
    "    model.cfg.ungroup_grouped_query_attention = True\n",
    "    return model"
   ]
  },
  {
   "cell_type": "code",
   "execution_count": 41,
   "id": "aea2c6cc",
   "metadata": {},
   "outputs": [],
   "source": [
    "def evaluate_prompt(model: HookedTransformer, prompt: str, max_new_tokens = 5):\n",
    "    tokens = model.to_tokens(prompt)\n",
    "    generated_tokens = tokens\n",
    "\n",
    "    for _ in range(max_new_tokens):\n",
    "        logits, cache = model.run_with_cache(generated_tokens)\n",
    "        next_token_logits = logits[0, -1, :]\n",
    "        probs = torch.softmax(next_token_logits, dim=-1)\n",
    "        next_token = torch.multinomial(probs, num_samples=1)\n",
    "        generated_tokens = torch.cat((generated_tokens, next_token.unsqueeze(0)), dim=1)\n",
    "\n",
    "    generated_text = model.to_string(generated_tokens[0])\n",
    "    cleaned_text = generated_text.replace('<|endoftext|>', '')\n",
    "    cleaned_text = cleaned_text.replace(prompt, '')\n",
    "    return cleaned_text"
   ]
  },
  {
   "cell_type": "code",
   "execution_count": 70,
   "id": "70b54e64",
   "metadata": {},
   "outputs": [],
   "source": [
    "def run_eval(model: HookedTransformer, df: pd.DataFrame):\n",
    "    correct = 0\n",
    "    incorrect = 0\n",
    "    for index, row in tqdm(df.iterrows()):\n",
    "        prompt = row['clean']\n",
    "        correct_answer = row['label']\n",
    "        pred_answer = evaluate_prompt(model, prompt)\n",
    "        if str(correct_answer) == str(pred_answer):\n",
    "            correct += 1 \n",
    "        else:\n",
    "            incorrect +=1\n",
    "    \n",
    "    perc = correct / (correct + incorrect)\n",
    "    return correct, incorrect, perc"
   ]
  },
  {
   "cell_type": "code",
   "execution_count": null,
   "id": "e9ceffd3",
   "metadata": {},
   "outputs": [],
   "source": [
    "scratch_cache_dir = \"/mnt/fast0/rje41/.cache/huggingface\"    \n",
    "hf_model_name = \"EleutherAI/pythia-1.4B-deduped\"\n",
    "translens_model_name=\"pythia-1.4B-deduped\"\n",
    "eap_dataset_path = \"../datasets/add_sub_test.csv\""
   ]
  },
  {
   "cell_type": "code",
   "execution_count": null,
   "id": "6e2a11a7",
   "metadata": {},
   "outputs": [],
   "source": [
    "folder = Path(\"../fine-tuning/add_sub/results2\")\n",
    "all_paths = list(folder.rglob(\"*\"))\n",
    "adapter_paths = [p for p in all_paths if p.is_dir()]\n",
    "\n",
    "results = []\n",
    "df = pd.read_csv('../datasets/add_sub.csv')\n",
    "for adapter_path in adapter_paths:\n",
    "    model = load_model(adapter_path, hf_model_name, translens_model_name, scratch_cache_dir)\n",
    "    correct, incorrect, perc = run_eval(model, df)\n",
    "\n",
    "    results.append({\n",
    "        'percentage_correct': perc,\n",
    "        'adapter_path': adapter_path\n",
    "    })"
   ]
  },
  {
   "cell_type": "code",
   "execution_count": 73,
   "id": "758a6b7c",
   "metadata": {},
   "outputs": [
    {
     "name": "stdout",
     "output_type": "stream",
     "text": [
      "Loaded pretrained model pythia-1.4B-deduped into HookedTransformer\n"
     ]
    }
   ],
   "source": [
    "scratch_cache_dir = \"/mnt/fast0/rje41/.cache/huggingface\"    \n",
    "hf_model_name = \"EleutherAI/pythia-1.4B-deduped\"\n",
    "translens_model_name=\"pythia-1.4B-deduped\"\n",
    "eap_dataset_path = \"../datasets/add_sub_test.csv\"\n",
    "adapter_path = \"../fine-tuning/add_sub/results2/checkpoint-10000\"\n",
    "model = load_model(adapter_path, hf_model_name, translens_model_name, scratch_cache_dir)"
   ]
  },
  {
   "cell_type": "code",
   "execution_count": 55,
   "id": "d79bd225",
   "metadata": {},
   "outputs": [
    {
     "name": "stdout",
     "output_type": "stream",
     "text": [
      "       clean  corrupted  label\n",
      "0  46 + 20 =  46 + 64 =     66\n",
      "1  95 - 26 =  95 - 28 =     69\n",
      "2  68 + 45 =  68 + 14 =    113\n",
      "3  16 + 59 =  16 + 30 =     75\n",
      "4  54 + 66 =   54 + 7 =    120\n"
     ]
    }
   ],
   "source": [
    "df = pd.read_csv('../datasets/add_sub_test.csv')\n",
    "\n",
    "print(df.head())"
   ]
  },
  {
   "cell_type": "code",
   "execution_count": 74,
   "id": "e7181a7d",
   "metadata": {},
   "outputs": [
    {
     "name": "stderr",
     "output_type": "stream",
     "text": [
      "500it [04:41,  1.78it/s]\n"
     ]
    }
   ],
   "source": [
    "correct, incorrect, perc = run_eval(model, df)"
   ]
  },
  {
   "cell_type": "code",
   "execution_count": 76,
   "id": "3603784f",
   "metadata": {},
   "outputs": [
    {
     "data": {
      "text/plain": [
       "0.396"
      ]
     },
     "execution_count": 76,
     "metadata": {},
     "output_type": "execute_result"
    }
   ],
   "source": [
    "perc"
   ]
  }
 ],
 "metadata": {
  "kernelspec": {
   "display_name": ".venv",
   "language": "python",
   "name": "python3"
  },
  "language_info": {
   "codemirror_mode": {
    "name": "ipython",
    "version": 3
   },
   "file_extension": ".py",
   "mimetype": "text/x-python",
   "name": "python",
   "nbconvert_exporter": "python",
   "pygments_lexer": "ipython3",
   "version": "3.12.3"
  }
 },
 "nbformat": 4,
 "nbformat_minor": 5
}
