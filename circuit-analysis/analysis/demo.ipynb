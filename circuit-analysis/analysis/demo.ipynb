{
 "cells": [
  {
   "cell_type": "code",
   "execution_count": 1,
   "id": "9fb67293",
   "metadata": {},
   "outputs": [],
   "source": [
    "import os\n",
    "os.environ[\"CUDA_VISIBLE_DEVICES\"] = \"2\""
   ]
  },
  {
   "cell_type": "code",
   "execution_count": 2,
   "id": "424feffc",
   "metadata": {},
   "outputs": [],
   "source": [
    "from functools import partial\n",
    "\n",
    "import pandas as pd\n",
    "import torch\n",
    "from torch.utils.data import Dataset, DataLoader\n",
    "from transformers import PreTrainedTokenizer, AutoTokenizer\n",
    "from transformer_lens import HookedTransformer\n",
    "import torch.nn.functional as F"
   ]
  },
  {
   "cell_type": "code",
   "execution_count": 3,
   "id": "430f02c2",
   "metadata": {},
   "outputs": [],
   "source": [
    "from eap.graph import Graph\n",
    "from eap.evaluate import evaluate_graph, evaluate_baseline\n",
    "from eap.attribute import attribute "
   ]
  },
  {
   "cell_type": "code",
   "execution_count": 4,
   "id": "0d72ff1e",
   "metadata": {},
   "outputs": [],
   "source": [
    "from transformers import AutoModelForCausalLM, AutoTokenizer\n",
    "from peft import PeftModel\n",
    "\n",
    "def load_model(adapter_path, hf_model_name, translens_model_name, scratch_cache_dir = None):\n",
    "    base_model = AutoModelForCausalLM.from_pretrained(hf_model_name, cache_dir=scratch_cache_dir)\n",
    "    model_with_lora = PeftModel.from_pretrained(base_model, adapter_path)\n",
    "    model_with_lora = model_with_lora.merge_and_unload()\n",
    "    model = HookedTransformer.from_pretrained(model_name=translens_model_name, hf_model=model_with_lora, cache_dir=scratch_cache_dir)  \n",
    "\n",
    "    model.cfg.use_split_qkv_input = True\n",
    "    model.cfg.use_attn_result = True\n",
    "    model.cfg.use_hook_mlp_in = True\n",
    "    model.cfg.ungroup_grouped_query_attention = True\n",
    "    return model"
   ]
  },
  {
   "cell_type": "code",
   "execution_count": 5,
   "id": "9e243c58",
   "metadata": {},
   "outputs": [],
   "source": [
    "def collate_EAP(xs):\n",
    "    clean, corrupted, labels = zip(*xs)\n",
    "    clean = list(clean)\n",
    "    corrupted = list(corrupted)\n",
    "    return clean, corrupted, labels\n",
    "\n",
    "class EAPDataset(Dataset):\n",
    "    def __init__(self, filepath):\n",
    "        self.df = pd.read_csv(filepath)\n",
    "\n",
    "    def __len__(self):\n",
    "        return len(self.df)\n",
    "    \n",
    "    def shuffle(self):\n",
    "        self.df = self.df.sample(frac=1)\n",
    "\n",
    "    def head(self, n: int):\n",
    "        self.df = self.df.head(n)\n",
    "    \n",
    "    def __getitem__(self, index):\n",
    "        row = self.df.iloc[index]\n",
    "        return row['clean'], row['corrupted'], row['label']\n",
    "    \n",
    "    def to_dataloader(self, batch_size: int):\n",
    "        return DataLoader(self, batch_size=batch_size, collate_fn=collate_EAP)\n",
    "    \n",
    "def get_logit_positions(logits: torch.Tensor, input_length: torch.Tensor):\n",
    "    batch_size = logits.size(0)\n",
    "    idx = torch.arange(batch_size, device=logits.device)\n",
    "\n",
    "    logits = logits[idx, input_length - 1]\n",
    "    return logits\n",
    "\n",
    "def kl_divergence(logits: torch.Tensor, clean_logits: torch.Tensor, input_length: torch.Tensor, labels: torch.Tensor, mean=True, loss=True):\n",
    "    logits = get_logit_positions(logits, input_length)\n",
    "    clean_logits = get_logit_positions(clean_logits, input_length)\n",
    "\n",
    "    probs = torch.softmax(logits, dim=-1)\n",
    "    clean_probs = torch.softmax(clean_logits, dim=-1)\n",
    "    results = F.kl_div(probs.log(), clean_probs.log(), log_target=True, reduction='none').mean(-1)\n",
    "    return results.mean() if mean else results"
   ]
  },
  {
   "cell_type": "code",
   "execution_count": 6,
   "id": "d3e2e08e",
   "metadata": {},
   "outputs": [
    {
     "name": "stdout",
     "output_type": "stream",
     "text": [
      "Loaded pretrained model pythia-1.4B-deduped into HookedTransformer\n"
     ]
    }
   ],
   "source": [
    "scratch_cache_dir = \"/mnt/fast0/rje41/.cache/huggingface\"    \n",
    "hf_model_name = \"EleutherAI/pythia-1.4B-deduped\"\n",
    "translens_model_name=\"pythia-1.4B-deduped\"\n",
    "adapter_path = \"../fine-tuning/sequential-fine-tuning/adapter_checkpoints/add_sub_100/checkpoint-282\"\n",
    "model = load_model(\n",
    "        adapter_path=adapter_path,\n",
    "        hf_model_name=hf_model_name,\n",
    "        translens_model_name=translens_model_name,\n",
    "        scratch_cache_dir=scratch_cache_dir,\n",
    "    )"
   ]
  },
  {
   "cell_type": "code",
   "execution_count": 13,
   "id": "141a9004",
   "metadata": {},
   "outputs": [],
   "source": [
    "ds = EAPDataset('../datasets/Add_Sub_100_circuit.csv')\n",
    "dataloader = ds.to_dataloader(6)"
   ]
  },
  {
   "cell_type": "code",
   "execution_count": 14,
   "id": "ec869ba9",
   "metadata": {},
   "outputs": [
    {
     "name": "stderr",
     "output_type": "stream",
     "text": [
      "100%|██████████| 84/84 [05:10<00:00,  3.70s/it]\n"
     ]
    }
   ],
   "source": [
    "g = Graph.from_model(model)\n",
    "attribute(model, g, dataloader, partial(kl_divergence, loss=True, mean=True), method='EAP-IG-inputs', ig_steps=5)"
   ]
  },
  {
   "cell_type": "code",
   "execution_count": null,
   "id": "4758e21e",
   "metadata": {},
   "outputs": [
    {
     "data": {
      "text/plain": [
       "{'input': Node(input, in_graph: True),\n",
       " 'a0.h0': Node(a0.h0, in_graph: True),\n",
       " 'a0.h1': Node(a0.h1, in_graph: True),\n",
       " 'a0.h2': Node(a0.h2, in_graph: True),\n",
       " 'a0.h3': Node(a0.h3, in_graph: True),\n",
       " 'a0.h4': Node(a0.h4, in_graph: True),\n",
       " 'a0.h5': Node(a0.h5, in_graph: True),\n",
       " 'a0.h6': Node(a0.h6, in_graph: True),\n",
       " 'a0.h7': Node(a0.h7, in_graph: True),\n",
       " 'a0.h8': Node(a0.h8, in_graph: True),\n",
       " 'a0.h9': Node(a0.h9, in_graph: True),\n",
       " 'a0.h10': Node(a0.h10, in_graph: True),\n",
       " 'a0.h11': Node(a0.h11, in_graph: True),\n",
       " 'a0.h12': Node(a0.h12, in_graph: True),\n",
       " 'a0.h13': Node(a0.h13, in_graph: True),\n",
       " 'a0.h14': Node(a0.h14, in_graph: True),\n",
       " 'a0.h15': Node(a0.h15, in_graph: True),\n",
       " 'm0': Node(m0, in_graph: True),\n",
       " 'a1.h0': Node(a1.h0, in_graph: True),\n",
       " 'a1.h1': Node(a1.h1, in_graph: True),\n",
       " 'a1.h2': Node(a1.h2, in_graph: True),\n",
       " 'a1.h3': Node(a1.h3, in_graph: True),\n",
       " 'a1.h4': Node(a1.h4, in_graph: True),\n",
       " 'a1.h5': Node(a1.h5, in_graph: True),\n",
       " 'a1.h6': Node(a1.h6, in_graph: True),\n",
       " 'a1.h7': Node(a1.h7, in_graph: True),\n",
       " 'a1.h8': Node(a1.h8, in_graph: True),\n",
       " 'a1.h9': Node(a1.h9, in_graph: True),\n",
       " 'a1.h10': Node(a1.h10, in_graph: True),\n",
       " 'a1.h11': Node(a1.h11, in_graph: True),\n",
       " 'a1.h12': Node(a1.h12, in_graph: True),\n",
       " 'a1.h13': Node(a1.h13, in_graph: True),\n",
       " 'a1.h14': Node(a1.h14, in_graph: True),\n",
       " 'a1.h15': Node(a1.h15, in_graph: True),\n",
       " 'm1': Node(m1, in_graph: True),\n",
       " 'a2.h0': Node(a2.h0, in_graph: False),\n",
       " 'a2.h1': Node(a2.h1, in_graph: True),\n",
       " 'a2.h2': Node(a2.h2, in_graph: True),\n",
       " 'a2.h3': Node(a2.h3, in_graph: True),\n",
       " 'a2.h4': Node(a2.h4, in_graph: True),\n",
       " 'a2.h5': Node(a2.h5, in_graph: True),\n",
       " 'a2.h6': Node(a2.h6, in_graph: True),\n",
       " 'a2.h7': Node(a2.h7, in_graph: True),\n",
       " 'a2.h8': Node(a2.h8, in_graph: True),\n",
       " 'a2.h9': Node(a2.h9, in_graph: True),\n",
       " 'a2.h10': Node(a2.h10, in_graph: True),\n",
       " 'a2.h11': Node(a2.h11, in_graph: True),\n",
       " 'a2.h12': Node(a2.h12, in_graph: True),\n",
       " 'a2.h13': Node(a2.h13, in_graph: True),\n",
       " 'a2.h14': Node(a2.h14, in_graph: True),\n",
       " 'a2.h15': Node(a2.h15, in_graph: True),\n",
       " 'm2': Node(m2, in_graph: True),\n",
       " 'a3.h0': Node(a3.h0, in_graph: True),\n",
       " 'a3.h1': Node(a3.h1, in_graph: True),\n",
       " 'a3.h2': Node(a3.h2, in_graph: True),\n",
       " 'a3.h3': Node(a3.h3, in_graph: True),\n",
       " 'a3.h4': Node(a3.h4, in_graph: True),\n",
       " 'a3.h5': Node(a3.h5, in_graph: True),\n",
       " 'a3.h6': Node(a3.h6, in_graph: True),\n",
       " 'a3.h7': Node(a3.h7, in_graph: True),\n",
       " 'a3.h8': Node(a3.h8, in_graph: True),\n",
       " 'a3.h9': Node(a3.h9, in_graph: True),\n",
       " 'a3.h10': Node(a3.h10, in_graph: True),\n",
       " 'a3.h11': Node(a3.h11, in_graph: True),\n",
       " 'a3.h12': Node(a3.h12, in_graph: True),\n",
       " 'a3.h13': Node(a3.h13, in_graph: True),\n",
       " 'a3.h14': Node(a3.h14, in_graph: False),\n",
       " 'a3.h15': Node(a3.h15, in_graph: True),\n",
       " 'm3': Node(m3, in_graph: True),\n",
       " 'a4.h0': Node(a4.h0, in_graph: True),\n",
       " 'a4.h1': Node(a4.h1, in_graph: True),\n",
       " 'a4.h2': Node(a4.h2, in_graph: True),\n",
       " 'a4.h3': Node(a4.h3, in_graph: True),\n",
       " 'a4.h4': Node(a4.h4, in_graph: True),\n",
       " 'a4.h5': Node(a4.h5, in_graph: True),\n",
       " 'a4.h6': Node(a4.h6, in_graph: True),\n",
       " 'a4.h7': Node(a4.h7, in_graph: True),\n",
       " 'a4.h8': Node(a4.h8, in_graph: True),\n",
       " 'a4.h9': Node(a4.h9, in_graph: True),\n",
       " 'a4.h10': Node(a4.h10, in_graph: True),\n",
       " 'a4.h11': Node(a4.h11, in_graph: True),\n",
       " 'a4.h12': Node(a4.h12, in_graph: True),\n",
       " 'a4.h13': Node(a4.h13, in_graph: True),\n",
       " 'a4.h14': Node(a4.h14, in_graph: True),\n",
       " 'a4.h15': Node(a4.h15, in_graph: True),\n",
       " 'm4': Node(m4, in_graph: True),\n",
       " 'a5.h0': Node(a5.h0, in_graph: False),\n",
       " 'a5.h1': Node(a5.h1, in_graph: True),\n",
       " 'a5.h2': Node(a5.h2, in_graph: True),\n",
       " 'a5.h3': Node(a5.h3, in_graph: True),\n",
       " 'a5.h4': Node(a5.h4, in_graph: True),\n",
       " 'a5.h5': Node(a5.h5, in_graph: True),\n",
       " 'a5.h6': Node(a5.h6, in_graph: True),\n",
       " 'a5.h7': Node(a5.h7, in_graph: True),\n",
       " 'a5.h8': Node(a5.h8, in_graph: True),\n",
       " 'a5.h9': Node(a5.h9, in_graph: True),\n",
       " 'a5.h10': Node(a5.h10, in_graph: True),\n",
       " 'a5.h11': Node(a5.h11, in_graph: True),\n",
       " 'a5.h12': Node(a5.h12, in_graph: True),\n",
       " 'a5.h13': Node(a5.h13, in_graph: True),\n",
       " 'a5.h14': Node(a5.h14, in_graph: True),\n",
       " 'a5.h15': Node(a5.h15, in_graph: True),\n",
       " 'm5': Node(m5, in_graph: True),\n",
       " 'a6.h0': Node(a6.h0, in_graph: True),\n",
       " 'a6.h1': Node(a6.h1, in_graph: True),\n",
       " 'a6.h2': Node(a6.h2, in_graph: True),\n",
       " 'a6.h3': Node(a6.h3, in_graph: True),\n",
       " 'a6.h4': Node(a6.h4, in_graph: True),\n",
       " 'a6.h5': Node(a6.h5, in_graph: True),\n",
       " 'a6.h6': Node(a6.h6, in_graph: True),\n",
       " 'a6.h7': Node(a6.h7, in_graph: True),\n",
       " 'a6.h8': Node(a6.h8, in_graph: True),\n",
       " 'a6.h9': Node(a6.h9, in_graph: True),\n",
       " 'a6.h10': Node(a6.h10, in_graph: True),\n",
       " 'a6.h11': Node(a6.h11, in_graph: True),\n",
       " 'a6.h12': Node(a6.h12, in_graph: True),\n",
       " 'a6.h13': Node(a6.h13, in_graph: True),\n",
       " 'a6.h14': Node(a6.h14, in_graph: True),\n",
       " 'a6.h15': Node(a6.h15, in_graph: True),\n",
       " 'm6': Node(m6, in_graph: True),\n",
       " 'a7.h0': Node(a7.h0, in_graph: True),\n",
       " 'a7.h1': Node(a7.h1, in_graph: True),\n",
       " 'a7.h2': Node(a7.h2, in_graph: True),\n",
       " 'a7.h3': Node(a7.h3, in_graph: False),\n",
       " 'a7.h4': Node(a7.h4, in_graph: True),\n",
       " 'a7.h5': Node(a7.h5, in_graph: True),\n",
       " 'a7.h6': Node(a7.h6, in_graph: True),\n",
       " 'a7.h7': Node(a7.h7, in_graph: True),\n",
       " 'a7.h8': Node(a7.h8, in_graph: True),\n",
       " 'a7.h9': Node(a7.h9, in_graph: True),\n",
       " 'a7.h10': Node(a7.h10, in_graph: False),\n",
       " 'a7.h11': Node(a7.h11, in_graph: True),\n",
       " 'a7.h12': Node(a7.h12, in_graph: True),\n",
       " 'a7.h13': Node(a7.h13, in_graph: True),\n",
       " 'a7.h14': Node(a7.h14, in_graph: True),\n",
       " 'a7.h15': Node(a7.h15, in_graph: False),\n",
       " 'm7': Node(m7, in_graph: True),\n",
       " 'a8.h0': Node(a8.h0, in_graph: False),\n",
       " 'a8.h1': Node(a8.h1, in_graph: True),\n",
       " 'a8.h2': Node(a8.h2, in_graph: True),\n",
       " 'a8.h3': Node(a8.h3, in_graph: False),\n",
       " 'a8.h4': Node(a8.h4, in_graph: True),\n",
       " 'a8.h5': Node(a8.h5, in_graph: True),\n",
       " 'a8.h6': Node(a8.h6, in_graph: True),\n",
       " 'a8.h7': Node(a8.h7, in_graph: True),\n",
       " 'a8.h8': Node(a8.h8, in_graph: True),\n",
       " 'a8.h9': Node(a8.h9, in_graph: True),\n",
       " 'a8.h10': Node(a8.h10, in_graph: True),\n",
       " 'a8.h11': Node(a8.h11, in_graph: True),\n",
       " 'a8.h12': Node(a8.h12, in_graph: True),\n",
       " 'a8.h13': Node(a8.h13, in_graph: True),\n",
       " 'a8.h14': Node(a8.h14, in_graph: True),\n",
       " 'a8.h15': Node(a8.h15, in_graph: False),\n",
       " 'm8': Node(m8, in_graph: True),\n",
       " 'a9.h0': Node(a9.h0, in_graph: True),\n",
       " 'a9.h1': Node(a9.h1, in_graph: True),\n",
       " 'a9.h2': Node(a9.h2, in_graph: True),\n",
       " 'a9.h3': Node(a9.h3, in_graph: True),\n",
       " 'a9.h4': Node(a9.h4, in_graph: True),\n",
       " 'a9.h5': Node(a9.h5, in_graph: True),\n",
       " 'a9.h6': Node(a9.h6, in_graph: True),\n",
       " 'a9.h7': Node(a9.h7, in_graph: True),\n",
       " 'a9.h8': Node(a9.h8, in_graph: True),\n",
       " 'a9.h9': Node(a9.h9, in_graph: False),\n",
       " 'a9.h10': Node(a9.h10, in_graph: True),\n",
       " 'a9.h11': Node(a9.h11, in_graph: True),\n",
       " 'a9.h12': Node(a9.h12, in_graph: False),\n",
       " 'a9.h13': Node(a9.h13, in_graph: True),\n",
       " 'a9.h14': Node(a9.h14, in_graph: True),\n",
       " 'a9.h15': Node(a9.h15, in_graph: True),\n",
       " 'm9': Node(m9, in_graph: True),\n",
       " 'a10.h0': Node(a10.h0, in_graph: True),\n",
       " 'a10.h1': Node(a10.h1, in_graph: True),\n",
       " 'a10.h2': Node(a10.h2, in_graph: True),\n",
       " 'a10.h3': Node(a10.h3, in_graph: True),\n",
       " 'a10.h4': Node(a10.h4, in_graph: True),\n",
       " 'a10.h5': Node(a10.h5, in_graph: True),\n",
       " 'a10.h6': Node(a10.h6, in_graph: True),\n",
       " 'a10.h7': Node(a10.h7, in_graph: True),\n",
       " 'a10.h8': Node(a10.h8, in_graph: False),\n",
       " 'a10.h9': Node(a10.h9, in_graph: False),\n",
       " 'a10.h10': Node(a10.h10, in_graph: True),\n",
       " 'a10.h11': Node(a10.h11, in_graph: True),\n",
       " 'a10.h12': Node(a10.h12, in_graph: True),\n",
       " 'a10.h13': Node(a10.h13, in_graph: True),\n",
       " 'a10.h14': Node(a10.h14, in_graph: True),\n",
       " 'a10.h15': Node(a10.h15, in_graph: False),\n",
       " 'm10': Node(m10, in_graph: True),\n",
       " 'a11.h0': Node(a11.h0, in_graph: True),\n",
       " 'a11.h1': Node(a11.h1, in_graph: True),\n",
       " 'a11.h2': Node(a11.h2, in_graph: True),\n",
       " 'a11.h3': Node(a11.h3, in_graph: True),\n",
       " 'a11.h4': Node(a11.h4, in_graph: True),\n",
       " 'a11.h5': Node(a11.h5, in_graph: True),\n",
       " 'a11.h6': Node(a11.h6, in_graph: True),\n",
       " 'a11.h7': Node(a11.h7, in_graph: True),\n",
       " 'a11.h8': Node(a11.h8, in_graph: False),\n",
       " 'a11.h9': Node(a11.h9, in_graph: True),\n",
       " 'a11.h10': Node(a11.h10, in_graph: False),\n",
       " 'a11.h11': Node(a11.h11, in_graph: True),\n",
       " 'a11.h12': Node(a11.h12, in_graph: True),\n",
       " 'a11.h13': Node(a11.h13, in_graph: False),\n",
       " 'a11.h14': Node(a11.h14, in_graph: True),\n",
       " 'a11.h15': Node(a11.h15, in_graph: True),\n",
       " 'm11': Node(m11, in_graph: True),\n",
       " 'a12.h0': Node(a12.h0, in_graph: True),\n",
       " 'a12.h1': Node(a12.h1, in_graph: True),\n",
       " 'a12.h2': Node(a12.h2, in_graph: True),\n",
       " 'a12.h3': Node(a12.h3, in_graph: False),\n",
       " 'a12.h4': Node(a12.h4, in_graph: True),\n",
       " 'a12.h5': Node(a12.h5, in_graph: True),\n",
       " 'a12.h6': Node(a12.h6, in_graph: True),\n",
       " 'a12.h7': Node(a12.h7, in_graph: False),\n",
       " 'a12.h8': Node(a12.h8, in_graph: True),\n",
       " 'a12.h9': Node(a12.h9, in_graph: True),\n",
       " 'a12.h10': Node(a12.h10, in_graph: True),\n",
       " 'a12.h11': Node(a12.h11, in_graph: False),\n",
       " 'a12.h12': Node(a12.h12, in_graph: True),\n",
       " 'a12.h13': Node(a12.h13, in_graph: True),\n",
       " 'a12.h14': Node(a12.h14, in_graph: True),\n",
       " 'a12.h15': Node(a12.h15, in_graph: False),\n",
       " 'm12': Node(m12, in_graph: True),\n",
       " 'a13.h0': Node(a13.h0, in_graph: False),\n",
       " 'a13.h1': Node(a13.h1, in_graph: True),\n",
       " 'a13.h2': Node(a13.h2, in_graph: True),\n",
       " 'a13.h3': Node(a13.h3, in_graph: True),\n",
       " 'a13.h4': Node(a13.h4, in_graph: True),\n",
       " 'a13.h5': Node(a13.h5, in_graph: False),\n",
       " 'a13.h6': Node(a13.h6, in_graph: True),\n",
       " 'a13.h7': Node(a13.h7, in_graph: True),\n",
       " 'a13.h8': Node(a13.h8, in_graph: True),\n",
       " 'a13.h9': Node(a13.h9, in_graph: True),\n",
       " 'a13.h10': Node(a13.h10, in_graph: True),\n",
       " 'a13.h11': Node(a13.h11, in_graph: True),\n",
       " 'a13.h12': Node(a13.h12, in_graph: True),\n",
       " 'a13.h13': Node(a13.h13, in_graph: True),\n",
       " 'a13.h14': Node(a13.h14, in_graph: True),\n",
       " 'a13.h15': Node(a13.h15, in_graph: True),\n",
       " 'm13': Node(m13, in_graph: True),\n",
       " 'a14.h0': Node(a14.h0, in_graph: True),\n",
       " 'a14.h1': Node(a14.h1, in_graph: True),\n",
       " 'a14.h2': Node(a14.h2, in_graph: False),\n",
       " 'a14.h3': Node(a14.h3, in_graph: True),\n",
       " 'a14.h4': Node(a14.h4, in_graph: False),\n",
       " 'a14.h5': Node(a14.h5, in_graph: False),\n",
       " 'a14.h6': Node(a14.h6, in_graph: True),\n",
       " 'a14.h7': Node(a14.h7, in_graph: False),\n",
       " 'a14.h8': Node(a14.h8, in_graph: True),\n",
       " 'a14.h9': Node(a14.h9, in_graph: False),\n",
       " 'a14.h10': Node(a14.h10, in_graph: True),\n",
       " 'a14.h11': Node(a14.h11, in_graph: True),\n",
       " 'a14.h12': Node(a14.h12, in_graph: True),\n",
       " 'a14.h13': Node(a14.h13, in_graph: True),\n",
       " 'a14.h14': Node(a14.h14, in_graph: True),\n",
       " 'a14.h15': Node(a14.h15, in_graph: True),\n",
       " 'm14': Node(m14, in_graph: True),\n",
       " 'a15.h0': Node(a15.h0, in_graph: True),\n",
       " 'a15.h1': Node(a15.h1, in_graph: False),\n",
       " 'a15.h2': Node(a15.h2, in_graph: False),\n",
       " 'a15.h3': Node(a15.h3, in_graph: True),\n",
       " 'a15.h4': Node(a15.h4, in_graph: True),\n",
       " 'a15.h5': Node(a15.h5, in_graph: True),\n",
       " 'a15.h6': Node(a15.h6, in_graph: False),\n",
       " 'a15.h7': Node(a15.h7, in_graph: False),\n",
       " 'a15.h8': Node(a15.h8, in_graph: True),\n",
       " 'a15.h9': Node(a15.h9, in_graph: True),\n",
       " 'a15.h10': Node(a15.h10, in_graph: True),\n",
       " 'a15.h11': Node(a15.h11, in_graph: True),\n",
       " 'a15.h12': Node(a15.h12, in_graph: True),\n",
       " 'a15.h13': Node(a15.h13, in_graph: False),\n",
       " 'a15.h14': Node(a15.h14, in_graph: True),\n",
       " 'a15.h15': Node(a15.h15, in_graph: True),\n",
       " 'm15': Node(m15, in_graph: True),\n",
       " 'a16.h0': Node(a16.h0, in_graph: False),\n",
       " 'a16.h1': Node(a16.h1, in_graph: False),\n",
       " 'a16.h2': Node(a16.h2, in_graph: False),\n",
       " 'a16.h3': Node(a16.h3, in_graph: True),\n",
       " 'a16.h4': Node(a16.h4, in_graph: True),\n",
       " 'a16.h5': Node(a16.h5, in_graph: True),\n",
       " 'a16.h6': Node(a16.h6, in_graph: False),\n",
       " 'a16.h7': Node(a16.h7, in_graph: False),\n",
       " 'a16.h8': Node(a16.h8, in_graph: True),\n",
       " 'a16.h9': Node(a16.h9, in_graph: True),\n",
       " 'a16.h10': Node(a16.h10, in_graph: False),\n",
       " 'a16.h11': Node(a16.h11, in_graph: True),\n",
       " 'a16.h12': Node(a16.h12, in_graph: False),\n",
       " 'a16.h13': Node(a16.h13, in_graph: True),\n",
       " 'a16.h14': Node(a16.h14, in_graph: True),\n",
       " 'a16.h15': Node(a16.h15, in_graph: False),\n",
       " 'm16': Node(m16, in_graph: True),\n",
       " 'a17.h0': Node(a17.h0, in_graph: False),\n",
       " 'a17.h1': Node(a17.h1, in_graph: False),\n",
       " 'a17.h2': Node(a17.h2, in_graph: True),\n",
       " 'a17.h3': Node(a17.h3, in_graph: True),\n",
       " 'a17.h4': Node(a17.h4, in_graph: False),\n",
       " 'a17.h5': Node(a17.h5, in_graph: False),\n",
       " 'a17.h6': Node(a17.h6, in_graph: False),\n",
       " 'a17.h7': Node(a17.h7, in_graph: False),\n",
       " 'a17.h8': Node(a17.h8, in_graph: False),\n",
       " 'a17.h9': Node(a17.h9, in_graph: True),\n",
       " 'a17.h10': Node(a17.h10, in_graph: False),\n",
       " 'a17.h11': Node(a17.h11, in_graph: True),\n",
       " 'a17.h12': Node(a17.h12, in_graph: True),\n",
       " 'a17.h13': Node(a17.h13, in_graph: False),\n",
       " 'a17.h14': Node(a17.h14, in_graph: False),\n",
       " 'a17.h15': Node(a17.h15, in_graph: False),\n",
       " 'm17': Node(m17, in_graph: True),\n",
       " 'a18.h0': Node(a18.h0, in_graph: False),\n",
       " 'a18.h1': Node(a18.h1, in_graph: False),\n",
       " 'a18.h2': Node(a18.h2, in_graph: False),\n",
       " 'a18.h3': Node(a18.h3, in_graph: True),\n",
       " 'a18.h4': Node(a18.h4, in_graph: False),\n",
       " 'a18.h5': Node(a18.h5, in_graph: True),\n",
       " 'a18.h6': Node(a18.h6, in_graph: False),\n",
       " 'a18.h7': Node(a18.h7, in_graph: True),\n",
       " 'a18.h8': Node(a18.h8, in_graph: False),\n",
       " 'a18.h9': Node(a18.h9, in_graph: False),\n",
       " 'a18.h10': Node(a18.h10, in_graph: False),\n",
       " 'a18.h11': Node(a18.h11, in_graph: False),\n",
       " 'a18.h12': Node(a18.h12, in_graph: False),\n",
       " 'a18.h13': Node(a18.h13, in_graph: False),\n",
       " 'a18.h14': Node(a18.h14, in_graph: True),\n",
       " 'a18.h15': Node(a18.h15, in_graph: False),\n",
       " 'm18': Node(m18, in_graph: True),\n",
       " 'a19.h0': Node(a19.h0, in_graph: True),\n",
       " 'a19.h1': Node(a19.h1, in_graph: False),\n",
       " 'a19.h2': Node(a19.h2, in_graph: False),\n",
       " 'a19.h3': Node(a19.h3, in_graph: False),\n",
       " 'a19.h4': Node(a19.h4, in_graph: False),\n",
       " 'a19.h5': Node(a19.h5, in_graph: False),\n",
       " 'a19.h6': Node(a19.h6, in_graph: False),\n",
       " 'a19.h7': Node(a19.h7, in_graph: False),\n",
       " 'a19.h8': Node(a19.h8, in_graph: True),\n",
       " 'a19.h9': Node(a19.h9, in_graph: False),\n",
       " 'a19.h10': Node(a19.h10, in_graph: False),\n",
       " 'a19.h11': Node(a19.h11, in_graph: False),\n",
       " 'a19.h12': Node(a19.h12, in_graph: True),\n",
       " 'a19.h13': Node(a19.h13, in_graph: False),\n",
       " 'a19.h14': Node(a19.h14, in_graph: False),\n",
       " 'a19.h15': Node(a19.h15, in_graph: True),\n",
       " 'm19': Node(m19, in_graph: True),\n",
       " 'a20.h0': Node(a20.h0, in_graph: False),\n",
       " 'a20.h1': Node(a20.h1, in_graph: False),\n",
       " 'a20.h2': Node(a20.h2, in_graph: True),\n",
       " 'a20.h3': Node(a20.h3, in_graph: False),\n",
       " 'a20.h4': Node(a20.h4, in_graph: True),\n",
       " 'a20.h5': Node(a20.h5, in_graph: False),\n",
       " 'a20.h6': Node(a20.h6, in_graph: False),\n",
       " 'a20.h7': Node(a20.h7, in_graph: True),\n",
       " 'a20.h8': Node(a20.h8, in_graph: True),\n",
       " 'a20.h9': Node(a20.h9, in_graph: True),\n",
       " 'a20.h10': Node(a20.h10, in_graph: False),\n",
       " 'a20.h11': Node(a20.h11, in_graph: False),\n",
       " 'a20.h12': Node(a20.h12, in_graph: False),\n",
       " 'a20.h13': Node(a20.h13, in_graph: False),\n",
       " 'a20.h14': Node(a20.h14, in_graph: False),\n",
       " 'a20.h15': Node(a20.h15, in_graph: False),\n",
       " 'm20': Node(m20, in_graph: True),\n",
       " 'a21.h0': Node(a21.h0, in_graph: False),\n",
       " 'a21.h1': Node(a21.h1, in_graph: False),\n",
       " 'a21.h2': Node(a21.h2, in_graph: False),\n",
       " 'a21.h3': Node(a21.h3, in_graph: True),\n",
       " 'a21.h4': Node(a21.h4, in_graph: True),\n",
       " 'a21.h5': Node(a21.h5, in_graph: False),\n",
       " 'a21.h6': Node(a21.h6, in_graph: False),\n",
       " 'a21.h7': Node(a21.h7, in_graph: False),\n",
       " 'a21.h8': Node(a21.h8, in_graph: False),\n",
       " 'a21.h9': Node(a21.h9, in_graph: False),\n",
       " 'a21.h10': Node(a21.h10, in_graph: False),\n",
       " 'a21.h11': Node(a21.h11, in_graph: False),\n",
       " 'a21.h12': Node(a21.h12, in_graph: False),\n",
       " 'a21.h13': Node(a21.h13, in_graph: True),\n",
       " 'a21.h14': Node(a21.h14, in_graph: False),\n",
       " 'a21.h15': Node(a21.h15, in_graph: False),\n",
       " 'm21': Node(m21, in_graph: True),\n",
       " 'a22.h0': Node(a22.h0, in_graph: True),\n",
       " 'a22.h1': Node(a22.h1, in_graph: False),\n",
       " 'a22.h2': Node(a22.h2, in_graph: False),\n",
       " 'a22.h3': Node(a22.h3, in_graph: False),\n",
       " 'a22.h4': Node(a22.h4, in_graph: False),\n",
       " 'a22.h5': Node(a22.h5, in_graph: False),\n",
       " 'a22.h6': Node(a22.h6, in_graph: False),\n",
       " 'a22.h7': Node(a22.h7, in_graph: False),\n",
       " 'a22.h8': Node(a22.h8, in_graph: False),\n",
       " 'a22.h9': Node(a22.h9, in_graph: False),\n",
       " 'a22.h10': Node(a22.h10, in_graph: True),\n",
       " 'a22.h11': Node(a22.h11, in_graph: False),\n",
       " 'a22.h12': Node(a22.h12, in_graph: True),\n",
       " 'a22.h13': Node(a22.h13, in_graph: True),\n",
       " 'a22.h14': Node(a22.h14, in_graph: False),\n",
       " 'a22.h15': Node(a22.h15, in_graph: False),\n",
       " 'm22': Node(m22, in_graph: True),\n",
       " 'a23.h0': Node(a23.h0, in_graph: False),\n",
       " 'a23.h1': Node(a23.h1, in_graph: False),\n",
       " 'a23.h2': Node(a23.h2, in_graph: True),\n",
       " 'a23.h3': Node(a23.h3, in_graph: False),\n",
       " 'a23.h4': Node(a23.h4, in_graph: False),\n",
       " 'a23.h5': Node(a23.h5, in_graph: True),\n",
       " 'a23.h6': Node(a23.h6, in_graph: False),\n",
       " 'a23.h7': Node(a23.h7, in_graph: False),\n",
       " 'a23.h8': Node(a23.h8, in_graph: True),\n",
       " 'a23.h9': Node(a23.h9, in_graph: False),\n",
       " 'a23.h10': Node(a23.h10, in_graph: False),\n",
       " 'a23.h11': Node(a23.h11, in_graph: False),\n",
       " 'a23.h12': Node(a23.h12, in_graph: False),\n",
       " 'a23.h13': Node(a23.h13, in_graph: True),\n",
       " 'a23.h14': Node(a23.h14, in_graph: True),\n",
       " 'a23.h15': Node(a23.h15, in_graph: False),\n",
       " 'm23': Node(m23, in_graph: True),\n",
       " 'logits': Node(logits, in_graph: True)}"
      ]
     },
     "execution_count": 15,
     "metadata": {},
     "output_type": "execute_result"
    }
   ],
   "source": [
    "total_edges = len(g.edges)\n",
    "five_percent_edges = int(total_edges * 0.05)\n",
    "g.apply_topn(five_percent_edges , absolute=True)\n",
    "g.to_json('graph.json')\n",
    "g.edges"
   ]
  },
  {
   "cell_type": "code",
   "execution_count": 16,
   "id": "7fee2bf6",
   "metadata": {},
   "outputs": [
    {
     "name": "stderr",
     "output_type": "stream",
     "text": [
      "100%|██████████| 84/84 [00:31<00:00,  2.70it/s]\n",
      "  1%|          | 1/84 [00:00<00:55,  1.49it/s]"
     ]
    },
    {
     "name": "stdout",
     "output_type": "stream",
     "text": [
      "here\n"
     ]
    },
    {
     "name": "stderr",
     "output_type": "stream",
     "text": [
      "  2%|▏         | 2/84 [00:01<00:55,  1.48it/s]"
     ]
    },
    {
     "name": "stdout",
     "output_type": "stream",
     "text": [
      "here\n"
     ]
    },
    {
     "name": "stderr",
     "output_type": "stream",
     "text": [
      "  4%|▎         | 3/84 [00:02<00:54,  1.49it/s]"
     ]
    },
    {
     "name": "stdout",
     "output_type": "stream",
     "text": [
      "here\n"
     ]
    },
    {
     "name": "stderr",
     "output_type": "stream",
     "text": [
      "  5%|▍         | 4/84 [00:02<00:53,  1.50it/s]"
     ]
    },
    {
     "name": "stdout",
     "output_type": "stream",
     "text": [
      "here\n"
     ]
    },
    {
     "name": "stderr",
     "output_type": "stream",
     "text": [
      "  6%|▌         | 5/84 [00:03<00:52,  1.49it/s]"
     ]
    },
    {
     "name": "stdout",
     "output_type": "stream",
     "text": [
      "here\n"
     ]
    },
    {
     "name": "stderr",
     "output_type": "stream",
     "text": [
      "  7%|▋         | 6/84 [00:04<00:52,  1.50it/s]"
     ]
    },
    {
     "name": "stdout",
     "output_type": "stream",
     "text": [
      "here\n"
     ]
    },
    {
     "name": "stderr",
     "output_type": "stream",
     "text": [
      "  8%|▊         | 7/84 [00:04<00:51,  1.50it/s]"
     ]
    },
    {
     "name": "stdout",
     "output_type": "stream",
     "text": [
      "here\n"
     ]
    },
    {
     "name": "stderr",
     "output_type": "stream",
     "text": [
      " 10%|▉         | 8/84 [00:05<00:50,  1.50it/s]"
     ]
    },
    {
     "name": "stdout",
     "output_type": "stream",
     "text": [
      "here\n"
     ]
    },
    {
     "name": "stderr",
     "output_type": "stream",
     "text": [
      " 11%|█         | 9/84 [00:06<00:50,  1.49it/s]"
     ]
    },
    {
     "name": "stdout",
     "output_type": "stream",
     "text": [
      "here\n"
     ]
    },
    {
     "name": "stderr",
     "output_type": "stream",
     "text": [
      " 12%|█▏        | 10/84 [00:06<00:49,  1.49it/s]"
     ]
    },
    {
     "name": "stdout",
     "output_type": "stream",
     "text": [
      "here\n"
     ]
    },
    {
     "name": "stderr",
     "output_type": "stream",
     "text": [
      " 13%|█▎        | 11/84 [00:07<00:48,  1.50it/s]"
     ]
    },
    {
     "name": "stdout",
     "output_type": "stream",
     "text": [
      "here\n"
     ]
    },
    {
     "name": "stderr",
     "output_type": "stream",
     "text": [
      " 14%|█▍        | 12/84 [00:08<00:48,  1.49it/s]"
     ]
    },
    {
     "name": "stdout",
     "output_type": "stream",
     "text": [
      "here\n"
     ]
    },
    {
     "name": "stderr",
     "output_type": "stream",
     "text": [
      " 15%|█▌        | 13/84 [00:08<00:47,  1.49it/s]"
     ]
    },
    {
     "name": "stdout",
     "output_type": "stream",
     "text": [
      "here\n"
     ]
    },
    {
     "name": "stderr",
     "output_type": "stream",
     "text": [
      " 17%|█▋        | 14/84 [00:09<00:47,  1.49it/s]"
     ]
    },
    {
     "name": "stdout",
     "output_type": "stream",
     "text": [
      "here\n"
     ]
    },
    {
     "name": "stderr",
     "output_type": "stream",
     "text": [
      " 18%|█▊        | 15/84 [00:10<00:46,  1.50it/s]"
     ]
    },
    {
     "name": "stdout",
     "output_type": "stream",
     "text": [
      "here\n"
     ]
    },
    {
     "name": "stderr",
     "output_type": "stream",
     "text": [
      " 19%|█▉        | 16/84 [00:10<00:45,  1.49it/s]"
     ]
    },
    {
     "name": "stdout",
     "output_type": "stream",
     "text": [
      "here\n"
     ]
    },
    {
     "name": "stderr",
     "output_type": "stream",
     "text": [
      " 20%|██        | 17/84 [00:11<00:44,  1.49it/s]"
     ]
    },
    {
     "name": "stdout",
     "output_type": "stream",
     "text": [
      "here\n"
     ]
    },
    {
     "name": "stderr",
     "output_type": "stream",
     "text": [
      " 21%|██▏       | 18/84 [00:12<00:44,  1.50it/s]"
     ]
    },
    {
     "name": "stdout",
     "output_type": "stream",
     "text": [
      "here\n"
     ]
    },
    {
     "name": "stderr",
     "output_type": "stream",
     "text": [
      " 23%|██▎       | 19/84 [00:12<00:43,  1.49it/s]"
     ]
    },
    {
     "name": "stdout",
     "output_type": "stream",
     "text": [
      "here\n"
     ]
    },
    {
     "name": "stderr",
     "output_type": "stream",
     "text": [
      " 24%|██▍       | 20/84 [00:13<00:42,  1.50it/s]"
     ]
    },
    {
     "name": "stdout",
     "output_type": "stream",
     "text": [
      "here\n"
     ]
    },
    {
     "name": "stderr",
     "output_type": "stream",
     "text": [
      " 25%|██▌       | 21/84 [00:14<00:42,  1.49it/s]"
     ]
    },
    {
     "name": "stdout",
     "output_type": "stream",
     "text": [
      "here\n"
     ]
    },
    {
     "name": "stderr",
     "output_type": "stream",
     "text": [
      " 26%|██▌       | 22/84 [00:14<00:41,  1.50it/s]"
     ]
    },
    {
     "name": "stdout",
     "output_type": "stream",
     "text": [
      "here\n"
     ]
    },
    {
     "name": "stderr",
     "output_type": "stream",
     "text": [
      " 27%|██▋       | 23/84 [00:15<00:40,  1.49it/s]"
     ]
    },
    {
     "name": "stdout",
     "output_type": "stream",
     "text": [
      "here\n"
     ]
    },
    {
     "name": "stderr",
     "output_type": "stream",
     "text": [
      " 29%|██▊       | 24/84 [00:16<00:40,  1.49it/s]"
     ]
    },
    {
     "name": "stdout",
     "output_type": "stream",
     "text": [
      "here\n"
     ]
    },
    {
     "name": "stderr",
     "output_type": "stream",
     "text": [
      " 30%|██▉       | 25/84 [00:16<00:39,  1.50it/s]"
     ]
    },
    {
     "name": "stdout",
     "output_type": "stream",
     "text": [
      "here\n"
     ]
    },
    {
     "name": "stderr",
     "output_type": "stream",
     "text": [
      " 31%|███       | 26/84 [00:17<00:38,  1.50it/s]"
     ]
    },
    {
     "name": "stdout",
     "output_type": "stream",
     "text": [
      "here\n"
     ]
    },
    {
     "name": "stderr",
     "output_type": "stream",
     "text": [
      " 32%|███▏      | 27/84 [00:18<00:37,  1.51it/s]"
     ]
    },
    {
     "name": "stdout",
     "output_type": "stream",
     "text": [
      "here\n"
     ]
    },
    {
     "name": "stderr",
     "output_type": "stream",
     "text": [
      " 33%|███▎      | 28/84 [00:18<00:37,  1.50it/s]"
     ]
    },
    {
     "name": "stdout",
     "output_type": "stream",
     "text": [
      "here\n"
     ]
    },
    {
     "name": "stderr",
     "output_type": "stream",
     "text": [
      " 35%|███▍      | 29/84 [00:19<00:36,  1.50it/s]"
     ]
    },
    {
     "name": "stdout",
     "output_type": "stream",
     "text": [
      "here\n"
     ]
    },
    {
     "name": "stderr",
     "output_type": "stream",
     "text": [
      " 36%|███▌      | 30/84 [00:20<00:36,  1.49it/s]"
     ]
    },
    {
     "name": "stdout",
     "output_type": "stream",
     "text": [
      "here\n"
     ]
    },
    {
     "name": "stderr",
     "output_type": "stream",
     "text": [
      " 37%|███▋      | 31/84 [00:20<00:35,  1.50it/s]"
     ]
    },
    {
     "name": "stdout",
     "output_type": "stream",
     "text": [
      "here\n"
     ]
    },
    {
     "name": "stderr",
     "output_type": "stream",
     "text": [
      " 38%|███▊      | 32/84 [00:21<00:34,  1.51it/s]"
     ]
    },
    {
     "name": "stdout",
     "output_type": "stream",
     "text": [
      "here\n"
     ]
    },
    {
     "name": "stderr",
     "output_type": "stream",
     "text": [
      " 39%|███▉      | 33/84 [00:22<00:33,  1.50it/s]"
     ]
    },
    {
     "name": "stdout",
     "output_type": "stream",
     "text": [
      "here\n"
     ]
    },
    {
     "name": "stderr",
     "output_type": "stream",
     "text": [
      " 40%|████      | 34/84 [00:22<00:33,  1.50it/s]"
     ]
    },
    {
     "name": "stdout",
     "output_type": "stream",
     "text": [
      "here\n"
     ]
    },
    {
     "name": "stderr",
     "output_type": "stream",
     "text": [
      " 42%|████▏     | 35/84 [00:23<00:32,  1.50it/s]"
     ]
    },
    {
     "name": "stdout",
     "output_type": "stream",
     "text": [
      "here\n"
     ]
    },
    {
     "name": "stderr",
     "output_type": "stream",
     "text": [
      " 43%|████▎     | 36/84 [00:24<00:32,  1.50it/s]"
     ]
    },
    {
     "name": "stdout",
     "output_type": "stream",
     "text": [
      "here\n"
     ]
    },
    {
     "name": "stderr",
     "output_type": "stream",
     "text": [
      " 44%|████▍     | 37/84 [00:24<00:31,  1.49it/s]"
     ]
    },
    {
     "name": "stdout",
     "output_type": "stream",
     "text": [
      "here\n"
     ]
    },
    {
     "name": "stderr",
     "output_type": "stream",
     "text": [
      " 45%|████▌     | 38/84 [00:25<00:30,  1.49it/s]"
     ]
    },
    {
     "name": "stdout",
     "output_type": "stream",
     "text": [
      "here\n"
     ]
    },
    {
     "name": "stderr",
     "output_type": "stream",
     "text": [
      " 46%|████▋     | 39/84 [00:26<00:30,  1.50it/s]"
     ]
    },
    {
     "name": "stdout",
     "output_type": "stream",
     "text": [
      "here\n"
     ]
    },
    {
     "name": "stderr",
     "output_type": "stream",
     "text": [
      " 48%|████▊     | 40/84 [00:26<00:29,  1.49it/s]"
     ]
    },
    {
     "name": "stdout",
     "output_type": "stream",
     "text": [
      "here\n"
     ]
    },
    {
     "name": "stderr",
     "output_type": "stream",
     "text": [
      " 49%|████▉     | 41/84 [00:27<00:28,  1.49it/s]"
     ]
    },
    {
     "name": "stdout",
     "output_type": "stream",
     "text": [
      "here\n"
     ]
    },
    {
     "name": "stderr",
     "output_type": "stream",
     "text": [
      " 50%|█████     | 42/84 [00:28<00:28,  1.49it/s]"
     ]
    },
    {
     "name": "stdout",
     "output_type": "stream",
     "text": [
      "here\n"
     ]
    },
    {
     "name": "stderr",
     "output_type": "stream",
     "text": [
      " 51%|█████     | 43/84 [00:28<00:27,  1.50it/s]"
     ]
    },
    {
     "name": "stdout",
     "output_type": "stream",
     "text": [
      "here\n"
     ]
    },
    {
     "name": "stderr",
     "output_type": "stream",
     "text": [
      " 52%|█████▏    | 44/84 [00:29<00:26,  1.49it/s]"
     ]
    },
    {
     "name": "stdout",
     "output_type": "stream",
     "text": [
      "here\n"
     ]
    },
    {
     "name": "stderr",
     "output_type": "stream",
     "text": [
      " 54%|█████▎    | 45/84 [00:30<00:25,  1.50it/s]"
     ]
    },
    {
     "name": "stdout",
     "output_type": "stream",
     "text": [
      "here\n"
     ]
    },
    {
     "name": "stderr",
     "output_type": "stream",
     "text": [
      " 55%|█████▍    | 46/84 [00:30<00:25,  1.50it/s]"
     ]
    },
    {
     "name": "stdout",
     "output_type": "stream",
     "text": [
      "here\n"
     ]
    },
    {
     "name": "stderr",
     "output_type": "stream",
     "text": [
      " 56%|█████▌    | 47/84 [00:31<00:24,  1.49it/s]"
     ]
    },
    {
     "name": "stdout",
     "output_type": "stream",
     "text": [
      "here\n"
     ]
    },
    {
     "name": "stderr",
     "output_type": "stream",
     "text": [
      " 57%|█████▋    | 48/84 [00:32<00:24,  1.48it/s]"
     ]
    },
    {
     "name": "stdout",
     "output_type": "stream",
     "text": [
      "here\n"
     ]
    },
    {
     "name": "stderr",
     "output_type": "stream",
     "text": [
      " 58%|█████▊    | 49/84 [00:32<00:23,  1.48it/s]"
     ]
    },
    {
     "name": "stdout",
     "output_type": "stream",
     "text": [
      "here\n"
     ]
    },
    {
     "name": "stderr",
     "output_type": "stream",
     "text": [
      " 60%|█████▉    | 50/84 [00:33<00:22,  1.49it/s]"
     ]
    },
    {
     "name": "stdout",
     "output_type": "stream",
     "text": [
      "here\n"
     ]
    },
    {
     "name": "stderr",
     "output_type": "stream",
     "text": [
      " 61%|██████    | 51/84 [00:34<00:22,  1.49it/s]"
     ]
    },
    {
     "name": "stdout",
     "output_type": "stream",
     "text": [
      "here\n"
     ]
    },
    {
     "name": "stderr",
     "output_type": "stream",
     "text": [
      " 62%|██████▏   | 52/84 [00:34<00:21,  1.49it/s]"
     ]
    },
    {
     "name": "stdout",
     "output_type": "stream",
     "text": [
      "here\n"
     ]
    },
    {
     "name": "stderr",
     "output_type": "stream",
     "text": [
      " 63%|██████▎   | 53/84 [00:35<00:20,  1.50it/s]"
     ]
    },
    {
     "name": "stdout",
     "output_type": "stream",
     "text": [
      "here\n"
     ]
    },
    {
     "name": "stderr",
     "output_type": "stream",
     "text": [
      " 64%|██████▍   | 54/84 [00:36<00:20,  1.50it/s]"
     ]
    },
    {
     "name": "stdout",
     "output_type": "stream",
     "text": [
      "here\n"
     ]
    },
    {
     "name": "stderr",
     "output_type": "stream",
     "text": [
      " 65%|██████▌   | 55/84 [00:36<00:19,  1.50it/s]"
     ]
    },
    {
     "name": "stdout",
     "output_type": "stream",
     "text": [
      "here\n"
     ]
    },
    {
     "name": "stderr",
     "output_type": "stream",
     "text": [
      " 67%|██████▋   | 56/84 [00:37<00:18,  1.50it/s]"
     ]
    },
    {
     "name": "stdout",
     "output_type": "stream",
     "text": [
      "here\n"
     ]
    },
    {
     "name": "stderr",
     "output_type": "stream",
     "text": [
      " 68%|██████▊   | 57/84 [00:38<00:17,  1.50it/s]"
     ]
    },
    {
     "name": "stdout",
     "output_type": "stream",
     "text": [
      "here\n"
     ]
    },
    {
     "name": "stderr",
     "output_type": "stream",
     "text": [
      " 69%|██████▉   | 58/84 [00:38<00:17,  1.50it/s]"
     ]
    },
    {
     "name": "stdout",
     "output_type": "stream",
     "text": [
      "here\n"
     ]
    },
    {
     "name": "stderr",
     "output_type": "stream",
     "text": [
      " 70%|███████   | 59/84 [00:39<00:16,  1.51it/s]"
     ]
    },
    {
     "name": "stdout",
     "output_type": "stream",
     "text": [
      "here\n"
     ]
    },
    {
     "name": "stderr",
     "output_type": "stream",
     "text": [
      " 71%|███████▏  | 60/84 [00:40<00:15,  1.51it/s]"
     ]
    },
    {
     "name": "stdout",
     "output_type": "stream",
     "text": [
      "here\n"
     ]
    },
    {
     "name": "stderr",
     "output_type": "stream",
     "text": [
      " 73%|███████▎  | 61/84 [00:40<00:15,  1.49it/s]"
     ]
    },
    {
     "name": "stdout",
     "output_type": "stream",
     "text": [
      "here\n"
     ]
    },
    {
     "name": "stderr",
     "output_type": "stream",
     "text": [
      " 74%|███████▍  | 62/84 [00:41<00:14,  1.50it/s]"
     ]
    },
    {
     "name": "stdout",
     "output_type": "stream",
     "text": [
      "here\n"
     ]
    },
    {
     "name": "stderr",
     "output_type": "stream",
     "text": [
      " 75%|███████▌  | 63/84 [00:42<00:13,  1.50it/s]"
     ]
    },
    {
     "name": "stdout",
     "output_type": "stream",
     "text": [
      "here\n"
     ]
    },
    {
     "name": "stderr",
     "output_type": "stream",
     "text": [
      " 76%|███████▌  | 64/84 [00:42<00:13,  1.50it/s]"
     ]
    },
    {
     "name": "stdout",
     "output_type": "stream",
     "text": [
      "here\n"
     ]
    },
    {
     "name": "stderr",
     "output_type": "stream",
     "text": [
      " 77%|███████▋  | 65/84 [00:43<00:12,  1.50it/s]"
     ]
    },
    {
     "name": "stdout",
     "output_type": "stream",
     "text": [
      "here\n"
     ]
    },
    {
     "name": "stderr",
     "output_type": "stream",
     "text": [
      " 79%|███████▊  | 66/84 [00:44<00:11,  1.50it/s]"
     ]
    },
    {
     "name": "stdout",
     "output_type": "stream",
     "text": [
      "here\n"
     ]
    },
    {
     "name": "stderr",
     "output_type": "stream",
     "text": [
      " 80%|███████▉  | 67/84 [00:44<00:11,  1.51it/s]"
     ]
    },
    {
     "name": "stdout",
     "output_type": "stream",
     "text": [
      "here\n"
     ]
    },
    {
     "name": "stderr",
     "output_type": "stream",
     "text": [
      " 81%|████████  | 68/84 [00:45<00:10,  1.50it/s]"
     ]
    },
    {
     "name": "stdout",
     "output_type": "stream",
     "text": [
      "here\n"
     ]
    },
    {
     "name": "stderr",
     "output_type": "stream",
     "text": [
      " 82%|████████▏ | 69/84 [00:46<00:09,  1.50it/s]"
     ]
    },
    {
     "name": "stdout",
     "output_type": "stream",
     "text": [
      "here\n"
     ]
    },
    {
     "name": "stderr",
     "output_type": "stream",
     "text": [
      " 83%|████████▎ | 70/84 [00:46<00:09,  1.50it/s]"
     ]
    },
    {
     "name": "stdout",
     "output_type": "stream",
     "text": [
      "here\n"
     ]
    },
    {
     "name": "stderr",
     "output_type": "stream",
     "text": [
      " 85%|████████▍ | 71/84 [00:47<00:08,  1.50it/s]"
     ]
    },
    {
     "name": "stdout",
     "output_type": "stream",
     "text": [
      "here\n"
     ]
    },
    {
     "name": "stderr",
     "output_type": "stream",
     "text": [
      " 86%|████████▌ | 72/84 [00:48<00:07,  1.50it/s]"
     ]
    },
    {
     "name": "stdout",
     "output_type": "stream",
     "text": [
      "here\n"
     ]
    },
    {
     "name": "stderr",
     "output_type": "stream",
     "text": [
      " 87%|████████▋ | 73/84 [00:48<00:07,  1.50it/s]"
     ]
    },
    {
     "name": "stdout",
     "output_type": "stream",
     "text": [
      "here\n"
     ]
    },
    {
     "name": "stderr",
     "output_type": "stream",
     "text": [
      " 88%|████████▊ | 74/84 [00:49<00:06,  1.50it/s]"
     ]
    },
    {
     "name": "stdout",
     "output_type": "stream",
     "text": [
      "here\n"
     ]
    },
    {
     "name": "stderr",
     "output_type": "stream",
     "text": [
      " 89%|████████▉ | 75/84 [00:50<00:05,  1.51it/s]"
     ]
    },
    {
     "name": "stdout",
     "output_type": "stream",
     "text": [
      "here\n"
     ]
    },
    {
     "name": "stderr",
     "output_type": "stream",
     "text": [
      " 90%|█████████ | 76/84 [00:50<00:05,  1.50it/s]"
     ]
    },
    {
     "name": "stdout",
     "output_type": "stream",
     "text": [
      "here\n"
     ]
    },
    {
     "name": "stderr",
     "output_type": "stream",
     "text": [
      " 92%|█████████▏| 77/84 [00:51<00:04,  1.50it/s]"
     ]
    },
    {
     "name": "stdout",
     "output_type": "stream",
     "text": [
      "here\n"
     ]
    },
    {
     "name": "stderr",
     "output_type": "stream",
     "text": [
      " 93%|█████████▎| 78/84 [00:52<00:03,  1.50it/s]"
     ]
    },
    {
     "name": "stdout",
     "output_type": "stream",
     "text": [
      "here\n"
     ]
    },
    {
     "name": "stderr",
     "output_type": "stream",
     "text": [
      " 94%|█████████▍| 79/84 [00:52<00:03,  1.51it/s]"
     ]
    },
    {
     "name": "stdout",
     "output_type": "stream",
     "text": [
      "here\n"
     ]
    },
    {
     "name": "stderr",
     "output_type": "stream",
     "text": [
      " 95%|█████████▌| 80/84 [00:53<00:02,  1.51it/s]"
     ]
    },
    {
     "name": "stdout",
     "output_type": "stream",
     "text": [
      "here\n"
     ]
    },
    {
     "name": "stderr",
     "output_type": "stream",
     "text": [
      " 96%|█████████▋| 81/84 [00:54<00:02,  1.50it/s]"
     ]
    },
    {
     "name": "stdout",
     "output_type": "stream",
     "text": [
      "here\n"
     ]
    },
    {
     "name": "stderr",
     "output_type": "stream",
     "text": [
      " 98%|█████████▊| 82/84 [00:54<00:01,  1.49it/s]"
     ]
    },
    {
     "name": "stdout",
     "output_type": "stream",
     "text": [
      "here\n"
     ]
    },
    {
     "name": "stderr",
     "output_type": "stream",
     "text": [
      " 99%|█████████▉| 83/84 [00:55<00:00,  1.49it/s]"
     ]
    },
    {
     "name": "stdout",
     "output_type": "stream",
     "text": [
      "here\n"
     ]
    },
    {
     "name": "stderr",
     "output_type": "stream",
     "text": [
      "100%|██████████| 84/84 [00:55<00:00,  1.51it/s]"
     ]
    },
    {
     "name": "stdout",
     "output_type": "stream",
     "text": [
      "here\n",
      "Baseline performance: 0.0003850016219075769\n",
      "Circuit performance: 0.00032297518919222057\n",
      "Faithfulness: 6.202643271535635e-05\n",
      "Percentage of model performance achieved by the circuit: 83.89%\n"
     ]
    },
    {
     "name": "stderr",
     "output_type": "stream",
     "text": [
      "\n"
     ]
    }
   ],
   "source": [
    "def calculate_faithfulness(model, g, dataloader, metric_fn):\n",
    "    baseline_performance = evaluate_baseline(model, dataloader, metric_fn).mean().item()\n",
    "    circuit_performance = evaluate_graph(model, g, dataloader, metric_fn,skip_clean=False).mean().item()\n",
    "    faithfulness = abs(baseline_performance - circuit_performance)\n",
    "    percentage_performance = (1 - faithfulness / baseline_performance) * 100\n",
    "\n",
    "    print(f\"Baseline performance: {baseline_performance}\")\n",
    "    print(f\"Circuit performance: {circuit_performance}\")\n",
    "    print(f\"Faithfulness: {faithfulness}\")\n",
    "    print(f\"Percentage of model performance achieved by the circuit: {percentage_performance:.2f}%\")\n",
    "\n",
    "    return faithfulness, percentage_performance\n",
    "\n",
    "metric_fn = partial(kl_divergence, loss=False, mean=False)\n",
    "faithfulness, percentage_performance = calculate_faithfulness(model, g, dataloader, metric_fn)"
   ]
  }
 ],
 "metadata": {
  "kernelspec": {
   "display_name": ".venv",
   "language": "python",
   "name": "python3"
  },
  "language_info": {
   "codemirror_mode": {
    "name": "ipython",
    "version": 3
   },
   "file_extension": ".py",
   "mimetype": "text/x-python",
   "name": "python",
   "nbconvert_exporter": "python",
   "pygments_lexer": "ipython3",
   "version": "3.12.3"
  }
 },
 "nbformat": 4,
 "nbformat_minor": 5
}
