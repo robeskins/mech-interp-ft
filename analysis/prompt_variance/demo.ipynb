{
 "cells": [
  {
   "cell_type": "code",
   "execution_count": 1,
   "id": "9fb67293",
   "metadata": {},
   "outputs": [],
   "source": [
    "import os\n",
    "os.environ[\"CUDA_VISIBLE_DEVICES\"] = \"2\""
   ]
  },
  {
   "cell_type": "code",
   "execution_count": 2,
   "id": "424feffc",
   "metadata": {},
   "outputs": [],
   "source": [
    "from functools import partial\n",
    "\n",
    "import pandas as pd\n",
    "import torch\n",
    "from torch.utils.data import Dataset, DataLoader\n",
    "from transformers import PreTrainedTokenizer, AutoTokenizer\n",
    "from transformer_lens import HookedTransformer\n",
    "import torch.nn.functional as F"
   ]
  },
  {
   "cell_type": "code",
   "execution_count": 3,
   "id": "430f02c2",
   "metadata": {},
   "outputs": [],
   "source": [
    "from eap.graph import Graph\n",
    "from eap.evaluate import evaluate_graph, evaluate_baseline, evaluate_cross_graph\n",
    "from eap.attribute import attribute "
   ]
  },
  {
   "cell_type": "code",
   "execution_count": 4,
   "id": "0d72ff1e",
   "metadata": {},
   "outputs": [],
   "source": [
    "from transformers import AutoModelForCausalLM, AutoTokenizer\n",
    "from peft import PeftModel\n",
    "\n",
    "def load_model(adapter_path, hf_model_name, translens_model_name, scratch_cache_dir = None):\n",
    "    base_model = AutoModelForCausalLM.from_pretrained(hf_model_name, cache_dir=scratch_cache_dir)\n",
    "    model_with_lora = PeftModel.from_pretrained(base_model, adapter_path)\n",
    "    model_with_lora = model_with_lora.merge_and_unload()\n",
    "    model = HookedTransformer.from_pretrained(model_name=translens_model_name, hf_model=model_with_lora, cache_dir=scratch_cache_dir)  \n",
    "\n",
    "    model.cfg.use_split_qkv_input = True\n",
    "    model.cfg.use_attn_result = True\n",
    "    model.cfg.use_hook_mlp_in = True\n",
    "    model.cfg.ungroup_grouped_query_attention = True\n",
    "    return model"
   ]
  },
  {
   "cell_type": "code",
   "execution_count": 5,
   "id": "9e243c58",
   "metadata": {},
   "outputs": [],
   "source": [
    "def collate_EAP(xs):\n",
    "    clean, corrupted, labels = zip(*xs)\n",
    "    clean = list(clean)\n",
    "    corrupted = list(corrupted)\n",
    "    return clean, corrupted, labels\n",
    "\n",
    "class EAPDataset(Dataset):\n",
    "    def __init__(self, filepath):\n",
    "        self.df = pd.read_csv(filepath)\n",
    "\n",
    "    def __len__(self):\n",
    "        return len(self.df)\n",
    "    \n",
    "    def shuffle(self):\n",
    "        self.df = self.df.sample(frac=1)\n",
    "\n",
    "    def head(self, n: int):\n",
    "        self.df = self.df.head(n)\n",
    "    \n",
    "    def __getitem__(self, index):\n",
    "        row = self.df.iloc[index]\n",
    "        return row['clean'], row['corrupted'], row['answer']\n",
    "    \n",
    "    def to_dataloader(self, batch_size: int):\n",
    "        return DataLoader(self, batch_size=batch_size, collate_fn=collate_EAP)\n",
    "    \n",
    "def get_logit_positions(logits: torch.Tensor, input_length: torch.Tensor):\n",
    "    batch_size = logits.size(0)\n",
    "    idx = torch.arange(batch_size, device=logits.device)\n",
    "\n",
    "    logits = logits[idx, input_length - 1]\n",
    "    return logits\n",
    "\n",
    "def kl_divergence(logits: torch.Tensor, clean_logits: torch.Tensor, input_length: torch.Tensor, labels: torch.Tensor, mean=True, loss=True):\n",
    "    logits = get_logit_positions(logits, input_length)\n",
    "    clean_logits = get_logit_positions(clean_logits, input_length)\n",
    "\n",
    "    probs = torch.softmax(logits, dim=-1)\n",
    "    clean_probs = torch.softmax(clean_logits, dim=-1)\n",
    "    results = F.kl_div(probs.log(), clean_probs.log(), log_target=True, reduction='none').mean(-1)\n",
    "    return results.mean() if mean else results"
   ]
  },
  {
   "cell_type": "code",
   "execution_count": 6,
   "id": "d3e2e08e",
   "metadata": {},
   "outputs": [
    {
     "name": "stdout",
     "output_type": "stream",
     "text": [
      "Loaded pretrained model pythia-1.4B-deduped into HookedTransformer\n"
     ]
    }
   ],
   "source": [
    "scratch_cache_dir = \"/mnt/faster0/rje41/.cache/huggingface\"    \n",
    "hf_model_name = \"EleutherAI/pythia-1.4B-deduped\"\n",
    "translens_model_name=\"pythia-1.4B-deduped\"\n",
    "adapter_path = \"../../old-fine-tunng/add_sub_nlp/checkpoints/prompt_template_prompt_template_0/checkpoint-500\"\n",
    "model = load_model(\n",
    "        adapter_path=adapter_path,\n",
    "        hf_model_name=hf_model_name,\n",
    "        translens_model_name=translens_model_name,\n",
    "        scratch_cache_dir=scratch_cache_dir,\n",
    "    )\n"
   ]
  },
  {
   "cell_type": "code",
   "execution_count": 10,
   "id": "141a9004",
   "metadata": {},
   "outputs": [],
   "source": [
    "ds = EAPDataset('../../old-fine-tunng/add_sub_nlp/datasets_csv/prompts_id_1/test.csv')\n",
    "dataloader = ds.to_dataloader(6)"
   ]
  },
  {
   "cell_type": "code",
   "execution_count": 11,
   "id": "6e343879",
   "metadata": {},
   "outputs": [
    {
     "name": "stderr",
     "output_type": "stream",
     "text": [
      "100%|██████████| 84/84 [05:09<00:00,  3.68s/it]\n"
     ]
    }
   ],
   "source": [
    "g = Graph.from_model(model)\n",
    "attribute(model, g, dataloader, partial(kl_divergence, loss=True, mean=True), method='EAP-IG-inputs', ig_steps=5)\n",
    "\n",
    "total_edges = len(g.edges)\n",
    "\n",
    "five_percent_edges = int(total_edges * 0.05)\n",
    "g.apply_topn(five_percent_edges , absolute=True, prune=True)"
   ]
  },
  {
   "cell_type": "code",
   "execution_count": 12,
   "id": "094debe2",
   "metadata": {},
   "outputs": [],
   "source": [
    "g.to_json('graph_1.json')"
   ]
  },
  {
   "cell_type": "code",
   "execution_count": 7,
   "id": "046073fb",
   "metadata": {},
   "outputs": [],
   "source": [
    "def calculate_faithfulness(model, g, dataloader, metric_fn):\n",
    "    baseline_performance = evaluate_baseline(model, dataloader, metric_fn).mean().item()\n",
    "    circuit_performance = evaluate_graph(model, g, dataloader, metric_fn,skip_clean=False).mean().item()\n",
    "    faithfulness = abs(baseline_performance - circuit_performance)\n",
    "    percentage_performance = (1 - faithfulness / baseline_performance) * 100\n",
    "\n",
    "    print(f\"Baseline performance: {baseline_performance}\")\n",
    "    print(f\"Circuit performance: {circuit_performance}\")\n",
    "    print(f\"Faithfulness: {faithfulness}\")\n",
    "    print(f\"Percentage of model performance achieved by the circuit: {percentage_performance:.2f}%\")\n",
    "\n",
    "    return baseline_performance, circuit_performance, faithfulness, percentage_performance"
   ]
  },
  {
   "cell_type": "code",
   "execution_count": 8,
   "id": "4f1913b8",
   "metadata": {},
   "outputs": [],
   "source": [
    "def exact_match_accuracy(model, logits, corrupted_logits, input_lengths, labels):\n",
    "    batch_size = logits.size(0)\n",
    "    device = logits.device\n",
    "    positions = input_lengths - 1\n",
    "\n",
    "    last_logits = logits[torch.arange(batch_size), positions, :]\n",
    "    predicted_tokens = last_logits.argmax(dim=-1)\n",
    "    predicted_strings = [model.to_string(token.item()).strip() for token in predicted_tokens]\n",
    "\n",
    "    labels_strings = []\n",
    "    for i in range(batch_size):\n",
    "        lab = labels[i]\n",
    "        if isinstance(lab, torch.Tensor):\n",
    "            lab = lab.item()\n",
    "        labels_strings.append(str(lab).strip())\n",
    "\n",
    "    correct = []\n",
    "    for pred_str, label_str in zip(predicted_strings, labels_strings):\n",
    "        # print(f'Pred_str: {pred_str}, label_str: {label_str}')\n",
    "        if pred_str == label_str:\n",
    "            correct.append(1.0)\n",
    "        else:\n",
    "            correct.append(0.0)\n",
    "\n",
    "    return torch.tensor(correct, device=device)\n",
    "\n",
    "def calculate_accuracy(model, g, dataloader):\n",
    "    baseline_accuracy = evaluate_baseline(model, dataloader, partial(exact_match_accuracy, model)).mean().item()\n",
    "    graph_accuracy = evaluate_graph(model, g, dataloader, partial(exact_match_accuracy, model)).mean().item()   \n",
    "    print(f\"Baseline Accuracy:{baseline_accuracy}, Graph accuracy: {graph_accuracy}\")\n",
    "    return baseline_accuracy, graph_accuracy"
   ]
  },
  {
   "cell_type": "code",
   "execution_count": 9,
   "id": "2d2735db",
   "metadata": {},
   "outputs": [],
   "source": [
    "g_0 = Graph.from_json('graph_0.json')\n",
    "g_1 = Graph.from_json('graph_1.json')"
   ]
  },
  {
   "cell_type": "code",
   "execution_count": 11,
   "id": "8db122ae",
   "metadata": {},
   "outputs": [
    {
     "name": "stdout",
     "output_type": "stream",
     "text": [
      "Model_0, graph_0\n"
     ]
    },
    {
     "name": "stderr",
     "output_type": "stream",
     "text": [
      "100%|██████████| 84/84 [00:29<00:00,  2.83it/s]\n",
      "100%|██████████| 84/84 [00:52<00:00,  1.61it/s]\n"
     ]
    },
    {
     "name": "stdout",
     "output_type": "stream",
     "text": [
      "Baseline performance: 0.0004537882923614234\n",
      "Circuit performance: 0.0004316279955673963\n",
      "Faithfulness: 2.216029679402709e-05\n",
      "Percentage of model performance achieved by the circuit: 95.12%\n",
      "Model_0, graph_1\n"
     ]
    },
    {
     "name": "stderr",
     "output_type": "stream",
     "text": [
      "100%|██████████| 84/84 [00:26<00:00,  3.12it/s]\n",
      "100%|██████████| 84/84 [00:47<00:00,  1.79it/s]"
     ]
    },
    {
     "name": "stdout",
     "output_type": "stream",
     "text": [
      "Baseline performance: 0.0004504795651882887\n",
      "Circuit performance: 0.00042767083505168557\n",
      "Faithfulness: 2.2808730136603117e-05\n",
      "Percentage of model performance achieved by the circuit: 94.94%\n"
     ]
    },
    {
     "name": "stderr",
     "output_type": "stream",
     "text": [
      "\n"
     ]
    }
   ],
   "source": [
    "ds = EAPDataset('../../old-fine-tunng/add_sub_nlp/datasets_csv/prompts_id_0/test.csv')\n",
    "dataloader = ds.to_dataloader(6)\n",
    "\n",
    "print('Model_0, graph_0')\n",
    "accuracy_mod0_g0 = calculate_faithfulness(model, g_0, dataloader,partial(kl_divergence, loss=False, mean=False))\n",
    "\n",
    "ds = EAPDataset('../../old-fine-tunng/add_sub_nlp/datasets_csv/prompts_id_1/test.csv')\n",
    "dataloader = ds.to_dataloader(6)\n",
    "\n",
    "print('Model_0, graph_1')\n",
    "accuracy_mod0_g0 = calculate_faithfulness(model, g_1, dataloader,partial(kl_divergence, loss=False, mean=False))"
   ]
  },
  {
   "cell_type": "code",
   "execution_count": 12,
   "id": "bc275dbf",
   "metadata": {},
   "outputs": [
    {
     "name": "stdout",
     "output_type": "stream",
     "text": [
      "Model_0, graph_0\n"
     ]
    },
    {
     "name": "stderr",
     "output_type": "stream",
     "text": [
      "100%|██████████| 84/84 [00:29<00:00,  2.88it/s]\n",
      "100%|██████████| 84/84 [00:38<00:00,  2.18it/s]\n"
     ]
    },
    {
     "name": "stdout",
     "output_type": "stream",
     "text": [
      "Baseline Accuracy:0.9599999785423279, Graph accuracy: 0.906000018119812\n",
      "Model_0, graph_1\n"
     ]
    },
    {
     "name": "stderr",
     "output_type": "stream",
     "text": [
      "100%|██████████| 84/84 [00:26<00:00,  3.13it/s]\n",
      "100%|██████████| 84/84 [00:34<00:00,  2.43it/s]"
     ]
    },
    {
     "name": "stdout",
     "output_type": "stream",
     "text": [
      "Baseline Accuracy:0.949999988079071, Graph accuracy: 0.8339999914169312\n"
     ]
    },
    {
     "name": "stderr",
     "output_type": "stream",
     "text": [
      "\n"
     ]
    }
   ],
   "source": [
    "ds = EAPDataset('../../old-fine-tunng/add_sub_nlp/datasets_csv/prompts_id_0/test.csv')\n",
    "dataloader = ds.to_dataloader(6)\n",
    "\n",
    "print('Model_0, graph_0')\n",
    "accuracy_mod0_g0 = calculate_accuracy(model, g_0, dataloader)\n",
    "\n",
    "ds = EAPDataset('../../old-fine-tunng/add_sub_nlp/datasets_csv/prompts_id_1/test.csv')\n",
    "dataloader = ds.to_dataloader(6)\n",
    "\n",
    "print('Model_0, graph_1')\n",
    "accuracy_mod0_g0 = calculate_accuracy(model, g_1, dataloader)"
   ]
  },
  {
   "cell_type": "code",
   "execution_count": 13,
   "id": "d418f1d7",
   "metadata": {},
   "outputs": [
    {
     "name": "stdout",
     "output_type": "stream",
     "text": [
      "Model_0, graph_1\n"
     ]
    },
    {
     "name": "stderr",
     "output_type": "stream",
     "text": [
      "100%|██████████| 84/84 [00:29<00:00,  2.87it/s]\n",
      "100%|██████████| 84/84 [00:38<00:00,  2.19it/s]"
     ]
    },
    {
     "name": "stdout",
     "output_type": "stream",
     "text": [
      "Baseline Accuracy:0.9599999785423279, Graph accuracy: 0.8600000143051147\n"
     ]
    },
    {
     "name": "stderr",
     "output_type": "stream",
     "text": [
      "\n"
     ]
    }
   ],
   "source": [
    "ds = EAPDataset('../../old-fine-tunng/add_sub_nlp/datasets_csv/prompts_id_0/test.csv')\n",
    "dataloader = ds.to_dataloader(6)\n",
    "print('Model_0, graph_1')\n",
    "accuracy_mod0_g0 = calculate_accuracy(model, g_1, dataloader)"
   ]
  },
  {
   "cell_type": "code",
   "execution_count": 14,
   "id": "75fc8559",
   "metadata": {},
   "outputs": [
    {
     "name": "stdout",
     "output_type": "stream",
     "text": [
      "Model_0, graph_0\n"
     ]
    },
    {
     "name": "stderr",
     "output_type": "stream",
     "text": [
      "100%|██████████| 84/84 [00:26<00:00,  3.19it/s]\n",
      "100%|██████████| 84/84 [00:35<00:00,  2.34it/s]"
     ]
    },
    {
     "name": "stdout",
     "output_type": "stream",
     "text": [
      "Baseline Accuracy:0.949999988079071, Graph accuracy: 0.8679999709129333\n"
     ]
    },
    {
     "name": "stderr",
     "output_type": "stream",
     "text": [
      "\n"
     ]
    }
   ],
   "source": [
    "ds = EAPDataset('../../old-fine-tunng/add_sub_nlp/datasets_csv/prompts_id_1/test.csv')\n",
    "dataloader = ds.to_dataloader(6)\n",
    "print('Model_0, graph_0')\n",
    "accuracy_mod0_g0 = calculate_accuracy(model, g_0, dataloader)"
   ]
  },
  {
   "cell_type": "code",
   "execution_count": 15,
   "id": "a8c1ef29",
   "metadata": {},
   "outputs": [],
   "source": [
    "g_0 = Graph.from_json('graph_0.json')\n",
    "g_1 = Graph.from_json('graph_1.json')"
   ]
  },
  {
   "cell_type": "code",
   "execution_count": 21,
   "id": "2953ce51",
   "metadata": {},
   "outputs": [],
   "source": [
    "import networkx as nx\n",
    "import json\n",
    "def create_graphs():\n",
    "    def create_graph(file_path):\n",
    "        with open(file_path) as f:\n",
    "            data = json.load(f) \n",
    "\n",
    "        G = nx.DiGraph()   \n",
    "\n",
    "        for node, attrs in data[\"nodes\"].items():\n",
    "            G.add_node(node, **attrs)  \n",
    "\n",
    "        for edge_str, attrs in data[\"edges\"].items():\n",
    "            if \"->\" in edge_str:\n",
    "                src, tgt = edge_str.split(\"->\", 1)\n",
    "                G.add_edge(src, tgt, weight=attrs.get('score', 0.0), **attrs)\n",
    "            else:\n",
    "                print(f\"Warning: skipped malformed edge key: {edge_str}\")\n",
    "        return G\n",
    "\n",
    "    G0 = create_graph(f\"/homes/rje41/mech-interp-ft/analysis/prompt_variance/graph_0.json\")\n",
    "    G1 = create_graph(f\"/homes/rje41/mech-interp-ft/analysis/prompt_variance/graph_1.json\")\n",
    "\n",
    "    graphs = [\n",
    "    ('G0', G0),\n",
    "    ('G1', G1),\n",
    "    ]\n",
    "    return graphs"
   ]
  },
  {
   "cell_type": "code",
   "execution_count": 23,
   "id": "488d391e",
   "metadata": {},
   "outputs": [],
   "source": [
    "import json\n",
    "import networkx as nx\n",
    "import itertools\n",
    "import numpy as np\n",
    "import matplotlib.pyplot as plt\n",
    "import seaborn as sns\n",
    "import random\n",
    "from pathlib import Path"
   ]
  },
  {
   "cell_type": "code",
   "execution_count": 24,
   "id": "661b86ab",
   "metadata": {},
   "outputs": [],
   "source": [
    "def topk_edges(G, k=None):\n",
    "    if k is None:\n",
    "        return {\n",
    "            (u, v) for u, v, data in G.edges(data=True)\n",
    "            if data.get('in_graph', False) is True\n",
    "        }\n",
    "    else:\n",
    "        sorted_edges = sorted(\n",
    "            G.edges(data=True),\n",
    "            key=lambda e: abs(e[2].get('score', 0.0)),\n",
    "            reverse=True\n",
    "        )\n",
    "        return {(u, v) for u, v, _ in sorted_edges[:k]}\n",
    "    \n",
    "\n",
    "def top_percentile_edges(G, percentile=95):\n",
    "    scores = [\n",
    "        abs(data.get('score', 0.0))\n",
    "        for _, _, data in G.edges(data=True)\n",
    "    ]\n",
    "    \n",
    "    if not scores:\n",
    "        return set()\n",
    "\n",
    "    threshold = np.percentile(scores, percentile)\n",
    "\n",
    "    # Filter edges based on the threshold\n",
    "    return {\n",
    "        (u, v)\n",
    "        for u, v, data in G.edges(data=True)\n",
    "        if abs(data.get('score', 0.0)) >= threshold\n",
    "    }\n",
    "    \n",
    "def topk_nodes(G, k=None):\n",
    "    #TODO: Bug! will return 100% overlap\n",
    "    if k is None:\n",
    "        return {\n",
    "            n for n, data in G.nodes(data=True)\n",
    "            if data.get('in_graph', False) is True\n",
    "        }\n",
    "    else:\n",
    "        sorted_nodes = sorted(\n",
    "            G.nodes(data=True),\n",
    "            key=lambda x: abs(x[1].get('score', 0.0)),\n",
    "            reverse=True\n",
    "        )\n",
    "        return {n for n, _ in sorted_nodes[:k]}\n",
    "    \n",
    "def random_edges(G, k):\n",
    "    edges = list(G.edges())\n",
    "    if k > len(edges):\n",
    "        return set(edges)\n",
    "    return set(random.sample(edges, k))\n",
    "\n",
    "def jaccard_overlap_matrix(graphs, type = 'topk', k=None, overlap_type='edges'):\n",
    "    n = len(graphs)\n",
    "    sim_matrix = np.zeros((n, n))\n",
    "    np.fill_diagonal(sim_matrix, 1.0)\n",
    "\n",
    "    for (i, (_, G1)), (j, (_, G2)) in itertools.combinations(enumerate(graphs), 2):\n",
    "        if type == 'topk':\n",
    "            if overlap_type == 'edges':\n",
    "                A = topk_edges(G1, k)\n",
    "                B = topk_edges(G2, k)\n",
    "            elif overlap_type == 'nodes':\n",
    "                A = topk_nodes(G1, k)\n",
    "                B = topk_nodes(G2, k)\n",
    "            else:\n",
    "                raise ValueError(f\"Invalid overlap_type: {overlap_type}. Use 'edges' or 'nodes'.\")\n",
    "            \n",
    "        else:\n",
    "            A = top_percentile_edges(G1)\n",
    "            B = top_percentile_edges(G2)\n",
    "\n",
    "        inter = A & B\n",
    "        union = A | B\n",
    "        sim = len(inter) / len(union) if union else 0.0\n",
    "        sim_matrix[i, j] = sim\n",
    "        sim_matrix[j, i] = sim\n",
    "\n",
    "    return sim_matrix\n",
    "\n",
    "def overlap_k(graphs ,k =None):\n",
    "    n = len(graphs)\n",
    "    if not k:\n",
    "        k = sum(\n",
    "                1 for _, _, data in graphs[0][1].edges(data=True)\n",
    "                if data.get('in_graph', False) is True\n",
    "            )\n",
    "        print(k)\n",
    "    sim_matrix = np.zeros((n, n))\n",
    "    np.fill_diagonal(sim_matrix, 1.0)\n",
    "\n",
    "    for (i, (_, G1)), (j, (_, G2)) in itertools.combinations(enumerate(graphs), 2):\n",
    "        A = topk_edges(G1, k)\n",
    "        B = topk_edges(G2, k)\n",
    "\n",
    "        intersection = len(A & B)\n",
    "        similarity = intersection / k \n",
    "\n",
    "        sim_matrix[i, j] = similarity\n",
    "        sim_matrix[j, i] = similarity\n",
    "\n",
    "    return sim_matrix\n",
    "\n",
    "def plot_edge_overlap(graphs, overlap_matrix):   \n",
    "    plt.figure(figsize=(8, 6))\n",
    "    sns.heatmap(overlap_matrix, xticklabels=[name for name, _ in graphs], \n",
    "                yticklabels=[name for name, _ in graphs], annot=True, fmt=\".3f\", cmap=\"Blues\")\n",
    "    plt.title(\"Pairwise Edge Overlap_k Heatmap (k=1000) [%]\")\n",
    "    plt.show()  \n",
    "\n",
    "def plot_node_overlap(graphs, overlap_matrix):   \n",
    "    plt.figure(figsize=(8, 6))\n",
    "    sns.heatmap(overlap_matrix, xticklabels=[name for name, _ in graphs], \n",
    "                yticklabels=[name for name, _ in graphs], annot=True, fmt=\".3f\", cmap=\"Blues\")\n",
    "    plt.title(\"Pairwise Node Overlap_k Heatmap (k=100) [%]\")\n",
    "    plt.show()  "
   ]
  },
  {
   "cell_type": "code",
   "execution_count": 29,
   "id": "ec748772",
   "metadata": {},
   "outputs": [
    {
     "data": {
      "image/png": "[encoded data removed]",
      "text/plain": [
       "<Figure size 800x600 with 2 Axes>"
      ]
     },
     "metadata": {},
     "output_type": "display_data"
    }
   ],
   "source": [
    "graphs = create_graphs()\n",
    "edge_matrix = overlap_k(graphs, 2000)\n",
    "plot_edge_overlap(graphs, edge_matrix)"
   ]
  }
 ],
 "metadata": {
  "kernelspec": {
   "display_name": ".venv",
   "language": "python",
   "name": "python3"
  },
  "language_info": {
   "codemirror_mode": {
    "name": "ipython",
    "version": 3
   },
   "file_extension": ".py",
   "mimetype": "text/x-python",
   "name": "python",
   "nbconvert_exporter": "python",
   "pygments_lexer": "ipython3",
   "version": "3.12.3"
  }
 },
 "nbformat": 4,
 "nbformat_minor": 5
}
